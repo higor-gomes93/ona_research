{
 "cells": [
  {
   "cell_type": "code",
   "execution_count": 102,
   "id": "fdb38acb-ca50-446d-9906-528f25338c86",
   "metadata": {},
   "outputs": [],
   "source": [
    "import pyvis as pv\n",
    "import networkx as nx\n",
    "import plotly.graph_objects as go\n",
    "import dash\n",
    "import dash_core_components as dcc\n",
    "import dash_html_components as html\n",
    "import dash_cytoscape as cyto\n",
    "from dash.dependencies import Input, Output\n",
    "import plotly.express as px\n",
    "import pandas as pd\n",
    "import random as rd\n",
    "import numpy as np\n",
    "from matplotlib.pyplot import figure"
   ]
  },
  {
   "cell_type": "code",
   "execution_count": 69,
   "id": "2fbe2630-c1a3-4b4c-83df-2b821b467080",
   "metadata": {},
   "outputs": [],
   "source": [
    "# Importando as áreas\n",
    "raw_data = pd.read_csv(\"c:/Users/Usuario/Documents/Estudos/Data Science e Programação/Datasets/colaboradores.csv\")\n",
    "raw_data = raw_data[['nome', 'area']]"
   ]
  },
  {
   "cell_type": "code",
   "execution_count": 51,
   "id": "e2727779-bf80-48dc-b766-3aafa50d2cb7",
   "metadata": {},
   "outputs": [],
   "source": [
    "# Criando uma lista de quantidade de pessoas por área\n",
    "areas = set(raw_data['area'])"
   ]
  },
  {
   "cell_type": "code",
   "execution_count": 52,
   "id": "14d23503-d619-437b-ba3f-a26a53d33be2",
   "metadata": {},
   "outputs": [],
   "source": [
    "# Criando uma função para encontrar a estimativa do número de conecções \n",
    "def total_conections(name):\n",
    "    area = list(raw_data.loc[raw_data['nome'] == name]['area'])[0]\n",
    "    total = len(raw_data.loc[raw_data['area'] == area])\n",
    "    conections = rd.randint(round(total*0.1), round(total*1.5))\n",
    "    return conections"
   ]
  },
  {
   "cell_type": "code",
   "execution_count": 81,
   "id": "65281f66-ca0e-4df2-9119-00b5201c6fbd",
   "metadata": {},
   "outputs": [],
   "source": [
    "# Criando uma função para atribuir a ponderação de cada nome\n",
    "def weight_definition(name):\n",
    "    # Encontrando a área\n",
    "    areas_dict = dict.fromkeys(areas, 1) \n",
    "    area = list(raw_data.loc[raw_data['nome'] == name]['area'])[0]\n",
    "    # Atribuindo o peso adequado\n",
    "    areas_dict[area] = 100\n",
    "    raw_data['probabilidade'] = raw_data.apply(lambda x: areas_dict[x['area']], axis = 1)\n",
    "    # Criando o vetor de itens e pesos\n",
    "    itens = list(raw_data['nome'])\n",
    "    probability = list(raw_data['probabilidade'])\n",
    "    weights = [j/sum(probability) for j in probability]\n",
    "    return itens, weights"
   ]
  },
  {
   "cell_type": "code",
   "execution_count": 83,
   "id": "2bdb58c0-0f12-4b41-ad81-40ed32c4046c",
   "metadata": {},
   "outputs": [],
   "source": [
    "# Criando uma função para criar a lista de conecções de cada pessoa\n",
    "def ona_conections(name):\n",
    "    # Lista completa de nomes\n",
    "    total_names = list(raw_data['nome'])\n",
    "    total_names.remove(i)\n",
    "    # Total de conecções\n",
    "    conections = total_conections(i)\n",
    "    # Definição da lista de nomes e pesos\n",
    "    names_list = weight_definition(name)[0]\n",
    "    weights_list = weight_definition(name)[1]\n",
    "    # Criação da lista de coneções\n",
    "    conections_list = np.random.choice(a = names_list, size = conections, p = weights_list)\n",
    "    return conections_list  "
   ]
  },
  {
   "cell_type": "code",
   "execution_count": 85,
   "id": "c82751b5-e7ba-4e18-a10a-ac554127536c",
   "metadata": {},
   "outputs": [],
   "source": [
    "# Criando uma função para gerar a rede de cada nome\n",
    "def ona_generator(name):\n",
    "    conections_list = ona_conections(name)\n",
    "    ona_list = [(name, i) for i in conections_list]\n",
    "    return ona_list"
   ]
  },
  {
   "cell_type": "code",
   "execution_count": 86,
   "id": "06dc6b24-e50e-4264-8f09-5e04668b71db",
   "metadata": {},
   "outputs": [],
   "source": [
    "ona_total_list = []\n",
    "for i in list(raw_data['nome']):\n",
    "    ona_total_list.extend(ona_generator(i))"
   ]
  },
  {
   "cell_type": "code",
   "execution_count": 93,
   "id": "8aebe71f-2c6f-4a9e-b354-9439b9be84bf",
   "metadata": {},
   "outputs": [
    {
     "data": {
      "text/html": [
       "<div>\n",
       "<style scoped>\n",
       "    .dataframe tbody tr th:only-of-type {\n",
       "        vertical-align: middle;\n",
       "    }\n",
       "\n",
       "    .dataframe tbody tr th {\n",
       "        vertical-align: top;\n",
       "    }\n",
       "\n",
       "    .dataframe thead th {\n",
       "        text-align: right;\n",
       "    }\n",
       "</style>\n",
       "<table border=\"1\" class=\"dataframe\">\n",
       "  <thead>\n",
       "    <tr style=\"text-align: right;\">\n",
       "      <th></th>\n",
       "      <th>partida</th>\n",
       "      <th>chegada</th>\n",
       "    </tr>\n",
       "  </thead>\n",
       "  <tbody>\n",
       "    <tr>\n",
       "      <th>0</th>\n",
       "      <td>Latasha Whitt</td>\n",
       "      <td>Rose Barnes</td>\n",
       "    </tr>\n",
       "    <tr>\n",
       "      <th>1</th>\n",
       "      <td>Latasha Whitt</td>\n",
       "      <td>Carolyn Amoa</td>\n",
       "    </tr>\n",
       "    <tr>\n",
       "      <th>2</th>\n",
       "      <td>Latasha Whitt</td>\n",
       "      <td>Stephen Mcbroom</td>\n",
       "    </tr>\n",
       "    <tr>\n",
       "      <th>3</th>\n",
       "      <td>Latasha Whitt</td>\n",
       "      <td>Patricia Paynter</td>\n",
       "    </tr>\n",
       "    <tr>\n",
       "      <th>4</th>\n",
       "      <td>Latasha Whitt</td>\n",
       "      <td>Leatrice Haddix</td>\n",
       "    </tr>\n",
       "    <tr>\n",
       "      <th>...</th>\n",
       "      <td>...</td>\n",
       "      <td>...</td>\n",
       "    </tr>\n",
       "    <tr>\n",
       "      <th>123807</th>\n",
       "      <td>Kelly Neilson</td>\n",
       "      <td>Wilma Frost</td>\n",
       "    </tr>\n",
       "    <tr>\n",
       "      <th>123808</th>\n",
       "      <td>Kelly Neilson</td>\n",
       "      <td>Maria Ryan</td>\n",
       "    </tr>\n",
       "    <tr>\n",
       "      <th>123809</th>\n",
       "      <td>Kelly Neilson</td>\n",
       "      <td>Carlyn Emerick</td>\n",
       "    </tr>\n",
       "    <tr>\n",
       "      <th>123810</th>\n",
       "      <td>Kelly Neilson</td>\n",
       "      <td>Ruby Harris</td>\n",
       "    </tr>\n",
       "    <tr>\n",
       "      <th>123811</th>\n",
       "      <td>Kelly Neilson</td>\n",
       "      <td>Elise Izquierdo</td>\n",
       "    </tr>\n",
       "  </tbody>\n",
       "</table>\n",
       "<p>123812 rows × 2 columns</p>\n",
       "</div>"
      ],
      "text/plain": [
       "              partida           chegada\n",
       "0       Latasha Whitt       Rose Barnes\n",
       "1       Latasha Whitt      Carolyn Amoa\n",
       "2       Latasha Whitt   Stephen Mcbroom\n",
       "3       Latasha Whitt  Patricia Paynter\n",
       "4       Latasha Whitt   Leatrice Haddix\n",
       "...               ...               ...\n",
       "123807  Kelly Neilson       Wilma Frost\n",
       "123808  Kelly Neilson        Maria Ryan\n",
       "123809  Kelly Neilson    Carlyn Emerick\n",
       "123810  Kelly Neilson       Ruby Harris\n",
       "123811  Kelly Neilson   Elise Izquierdo\n",
       "\n",
       "[123812 rows x 2 columns]"
      ]
     },
     "execution_count": 93,
     "metadata": {},
     "output_type": "execute_result"
    }
   ],
   "source": [
    "dataset = pd.DataFrame(ona_total_list, columns = ['partida', 'chegada'])\n",
    "dataset"
   ]
  },
  {
   "cell_type": "code",
   "execution_count": 94,
   "id": "68fd169e-c4e2-4ac1-bb85-9bc90ecadaf1",
   "metadata": {},
   "outputs": [],
   "source": [
    "G = nx.DiGraph()"
   ]
  },
  {
   "cell_type": "code",
   "execution_count": 95,
   "id": "8db67f5a-e89b-4e63-ac72-4930c9a11bfd",
   "metadata": {},
   "outputs": [],
   "source": [
    "G = nx.from_pandas_edgelist(dataset, 'partida', 'chegada')"
   ]
  },
  {
   "cell_type": "code",
   "execution_count": 103,
   "id": "c7509b53-4adc-4f8d-8c9d-1d6cd6fa1a34",
   "metadata": {},
   "outputs": [
    {
     "ename": "NetworkXError",
     "evalue": "random_state_index is incorrect",
     "output_type": "error",
     "traceback": [
      "\u001b[1;31m---------------------------------------------------------------------------\u001b[0m",
      "\u001b[1;31mIndexError\u001b[0m                                Traceback (most recent call last)",
      "\u001b[1;32m~\\anaconda3\\lib\\site-packages\\networkx\\utils\\decorators.py\u001b[0m in \u001b[0;36m_random_state\u001b[1;34m(func, *args, **kwargs)\u001b[0m\n\u001b[0;32m    395\u001b[0m         \u001b[1;32mtry\u001b[0m\u001b[1;33m:\u001b[0m\u001b[1;33m\u001b[0m\u001b[1;33m\u001b[0m\u001b[0m\n\u001b[1;32m--> 396\u001b[1;33m             \u001b[0mrandom_state_arg\u001b[0m \u001b[1;33m=\u001b[0m \u001b[0margs\u001b[0m\u001b[1;33m[\u001b[0m\u001b[0mrandom_state_index\u001b[0m\u001b[1;33m]\u001b[0m\u001b[1;33m\u001b[0m\u001b[1;33m\u001b[0m\u001b[0m\n\u001b[0m\u001b[0;32m    397\u001b[0m         \u001b[1;32mexcept\u001b[0m \u001b[0mTypeError\u001b[0m \u001b[1;32mas\u001b[0m \u001b[0me\u001b[0m\u001b[1;33m:\u001b[0m\u001b[1;33m\u001b[0m\u001b[1;33m\u001b[0m\u001b[0m\n",
      "\u001b[1;31mIndexError\u001b[0m: tuple index out of range",
      "\nThe above exception was the direct cause of the following exception:\n",
      "\u001b[1;31mNetworkXError\u001b[0m                             Traceback (most recent call last)",
      "\u001b[1;32m<ipython-input-103-fdefae9bc9e8>\u001b[0m in \u001b[0;36m<module>\u001b[1;34m\u001b[0m\n\u001b[0;32m      1\u001b[0m \u001b[0mfigure\u001b[0m\u001b[1;33m(\u001b[0m\u001b[0mfigsize\u001b[0m\u001b[1;33m=\u001b[0m\u001b[1;33m(\u001b[0m\u001b[1;36m10\u001b[0m\u001b[1;33m,\u001b[0m \u001b[1;36m8\u001b[0m\u001b[1;33m)\u001b[0m\u001b[1;33m)\u001b[0m\u001b[1;33m\u001b[0m\u001b[1;33m\u001b[0m\u001b[0m\n\u001b[1;32m----> 2\u001b[1;33m \u001b[0mnx\u001b[0m\u001b[1;33m.\u001b[0m\u001b[0mdraw\u001b[0m\u001b[1;33m(\u001b[0m\u001b[0mG\u001b[0m\u001b[1;33m)\u001b[0m\u001b[1;33m\u001b[0m\u001b[1;33m\u001b[0m\u001b[0m\n\u001b[0m",
      "\u001b[1;32m~\\anaconda3\\lib\\site-packages\\networkx\\drawing\\nx_pylab.py\u001b[0m in \u001b[0;36mdraw\u001b[1;34m(G, pos, ax, **kwds)\u001b[0m\n\u001b[0;32m    121\u001b[0m         \u001b[0mkwds\u001b[0m\u001b[1;33m[\u001b[0m\u001b[1;34m\"with_labels\"\u001b[0m\u001b[1;33m]\u001b[0m \u001b[1;33m=\u001b[0m \u001b[1;34m\"labels\"\u001b[0m \u001b[1;32min\u001b[0m \u001b[0mkwds\u001b[0m\u001b[1;33m\u001b[0m\u001b[1;33m\u001b[0m\u001b[0m\n\u001b[0;32m    122\u001b[0m \u001b[1;33m\u001b[0m\u001b[0m\n\u001b[1;32m--> 123\u001b[1;33m     \u001b[0mdraw_networkx\u001b[0m\u001b[1;33m(\u001b[0m\u001b[0mG\u001b[0m\u001b[1;33m,\u001b[0m \u001b[0mpos\u001b[0m\u001b[1;33m=\u001b[0m\u001b[0mpos\u001b[0m\u001b[1;33m,\u001b[0m \u001b[0max\u001b[0m\u001b[1;33m=\u001b[0m\u001b[0max\u001b[0m\u001b[1;33m,\u001b[0m \u001b[1;33m**\u001b[0m\u001b[0mkwds\u001b[0m\u001b[1;33m)\u001b[0m\u001b[1;33m\u001b[0m\u001b[1;33m\u001b[0m\u001b[0m\n\u001b[0m\u001b[0;32m    124\u001b[0m     \u001b[0max\u001b[0m\u001b[1;33m.\u001b[0m\u001b[0mset_axis_off\u001b[0m\u001b[1;33m(\u001b[0m\u001b[1;33m)\u001b[0m\u001b[1;33m\u001b[0m\u001b[1;33m\u001b[0m\u001b[0m\n\u001b[0;32m    125\u001b[0m     \u001b[0mplt\u001b[0m\u001b[1;33m.\u001b[0m\u001b[0mdraw_if_interactive\u001b[0m\u001b[1;33m(\u001b[0m\u001b[1;33m)\u001b[0m\u001b[1;33m\u001b[0m\u001b[1;33m\u001b[0m\u001b[0m\n",
      "\u001b[1;32m~\\anaconda3\\lib\\site-packages\\networkx\\drawing\\nx_pylab.py\u001b[0m in \u001b[0;36mdraw_networkx\u001b[1;34m(G, pos, arrows, with_labels, **kwds)\u001b[0m\n\u001b[0;32m    331\u001b[0m \u001b[1;33m\u001b[0m\u001b[0m\n\u001b[0;32m    332\u001b[0m     \u001b[1;32mif\u001b[0m \u001b[0mpos\u001b[0m \u001b[1;32mis\u001b[0m \u001b[1;32mNone\u001b[0m\u001b[1;33m:\u001b[0m\u001b[1;33m\u001b[0m\u001b[1;33m\u001b[0m\u001b[0m\n\u001b[1;32m--> 333\u001b[1;33m         \u001b[0mpos\u001b[0m \u001b[1;33m=\u001b[0m \u001b[0mnx\u001b[0m\u001b[1;33m.\u001b[0m\u001b[0mdrawing\u001b[0m\u001b[1;33m.\u001b[0m\u001b[0mspring_layout\u001b[0m\u001b[1;33m(\u001b[0m\u001b[0mG\u001b[0m\u001b[1;33m)\u001b[0m  \u001b[1;31m# default to spring layout\u001b[0m\u001b[1;33m\u001b[0m\u001b[1;33m\u001b[0m\u001b[0m\n\u001b[0m\u001b[0;32m    334\u001b[0m \u001b[1;33m\u001b[0m\u001b[0m\n\u001b[0;32m    335\u001b[0m     \u001b[0mdraw_networkx_nodes\u001b[0m\u001b[1;33m(\u001b[0m\u001b[0mG\u001b[0m\u001b[1;33m,\u001b[0m \u001b[0mpos\u001b[0m\u001b[1;33m,\u001b[0m \u001b[1;33m**\u001b[0m\u001b[0mnode_kwds\u001b[0m\u001b[1;33m)\u001b[0m\u001b[1;33m\u001b[0m\u001b[1;33m\u001b[0m\u001b[0m\n",
      "\u001b[1;32m~\\anaconda3\\lib\\site-packages\\decorator.py\u001b[0m in \u001b[0;36mfun\u001b[1;34m(*args, **kw)\u001b[0m\n\u001b[0;32m    229\u001b[0m         \u001b[1;32mdef\u001b[0m \u001b[0mfun\u001b[0m\u001b[1;33m(\u001b[0m\u001b[1;33m*\u001b[0m\u001b[0margs\u001b[0m\u001b[1;33m,\u001b[0m \u001b[1;33m**\u001b[0m\u001b[0mkw\u001b[0m\u001b[1;33m)\u001b[0m\u001b[1;33m:\u001b[0m\u001b[1;33m\u001b[0m\u001b[1;33m\u001b[0m\u001b[0m\n\u001b[0;32m    230\u001b[0m             \u001b[1;32mif\u001b[0m \u001b[1;32mnot\u001b[0m \u001b[0mkwsyntax\u001b[0m\u001b[1;33m:\u001b[0m\u001b[1;33m\u001b[0m\u001b[1;33m\u001b[0m\u001b[0m\n\u001b[1;32m--> 231\u001b[1;33m                 \u001b[0margs\u001b[0m\u001b[1;33m,\u001b[0m \u001b[0mkw\u001b[0m \u001b[1;33m=\u001b[0m \u001b[0mfix\u001b[0m\u001b[1;33m(\u001b[0m\u001b[0margs\u001b[0m\u001b[1;33m,\u001b[0m \u001b[0mkw\u001b[0m\u001b[1;33m,\u001b[0m \u001b[0msig\u001b[0m\u001b[1;33m)\u001b[0m\u001b[1;33m\u001b[0m\u001b[1;33m\u001b[0m\u001b[0m\n\u001b[0m\u001b[0;32m    232\u001b[0m             \u001b[1;32mreturn\u001b[0m \u001b[0mcaller\u001b[0m\u001b[1;33m(\u001b[0m\u001b[0mfunc\u001b[0m\u001b[1;33m,\u001b[0m \u001b[1;33m*\u001b[0m\u001b[1;33m(\u001b[0m\u001b[0mextras\u001b[0m \u001b[1;33m+\u001b[0m \u001b[0margs\u001b[0m\u001b[1;33m)\u001b[0m\u001b[1;33m,\u001b[0m \u001b[1;33m**\u001b[0m\u001b[0mkw\u001b[0m\u001b[1;33m)\u001b[0m\u001b[1;33m\u001b[0m\u001b[1;33m\u001b[0m\u001b[0m\n\u001b[0;32m    233\u001b[0m     \u001b[0mfun\u001b[0m\u001b[1;33m.\u001b[0m\u001b[0m__name__\u001b[0m \u001b[1;33m=\u001b[0m \u001b[0mfunc\u001b[0m\u001b[1;33m.\u001b[0m\u001b[0m__name__\u001b[0m\u001b[1;33m\u001b[0m\u001b[1;33m\u001b[0m\u001b[0m\n",
      "\u001b[1;32m~\\anaconda3\\lib\\site-packages\\networkx\\utils\\decorators.py\u001b[0m in \u001b[0;36m_random_state\u001b[1;34m(func, *args, **kwargs)\u001b[0m\n\u001b[0;32m    398\u001b[0m             \u001b[1;32mraise\u001b[0m \u001b[0mnx\u001b[0m\u001b[1;33m.\u001b[0m\u001b[0mNetworkXError\u001b[0m\u001b[1;33m(\u001b[0m\u001b[1;34m\"random_state_index must be an integer\"\u001b[0m\u001b[1;33m)\u001b[0m \u001b[1;32mfrom\u001b[0m \u001b[0me\u001b[0m\u001b[1;33m\u001b[0m\u001b[1;33m\u001b[0m\u001b[0m\n\u001b[0;32m    399\u001b[0m         \u001b[1;32mexcept\u001b[0m \u001b[0mIndexError\u001b[0m \u001b[1;32mas\u001b[0m \u001b[0me\u001b[0m\u001b[1;33m:\u001b[0m\u001b[1;33m\u001b[0m\u001b[1;33m\u001b[0m\u001b[0m\n\u001b[1;32m--> 400\u001b[1;33m             \u001b[1;32mraise\u001b[0m \u001b[0mnx\u001b[0m\u001b[1;33m.\u001b[0m\u001b[0mNetworkXError\u001b[0m\u001b[1;33m(\u001b[0m\u001b[1;34m\"random_state_index is incorrect\"\u001b[0m\u001b[1;33m)\u001b[0m \u001b[1;32mfrom\u001b[0m \u001b[0me\u001b[0m\u001b[1;33m\u001b[0m\u001b[1;33m\u001b[0m\u001b[0m\n\u001b[0m\u001b[0;32m    401\u001b[0m \u001b[1;33m\u001b[0m\u001b[0m\n\u001b[0;32m    402\u001b[0m         \u001b[1;31m# Create a numpy.random.RandomState instance\u001b[0m\u001b[1;33m\u001b[0m\u001b[1;33m\u001b[0m\u001b[1;33m\u001b[0m\u001b[0m\n",
      "\u001b[1;31mNetworkXError\u001b[0m: random_state_index is incorrect"
     ]
    },
    {
     "data": {
      "image/png": "[encoded data removed]",
      "text/plain": [
       "<Figure size 720x576 with 1 Axes>"
      ]
     },
     "metadata": {},
     "output_type": "display_data"
    }
   ],
   "source": [
    "figure(figsize=(10, 8))\n",
    "nx.draw(G)"
   ]
  }
 ],
 "metadata": {
  "kernelspec": {
   "display_name": "Python 3",
   "language": "python",
   "name": "python3"
  },
  "language_info": {
   "codemirror_mode": {
    "name": "ipython",
    "version": 3
   },
   "file_extension": ".py",
   "mimetype": "text/x-python",
   "name": "python",
   "nbconvert_exporter": "python",
   "pygments_lexer": "ipython3",
   "version": "3.8.8"
  }
 },
 "nbformat": 4,
 "nbformat_minor": 5
}
