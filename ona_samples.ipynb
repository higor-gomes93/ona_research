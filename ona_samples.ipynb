{
 "cells": [
  {
   "cell_type": "code",
   "execution_count": 1,
   "id": "fdb38acb-ca50-446d-9906-528f25338c86",
   "metadata": {},
   "outputs": [],
   "source": [
    "# Importação das bibliotecas\n",
    "import pyvis as pv\n",
    "import networkx as nx\n",
    "from pyvis.network import Network\n",
    "import plotly.graph_objects as go\n",
    "import dash\n",
    "from dash import dcc\n",
    "from dash import html\n",
    "import dash_cytoscape as cyto\n",
    "from dash.dependencies import Input, Output\n",
    "import plotly.express as px\n",
    "import pandas as pd\n",
    "import random as rd\n",
    "import numpy as np\n",
    "from matplotlib.pyplot import figure"
   ]
  },
  {
   "cell_type": "code",
   "execution_count": 2,
   "id": "2fbe2630-c1a3-4b4c-83df-2b821b467080",
   "metadata": {},
   "outputs": [],
   "source": [
    "# Importando as áreas\n",
    "raw_data = pd.read_csv(\"c:/Users/Usuario/Documents/Estudos/Data Science e Programação/Datasets/colaboradores.csv\")\n",
    "raw_data = raw_data[['nome', 'area']]"
   ]
  },
  {
   "cell_type": "code",
   "execution_count": 3,
   "id": "e2727779-bf80-48dc-b766-3aafa50d2cb7",
   "metadata": {},
   "outputs": [],
   "source": [
    "# Criando uma lista de quantidade de pessoas por área\n",
    "areas = set(raw_data['area'])"
   ]
  },
  {
   "cell_type": "code",
   "execution_count": 4,
   "id": "14d23503-d619-437b-ba3f-a26a53d33be2",
   "metadata": {},
   "outputs": [],
   "source": [
    "# Criando uma função para encontrar a estimativa do número de conecções \n",
    "def total_conections(name):\n",
    "    area = list(raw_data.loc[raw_data['nome'] == name]['area'])[0]\n",
    "    total = len(raw_data.loc[raw_data['area'] == area])\n",
    "    conections = rd.randint(round(total*0.1), round(total*1.5))\n",
    "    return conections"
   ]
  },
  {
   "cell_type": "code",
   "execution_count": 5,
   "id": "65281f66-ca0e-4df2-9119-00b5201c6fbd",
   "metadata": {},
   "outputs": [],
   "source": [
    "# Criando uma função para atribuir a ponderação de cada nome\n",
    "def weight_definition(name):\n",
    "    # Encontrando a área\n",
    "    areas_dict = dict.fromkeys(areas, 1)\n",
    "    area = list(raw_data.loc[raw_data['nome'] == name]['area'])[0]\n",
    "    # Atribuindo o peso adequado\n",
    "    areas_dict[area] = 100\n",
    "    raw_data['probabilidade'] = raw_data.apply(lambda x: areas_dict[x['area']], axis = 1)\n",
    "    # Criando o vetor de itens e pesos\n",
    "    raw_data_filter = raw_data.loc[raw_data['nome'] != name]\n",
    "    itens = list(raw_data_filter['nome'])\n",
    "    probability = list(raw_data_filter['probabilidade'])\n",
    "    weights = [j/sum(probability) for j in probability]\n",
    "    return itens, weights"
   ]
  },
  {
   "cell_type": "code",
   "execution_count": 6,
   "id": "2bdb58c0-0f12-4b41-ad81-40ed32c4046c",
   "metadata": {},
   "outputs": [],
   "source": [
    "# Criando uma função para criar a lista de conecções de cada pessoa\n",
    "def ona_conections(name):\n",
    "    # Total de conecções\n",
    "    conections = total_conections(name)\n",
    "    # Definição da lista de nomes e pesos\n",
    "    names_list = weight_definition(name)[0]\n",
    "    weights_list = weight_definition(name)[1]\n",
    "    # Criação da lista de coneções\n",
    "    conections_list = np.random.choice(a = names_list, size = conections, p = weights_list)\n",
    "    return conections_list  "
   ]
  },
  {
   "cell_type": "code",
   "execution_count": 7,
   "id": "c82751b5-e7ba-4e18-a10a-ac554127536c",
   "metadata": {},
   "outputs": [],
   "source": [
    "# Criando uma função para gerar a rede de cada nome\n",
    "def ona_generator(name):\n",
    "    conections_list = ona_conections(name)\n",
    "    ona_list = [(name, i) for i in conections_list]\n",
    "    return ona_list"
   ]
  },
  {
   "cell_type": "code",
   "execution_count": 8,
   "id": "06dc6b24-e50e-4264-8f09-5e04668b71db",
   "metadata": {},
   "outputs": [],
   "source": [
    "# Construindo a rede organizacional\n",
    "ona_total_list = []\n",
    "for i in list(raw_data['nome']):\n",
    "    ona_total_list.extend(ona_generator(i))"
   ]
  },
  {
   "cell_type": "code",
   "execution_count": 9,
   "id": "8aebe71f-2c6f-4a9e-b354-9439b9be84bf",
   "metadata": {},
   "outputs": [],
   "source": [
    "# Criação do dataset\n",
    "dataset = pd.DataFrame(ona_total_list, columns = ['partida', 'chegada'])"
   ]
  },
  {
   "cell_type": "code",
   "execution_count": 24,
   "id": "b8bbd07c-f6cb-47a1-9907-09ca0b3f4901",
   "metadata": {},
   "outputs": [],
   "source": [
    "# Criação dos vetores\n",
    "source = list(dataset['partida'])\n",
    "source_size = [source.count(i) for i in source]\n",
    "target = list(dataset['chegada'])\n",
    "target_size = [target.count(i) for i in target]\n",
    "edge = list(zip(source, source_size, target, target_size))"
   ]
  },
  {
   "cell_type": "code",
   "execution_count": 26,
   "id": "68fd169e-c4e2-4ac1-bb85-9bc90ecadaf1",
   "metadata": {},
   "outputs": [],
   "source": [
    "graph = Network(height='750px', width='100%', bgcolor='#111111', font_color='white', directed = True)\n",
    "graph.barnes_hut()"
   ]
  },
  {
   "cell_type": "code",
   "execution_count": 27,
   "id": "a725efd4-ecde-491d-a10c-e4cd590a5ac4",
   "metadata": {},
   "outputs": [],
   "source": [
    "for e in edge:\n",
    "    src = e[0]\n",
    "    src_size = e[1]\n",
    "    dst = e[2]\n",
    "    dst_size = e[3]\n",
    "\n",
    "    graph.add_node(src, src, title = src, size = src_size)\n",
    "    graph.add_node(dst, dst, title = dst, size = dst_size)\n",
    "    graph.add_edge(src, dst)"
   ]
  },
  {
   "cell_type": "code",
   "execution_count": 28,
   "id": "72853e4d-8e02-49c7-8f64-f3636f9080d6",
   "metadata": {},
   "outputs": [],
   "source": [
    "graph.show('graph.html')"
   ]
  }
 ],
 "metadata": {
  "kernelspec": {
   "display_name": "Python 3",
   "language": "python",
   "name": "python3"
  },
  "language_info": {
   "codemirror_mode": {
    "name": "ipython",
    "version": 3
   },
   "file_extension": ".py",
   "mimetype": "text/x-python",
   "name": "python",
   "nbconvert_exporter": "python",
   "pygments_lexer": "ipython3",
   "version": "3.8.8"
  }
 },
 "nbformat": 4,
 "nbformat_minor": 5
}
