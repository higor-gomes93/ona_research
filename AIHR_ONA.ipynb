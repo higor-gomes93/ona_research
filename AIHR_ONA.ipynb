{
  "nbformat": 4,
  "nbformat_minor": 0,
  "metadata": {
    "colab": {
      "name": "Network_Star_Wars.ipynb",
      "provenance": [],
      "authorship_tag": "ABX9TyO23Wpy2/ibUq8OkguThKrr",
      "include_colab_link": true
    },
    "kernelspec": {
      "name": "python3",
      "display_name": "Python 3"
    },
    "language_info": {
      "name": "python"
    }
  },
  "cells": [
    {
      "cell_type": "markdown",
      "metadata": {
        "id": "view-in-github",
        "colab_type": "text"
      },
      "source": [
        "<a href=\"https://colab.research.google.com/github/higor-gomes93/ona_research/blob/main/AIHR_ONA.ipynb\" target=\"_parent\"><img src=\"https://colab.research.google.com/assets/colab-badge.svg\" alt=\"Open In Colab\"/></a>"
      ]
    },
    {
      "cell_type": "markdown",
      "source": [
        "### 1) Libraries"
      ],
      "metadata": {
        "id": "9TYwx9d1br7r"
      }
    },
    {
      "cell_type": "code",
      "execution_count": 44,
      "metadata": {
        "id": "V8B1N6TybNPb",
        "colab": {
          "base_uri": "https://localhost:8080/"
        },
        "outputId": "b131f787-8ffa-4923-f796-55b8beacba55"
      },
      "outputs": [
        {
          "output_type": "stream",
          "name": "stdout",
          "text": [
            "Looking in indexes: https://pypi.org/simple, https://us-python.pkg.dev/colab-wheels/public/simple/\n",
            "Requirement already satisfied: pyvis in /usr/local/lib/python3.7/dist-packages (0.2.1)\n",
            "Requirement already satisfied: dash in /usr/local/lib/python3.7/dist-packages (2.6.0)\n",
            "Requirement already satisfied: dash_cytoscape in /usr/local/lib/python3.7/dist-packages (0.3.0)\n",
            "Requirement already satisfied: ipython>=5.3.0 in /usr/local/lib/python3.7/dist-packages (from pyvis) (5.5.0)\n",
            "Requirement already satisfied: jsonpickle>=1.4.1 in /usr/local/lib/python3.7/dist-packages (from pyvis) (2.2.0)\n",
            "Requirement already satisfied: networkx>=1.11 in /usr/local/lib/python3.7/dist-packages (from pyvis) (2.6.3)\n",
            "Requirement already satisfied: jinja2>=2.9.6 in /usr/local/lib/python3.7/dist-packages (from pyvis) (2.11.3)\n",
            "Requirement already satisfied: pexpect in /usr/local/lib/python3.7/dist-packages (from ipython>=5.3.0->pyvis) (4.8.0)\n",
            "Requirement already satisfied: pygments in /usr/local/lib/python3.7/dist-packages (from ipython>=5.3.0->pyvis) (2.6.1)\n",
            "Requirement already satisfied: setuptools>=18.5 in /usr/local/lib/python3.7/dist-packages (from ipython>=5.3.0->pyvis) (57.4.0)\n",
            "Requirement already satisfied: decorator in /usr/local/lib/python3.7/dist-packages (from ipython>=5.3.0->pyvis) (4.4.2)\n",
            "Requirement already satisfied: prompt-toolkit<2.0.0,>=1.0.4 in /usr/local/lib/python3.7/dist-packages (from ipython>=5.3.0->pyvis) (1.0.18)\n",
            "Requirement already satisfied: simplegeneric>0.8 in /usr/local/lib/python3.7/dist-packages (from ipython>=5.3.0->pyvis) (0.8.1)\n",
            "Requirement already satisfied: traitlets>=4.2 in /usr/local/lib/python3.7/dist-packages (from ipython>=5.3.0->pyvis) (5.1.1)\n",
            "Requirement already satisfied: pickleshare in /usr/local/lib/python3.7/dist-packages (from ipython>=5.3.0->pyvis) (0.7.5)\n",
            "Requirement already satisfied: MarkupSafe>=0.23 in /usr/local/lib/python3.7/dist-packages (from jinja2>=2.9.6->pyvis) (2.0.1)\n",
            "Requirement already satisfied: importlib-metadata in /usr/local/lib/python3.7/dist-packages (from jsonpickle>=1.4.1->pyvis) (4.12.0)\n",
            "Requirement already satisfied: wcwidth in /usr/local/lib/python3.7/dist-packages (from prompt-toolkit<2.0.0,>=1.0.4->ipython>=5.3.0->pyvis) (0.2.5)\n",
            "Requirement already satisfied: six>=1.9.0 in /usr/local/lib/python3.7/dist-packages (from prompt-toolkit<2.0.0,>=1.0.4->ipython>=5.3.0->pyvis) (1.15.0)\n",
            "Requirement already satisfied: dash-html-components==2.0.0 in /usr/local/lib/python3.7/dist-packages (from dash) (2.0.0)\n",
            "Requirement already satisfied: Flask>=1.0.4 in /usr/local/lib/python3.7/dist-packages (from dash) (1.1.4)\n",
            "Requirement already satisfied: flask-compress in /usr/local/lib/python3.7/dist-packages (from dash) (1.12)\n",
            "Requirement already satisfied: dash-core-components==2.0.0 in /usr/local/lib/python3.7/dist-packages (from dash) (2.0.0)\n",
            "Requirement already satisfied: dash-table==5.0.0 in /usr/local/lib/python3.7/dist-packages (from dash) (5.0.0)\n",
            "Requirement already satisfied: plotly>=5.0.0 in /usr/local/lib/python3.7/dist-packages (from dash) (5.5.0)\n",
            "Requirement already satisfied: Werkzeug<2.0,>=0.15 in /usr/local/lib/python3.7/dist-packages (from Flask>=1.0.4->dash) (1.0.1)\n",
            "Requirement already satisfied: itsdangerous<2.0,>=0.24 in /usr/local/lib/python3.7/dist-packages (from Flask>=1.0.4->dash) (1.1.0)\n",
            "Requirement already satisfied: click<8.0,>=5.1 in /usr/local/lib/python3.7/dist-packages (from Flask>=1.0.4->dash) (7.1.2)\n",
            "Requirement already satisfied: tenacity>=6.2.0 in /usr/local/lib/python3.7/dist-packages (from plotly>=5.0.0->dash) (8.0.1)\n",
            "Requirement already satisfied: brotli in /usr/local/lib/python3.7/dist-packages (from flask-compress->dash) (1.0.9)\n",
            "Requirement already satisfied: zipp>=0.5 in /usr/local/lib/python3.7/dist-packages (from importlib-metadata->jsonpickle>=1.4.1->pyvis) (3.8.0)\n",
            "Requirement already satisfied: typing-extensions>=3.6.4 in /usr/local/lib/python3.7/dist-packages (from importlib-metadata->jsonpickle>=1.4.1->pyvis) (4.1.1)\n",
            "Requirement already satisfied: ptyprocess>=0.5 in /usr/local/lib/python3.7/dist-packages (from pexpect->ipython>=5.3.0->pyvis) (0.7.0)\n"
          ]
        }
      ],
      "source": [
        "# Libraries\n",
        "!pip install pyvis dash dash_cytoscape\n",
        "import pandas as pd\n",
        "import random as rd\n",
        "import numpy as np\n",
        "import json\n",
        "import pyvis as pv\n",
        "import networkx as nx\n",
        "from pyvis.network import Network\n",
        "import plotly.graph_objects as go\n",
        "import dash\n",
        "from dash import dcc\n",
        "from dash import html\n",
        "import dash_cytoscape as cyto\n",
        "from dash.dependencies import Input, Output\n",
        "import plotly.express as px\n",
        "from matplotlib.pyplot import figure\n",
        "from IPython.core.display import display, HTML"
      ]
    },
    {
      "cell_type": "code",
      "source": [
        "# Connection with Google Drive and Google Sheets\n",
        "from google.colab import auth\n",
        "import gspread\n",
        "from oauth2client.client import GoogleCredentials\n",
        "from google.colab import drive \n",
        "from google.auth import default\n",
        "drive.mount('/content/gdrive')\n",
        "from gspread_dataframe import set_with_dataframe\n",
        "auth.authenticate_user()\n",
        "creds, _ = default()\n",
        "gc = gspread.authorize(creds)"
      ],
      "metadata": {
        "colab": {
          "base_uri": "https://localhost:8080/"
        },
        "id": "jBXtULx5bQ2A",
        "outputId": "bf755391-78e1-4dfc-d8e2-4f94d40e63a1"
      },
      "execution_count": 2,
      "outputs": [
        {
          "output_type": "stream",
          "name": "stdout",
          "text": [
            "Mounted at /content/gdrive\n"
          ]
        }
      ]
    },
    {
      "cell_type": "markdown",
      "source": [
        "### 2) Importing the Dataset"
      ],
      "metadata": {
        "id": "TMBpf8y-bwS0"
      }
    },
    {
      "cell_type": "code",
      "source": [
        "# Getting the raw data\n",
        "with open(\"gdrive/My Drive/Área de Trabalho/Documentos/Datasets/starwars-full-interactions-allCharacters.json\") as json_data:\n",
        "    data = json.load(json_data)"
      ],
      "metadata": {
        "id": "3HviRTswbrEz"
      },
      "execution_count": 3,
      "outputs": []
    },
    {
      "cell_type": "code",
      "source": [
        "# Breaking the data into 2 datasets: nodes and edges\n",
        "dataset_nodes = pd.DataFrame.from_dict(data['nodes'])\n",
        "dataset_edges = pd.DataFrame.from_dict(data['links'])"
      ],
      "metadata": {
        "id": "D39D1o_dcGXh"
      },
      "execution_count": 4,
      "outputs": []
    },
    {
      "cell_type": "code",
      "source": [
        "# Creating a unique dataset\n",
        "# New copy\n",
        "dataset = dataset_edges.copy()\n",
        "# Sources\n",
        "dataset['source_name'] = dataset['source'].apply(lambda x: dataset_nodes.iloc[x]['name'])\n",
        "dataset['source_size'] = dataset['source'].apply(lambda x: dataset_nodes.iloc[x]['value'])\n",
        "dataset['source_colour'] = dataset['source'].apply(lambda x: dataset_nodes.iloc[x]['colour'])\n",
        "# Targets\n",
        "dataset['target_name'] = dataset['target'].apply(lambda x: dataset_nodes.iloc[x]['name'])\n",
        "dataset['target_size'] = dataset['target'].apply(lambda x: dataset_nodes.iloc[x]['value'])\n",
        "dataset['target_colour'] = dataset['target'].apply(lambda x: dataset_nodes.iloc[x]['colour'])\n",
        "# Droping some columns\n",
        "dataset = dataset.drop(['source', 'target'], axis = 1)\n",
        "# Renaming\n",
        "dataset.columns = ['edge', 'source_name', 'source_size', 'source_colour', 'target_name', 'target_size', 'target_colour']\n",
        "dataset = dataset[['source_name', 'source_size', 'source_colour', 'target_name', 'target_size', 'target_colour', 'edge']]"
      ],
      "metadata": {
        "id": "ZJA2EPiIDD6P"
      },
      "execution_count": 14,
      "outputs": []
    },
    {
      "cell_type": "markdown",
      "source": [
        "### 3) Graph Visualization"
      ],
      "metadata": {
        "id": "sVzkxbSjGIby"
      }
    },
    {
      "cell_type": "code",
      "source": [
        "# Creating the graph object\n",
        "graph = Network(height='1000px', width='100%', bgcolor='#111111', font_color='white', directed = False)\n",
        "graph.barnes_hut(gravity = -80000, central_gravity=0.3, spring_length = 250, spring_strength=0.01, damping=0.09, overlap = 0)"
      ],
      "metadata": {
        "id": "-iAifbBQEUPZ"
      },
      "execution_count": 41,
      "outputs": []
    },
    {
      "cell_type": "code",
      "source": [
        "# Adding the data\n",
        "for i in range(len(dataset)):\n",
        "    source = dataset.iloc[i]['source_name']\n",
        "    source_group = dataset.iloc[i]['source_colour']\n",
        "    source_size = int(dataset.iloc[i]['source_size'])\n",
        "    target = dataset.iloc[i]['target_name']\n",
        "    target_group = dataset.iloc[i]['target_colour']\n",
        "    target_size = int(dataset.iloc[i]['target_size'])\n",
        "    weight = int(dataset.iloc[i]['edge'])\n",
        "\n",
        "    graph.add_node(source, title = source, group = source_group, size = source_size)\n",
        "    graph.add_node(target, title = target, group = target_group, size = target_size)\n",
        "    graph.add_edge(source, target, width = weight, color = \"#282828\")"
      ],
      "metadata": {
        "id": "6ZdsQ_o8GO1Y"
      },
      "execution_count": 42,
      "outputs": []
    },
    {
      "cell_type": "code",
      "source": [
        "# Ploting\n",
        "graph.show('graph.html')\n",
        "display(HTML('graph.html'))"
      ],
      "metadata": {
        "colab": {
          "base_uri": "https://localhost:8080/",
          "height": 1000
        },
        "id": "f5n8wRctH-RA",
        "outputId": "3909bcfc-e073-4506-e726-a613def06a2d"
      },
      "execution_count": 45,
      "outputs": [
        {
          "output_type": "display_data",
          "data": {
            "text/plain": [
              "<IPython.core.display.HTML object>"
            ],
            "text/html": [
              "<html>\n",
              "<head>\n",
              "<link rel=\"stylesheet\" href=\"https://cdn.jsdelivr.net/npm/vis-network@latest/styles/vis-network.css\" type=\"text/css\" />\n",
              "<script type=\"text/javascript\" src=\"https://cdn.jsdelivr.net/npm/vis-network@latest/dist/vis-network.min.js\"> </script>\n",
              "<center>\n",
              "<h1></h1>\n",
              "</center>\n",
              "\n",
              "<!-- <link rel=\"stylesheet\" href=\"../node_modules/vis/dist/vis.min.css\" type=\"text/css\" />\n",
              "<script type=\"text/javascript\" src=\"../node_modules/vis/dist/vis.js\"> </script>-->\n",
              "\n",
              "<style type=\"text/css\">\n",
              "\n",
              "        #mynetwork {\n",
              "            width: 100%;\n",
              "            height: 1000px;\n",
              "            background-color: #111111;\n",
              "            border: 1px solid lightgray;\n",
              "            position: relative;\n",
              "            float: left;\n",
              "        }\n",
              "\n",
              "        \n",
              "        #loadingBar {\n",
              "            position:absolute;\n",
              "            top:0px;\n",
              "            left:0px;\n",
              "            width: 100%;\n",
              "            height: 1000px;\n",
              "            background-color:rgba(200,200,200,0.8);\n",
              "            -webkit-transition: all 0.5s ease;\n",
              "            -moz-transition: all 0.5s ease;\n",
              "            -ms-transition: all 0.5s ease;\n",
              "            -o-transition: all 0.5s ease;\n",
              "            transition: all 0.5s ease;\n",
              "            opacity:1;\n",
              "        }\n",
              "\n",
              "        #bar {\n",
              "            position:absolute;\n",
              "            top:0px;\n",
              "            left:0px;\n",
              "            width:20px;\n",
              "            height:20px;\n",
              "            margin:auto auto auto auto;\n",
              "            border-radius:11px;\n",
              "            border:2px solid rgba(30,30,30,0.05);\n",
              "            background: rgb(0, 173, 246); /* Old browsers */\n",
              "            box-shadow: 2px 0px 4px rgba(0,0,0,0.4);\n",
              "        }\n",
              "\n",
              "        #border {\n",
              "            position:absolute;\n",
              "            top:10px;\n",
              "            left:10px;\n",
              "            width:500px;\n",
              "            height:23px;\n",
              "            margin:auto auto auto auto;\n",
              "            box-shadow: 0px 0px 4px rgba(0,0,0,0.2);\n",
              "            border-radius:10px;\n",
              "        }\n",
              "\n",
              "        #text {\n",
              "            position:absolute;\n",
              "            top:8px;\n",
              "            left:530px;\n",
              "            width:30px;\n",
              "            height:50px;\n",
              "            margin:auto auto auto auto;\n",
              "            font-size:22px;\n",
              "            color: #000000;\n",
              "        }\n",
              "\n",
              "        div.outerBorder {\n",
              "            position:relative;\n",
              "            top:400px;\n",
              "            width:600px;\n",
              "            height:44px;\n",
              "            margin:auto auto auto auto;\n",
              "            border:8px solid rgba(0,0,0,0.1);\n",
              "            background: rgb(252,252,252); /* Old browsers */\n",
              "            background: -moz-linear-gradient(top,  rgba(252,252,252,1) 0%, rgba(237,237,237,1) 100%); /* FF3.6+ */\n",
              "            background: -webkit-gradient(linear, left top, left bottom, color-stop(0%,rgba(252,252,252,1)), color-stop(100%,rgba(237,237,237,1))); /* Chrome,Safari4+ */\n",
              "            background: -webkit-linear-gradient(top,  rgba(252,252,252,1) 0%,rgba(237,237,237,1) 100%); /* Chrome10+,Safari5.1+ */\n",
              "            background: -o-linear-gradient(top,  rgba(252,252,252,1) 0%,rgba(237,237,237,1) 100%); /* Opera 11.10+ */\n",
              "            background: -ms-linear-gradient(top,  rgba(252,252,252,1) 0%,rgba(237,237,237,1) 100%); /* IE10+ */\n",
              "            background: linear-gradient(to bottom,  rgba(252,252,252,1) 0%,rgba(237,237,237,1) 100%); /* W3C */\n",
              "            filter: progid:DXImageTransform.Microsoft.gradient( startColorstr='#fcfcfc', endColorstr='#ededed',GradientType=0 ); /* IE6-9 */\n",
              "            border-radius:72px;\n",
              "            box-shadow: 0px 0px 10px rgba(0,0,0,0.2);\n",
              "        }\n",
              "        \n",
              "\n",
              "        \n",
              "\n",
              "        \n",
              "</style>\n",
              "\n",
              "</head>\n",
              "\n",
              "<body>\n",
              "<div id = \"mynetwork\"></div>\n",
              "\n",
              "<div id=\"loadingBar\">\n",
              "    <div class=\"outerBorder\">\n",
              "        <div id=\"text\">0%</div>\n",
              "        <div id=\"border\">\n",
              "            <div id=\"bar\"></div>\n",
              "        </div>\n",
              "    </div>\n",
              "</div>\n",
              "\n",
              "\n",
              "<script type=\"text/javascript\">\n",
              "\n",
              "    // initialize global variables.\n",
              "    var edges;\n",
              "    var nodes;\n",
              "    var network; \n",
              "    var container;\n",
              "    var options, data;\n",
              "\n",
              "    \n",
              "    // This method is responsible for drawing the graph, returns the drawn network\n",
              "    function drawGraph() {\n",
              "        var container = document.getElementById('mynetwork');\n",
              "        \n",
              "        \n",
              "\n",
              "        // parsing and collecting nodes and edges from the python\n",
              "        nodes = new vis.DataSet([{\"font\": {\"color\": \"white\"}, \"group\": \"#A0522D\", \"id\": \"CHEWBACCA\", \"label\": \"CHEWBACCA\", \"shape\": \"dot\", \"size\": 145, \"title\": \"CHEWBACCA\"}, {\"font\": {\"color\": \"white\"}, \"group\": \"#bde0f6\", \"id\": \"R2-D2\", \"label\": \"R2-D2\", \"shape\": \"dot\", \"size\": 171, \"title\": \"R2-D2\"}, {\"font\": {\"color\": \"white\"}, \"group\": \"#eb5d00\", \"id\": \"BB-8\", \"label\": \"BB-8\", \"shape\": \"dot\", \"size\": 40, \"title\": \"BB-8\"}, {\"font\": {\"color\": \"white\"}, \"group\": \"#48D1CC\", \"id\": \"OBI-WAN\", \"label\": \"OBI-WAN\", \"shape\": \"dot\", \"size\": 148, \"title\": \"OBI-WAN\"}, {\"font\": {\"color\": \"white\"}, \"group\": \"#DDA0DD\", \"id\": \"PADME\", \"label\": \"PADME\", \"shape\": \"dot\", \"size\": 75, \"title\": \"PADME\"}, {\"font\": {\"color\": \"white\"}, \"group\": \"#4f4fb1\", \"id\": \"QUI-GON\", \"label\": \"QUI-GON\", \"shape\": \"dot\", \"size\": 62, \"title\": \"QUI-GON\"}, {\"font\": {\"color\": \"white\"}, \"group\": \"#ce3b59\", \"id\": \"ANAKIN\", \"label\": \"ANAKIN\", \"shape\": \"dot\", \"size\": 132, \"title\": \"ANAKIN\"}, {\"font\": {\"color\": \"white\"}, \"group\": \"#808080\", \"id\": \"WATTO\", \"label\": \"WATTO\", \"shape\": \"dot\", \"size\": 9, \"title\": \"WATTO\"}, {\"font\": {\"color\": \"white\"}, \"group\": \"#FFD700\", \"id\": \"C-3PO\", \"label\": \"C-3PO\", \"shape\": \"dot\", \"size\": 151, \"title\": \"C-3PO\"}, {\"font\": {\"color\": \"white\"}, \"group\": \"#808080\", \"id\": \"KITSTER\", \"label\": \"KITSTER\", \"shape\": \"dot\", \"size\": 5, \"title\": \"KITSTER\"}, {\"font\": {\"color\": \"white\"}, \"group\": \"#808080\", \"id\": \"JABBA\", \"label\": \"JABBA\", \"shape\": \"dot\", \"size\": 8, \"title\": \"JABBA\"}, {\"font\": {\"color\": \"white\"}, \"group\": \"#191970\", \"id\": \"EMPEROR\", \"label\": \"EMPEROR\", \"shape\": \"dot\", \"size\": 52, \"title\": \"EMPEROR\"}, {\"font\": {\"color\": \"white\"}, \"group\": \"#808080\", \"id\": \"CAPTAIN TYPHO\", \"label\": \"CAPTAIN TYPHO\", \"shape\": \"dot\", \"size\": 7, \"title\": \"CAPTAIN TYPHO\"}, {\"font\": {\"color\": \"white\"}, \"group\": \"#808080\", \"id\": \"BERU\", \"label\": \"BERU\", \"shape\": \"dot\", \"size\": 7, \"title\": \"BERU\"}, {\"font\": {\"color\": \"white\"}, \"group\": \"#808080\", \"id\": \"OWEN\", \"label\": \"OWEN\", \"shape\": \"dot\", \"size\": 11, \"title\": \"OWEN\"}, {\"font\": {\"color\": \"white\"}, \"group\": \"#808080\", \"id\": \"BAIL ORGANA\", \"label\": \"BAIL ORGANA\", \"shape\": \"dot\", \"size\": 24, \"title\": \"BAIL ORGANA\"}, {\"font\": {\"color\": \"white\"}, \"group\": \"#9ACD32\", \"id\": \"YODA\", \"label\": \"YODA\", \"shape\": \"dot\", \"size\": 46, \"title\": \"YODA\"}, {\"font\": {\"color\": \"white\"}, \"group\": \"#3881e5\", \"id\": \"LUKE\", \"label\": \"LUKE\", \"shape\": \"dot\", \"size\": 161, \"title\": \"LUKE\"}, {\"font\": {\"color\": \"white\"}, \"group\": \"#DCDCDC\", \"id\": \"LEIA\", \"label\": \"LEIA\", \"shape\": \"dot\", \"size\": 99, \"title\": \"LEIA\"}, {\"font\": {\"color\": \"white\"}, \"group\": \"#808080\", \"id\": \"CAPTAIN ANTILLES\", \"label\": \"CAPTAIN ANTILLES\", \"shape\": \"dot\", \"size\": 4, \"title\": \"CAPTAIN ANTILLES\"}, {\"font\": {\"color\": \"white\"}, \"group\": \"#808080\", \"id\": \"BIGGS\", \"label\": \"BIGGS\", \"shape\": \"dot\", \"size\": 19, \"title\": \"BIGGS\"}, {\"font\": {\"color\": \"white\"}, \"group\": \"#000000\", \"id\": \"DARTH VADER\", \"label\": \"DARTH VADER\", \"shape\": \"dot\", \"size\": 59, \"title\": \"DARTH VADER\"}, {\"font\": {\"color\": \"white\"}, \"group\": \"#ff9400\", \"id\": \"HAN\", \"label\": \"HAN\", \"shape\": \"dot\", \"size\": 170, \"title\": \"HAN\"}, {\"font\": {\"color\": \"white\"}, \"group\": \"#808080\", \"id\": \"LANDO\", \"label\": \"LANDO\", \"shape\": \"dot\", \"size\": 42, \"title\": \"LANDO\"}, {\"font\": {\"color\": \"white\"}, \"group\": \"#808080\", \"id\": \"RIEEKAN\", \"label\": \"RIEEKAN\", \"shape\": \"dot\", \"size\": 8, \"title\": \"RIEEKAN\"}, {\"font\": {\"color\": \"white\"}, \"group\": \"#808080\", \"id\": \"BOBA FETT\", \"label\": \"BOBA FETT\", \"shape\": \"dot\", \"size\": 11, \"title\": \"BOBA FETT\"}, {\"font\": {\"color\": \"white\"}, \"group\": \"#07b19f\", \"id\": \"FINN\", \"label\": \"FINN\", \"shape\": \"dot\", \"size\": 64, \"title\": \"FINN\"}, {\"font\": {\"color\": \"white\"}, \"group\": \"#ffe0af\", \"id\": \"REY\", \"label\": \"REY\", \"shape\": \"dot\", \"size\": 57, \"title\": \"REY\"}, {\"font\": {\"color\": \"white\"}, \"group\": \"#808080\", \"id\": \"BALA-TIK\", \"label\": \"BALA-TIK\", \"shape\": \"dot\", \"size\": 5, \"title\": \"BALA-TIK\"}, {\"font\": {\"color\": \"white\"}, \"group\": \"#808080\", \"id\": \"MAZ\", \"label\": \"MAZ\", \"shape\": \"dot\", \"size\": 7, \"title\": \"MAZ\"}, {\"font\": {\"color\": \"white\"}, \"group\": \"#a15bea\", \"id\": \"POE\", \"label\": \"POE\", \"shape\": \"dot\", \"size\": 31, \"title\": \"POE\"}, {\"font\": {\"color\": \"white\"}, \"group\": \"#000000\", \"id\": \"KYLO REN\", \"label\": \"KYLO REN\", \"shape\": \"dot\", \"size\": 23, \"title\": \"KYLO REN\"}, {\"font\": {\"color\": \"white\"}, \"group\": \"#808080\", \"id\": \"CAPTAIN PHASMA\", \"label\": \"CAPTAIN PHASMA\", \"shape\": \"dot\", \"size\": 7, \"title\": \"CAPTAIN PHASMA\"}, {\"font\": {\"color\": \"white\"}, \"group\": \"#808080\", \"id\": \"LOR SAN TEKKA\", \"label\": \"LOR SAN TEKKA\", \"shape\": \"dot\", \"size\": 5, \"title\": \"LOR SAN TEKKA\"}, {\"font\": {\"color\": \"white\"}, \"group\": \"#808080\", \"id\": \"UNKAR PLUTT\", \"label\": \"UNKAR PLUTT\", \"shape\": \"dot\", \"size\": 6, \"title\": \"UNKAR PLUTT\"}, {\"font\": {\"color\": \"white\"}, \"group\": \"#808080\", \"id\": \"NUTE GUNRAY\", \"label\": \"NUTE GUNRAY\", \"shape\": \"dot\", \"size\": 25, \"title\": \"NUTE GUNRAY\"}, {\"font\": {\"color\": \"white\"}, \"group\": \"#808080\", \"id\": \"PK-4\", \"label\": \"PK-4\", \"shape\": \"dot\", \"size\": 4, \"title\": \"PK-4\"}, {\"font\": {\"color\": \"white\"}, \"group\": \"#808080\", \"id\": \"TC-14\", \"label\": \"TC-14\", \"shape\": \"dot\", \"size\": 5, \"title\": \"TC-14\"}, {\"font\": {\"color\": \"white\"}, \"group\": \"#808080\", \"id\": \"DOFINE\", \"label\": \"DOFINE\", \"shape\": \"dot\", \"size\": 4, \"title\": \"DOFINE\"}, {\"font\": {\"color\": \"white\"}, \"group\": \"#808080\", \"id\": \"RUNE\", \"label\": \"RUNE\", \"shape\": \"dot\", \"size\": 11, \"title\": \"RUNE\"}, {\"font\": {\"color\": \"white\"}, \"group\": \"#808080\", \"id\": \"TEY HOW\", \"label\": \"TEY HOW\", \"shape\": \"dot\", \"size\": 5, \"title\": \"TEY HOW\"}, {\"font\": {\"color\": \"white\"}, \"group\": \"#808080\", \"id\": \"CAPTAIN PANAKA\", \"label\": \"CAPTAIN PANAKA\", \"shape\": \"dot\", \"size\": 20, \"title\": \"CAPTAIN PANAKA\"}, {\"font\": {\"color\": \"white\"}, \"group\": \"#808080\", \"id\": \"SIO BIBBLE\", \"label\": \"SIO BIBBLE\", \"shape\": \"dot\", \"size\": 9, \"title\": \"SIO BIBBLE\"}, {\"font\": {\"color\": \"white\"}, \"group\": \"#9a9a00\", \"id\": \"JAR JAR\", \"label\": \"JAR JAR\", \"shape\": \"dot\", \"size\": 42, \"title\": \"JAR JAR\"}, {\"font\": {\"color\": \"white\"}, \"group\": \"#808080\", \"id\": \"TARPALS\", \"label\": \"TARPALS\", \"shape\": \"dot\", \"size\": 4, \"title\": \"TARPALS\"}, {\"font\": {\"color\": \"white\"}, \"group\": \"#808080\", \"id\": \"BOSS NASS\", \"label\": \"BOSS NASS\", \"shape\": \"dot\", \"size\": 5, \"title\": \"BOSS NASS\"}, {\"font\": {\"color\": \"white\"}, \"group\": \"#808080\", \"id\": \"RIC OLIE\", \"label\": \"RIC OLIE\", \"shape\": \"dot\", \"size\": 12, \"title\": \"RIC OLIE\"}, {\"font\": {\"color\": \"white\"}, \"group\": \"#808080\", \"id\": \"SEBULBA\", \"label\": \"SEBULBA\", \"shape\": \"dot\", \"size\": 4, \"title\": \"SEBULBA\"}, {\"font\": {\"color\": \"white\"}, \"group\": \"#808080\", \"id\": \"JIRA\", \"label\": \"JIRA\", \"shape\": \"dot\", \"size\": 4, \"title\": \"JIRA\"}, {\"font\": {\"color\": \"white\"}, \"group\": \"#808080\", \"id\": \"SHMI\", \"label\": \"SHMI\", \"shape\": \"dot\", \"size\": 12, \"title\": \"SHMI\"}, {\"font\": {\"color\": \"white\"}, \"group\": \"#808080\", \"id\": \"DARTH MAUL\", \"label\": \"DARTH MAUL\", \"shape\": \"dot\", \"size\": 6, \"title\": \"DARTH MAUL\"}, {\"font\": {\"color\": \"white\"}, \"group\": \"#808080\", \"id\": \"WALD\", \"label\": \"WALD\", \"shape\": \"dot\", \"size\": 4, \"title\": \"WALD\"}, {\"font\": {\"color\": \"white\"}, \"group\": \"#808080\", \"id\": \"FODE/BEED\", \"label\": \"FODE/BEED\", \"shape\": \"dot\", \"size\": 12, \"title\": \"FODE/BEED\"}, {\"font\": {\"color\": \"white\"}, \"group\": \"#808080\", \"id\": \"GREEDO\", \"label\": \"GREEDO\", \"shape\": \"dot\", \"size\": 4, \"title\": \"GREEDO\"}, {\"font\": {\"color\": \"white\"}, \"group\": \"#808080\", \"id\": \"VALORUM\", \"label\": \"VALORUM\", \"shape\": \"dot\", \"size\": 4, \"title\": \"VALORUM\"}, {\"font\": {\"color\": \"white\"}, \"group\": \"#808080\", \"id\": \"MACE WINDU\", \"label\": \"MACE WINDU\", \"shape\": \"dot\", \"size\": 23, \"title\": \"MACE WINDU\"}, {\"font\": {\"color\": \"white\"}, \"group\": \"#808080\", \"id\": \"KI-ADI-MUNDI\", \"label\": \"KI-ADI-MUNDI\", \"shape\": \"dot\", \"size\": 7, \"title\": \"KI-ADI-MUNDI\"}, {\"font\": {\"color\": \"white\"}, \"group\": \"#808080\", \"id\": \"RABE\", \"label\": \"RABE\", \"shape\": \"dot\", \"size\": 3, \"title\": \"RABE\"}, {\"font\": {\"color\": \"white\"}, \"group\": \"#808080\", \"id\": \"GENERAL CEEL\", \"label\": \"GENERAL CEEL\", \"shape\": \"dot\", \"size\": 5, \"title\": \"GENERAL CEEL\"}, {\"font\": {\"color\": \"white\"}, \"group\": \"#808080\", \"id\": \"BRAVO TWO\", \"label\": \"BRAVO TWO\", \"shape\": \"dot\", \"size\": 6, \"title\": \"BRAVO TWO\"}, {\"font\": {\"color\": \"white\"}, \"group\": \"#808080\", \"id\": \"BRAVO THREE\", \"label\": \"BRAVO THREE\", \"shape\": \"dot\", \"size\": 4, \"title\": \"BRAVO THREE\"}, {\"font\": {\"color\": \"white\"}, \"group\": \"#808080\", \"id\": \"SENATOR ASK AAK\", \"label\": \"SENATOR ASK AAK\", \"shape\": \"dot\", \"size\": 4, \"title\": \"SENATOR ASK AAK\"}, {\"font\": {\"color\": \"white\"}, \"group\": \"#808080\", \"id\": \"ORN FREE TAA\", \"label\": \"ORN FREE TAA\", \"shape\": \"dot\", \"size\": 4, \"title\": \"ORN FREE TAA\"}, {\"font\": {\"color\": \"white\"}, \"group\": \"#808080\", \"id\": \"SOLA\", \"label\": \"SOLA\", \"shape\": \"dot\", \"size\": 4, \"title\": \"SOLA\"}, {\"font\": {\"color\": \"white\"}, \"group\": \"#808080\", \"id\": \"JOBAL\", \"label\": \"JOBAL\", \"shape\": \"dot\", \"size\": 4, \"title\": \"JOBAL\"}, {\"font\": {\"color\": \"white\"}, \"group\": \"#808080\", \"id\": \"RUWEE\", \"label\": \"RUWEE\", \"shape\": \"dot\", \"size\": 5, \"title\": \"RUWEE\"}, {\"font\": {\"color\": \"white\"}, \"group\": \"#808080\", \"id\": \"TAUN WE\", \"label\": \"TAUN WE\", \"shape\": \"dot\", \"size\": 8, \"title\": \"TAUN WE\"}, {\"font\": {\"color\": \"white\"}, \"group\": \"#808080\", \"id\": \"LAMA SU\", \"label\": \"LAMA SU\", \"shape\": \"dot\", \"size\": 9, \"title\": \"LAMA SU\"}, {\"font\": {\"color\": \"white\"}, \"group\": \"#808080\", \"id\": \"JANGO FETT\", \"label\": \"JANGO FETT\", \"shape\": \"dot\", \"size\": 6, \"title\": \"JANGO FETT\"}, {\"font\": {\"color\": \"white\"}, \"group\": \"#808080\", \"id\": \"CLIEGG\", \"label\": \"CLIEGG\", \"shape\": \"dot\", \"size\": 4, \"title\": \"CLIEGG\"}, {\"font\": {\"color\": \"white\"}, \"group\": \"#808080\", \"id\": \"COUNT DOOKU\", \"label\": \"COUNT DOOKU\", \"shape\": \"dot\", \"size\": 10, \"title\": \"COUNT DOOKU\"}, {\"font\": {\"color\": \"white\"}, \"group\": \"#808080\", \"id\": \"POGGLE\", \"label\": \"POGGLE\", \"shape\": \"dot\", \"size\": 4, \"title\": \"POGGLE\"}, {\"font\": {\"color\": \"white\"}, \"group\": \"#808080\", \"id\": \"SUN RIT\", \"label\": \"SUN RIT\", \"shape\": \"dot\", \"size\": 4, \"title\": \"SUN RIT\"}, {\"font\": {\"color\": \"white\"}, \"group\": \"#808080\", \"id\": \"PLO KOON\", \"label\": \"PLO KOON\", \"shape\": \"dot\", \"size\": 4, \"title\": \"PLO KOON\"}, {\"font\": {\"color\": \"white\"}, \"group\": \"#808080\", \"id\": \"ODD BALL\", \"label\": \"ODD BALL\", \"shape\": \"dot\", \"size\": 5, \"title\": \"ODD BALL\"}, {\"font\": {\"color\": \"white\"}, \"group\": \"#808080\", \"id\": \"GENERAL GRIEVOUS\", \"label\": \"GENERAL GRIEVOUS\", \"shape\": \"dot\", \"size\": 13, \"title\": \"GENERAL GRIEVOUS\"}, {\"font\": {\"color\": \"white\"}, \"group\": \"#808080\", \"id\": \"FANG ZAR\", \"label\": \"FANG ZAR\", \"shape\": \"dot\", \"size\": 4, \"title\": \"FANG ZAR\"}, {\"font\": {\"color\": \"white\"}, \"group\": \"#808080\", \"id\": \"MON MOTHMA\", \"label\": \"MON MOTHMA\", \"shape\": \"dot\", \"size\": 5, \"title\": \"MON MOTHMA\"}, {\"font\": {\"color\": \"white\"}, \"group\": \"#808080\", \"id\": \"GIDDEAN DANU\", \"label\": \"GIDDEAN DANU\", \"shape\": \"dot\", \"size\": 3, \"title\": \"GIDDEAN DANU\"}, {\"font\": {\"color\": \"white\"}, \"group\": \"#808080\", \"id\": \"CLONE COMMANDER GREE\", \"label\": \"CLONE COMMANDER GREE\", \"shape\": \"dot\", \"size\": 5, \"title\": \"CLONE COMMANDER GREE\"}, {\"font\": {\"color\": \"white\"}, \"group\": \"#808080\", \"id\": \"CLONE COMMANDER CODY\", \"label\": \"CLONE COMMANDER CODY\", \"shape\": \"dot\", \"size\": 5, \"title\": \"CLONE COMMANDER CODY\"}, {\"font\": {\"color\": \"white\"}, \"group\": \"#808080\", \"id\": \"TION MEDON\", \"label\": \"TION MEDON\", \"shape\": \"dot\", \"size\": 4, \"title\": \"TION MEDON\"}, {\"font\": {\"color\": \"white\"}, \"group\": \"#808080\", \"id\": \"CAMIE\", \"label\": \"CAMIE\", \"shape\": \"dot\", \"size\": 4, \"title\": \"CAMIE\"}, {\"font\": {\"color\": \"white\"}, \"group\": \"#808080\", \"id\": \"MOTTI\", \"label\": \"MOTTI\", \"shape\": \"dot\", \"size\": 4, \"title\": \"MOTTI\"}, {\"font\": {\"color\": \"white\"}, \"group\": \"#808080\", \"id\": \"TARKIN\", \"label\": \"TARKIN\", \"shape\": \"dot\", \"size\": 13, \"title\": \"TARKIN\"}, {\"font\": {\"color\": \"white\"}, \"group\": \"#808080\", \"id\": \"DODONNA\", \"label\": \"DODONNA\", \"shape\": \"dot\", \"size\": 4, \"title\": \"DODONNA\"}, {\"font\": {\"color\": \"white\"}, \"group\": \"#808080\", \"id\": \"GOLD LEADER\", \"label\": \"GOLD LEADER\", \"shape\": \"dot\", \"size\": 15, \"title\": \"GOLD LEADER\"}, {\"font\": {\"color\": \"white\"}, \"group\": \"#808080\", \"id\": \"WEDGE\", \"label\": \"WEDGE\", \"shape\": \"dot\", \"size\": 29, \"title\": \"WEDGE\"}, {\"font\": {\"color\": \"white\"}, \"group\": \"#808080\", \"id\": \"RED LEADER\", \"label\": \"RED LEADER\", \"shape\": \"dot\", \"size\": 34, \"title\": \"RED LEADER\"}, {\"font\": {\"color\": \"white\"}, \"group\": \"#808080\", \"id\": \"RED TEN\", \"label\": \"RED TEN\", \"shape\": \"dot\", \"size\": 9, \"title\": \"RED TEN\"}, {\"font\": {\"color\": \"white\"}, \"group\": \"#808080\", \"id\": \"DERLIN\", \"label\": \"DERLIN\", \"shape\": \"dot\", \"size\": 4, \"title\": \"DERLIN\"}, {\"font\": {\"color\": \"white\"}, \"group\": \"#808080\", \"id\": \"ZEV\", \"label\": \"ZEV\", \"shape\": \"dot\", \"size\": 7, \"title\": \"ZEV\"}, {\"font\": {\"color\": \"white\"}, \"group\": \"#808080\", \"id\": \"OZZEL\", \"label\": \"OZZEL\", \"shape\": \"dot\", \"size\": 4, \"title\": \"OZZEL\"}, {\"font\": {\"color\": \"white\"}, \"group\": \"#808080\", \"id\": \"PIETT\", \"label\": \"PIETT\", \"shape\": \"dot\", \"size\": 13, \"title\": \"PIETT\"}, {\"font\": {\"color\": \"white\"}, \"group\": \"#808080\", \"id\": \"DACK\", \"label\": \"DACK\", \"shape\": \"dot\", \"size\": 5, \"title\": \"DACK\"}, {\"font\": {\"color\": \"white\"}, \"group\": \"#808080\", \"id\": \"JANSON\", \"label\": \"JANSON\", \"shape\": \"dot\", \"size\": 5, \"title\": \"JANSON\"}, {\"font\": {\"color\": \"white\"}, \"group\": \"#808080\", \"id\": \"NEEDA\", \"label\": \"NEEDA\", \"shape\": \"dot\", \"size\": 4, \"title\": \"NEEDA\"}, {\"font\": {\"color\": \"white\"}, \"group\": \"#808080\", \"id\": \"JERJERROD\", \"label\": \"JERJERROD\", \"shape\": \"dot\", \"size\": 4, \"title\": \"JERJERROD\"}, {\"font\": {\"color\": \"white\"}, \"group\": \"#808080\", \"id\": \"BIB FORTUNA\", \"label\": \"BIB FORTUNA\", \"shape\": \"dot\", \"size\": 4, \"title\": \"BIB FORTUNA\"}, {\"font\": {\"color\": \"white\"}, \"group\": \"#808080\", \"id\": \"BOUSHH\", \"label\": \"BOUSHH\", \"shape\": \"dot\", \"size\": 4, \"title\": \"BOUSHH\"}, {\"font\": {\"color\": \"white\"}, \"group\": \"#808080\", \"id\": \"ADMIRAL ACKBAR\", \"label\": \"ADMIRAL ACKBAR\", \"shape\": \"dot\", \"size\": 13, \"title\": \"ADMIRAL ACKBAR\"}, {\"font\": {\"color\": \"white\"}, \"group\": \"#808080\", \"id\": \"GENERAL HUX\", \"label\": \"GENERAL HUX\", \"shape\": \"dot\", \"size\": 15, \"title\": \"GENERAL HUX\"}, {\"font\": {\"color\": \"white\"}, \"group\": \"#808080\", \"id\": \"LIEUTENANT MITAKA\", \"label\": \"LIEUTENANT MITAKA\", \"shape\": \"dot\", \"size\": 4, \"title\": \"LIEUTENANT MITAKA\"}, {\"font\": {\"color\": \"white\"}, \"group\": \"#191970\", \"id\": \"SNOKE\", \"label\": \"SNOKE\", \"shape\": \"dot\", \"size\": 5, \"title\": \"SNOKE\"}, {\"font\": {\"color\": \"white\"}, \"group\": \"#808080\", \"id\": \"SNAP\", \"label\": \"SNAP\", \"shape\": \"dot\", \"size\": 6, \"title\": \"SNAP\"}, {\"font\": {\"color\": \"white\"}, \"group\": \"#808080\", \"id\": \"ADMIRAL STATURA\", \"label\": \"ADMIRAL STATURA\", \"shape\": \"dot\", \"size\": 4, \"title\": \"ADMIRAL STATURA\"}, {\"font\": {\"color\": \"white\"}, \"group\": \"#808080\", \"id\": \"COLONEL DATOO\", \"label\": \"COLONEL DATOO\", \"shape\": \"dot\", \"size\": 4, \"title\": \"COLONEL DATOO\"}, {\"font\": {\"color\": \"white\"}, \"group\": \"#808080\", \"id\": \"ELLO ASTY\", \"label\": \"ELLO ASTY\", \"shape\": \"dot\", \"size\": 5, \"title\": \"ELLO ASTY\"}, {\"font\": {\"color\": \"white\"}, \"group\": \"#808080\", \"id\": \"JESS\", \"label\": \"JESS\", \"shape\": \"dot\", \"size\": 5, \"title\": \"JESS\"}, {\"font\": {\"color\": \"white\"}, \"group\": \"#808080\", \"id\": \"NIV LEK\", \"label\": \"NIV LEK\", \"shape\": \"dot\", \"size\": 4, \"title\": \"NIV LEK\"}, {\"font\": {\"color\": \"white\"}, \"group\": \"#808080\", \"id\": \"YOLO ZIFF\", \"label\": \"YOLO ZIFF\", \"shape\": \"dot\", \"size\": 4, \"title\": \"YOLO ZIFF\"}]);\n",
              "        edges = new vis.DataSet([{\"color\": \"#282828\", \"from\": \"CHEWBACCA\", \"to\": \"R2-D2\", \"width\": 17}, {\"color\": \"#282828\", \"from\": \"BB-8\", \"to\": \"R2-D2\", \"width\": 2}, {\"color\": \"#282828\", \"from\": \"BB-8\", \"to\": \"CHEWBACCA\", \"width\": 8}, {\"color\": \"#282828\", \"from\": \"OBI-WAN\", \"to\": \"R2-D2\", \"width\": 28}, {\"color\": \"#282828\", \"from\": \"PADME\", \"to\": \"R2-D2\", \"width\": 24}, {\"color\": \"#282828\", \"from\": \"QUI-GON\", \"to\": \"R2-D2\", \"width\": 13}, {\"color\": \"#282828\", \"from\": \"ANAKIN\", \"to\": \"R2-D2\", \"width\": 30}, {\"color\": \"#282828\", \"from\": \"R2-D2\", \"to\": \"WATTO\", \"width\": 3}, {\"color\": \"#282828\", \"from\": \"C-3PO\", \"to\": \"R2-D2\", \"width\": 55}, {\"color\": \"#282828\", \"from\": \"KITSTER\", \"to\": \"R2-D2\", \"width\": 2}, {\"color\": \"#282828\", \"from\": \"JABBA\", \"to\": \"R2-D2\", \"width\": 4}, {\"color\": \"#282828\", \"from\": \"EMPEROR\", \"to\": \"R2-D2\", \"width\": 5}, {\"color\": \"#282828\", \"from\": \"CAPTAIN TYPHO\", \"to\": \"R2-D2\", \"width\": 1}, {\"color\": \"#282828\", \"from\": \"BERU\", \"to\": \"R2-D2\", \"width\": 1}, {\"color\": \"#282828\", \"from\": \"OWEN\", \"to\": \"R2-D2\", \"width\": 2}, {\"color\": \"#282828\", \"from\": \"BAIL ORGANA\", \"to\": \"R2-D2\", \"width\": 3}, {\"color\": \"#282828\", \"from\": \"R2-D2\", \"to\": \"YODA\", \"width\": 5}, {\"color\": \"#282828\", \"from\": \"LUKE\", \"to\": \"R2-D2\", \"width\": 34}, {\"color\": \"#282828\", \"from\": \"LEIA\", \"to\": \"R2-D2\", \"width\": 23}, {\"color\": \"#282828\", \"from\": \"CAPTAIN ANTILLES\", \"to\": \"R2-D2\", \"width\": 1}, {\"color\": \"#282828\", \"from\": \"BIGGS\", \"to\": \"R2-D2\", \"width\": 1}, {\"color\": \"#282828\", \"from\": \"DARTH VADER\", \"to\": \"R2-D2\", \"width\": 2}, {\"color\": \"#282828\", \"from\": \"HAN\", \"to\": \"R2-D2\", \"width\": 18}, {\"color\": \"#282828\", \"from\": \"LANDO\", \"to\": \"R2-D2\", \"width\": 5}, {\"color\": \"#282828\", \"from\": \"CHEWBACCA\", \"to\": \"OBI-WAN\", \"width\": 6}, {\"color\": \"#282828\", \"from\": \"C-3PO\", \"to\": \"CHEWBACCA\", \"width\": 39}, {\"color\": \"#282828\", \"from\": \"CHEWBACCA\", \"to\": \"LUKE\", \"width\": 32}, {\"color\": \"#282828\", \"from\": \"CHEWBACCA\", \"to\": \"HAN\", \"width\": 77}, {\"color\": \"#282828\", \"from\": \"CHEWBACCA\", \"to\": \"JABBA\", \"width\": 3}, {\"color\": \"#282828\", \"from\": \"CHEWBACCA\", \"to\": \"LEIA\", \"width\": 48}, {\"color\": \"#282828\", \"from\": \"CHEWBACCA\", \"to\": \"DARTH VADER\", \"width\": 2}, {\"color\": \"#282828\", \"from\": \"CHEWBACCA\", \"to\": \"RIEEKAN\", \"width\": 1}, {\"color\": \"#282828\", \"from\": \"CHEWBACCA\", \"to\": \"LANDO\", \"width\": 20}, {\"color\": \"#282828\", \"from\": \"BOBA FETT\", \"to\": \"CHEWBACCA\", \"width\": 2}, {\"color\": \"#282828\", \"from\": \"CHEWBACCA\", \"to\": \"FINN\", \"width\": 20}, {\"color\": \"#282828\", \"from\": \"CHEWBACCA\", \"to\": \"REY\", \"width\": 13}, {\"color\": \"#282828\", \"from\": \"BALA-TIK\", \"to\": \"CHEWBACCA\", \"width\": 1}, {\"color\": \"#282828\", \"from\": \"CHEWBACCA\", \"to\": \"MAZ\", \"width\": 2}, {\"color\": \"#282828\", \"from\": \"CHEWBACCA\", \"to\": \"POE\", \"width\": 2}, {\"color\": \"#282828\", \"from\": \"CHEWBACCA\", \"to\": \"KYLO REN\", \"width\": 3}, {\"color\": \"#282828\", \"from\": \"CAPTAIN PHASMA\", \"to\": \"CHEWBACCA\", \"width\": 1}, {\"color\": \"#282828\", \"from\": \"BB-8\", \"to\": \"POE\", \"width\": 8}, {\"color\": \"#282828\", \"from\": \"BB-8\", \"to\": \"LOR SAN TEKKA\", \"width\": 2}, {\"color\": \"#282828\", \"from\": \"BB-8\", \"to\": \"REY\", \"width\": 17}, {\"color\": \"#282828\", \"from\": \"BB-8\", \"to\": \"UNKAR PLUTT\", \"width\": 1}, {\"color\": \"#282828\", \"from\": \"BB-8\", \"to\": \"FINN\", \"width\": 15}, {\"color\": \"#282828\", \"from\": \"BB-8\", \"to\": \"HAN\", \"width\": 9}, {\"color\": \"#282828\", \"from\": \"BALA-TIK\", \"to\": \"BB-8\", \"width\": 1}, {\"color\": \"#282828\", \"from\": \"BB-8\", \"to\": \"MAZ\", \"width\": 3}, {\"color\": \"#282828\", \"from\": \"BB-8\", \"to\": \"LEIA\", \"width\": 3}, {\"color\": \"#282828\", \"from\": \"BB-8\", \"to\": \"C-3PO\", \"width\": 3}, {\"color\": \"#282828\", \"from\": \"NUTE GUNRAY\", \"to\": \"QUI-GON\", \"width\": 1}, {\"color\": \"#282828\", \"from\": \"PK-4\", \"to\": \"TC-14\", \"width\": 1}, {\"color\": \"#282828\", \"from\": \"OBI-WAN\", \"to\": \"TC-14\", \"width\": 1}, {\"color\": \"#282828\", \"from\": \"QUI-GON\", \"to\": \"TC-14\", \"width\": 1}, {\"color\": \"#282828\", \"from\": \"OBI-WAN\", \"to\": \"QUI-GON\", \"width\": 26}, {\"color\": \"#282828\", \"from\": \"NUTE GUNRAY\", \"to\": \"TC-14\", \"width\": 1}, {\"color\": \"#282828\", \"from\": \"DOFINE\", \"to\": \"NUTE GUNRAY\", \"width\": 1}, {\"color\": \"#282828\", \"from\": \"DOFINE\", \"to\": \"TC-14\", \"width\": 1}, {\"color\": \"#282828\", \"from\": \"NUTE GUNRAY\", \"to\": \"RUNE\", \"width\": 8}, {\"color\": \"#282828\", \"from\": \"RUNE\", \"to\": \"TEY HOW\", \"width\": 2}, {\"color\": \"#282828\", \"from\": \"NUTE GUNRAY\", \"to\": \"TEY HOW\", \"width\": 1}, {\"color\": \"#282828\", \"from\": \"CAPTAIN PANAKA\", \"to\": \"EMPEROR\", \"width\": 3}, {\"color\": \"#282828\", \"from\": \"EMPEROR\", \"to\": \"SIO BIBBLE\", \"width\": 1}, {\"color\": \"#282828\", \"from\": \"CAPTAIN PANAKA\", \"to\": \"SIO BIBBLE\", \"width\": 3}, {\"color\": \"#282828\", \"from\": \"JAR JAR\", \"to\": \"QUI-GON\", \"width\": 22}, {\"color\": \"#282828\", \"from\": \"JAR JAR\", \"to\": \"OBI-WAN\", \"width\": 15}, {\"color\": \"#282828\", \"from\": \"JAR JAR\", \"to\": \"TARPALS\", \"width\": 2}, {\"color\": \"#282828\", \"from\": \"BOSS NASS\", \"to\": \"QUI-GON\", \"width\": 2}, {\"color\": \"#282828\", \"from\": \"BOSS NASS\", \"to\": \"OBI-WAN\", \"width\": 2}, {\"color\": \"#282828\", \"from\": \"BOSS NASS\", \"to\": \"JAR JAR\", \"width\": 2}, {\"color\": \"#282828\", \"from\": \"EMPEROR\", \"to\": \"NUTE GUNRAY\", \"width\": 6}, {\"color\": \"#282828\", \"from\": \"EMPEROR\", \"to\": \"RUNE\", \"width\": 3}, {\"color\": \"#282828\", \"from\": \"NUTE GUNRAY\", \"to\": \"SIO BIBBLE\", \"width\": 2}, {\"color\": \"#282828\", \"from\": \"JAR JAR\", \"to\": \"SIO BIBBLE\", \"width\": 1}, {\"color\": \"#282828\", \"from\": \"CAPTAIN PANAKA\", \"to\": \"JAR JAR\", \"width\": 7}, {\"color\": \"#282828\", \"from\": \"QUI-GON\", \"to\": \"SIO BIBBLE\", \"width\": 2}, {\"color\": \"#282828\", \"from\": \"CAPTAIN PANAKA\", \"to\": \"QUI-GON\", \"width\": 9}, {\"color\": \"#282828\", \"from\": \"CAPTAIN PANAKA\", \"to\": \"PADME\", \"width\": 7}, {\"color\": \"#282828\", \"from\": \"PADME\", \"to\": \"QUI-GON\", \"width\": 16}, {\"color\": \"#282828\", \"from\": \"PADME\", \"to\": \"SIO BIBBLE\", \"width\": 1}, {\"color\": \"#282828\", \"from\": \"CAPTAIN PANAKA\", \"to\": \"OBI-WAN\", \"width\": 7}, {\"color\": \"#282828\", \"from\": \"OBI-WAN\", \"to\": \"RIC OLIE\", \"width\": 3}, {\"color\": \"#282828\", \"from\": \"JAR JAR\", \"to\": \"RIC OLIE\", \"width\": 1}, {\"color\": \"#282828\", \"from\": \"QUI-GON\", \"to\": \"RIC OLIE\", \"width\": 2}, {\"color\": \"#282828\", \"from\": \"CAPTAIN PANAKA\", \"to\": \"RIC OLIE\", \"width\": 2}, {\"color\": \"#282828\", \"from\": \"JAR JAR\", \"to\": \"PADME\", \"width\": 10}, {\"color\": \"#282828\", \"from\": \"QUI-GON\", \"to\": \"WATTO\", \"width\": 6}, {\"color\": \"#282828\", \"from\": \"ANAKIN\", \"to\": \"WATTO\", \"width\": 5}, {\"color\": \"#282828\", \"from\": \"PADME\", \"to\": \"WATTO\", \"width\": 3}, {\"color\": \"#282828\", \"from\": \"ANAKIN\", \"to\": \"QUI-GON\", \"width\": 22}, {\"color\": \"#282828\", \"from\": \"ANAKIN\", \"to\": \"PADME\", \"width\": 41}, {\"color\": \"#282828\", \"from\": \"JAR JAR\", \"to\": \"SEBULBA\", \"width\": 2}, {\"color\": \"#282828\", \"from\": \"ANAKIN\", \"to\": \"SEBULBA\", \"width\": 2}, {\"color\": \"#282828\", \"from\": \"QUI-GON\", \"to\": \"SEBULBA\", \"width\": 2}, {\"color\": \"#282828\", \"from\": \"PADME\", \"to\": \"SEBULBA\", \"width\": 2}, {\"color\": \"#282828\", \"from\": \"ANAKIN\", \"to\": \"JAR JAR\", \"width\": 12}, {\"color\": \"#282828\", \"from\": \"ANAKIN\", \"to\": \"JIRA\", \"width\": 2}, {\"color\": \"#282828\", \"from\": \"JIRA\", \"to\": \"QUI-GON\", \"width\": 2}, {\"color\": \"#282828\", \"from\": \"JIRA\", \"to\": \"PADME\", \"width\": 1}, {\"color\": \"#282828\", \"from\": \"ANAKIN\", \"to\": \"SHMI\", \"width\": 8}, {\"color\": \"#282828\", \"from\": \"JAR JAR\", \"to\": \"SHMI\", \"width\": 3}, {\"color\": \"#282828\", \"from\": \"QUI-GON\", \"to\": \"SHMI\", \"width\": 8}, {\"color\": \"#282828\", \"from\": \"PADME\", \"to\": \"SHMI\", \"width\": 5}, {\"color\": \"#282828\", \"from\": \"ANAKIN\", \"to\": \"C-3PO\", \"width\": 10}, {\"color\": \"#282828\", \"from\": \"C-3PO\", \"to\": \"PADME\", \"width\": 12}, {\"color\": \"#282828\", \"from\": \"OBI-WAN\", \"to\": \"SIO BIBBLE\", \"width\": 1}, {\"color\": \"#282828\", \"from\": \"DARTH MAUL\", \"to\": \"EMPEROR\", \"width\": 3}, {\"color\": \"#282828\", \"from\": \"ANAKIN\", \"to\": \"KITSTER\", \"width\": 3}, {\"color\": \"#282828\", \"from\": \"ANAKIN\", \"to\": \"WALD\", \"width\": 2}, {\"color\": \"#282828\", \"from\": \"KITSTER\", \"to\": \"WALD\", \"width\": 1}, {\"color\": \"#282828\", \"from\": \"JAR JAR\", \"to\": \"KITSTER\", \"width\": 1}, {\"color\": \"#282828\", \"from\": \"KITSTER\", \"to\": \"QUI-GON\", \"width\": 2}, {\"color\": \"#282828\", \"from\": \"JAR JAR\", \"to\": \"WALD\", \"width\": 1}, {\"color\": \"#282828\", \"from\": \"QUI-GON\", \"to\": \"WALD\", \"width\": 2}, {\"color\": \"#282828\", \"from\": \"ANAKIN\", \"to\": \"OBI-WAN\", \"width\": 46}, {\"color\": \"#282828\", \"from\": \"OBI-WAN\", \"to\": \"SHMI\", \"width\": 1}, {\"color\": \"#282828\", \"from\": \"C-3PO\", \"to\": \"WATTO\", \"width\": 1}, {\"color\": \"#282828\", \"from\": \"KITSTER\", \"to\": \"WATTO\", \"width\": 1}, {\"color\": \"#282828\", \"from\": \"C-3PO\", \"to\": \"QUI-GON\", \"width\": 1}, {\"color\": \"#282828\", \"from\": \"C-3PO\", \"to\": \"KITSTER\", \"width\": 1}, {\"color\": \"#282828\", \"from\": \"KITSTER\", \"to\": \"PADME\", \"width\": 1}, {\"color\": \"#282828\", \"from\": \"FODE/BEED\", \"to\": \"JABBA\", \"width\": 1}, {\"color\": \"#282828\", \"from\": \"JABBA\", \"to\": \"SHMI\", \"width\": 1}, {\"color\": \"#282828\", \"from\": \"SEBULBA\", \"to\": \"SHMI\", \"width\": 1}, {\"color\": \"#282828\", \"from\": \"ANAKIN\", \"to\": \"JABBA\", \"width\": 1}, {\"color\": \"#282828\", \"from\": \"JABBA\", \"to\": \"JAR JAR\", \"width\": 1}, {\"color\": \"#282828\", \"from\": \"JABBA\", \"to\": \"PADME\", \"width\": 1}, {\"color\": \"#282828\", \"from\": \"JABBA\", \"to\": \"SEBULBA\", \"width\": 1}, {\"color\": \"#282828\", \"from\": \"JABBA\", \"to\": \"QUI-GON\", \"width\": 1}, {\"color\": \"#282828\", \"from\": \"FODE/BEED\", \"to\": \"JAR JAR\", \"width\": 2}, {\"color\": \"#282828\", \"from\": \"FODE/BEED\", \"to\": \"PADME\", \"width\": 1}, {\"color\": \"#282828\", \"from\": \"GREEDO\", \"to\": \"QUI-GON\", \"width\": 1}, {\"color\": \"#282828\", \"from\": \"ANAKIN\", \"to\": \"GREEDO\", \"width\": 1}, {\"color\": \"#282828\", \"from\": \"GREEDO\", \"to\": \"WALD\", \"width\": 1}, {\"color\": \"#282828\", \"from\": \"KITSTER\", \"to\": \"SHMI\", \"width\": 1}, {\"color\": \"#282828\", \"from\": \"ANAKIN\", \"to\": \"CAPTAIN PANAKA\", \"width\": 2}, {\"color\": \"#282828\", \"from\": \"ANAKIN\", \"to\": \"RIC OLIE\", \"width\": 4}, {\"color\": \"#282828\", \"from\": \"EMPEROR\", \"to\": \"VALORUM\", \"width\": 2}, {\"color\": \"#282828\", \"from\": \"EMPEROR\", \"to\": \"JAR JAR\", \"width\": 5}, {\"color\": \"#282828\", \"from\": \"EMPEROR\", \"to\": \"QUI-GON\", \"width\": 1}, {\"color\": \"#282828\", \"from\": \"JAR JAR\", \"to\": \"VALORUM\", \"width\": 1}, {\"color\": \"#282828\", \"from\": \"QUI-GON\", \"to\": \"VALORUM\", \"width\": 1}, {\"color\": \"#282828\", \"from\": \"MACE WINDU\", \"to\": \"QUI-GON\", \"width\": 2}, {\"color\": \"#282828\", \"from\": \"KI-ADI-MUNDI\", \"to\": \"QUI-GON\", \"width\": 2}, {\"color\": \"#282828\", \"from\": \"QUI-GON\", \"to\": \"YODA\", \"width\": 3}, {\"color\": \"#282828\", \"from\": \"QUI-GON\", \"to\": \"RABE\", \"width\": 1}, {\"color\": \"#282828\", \"from\": \"KI-ADI-MUNDI\", \"to\": \"MACE WINDU\", \"width\": 4}, {\"color\": \"#282828\", \"from\": \"MACE WINDU\", \"to\": \"YODA\", \"width\": 16}, {\"color\": \"#282828\", \"from\": \"ANAKIN\", \"to\": \"MACE WINDU\", \"width\": 9}, {\"color\": \"#282828\", \"from\": \"MACE WINDU\", \"to\": \"RABE\", \"width\": 1}, {\"color\": \"#282828\", \"from\": \"KI-ADI-MUNDI\", \"to\": \"YODA\", \"width\": 4}, {\"color\": \"#282828\", \"from\": \"ANAKIN\", \"to\": \"KI-ADI-MUNDI\", \"width\": 2}, {\"color\": \"#282828\", \"from\": \"KI-ADI-MUNDI\", \"to\": \"RABE\", \"width\": 1}, {\"color\": \"#282828\", \"from\": \"ANAKIN\", \"to\": \"YODA\", \"width\": 9}, {\"color\": \"#282828\", \"from\": \"RABE\", \"to\": \"YODA\", \"width\": 1}, {\"color\": \"#282828\", \"from\": \"ANAKIN\", \"to\": \"RABE\", \"width\": 1}, {\"color\": \"#282828\", \"from\": \"BAIL ORGANA\", \"to\": \"EMPEROR\", \"width\": 6}, {\"color\": \"#282828\", \"from\": \"BAIL ORGANA\", \"to\": \"VALORUM\", \"width\": 1}, {\"color\": \"#282828\", \"from\": \"OBI-WAN\", \"to\": \"YODA\", \"width\": 20}, {\"color\": \"#282828\", \"from\": \"MACE WINDU\", \"to\": \"OBI-WAN\", \"width\": 9}, {\"color\": \"#282828\", \"from\": \"KI-ADI-MUNDI\", \"to\": \"OBI-WAN\", \"width\": 1}, {\"color\": \"#282828\", \"from\": \"BOSS NASS\", \"to\": \"PADME\", \"width\": 2}, {\"color\": \"#282828\", \"from\": \"DARTH MAUL\", \"to\": \"NUTE GUNRAY\", \"width\": 3}, {\"color\": \"#282828\", \"from\": \"ANAKIN\", \"to\": \"BOSS NASS\", \"width\": 1}, {\"color\": \"#282828\", \"from\": \"BOSS NASS\", \"to\": \"CAPTAIN PANAKA\", \"width\": 1}, {\"color\": \"#282828\", \"from\": \"OBI-WAN\", \"to\": \"PADME\", \"width\": 9}, {\"color\": \"#282828\", \"from\": \"EMPEROR\", \"to\": \"GENERAL CEEL\", \"width\": 1}, {\"color\": \"#282828\", \"from\": \"GENERAL CEEL\", \"to\": \"NUTE GUNRAY\", \"width\": 1}, {\"color\": \"#282828\", \"from\": \"DARTH MAUL\", \"to\": \"GENERAL CEEL\", \"width\": 1}, {\"color\": \"#282828\", \"from\": \"DARTH MAUL\", \"to\": \"RUNE\", \"width\": 1}, {\"color\": \"#282828\", \"from\": \"BRAVO TWO\", \"to\": \"RIC OLIE\", \"width\": 4}, {\"color\": \"#282828\", \"from\": \"ANAKIN\", \"to\": \"BRAVO TWO\", \"width\": 2}, {\"color\": \"#282828\", \"from\": \"GENERAL CEEL\", \"to\": \"JAR JAR\", \"width\": 1}, {\"color\": \"#282828\", \"from\": \"NUTE GUNRAY\", \"to\": \"PADME\", \"width\": 2}, {\"color\": \"#282828\", \"from\": \"DOFINE\", \"to\": \"TEY HOW\", \"width\": 1}, {\"color\": \"#282828\", \"from\": \"BRAVO THREE\", \"to\": \"BRAVO TWO\", \"width\": 2}, {\"color\": \"#282828\", \"from\": \"BRAVO THREE\", \"to\": \"RIC OLIE\", \"width\": 2}, {\"color\": \"#282828\", \"from\": \"ANAKIN\", \"to\": \"BRAVO THREE\", \"width\": 1}, {\"color\": \"#282828\", \"from\": \"EMPEROR\", \"to\": \"PADME\", \"width\": 5}, {\"color\": \"#282828\", \"from\": \"EMPEROR\", \"to\": \"SENATOR ASK AAK\", \"width\": 2}, {\"color\": \"#282828\", \"from\": \"EMPEROR\", \"to\": \"ORN FREE TAA\", \"width\": 2}, {\"color\": \"#282828\", \"from\": \"ORN FREE TAA\", \"to\": \"SENATOR ASK AAK\", \"width\": 1}, {\"color\": \"#282828\", \"from\": \"EMPEROR\", \"to\": \"MACE WINDU\", \"width\": 3}, {\"color\": \"#282828\", \"from\": \"EMPEROR\", \"to\": \"YODA\", \"width\": 2}, {\"color\": \"#282828\", \"from\": \"EMPEROR\", \"to\": \"KI-ADI-MUNDI\", \"width\": 1}, {\"color\": \"#282828\", \"from\": \"BAIL ORGANA\", \"to\": \"MACE WINDU\", \"width\": 2}, {\"color\": \"#282828\", \"from\": \"BAIL ORGANA\", \"to\": \"YODA\", \"width\": 8}, {\"color\": \"#282828\", \"from\": \"BAIL ORGANA\", \"to\": \"KI-ADI-MUNDI\", \"width\": 1}, {\"color\": \"#282828\", \"from\": \"CAPTAIN TYPHO\", \"to\": \"JAR JAR\", \"width\": 1}, {\"color\": \"#282828\", \"from\": \"CAPTAIN TYPHO\", \"to\": \"OBI-WAN\", \"width\": 2}, {\"color\": \"#282828\", \"from\": \"ANAKIN\", \"to\": \"CAPTAIN TYPHO\", \"width\": 3}, {\"color\": \"#282828\", \"from\": \"OBI-WAN\", \"to\": \"PK-4\", \"width\": 1}, {\"color\": \"#282828\", \"from\": \"ANAKIN\", \"to\": \"SIO BIBBLE\", \"width\": 1}, {\"color\": \"#282828\", \"from\": \"PADME\", \"to\": \"SOLA\", \"width\": 1}, {\"color\": \"#282828\", \"from\": \"ANAKIN\", \"to\": \"SOLA\", \"width\": 1}, {\"color\": \"#282828\", \"from\": \"JOBAL\", \"to\": \"SOLA\", \"width\": 2}, {\"color\": \"#282828\", \"from\": \"RUWEE\", \"to\": \"SOLA\", \"width\": 1}, {\"color\": \"#282828\", \"from\": \"JOBAL\", \"to\": \"PADME\", \"width\": 1}, {\"color\": \"#282828\", \"from\": \"PADME\", \"to\": \"RUWEE\", \"width\": 1}, {\"color\": \"#282828\", \"from\": \"ANAKIN\", \"to\": \"JOBAL\", \"width\": 1}, {\"color\": \"#282828\", \"from\": \"ANAKIN\", \"to\": \"RUWEE\", \"width\": 3}, {\"color\": \"#282828\", \"from\": \"JOBAL\", \"to\": \"RUWEE\", \"width\": 1}, {\"color\": \"#282828\", \"from\": \"OBI-WAN\", \"to\": \"TAUN WE\", \"width\": 5}, {\"color\": \"#282828\", \"from\": \"LAMA SU\", \"to\": \"TAUN WE\", \"width\": 2}, {\"color\": \"#282828\", \"from\": \"LAMA SU\", \"to\": \"OBI-WAN\", \"width\": 6}, {\"color\": \"#282828\", \"from\": \"BOBA FETT\", \"to\": \"TAUN WE\", \"width\": 2}, {\"color\": \"#282828\", \"from\": \"BOBA FETT\", \"to\": \"JANGO FETT\", \"width\": 3}, {\"color\": \"#282828\", \"from\": \"BOBA FETT\", \"to\": \"OBI-WAN\", \"width\": 1}, {\"color\": \"#282828\", \"from\": \"JANGO FETT\", \"to\": \"TAUN WE\", \"width\": 1}, {\"color\": \"#282828\", \"from\": \"JANGO FETT\", \"to\": \"OBI-WAN\", \"width\": 1}, {\"color\": \"#282828\", \"from\": \"C-3PO\", \"to\": \"OWEN\", \"width\": 4}, {\"color\": \"#282828\", \"from\": \"BERU\", \"to\": \"C-3PO\", \"width\": 3}, {\"color\": \"#282828\", \"from\": \"C-3PO\", \"to\": \"CLIEGG\", \"width\": 1}, {\"color\": \"#282828\", \"from\": \"ANAKIN\", \"to\": \"OWEN\", \"width\": 3}, {\"color\": \"#282828\", \"from\": \"ANAKIN\", \"to\": \"BERU\", \"width\": 1}, {\"color\": \"#282828\", \"from\": \"ANAKIN\", \"to\": \"CLIEGG\", \"width\": 2}, {\"color\": \"#282828\", \"from\": \"BERU\", \"to\": \"OWEN\", \"width\": 4}, {\"color\": \"#282828\", \"from\": \"OWEN\", \"to\": \"PADME\", \"width\": 4}, {\"color\": \"#282828\", \"from\": \"CLIEGG\", \"to\": \"OWEN\", \"width\": 2}, {\"color\": \"#282828\", \"from\": \"BERU\", \"to\": \"PADME\", \"width\": 1}, {\"color\": \"#282828\", \"from\": \"BERU\", \"to\": \"CLIEGG\", \"width\": 1}, {\"color\": \"#282828\", \"from\": \"CLIEGG\", \"to\": \"PADME\", \"width\": 2}, {\"color\": \"#282828\", \"from\": \"BAIL ORGANA\", \"to\": \"OBI-WAN\", \"width\": 8}, {\"color\": \"#282828\", \"from\": \"EMPEROR\", \"to\": \"OBI-WAN\", \"width\": 5}, {\"color\": \"#282828\", \"from\": \"OBI-WAN\", \"to\": \"SENATOR ASK AAK\", \"width\": 1}, {\"color\": \"#282828\", \"from\": \"BAIL ORGANA\", \"to\": \"SENATOR ASK AAK\", \"width\": 1}, {\"color\": \"#282828\", \"from\": \"BAIL ORGANA\", \"to\": \"JAR JAR\", \"width\": 1}, {\"color\": \"#282828\", \"from\": \"SENATOR ASK AAK\", \"to\": \"YODA\", \"width\": 1}, {\"color\": \"#282828\", \"from\": \"JAR JAR\", \"to\": \"YODA\", \"width\": 1}, {\"color\": \"#282828\", \"from\": \"MACE WINDU\", \"to\": \"SENATOR ASK AAK\", \"width\": 1}, {\"color\": \"#282828\", \"from\": \"JAR JAR\", \"to\": \"MACE WINDU\", \"width\": 1}, {\"color\": \"#282828\", \"from\": \"JAR JAR\", \"to\": \"SENATOR ASK AAK\", \"width\": 1}, {\"color\": \"#282828\", \"from\": \"MACE WINDU\", \"to\": \"PADME\", \"width\": 2}, {\"color\": \"#282828\", \"from\": \"JAR JAR\", \"to\": \"ORN FREE TAA\", \"width\": 1}, {\"color\": \"#282828\", \"from\": \"COUNT DOOKU\", \"to\": \"PADME\", \"width\": 3}, {\"color\": \"#282828\", \"from\": \"COUNT DOOKU\", \"to\": \"JANGO FETT\", \"width\": 1}, {\"color\": \"#282828\", \"from\": \"POGGLE\", \"to\": \"SUN RIT\", \"width\": 2}, {\"color\": \"#282828\", \"from\": \"NUTE GUNRAY\", \"to\": \"SUN RIT\", \"width\": 2}, {\"color\": \"#282828\", \"from\": \"NUTE GUNRAY\", \"to\": \"POGGLE\", \"width\": 2}, {\"color\": \"#282828\", \"from\": \"OBI-WAN\", \"to\": \"SUN RIT\", \"width\": 1}, {\"color\": \"#282828\", \"from\": \"OBI-WAN\", \"to\": \"POGGLE\", \"width\": 1}, {\"color\": \"#282828\", \"from\": \"NUTE GUNRAY\", \"to\": \"OBI-WAN\", \"width\": 1}, {\"color\": \"#282828\", \"from\": \"COUNT DOOKU\", \"to\": \"OBI-WAN\", \"width\": 3}, {\"color\": \"#282828\", \"from\": \"ANAKIN\", \"to\": \"SUN RIT\", \"width\": 1}, {\"color\": \"#282828\", \"from\": \"ANAKIN\", \"to\": \"POGGLE\", \"width\": 1}, {\"color\": \"#282828\", \"from\": \"ANAKIN\", \"to\": \"NUTE GUNRAY\", \"width\": 1}, {\"color\": \"#282828\", \"from\": \"ANAKIN\", \"to\": \"COUNT DOOKU\", \"width\": 3}, {\"color\": \"#282828\", \"from\": \"PADME\", \"to\": \"SUN RIT\", \"width\": 1}, {\"color\": \"#282828\", \"from\": \"COUNT DOOKU\", \"to\": \"SUN RIT\", \"width\": 1}, {\"color\": \"#282828\", \"from\": \"PADME\", \"to\": \"POGGLE\", \"width\": 1}, {\"color\": \"#282828\", \"from\": \"COUNT DOOKU\", \"to\": \"POGGLE\", \"width\": 1}, {\"color\": \"#282828\", \"from\": \"COUNT DOOKU\", \"to\": \"NUTE GUNRAY\", \"width\": 1}, {\"color\": \"#282828\", \"from\": \"COUNT DOOKU\", \"to\": \"MACE WINDU\", \"width\": 2}, {\"color\": \"#282828\", \"from\": \"KI-ADI-MUNDI\", \"to\": \"PLO KOON\", \"width\": 1}, {\"color\": \"#282828\", \"from\": \"COUNT DOOKU\", \"to\": \"YODA\", \"width\": 2}, {\"color\": \"#282828\", \"from\": \"PADME\", \"to\": \"YODA\", \"width\": 1}, {\"color\": \"#282828\", \"from\": \"COUNT DOOKU\", \"to\": \"EMPEROR\", \"width\": 2}, {\"color\": \"#282828\", \"from\": \"OBI-WAN\", \"to\": \"ODD BALL\", \"width\": 2}, {\"color\": \"#282828\", \"from\": \"ANAKIN\", \"to\": \"ODD BALL\", \"width\": 2}, {\"color\": \"#282828\", \"from\": \"ANAKIN\", \"to\": \"EMPEROR\", \"width\": 14}, {\"color\": \"#282828\", \"from\": \"GENERAL GRIEVOUS\", \"to\": \"OBI-WAN\", \"width\": 2}, {\"color\": \"#282828\", \"from\": \"ANAKIN\", \"to\": \"GENERAL GRIEVOUS\", \"width\": 1}, {\"color\": \"#282828\", \"from\": \"ANAKIN\", \"to\": \"BAIL ORGANA\", \"width\": 2}, {\"color\": \"#282828\", \"from\": \"C-3PO\", \"to\": \"OBI-WAN\", \"width\": 9}, {\"color\": \"#282828\", \"from\": \"C-3PO\", \"to\": \"EMPEROR\", \"width\": 2}, {\"color\": \"#282828\", \"from\": \"BAIL ORGANA\", \"to\": \"C-3PO\", \"width\": 3}, {\"color\": \"#282828\", \"from\": \"BAIL ORGANA\", \"to\": \"PADME\", \"width\": 5}, {\"color\": \"#282828\", \"from\": \"BAIL ORGANA\", \"to\": \"FANG ZAR\", \"width\": 2}, {\"color\": \"#282828\", \"from\": \"BAIL ORGANA\", \"to\": \"MON MOTHMA\", \"width\": 2}, {\"color\": \"#282828\", \"from\": \"BAIL ORGANA\", \"to\": \"GIDDEAN DANU\", \"width\": 1}, {\"color\": \"#282828\", \"from\": \"FANG ZAR\", \"to\": \"PADME\", \"width\": 2}, {\"color\": \"#282828\", \"from\": \"FANG ZAR\", \"to\": \"MON MOTHMA\", \"width\": 2}, {\"color\": \"#282828\", \"from\": \"FANG ZAR\", \"to\": \"GIDDEAN DANU\", \"width\": 1}, {\"color\": \"#282828\", \"from\": \"MON MOTHMA\", \"to\": \"PADME\", \"width\": 2}, {\"color\": \"#282828\", \"from\": \"GIDDEAN DANU\", \"to\": \"PADME\", \"width\": 1}, {\"color\": \"#282828\", \"from\": \"GIDDEAN DANU\", \"to\": \"MON MOTHMA\", \"width\": 1}, {\"color\": \"#282828\", \"from\": \"CAPTAIN TYPHO\", \"to\": \"PADME\", \"width\": 2}, {\"color\": \"#282828\", \"from\": \"C-3PO\", \"to\": \"CAPTAIN TYPHO\", \"width\": 2}, {\"color\": \"#282828\", \"from\": \"CLONE COMMANDER GREE\", \"to\": \"YODA\", \"width\": 1}, {\"color\": \"#282828\", \"from\": \"CLONE COMMANDER CODY\", \"to\": \"OBI-WAN\", \"width\": 2}, {\"color\": \"#282828\", \"from\": \"OBI-WAN\", \"to\": \"TION MEDON\", \"width\": 1}, {\"color\": \"#282828\", \"from\": \"GENERAL GRIEVOUS\", \"to\": \"NUTE GUNRAY\", \"width\": 1}, {\"color\": \"#282828\", \"from\": \"ANAKIN\", \"to\": \"CLONE COMMANDER CODY\", \"width\": 1}, {\"color\": \"#282828\", \"from\": \"CLONE COMMANDER CODY\", \"to\": \"MACE WINDU\", \"width\": 1}, {\"color\": \"#282828\", \"from\": \"CLONE COMMANDER CODY\", \"to\": \"YODA\", \"width\": 1}, {\"color\": \"#282828\", \"from\": \"BAIL ORGANA\", \"to\": \"CAPTAIN ANTILLES\", \"width\": 2}, {\"color\": \"#282828\", \"from\": \"BAIL ORGANA\", \"to\": \"QUI-GON\", \"width\": 1}, {\"color\": \"#282828\", \"from\": \"C-3PO\", \"to\": \"YODA\", \"width\": 1}, {\"color\": \"#282828\", \"from\": \"DARTH VADER\", \"to\": \"EMPEROR\", \"width\": 7}, {\"color\": \"#282828\", \"from\": \"C-3PO\", \"to\": \"CAPTAIN ANTILLES\", \"width\": 1}, {\"color\": \"#282828\", \"from\": \"CAMIE\", \"to\": \"LUKE\", \"width\": 2}, {\"color\": \"#282828\", \"from\": \"BIGGS\", \"to\": \"CAMIE\", \"width\": 2}, {\"color\": \"#282828\", \"from\": \"BIGGS\", \"to\": \"LUKE\", \"width\": 4}, {\"color\": \"#282828\", \"from\": \"DARTH VADER\", \"to\": \"LEIA\", \"width\": 2}, {\"color\": \"#282828\", \"from\": \"BERU\", \"to\": \"LUKE\", \"width\": 3}, {\"color\": \"#282828\", \"from\": \"LUKE\", \"to\": \"OWEN\", \"width\": 3}, {\"color\": \"#282828\", \"from\": \"C-3PO\", \"to\": \"LUKE\", \"width\": 29}, {\"color\": \"#282828\", \"from\": \"C-3PO\", \"to\": \"LEIA\", \"width\": 49}, {\"color\": \"#282828\", \"from\": \"LEIA\", \"to\": \"LUKE\", \"width\": 26}, {\"color\": \"#282828\", \"from\": \"BERU\", \"to\": \"LEIA\", \"width\": 1}, {\"color\": \"#282828\", \"from\": \"LUKE\", \"to\": \"OBI-WAN\", \"width\": 22}, {\"color\": \"#282828\", \"from\": \"LEIA\", \"to\": \"OBI-WAN\", \"width\": 1}, {\"color\": \"#282828\", \"from\": \"MOTTI\", \"to\": \"TARKIN\", \"width\": 2}, {\"color\": \"#282828\", \"from\": \"DARTH VADER\", \"to\": \"MOTTI\", \"width\": 1}, {\"color\": \"#282828\", \"from\": \"DARTH VADER\", \"to\": \"TARKIN\", \"width\": 7}, {\"color\": \"#282828\", \"from\": \"HAN\", \"to\": \"OBI-WAN\", \"width\": 10}, {\"color\": \"#282828\", \"from\": \"HAN\", \"to\": \"LUKE\", \"width\": 43}, {\"color\": \"#282828\", \"from\": \"GREEDO\", \"to\": \"HAN\", \"width\": 1}, {\"color\": \"#282828\", \"from\": \"HAN\", \"to\": \"JABBA\", \"width\": 1}, {\"color\": \"#282828\", \"from\": \"C-3PO\", \"to\": \"HAN\", \"width\": 54}, {\"color\": \"#282828\", \"from\": \"LEIA\", \"to\": \"MOTTI\", \"width\": 1}, {\"color\": \"#282828\", \"from\": \"LEIA\", \"to\": \"TARKIN\", \"width\": 1}, {\"color\": \"#282828\", \"from\": \"HAN\", \"to\": \"LEIA\", \"width\": 69}, {\"color\": \"#282828\", \"from\": \"DARTH VADER\", \"to\": \"OBI-WAN\", \"width\": 1}, {\"color\": \"#282828\", \"from\": \"DODONNA\", \"to\": \"GOLD LEADER\", \"width\": 1}, {\"color\": \"#282828\", \"from\": \"DODONNA\", \"to\": \"WEDGE\", \"width\": 1}, {\"color\": \"#282828\", \"from\": \"DODONNA\", \"to\": \"LUKE\", \"width\": 1}, {\"color\": \"#282828\", \"from\": \"GOLD LEADER\", \"to\": \"WEDGE\", \"width\": 1}, {\"color\": \"#282828\", \"from\": \"GOLD LEADER\", \"to\": \"LUKE\", \"width\": 1}, {\"color\": \"#282828\", \"from\": \"LUKE\", \"to\": \"WEDGE\", \"width\": 4}, {\"color\": \"#282828\", \"from\": \"BIGGS\", \"to\": \"LEIA\", \"width\": 1}, {\"color\": \"#282828\", \"from\": \"LEIA\", \"to\": \"RED LEADER\", \"width\": 1}, {\"color\": \"#282828\", \"from\": \"LUKE\", \"to\": \"RED LEADER\", \"width\": 3}, {\"color\": \"#282828\", \"from\": \"BIGGS\", \"to\": \"RED LEADER\", \"width\": 3}, {\"color\": \"#282828\", \"from\": \"BIGGS\", \"to\": \"C-3PO\", \"width\": 1}, {\"color\": \"#282828\", \"from\": \"C-3PO\", \"to\": \"RED LEADER\", \"width\": 1}, {\"color\": \"#282828\", \"from\": \"RED LEADER\", \"to\": \"WEDGE\", \"width\": 3}, {\"color\": \"#282828\", \"from\": \"GOLD LEADER\", \"to\": \"RED LEADER\", \"width\": 1}, {\"color\": \"#282828\", \"from\": \"BIGGS\", \"to\": \"WEDGE\", \"width\": 2}, {\"color\": \"#282828\", \"from\": \"RED LEADER\", \"to\": \"RED TEN\", \"width\": 1}, {\"color\": \"#282828\", \"from\": \"BIGGS\", \"to\": \"GOLD LEADER\", \"width\": 1}, {\"color\": \"#282828\", \"from\": \"LUKE\", \"to\": \"RED TEN\", \"width\": 1}, {\"color\": \"#282828\", \"from\": \"HAN\", \"to\": \"RIEEKAN\", \"width\": 3}, {\"color\": \"#282828\", \"from\": \"LEIA\", \"to\": \"RIEEKAN\", \"width\": 4}, {\"color\": \"#282828\", \"from\": \"C-3PO\", \"to\": \"DERLIN\", \"width\": 1}, {\"color\": \"#282828\", \"from\": \"HAN\", \"to\": \"ZEV\", \"width\": 1}, {\"color\": \"#282828\", \"from\": \"C-3PO\", \"to\": \"RIEEKAN\", \"width\": 1}, {\"color\": \"#282828\", \"from\": \"OZZEL\", \"to\": \"PIETT\", \"width\": 2}, {\"color\": \"#282828\", \"from\": \"DARTH VADER\", \"to\": \"PIETT\", \"width\": 8}, {\"color\": \"#282828\", \"from\": \"DARTH VADER\", \"to\": \"OZZEL\", \"width\": 2}, {\"color\": \"#282828\", \"from\": \"DERLIN\", \"to\": \"LEIA\", \"width\": 1}, {\"color\": \"#282828\", \"from\": \"DACK\", \"to\": \"LUKE\", \"width\": 3}, {\"color\": \"#282828\", \"from\": \"JANSON\", \"to\": \"WEDGE\", \"width\": 2}, {\"color\": \"#282828\", \"from\": \"LUKE\", \"to\": \"ZEV\", \"width\": 1}, {\"color\": \"#282828\", \"from\": \"DARTH VADER\", \"to\": \"NEEDA\", \"width\": 1}, {\"color\": \"#282828\", \"from\": \"NEEDA\", \"to\": \"PIETT\", \"width\": 1}, {\"color\": \"#282828\", \"from\": \"LUKE\", \"to\": \"YODA\", \"width\": 6}, {\"color\": \"#282828\", \"from\": \"BOBA FETT\", \"to\": \"PIETT\", \"width\": 1}, {\"color\": \"#282828\", \"from\": \"BOBA FETT\", \"to\": \"DARTH VADER\", \"width\": 3}, {\"color\": \"#282828\", \"from\": \"HAN\", \"to\": \"LANDO\", \"width\": 12}, {\"color\": \"#282828\", \"from\": \"LANDO\", \"to\": \"LEIA\", \"width\": 12}, {\"color\": \"#282828\", \"from\": \"C-3PO\", \"to\": \"LANDO\", \"width\": 8}, {\"color\": \"#282828\", \"from\": \"DARTH VADER\", \"to\": \"LANDO\", \"width\": 4}, {\"color\": \"#282828\", \"from\": \"DARTH VADER\", \"to\": \"HAN\", \"width\": 2}, {\"color\": \"#282828\", \"from\": \"BOBA FETT\", \"to\": \"LANDO\", \"width\": 2}, {\"color\": \"#282828\", \"from\": \"BOBA FETT\", \"to\": \"C-3PO\", \"width\": 1}, {\"color\": \"#282828\", \"from\": \"C-3PO\", \"to\": \"DARTH VADER\", \"width\": 1}, {\"color\": \"#282828\", \"from\": \"BOBA FETT\", \"to\": \"HAN\", \"width\": 1}, {\"color\": \"#282828\", \"from\": \"BOBA FETT\", \"to\": \"LEIA\", \"width\": 1}, {\"color\": \"#282828\", \"from\": \"DARTH VADER\", \"to\": \"LUKE\", \"width\": 7}, {\"color\": \"#282828\", \"from\": \"LANDO\", \"to\": \"LUKE\", \"width\": 6}, {\"color\": \"#282828\", \"from\": \"DARTH VADER\", \"to\": \"JERJERROD\", \"width\": 1}, {\"color\": \"#282828\", \"from\": \"BIB FORTUNA\", \"to\": \"C-3PO\", \"width\": 2}, {\"color\": \"#282828\", \"from\": \"C-3PO\", \"to\": \"JABBA\", \"width\": 3}, {\"color\": \"#282828\", \"from\": \"JABBA\", \"to\": \"LUKE\", \"width\": 2}, {\"color\": \"#282828\", \"from\": \"BOUSHH\", \"to\": \"JABBA\", \"width\": 1}, {\"color\": \"#282828\", \"from\": \"BOUSHH\", \"to\": \"C-3PO\", \"width\": 2}, {\"color\": \"#282828\", \"from\": \"BOUSHH\", \"to\": \"HAN\", \"width\": 1}, {\"color\": \"#282828\", \"from\": \"BOUSHH\", \"to\": \"LEIA\", \"width\": 1}, {\"color\": \"#282828\", \"from\": \"BIB FORTUNA\", \"to\": \"LUKE\", \"width\": 1}, {\"color\": \"#282828\", \"from\": \"BIB FORTUNA\", \"to\": \"JABBA\", \"width\": 1}, {\"color\": \"#282828\", \"from\": \"HAN\", \"to\": \"MON MOTHMA\", \"width\": 1}, {\"color\": \"#282828\", \"from\": \"ADMIRAL ACKBAR\", \"to\": \"HAN\", \"width\": 2}, {\"color\": \"#282828\", \"from\": \"LANDO\", \"to\": \"MON MOTHMA\", \"width\": 1}, {\"color\": \"#282828\", \"from\": \"ADMIRAL ACKBAR\", \"to\": \"LANDO\", \"width\": 5}, {\"color\": \"#282828\", \"from\": \"ADMIRAL ACKBAR\", \"to\": \"MON MOTHMA\", \"width\": 1}, {\"color\": \"#282828\", \"from\": \"C-3PO\", \"to\": \"MON MOTHMA\", \"width\": 1}, {\"color\": \"#282828\", \"from\": \"LEIA\", \"to\": \"MON MOTHMA\", \"width\": 1}, {\"color\": \"#282828\", \"from\": \"LUKE\", \"to\": \"MON MOTHMA\", \"width\": 1}, {\"color\": \"#282828\", \"from\": \"ADMIRAL ACKBAR\", \"to\": \"C-3PO\", \"width\": 2}, {\"color\": \"#282828\", \"from\": \"ADMIRAL ACKBAR\", \"to\": \"LEIA\", \"width\": 2}, {\"color\": \"#282828\", \"from\": \"ADMIRAL ACKBAR\", \"to\": \"LUKE\", \"width\": 1}, {\"color\": \"#282828\", \"from\": \"EMPEROR\", \"to\": \"LUKE\", \"width\": 3}, {\"color\": \"#282828\", \"from\": \"LANDO\", \"to\": \"WEDGE\", \"width\": 6}, {\"color\": \"#282828\", \"from\": \"ADMIRAL ACKBAR\", \"to\": \"WEDGE\", \"width\": 1}, {\"color\": \"#282828\", \"from\": \"ANAKIN\", \"to\": \"DARTH VADER\", \"width\": 1}, {\"color\": \"#282828\", \"from\": \"ANAKIN\", \"to\": \"LUKE\", \"width\": 1}, {\"color\": \"#282828\", \"from\": \"LOR SAN TEKKA\", \"to\": \"POE\", \"width\": 3}, {\"color\": \"#282828\", \"from\": \"KYLO REN\", \"to\": \"LOR SAN TEKKA\", \"width\": 1}, {\"color\": \"#282828\", \"from\": \"KYLO REN\", \"to\": \"POE\", \"width\": 2}, {\"color\": \"#282828\", \"from\": \"CAPTAIN PHASMA\", \"to\": \"KYLO REN\", \"width\": 1}, {\"color\": \"#282828\", \"from\": \"CAPTAIN PHASMA\", \"to\": \"LOR SAN TEKKA\", \"width\": 1}, {\"color\": \"#282828\", \"from\": \"CAPTAIN PHASMA\", \"to\": \"POE\", \"width\": 1}, {\"color\": \"#282828\", \"from\": \"CAPTAIN PHASMA\", \"to\": \"FINN\", \"width\": 3}, {\"color\": \"#282828\", \"from\": \"GENERAL HUX\", \"to\": \"KYLO REN\", \"width\": 5}, {\"color\": \"#282828\", \"from\": \"REY\", \"to\": \"UNKAR PLUTT\", \"width\": 2}, {\"color\": \"#282828\", \"from\": \"FINN\", \"to\": \"POE\", \"width\": 11}, {\"color\": \"#282828\", \"from\": \"GENERAL HUX\", \"to\": \"LIEUTENANT MITAKA\", \"width\": 1}, {\"color\": \"#282828\", \"from\": \"KYLO REN\", \"to\": \"LIEUTENANT MITAKA\", \"width\": 2}, {\"color\": \"#282828\", \"from\": \"CAPTAIN PHASMA\", \"to\": \"GENERAL HUX\", \"width\": 1}, {\"color\": \"#282828\", \"from\": \"FINN\", \"to\": \"REY\", \"width\": 29}, {\"color\": \"#282828\", \"from\": \"HAN\", \"to\": \"REY\", \"width\": 17}, {\"color\": \"#282828\", \"from\": \"FINN\", \"to\": \"HAN\", \"width\": 23}, {\"color\": \"#282828\", \"from\": \"BALA-TIK\", \"to\": \"HAN\", \"width\": 2}, {\"color\": \"#282828\", \"from\": \"BALA-TIK\", \"to\": \"REY\", \"width\": 1}, {\"color\": \"#282828\", \"from\": \"BALA-TIK\", \"to\": \"FINN\", \"width\": 1}, {\"color\": \"#282828\", \"from\": \"GENERAL HUX\", \"to\": \"SNOKE\", \"width\": 3}, {\"color\": \"#282828\", \"from\": \"KYLO REN\", \"to\": \"SNOKE\", \"width\": 2}, {\"color\": \"#282828\", \"from\": \"HAN\", \"to\": \"MAZ\", \"width\": 4}, {\"color\": \"#282828\", \"from\": \"FINN\", \"to\": \"MAZ\", \"width\": 2}, {\"color\": \"#282828\", \"from\": \"MAZ\", \"to\": \"REY\", \"width\": 2}, {\"color\": \"#282828\", \"from\": \"HAN\", \"to\": \"POE\", \"width\": 2}, {\"color\": \"#282828\", \"from\": \"LEIA\", \"to\": \"POE\", \"width\": 3}, {\"color\": \"#282828\", \"from\": \"FINN\", \"to\": \"LEIA\", \"width\": 3}, {\"color\": \"#282828\", \"from\": \"KYLO REN\", \"to\": \"REY\", \"width\": 4}, {\"color\": \"#282828\", \"from\": \"POE\", \"to\": \"SNAP\", \"width\": 2}, {\"color\": \"#282828\", \"from\": \"ADMIRAL ACKBAR\", \"to\": \"POE\", \"width\": 1}, {\"color\": \"#282828\", \"from\": \"C-3PO\", \"to\": \"POE\", \"width\": 2}, {\"color\": \"#282828\", \"from\": \"ADMIRAL STATURA\", \"to\": \"POE\", \"width\": 1}, {\"color\": \"#282828\", \"from\": \"HAN\", \"to\": \"SNAP\", \"width\": 1}, {\"color\": \"#282828\", \"from\": \"ADMIRAL ACKBAR\", \"to\": \"SNAP\", \"width\": 1}, {\"color\": \"#282828\", \"from\": \"FINN\", \"to\": \"SNAP\", \"width\": 1}, {\"color\": \"#282828\", \"from\": \"LEIA\", \"to\": \"SNAP\", \"width\": 1}, {\"color\": \"#282828\", \"from\": \"C-3PO\", \"to\": \"SNAP\", \"width\": 1}, {\"color\": \"#282828\", \"from\": \"ADMIRAL STATURA\", \"to\": \"SNAP\", \"width\": 1}, {\"color\": \"#282828\", \"from\": \"ADMIRAL STATURA\", \"to\": \"HAN\", \"width\": 1}, {\"color\": \"#282828\", \"from\": \"ADMIRAL ACKBAR\", \"to\": \"FINN\", \"width\": 1}, {\"color\": \"#282828\", \"from\": \"ADMIRAL ACKBAR\", \"to\": \"ADMIRAL STATURA\", \"width\": 1}, {\"color\": \"#282828\", \"from\": \"C-3PO\", \"to\": \"FINN\", \"width\": 1}, {\"color\": \"#282828\", \"from\": \"ADMIRAL STATURA\", \"to\": \"FINN\", \"width\": 1}, {\"color\": \"#282828\", \"from\": \"ADMIRAL STATURA\", \"to\": \"LEIA\", \"width\": 2}, {\"color\": \"#282828\", \"from\": \"ADMIRAL STATURA\", \"to\": \"C-3PO\", \"width\": 2}, {\"color\": \"#282828\", \"from\": \"CAPTAIN PHASMA\", \"to\": \"HAN\", \"width\": 2}, {\"color\": \"#282828\", \"from\": \"COLONEL DATOO\", \"to\": \"GENERAL HUX\", \"width\": 1}, {\"color\": \"#282828\", \"from\": \"ELLO ASTY\", \"to\": \"POE\", \"width\": 3}, {\"color\": \"#282828\", \"from\": \"JESS\", \"to\": \"SNAP\", \"width\": 1}, {\"color\": \"#282828\", \"from\": \"HAN\", \"to\": \"KYLO REN\", \"width\": 3}, {\"color\": \"#282828\", \"from\": \"FINN\", \"to\": \"KYLO REN\", \"width\": 2}, {\"color\": \"#282828\", \"from\": \"JESS\", \"to\": \"NIV LEK\", \"width\": 2}, {\"color\": \"#282828\", \"from\": \"NIV LEK\", \"to\": \"YOLO ZIFF\", \"width\": 1}, {\"color\": \"#282828\", \"from\": \"NIV LEK\", \"to\": \"POE\", \"width\": 2}, {\"color\": \"#282828\", \"from\": \"ELLO ASTY\", \"to\": \"NIV LEK\", \"width\": 2}, {\"color\": \"#282828\", \"from\": \"JESS\", \"to\": \"YOLO ZIFF\", \"width\": 1}, {\"color\": \"#282828\", \"from\": \"JESS\", \"to\": \"POE\", \"width\": 2}, {\"color\": \"#282828\", \"from\": \"ELLO ASTY\", \"to\": \"JESS\", \"width\": 2}, {\"color\": \"#282828\", \"from\": \"POE\", \"to\": \"YOLO ZIFF\", \"width\": 1}, {\"color\": \"#282828\", \"from\": \"ELLO ASTY\", \"to\": \"YOLO ZIFF\", \"width\": 1}, {\"color\": \"#282828\", \"from\": \"LEIA\", \"to\": \"REY\", \"width\": 1}, {\"color\": \"#282828\", \"from\": \"LUKE\", \"to\": \"REY\", \"width\": 1}]);\n",
              "\n",
              "        // adding nodes and edges to the graph\n",
              "        data = {nodes: nodes, edges: edges};\n",
              "\n",
              "        var options = {\n",
              "    \"configure\": {\n",
              "        \"enabled\": false\n",
              "    },\n",
              "    \"edges\": {\n",
              "        \"color\": {\n",
              "            \"inherit\": true\n",
              "        },\n",
              "        \"smooth\": {\n",
              "            \"enabled\": true,\n",
              "            \"type\": \"dynamic\"\n",
              "        }\n",
              "    },\n",
              "    \"interaction\": {\n",
              "        \"dragNodes\": true,\n",
              "        \"hideEdgesOnDrag\": false,\n",
              "        \"hideNodesOnDrag\": false\n",
              "    },\n",
              "    \"physics\": {\n",
              "        \"barnesHut\": {\n",
              "            \"avoidOverlap\": 0,\n",
              "            \"centralGravity\": 0.3,\n",
              "            \"damping\": 0.09,\n",
              "            \"gravitationalConstant\": -80000,\n",
              "            \"springConstant\": 0.01,\n",
              "            \"springLength\": 250\n",
              "        },\n",
              "        \"enabled\": true,\n",
              "        \"stabilization\": {\n",
              "            \"enabled\": true,\n",
              "            \"fit\": true,\n",
              "            \"iterations\": 1000,\n",
              "            \"onlyDynamicEdges\": false,\n",
              "            \"updateInterval\": 50\n",
              "        }\n",
              "    }\n",
              "};\n",
              "        \n",
              "        \n",
              "\n",
              "        \n",
              "\n",
              "        network = new vis.Network(container, data, options);\n",
              "\t \n",
              "        \n",
              "\n",
              "\n",
              "        \n",
              "        network.on(\"stabilizationProgress\", function(params) {\n",
              "      \t\tdocument.getElementById('loadingBar').removeAttribute(\"style\");\n",
              "\t        var maxWidth = 496;\n",
              "\t        var minWidth = 20;\n",
              "\t        var widthFactor = params.iterations/params.total;\n",
              "\t        var width = Math.max(minWidth,maxWidth * widthFactor);\n",
              "\n",
              "\t        document.getElementById('bar').style.width = width + 'px';\n",
              "\t        document.getElementById('text').innerHTML = Math.round(widthFactor*100) + '%';\n",
              "\t    });\n",
              "\t    network.once(\"stabilizationIterationsDone\", function() {\n",
              "\t        document.getElementById('text').innerHTML = '100%';\n",
              "\t        document.getElementById('bar').style.width = '496px';\n",
              "\t        document.getElementById('loadingBar').style.opacity = 0;\n",
              "\t        // really clean the dom element\n",
              "\t        setTimeout(function () {document.getElementById('loadingBar').style.display = 'none';}, 500);\n",
              "\t    });\n",
              "        \n",
              "\n",
              "        return network;\n",
              "\n",
              "    }\n",
              "\n",
              "    drawGraph();\n",
              "\n",
              "</script>\n",
              "</body>\n",
              "</html>"
            ]
          },
          "metadata": {}
        }
      ]
    }
  ]
}