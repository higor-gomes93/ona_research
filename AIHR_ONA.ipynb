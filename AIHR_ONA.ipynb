{
  "nbformat": 4,
  "nbformat_minor": 0,
  "metadata": {
    "colab": {
      "name": "Untitled0.ipynb",
      "provenance": [],
      "authorship_tag": "ABX9TyP+k4O7TFUaJvra/59jpw2B",
      "include_colab_link": true
    },
    "kernelspec": {
      "name": "python3",
      "display_name": "Python 3"
    },
    "language_info": {
      "name": "python"
    }
  },
  "cells": [
    {
      "cell_type": "markdown",
      "metadata": {
        "id": "view-in-github",
        "colab_type": "text"
      },
      "source": [
        "<a href=\"https://colab.research.google.com/github/higor-gomes93/ona_research/blob/main/AIHR_ONA.ipynb\" target=\"_parent\"><img src=\"https://colab.research.google.com/assets/colab-badge.svg\" alt=\"Open In Colab\"/></a>"
      ]
    },
    {
      "cell_type": "markdown",
      "source": [
        "### 1) Libraries"
      ],
      "metadata": {
        "id": "9TYwx9d1br7r"
      }
    },
    {
      "cell_type": "code",
      "execution_count": 1,
      "metadata": {
        "id": "V8B1N6TybNPb"
      },
      "outputs": [],
      "source": [
        "# Libraries\n",
        "import pandas as pd\n",
        "import json"
      ]
    },
    {
      "cell_type": "code",
      "source": [
        "# Connection with Google Drive and Google Sheets\n",
        "from google.colab import auth\n",
        "import gspread\n",
        "from oauth2client.client import GoogleCredentials\n",
        "from google.colab import drive \n",
        "from google.auth import default\n",
        "drive.mount('/content/gdrive')\n",
        "from gspread_dataframe import set_with_dataframe\n",
        "auth.authenticate_user()\n",
        "creds, _ = default()\n",
        "gc = gspread.authorize(creds)"
      ],
      "metadata": {
        "colab": {
          "base_uri": "https://localhost:8080/"
        },
        "id": "jBXtULx5bQ2A",
        "outputId": "aaa09eaa-17d2-4e46-fe70-bd5ca23b40cf"
      },
      "execution_count": 2,
      "outputs": [
        {
          "output_type": "stream",
          "name": "stdout",
          "text": [
            "Mounted at /content/gdrive\n"
          ]
        }
      ]
    },
    {
      "cell_type": "markdown",
      "source": [
        "### 2) Importing the Dataset"
      ],
      "metadata": {
        "id": "TMBpf8y-bwS0"
      }
    },
    {
      "cell_type": "code",
      "source": [
        "with open(\"gdrive/My Drive/Área de Trabalho/Documentos/Datasets/starwars-full-interactions-allCharacters.json\") as json_data:\n",
        "    data = json.load(json_data)"
      ],
      "metadata": {
        "id": "3HviRTswbrEz"
      },
      "execution_count": 3,
      "outputs": []
    },
    {
      "cell_type": "code",
      "source": [
        "dataset_nodes = pd.DataFrame.from_dict(data['nodes'])\n",
        "dataset_edges = pd.DataFrame.from_dict(data['links'])"
      ],
      "metadata": {
        "id": "D39D1o_dcGXh"
      },
      "execution_count": 4,
      "outputs": []
    }
  ]
}