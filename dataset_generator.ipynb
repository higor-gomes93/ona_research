{
 "cells": [
  {
   "cell_type": "markdown",
   "id": "e0968c43-0339-4bff-b3cc-b34f87d3ec52",
   "metadata": {
    "tags": []
   },
   "source": [
    "#### 1) Importação das Bibliotecas"
   ]
  },
  {
   "cell_type": "code",
   "execution_count": 2,
   "id": "79c26e0f-17c1-42c9-a0cd-e3b12311981b",
   "metadata": {
    "tags": []
   },
   "outputs": [],
   "source": [
    "# Importando as bibliotecas\n",
    "import pyvis as pv\n",
    "import networkx as nx\n",
    "import pandas as pd\n",
    "import numpy as np\n",
    "import names\n",
    "import plotly.express as px\n",
    "import plotly.graph_objects as go\n",
    "from plotly.subplots import make_subplots"
   ]
  },
  {
   "cell_type": "markdown",
   "id": "3e9b1503-d8c2-41ba-97a1-c45fc0a82113",
   "metadata": {},
   "source": [
    "#### 2) Criação da lista de nomes"
   ]
  },
  {
   "cell_type": "code",
   "execution_count": null,
   "id": "7637c66b-382c-49d7-98ab-6904d877505c",
   "metadata": {},
   "outputs": [],
   "source": [
    "# Criando uma lista de colaboradores\n",
    "employees = list(set([names.get_full_name() for i in range(1000)]))\n",
    "\n",
    "# Criando um objeto do tipo dataframe\n",
    "dataset = pd.DataFrame(employees, columns = ['nome'])"
   ]
  },
  {
   "cell_type": "markdown",
   "id": "de9d81b0-d9d4-40d9-a2b4-660372f1c57b",
   "metadata": {},
   "source": [
    "#### 3) Criação das áreas de cada colaborador"
   ]
  },
  {
   "cell_type": "code",
   "execution_count": null,
   "id": "f42e0fc6-0709-42a8-9047-e7dbe79627b7",
   "metadata": {},
   "outputs": [],
   "source": [
    "# Criando um dicionário de quantidade de pessoas por área\n",
    "areas_dict = {\n",
    "    'People': 1,\n",
    "    'FP&A': 1,\n",
    "    'Engenharia': 6,\n",
    "    'Customer Success': 3,\n",
    "    'Comercial': 3,\n",
    "    'Suporte': 2,\n",
    "    'Jurídico': 1,\n",
    "    'TI': 1,\n",
    "    'Marketing': 1,\n",
    "    'Operações': 3\n",
    "}\n",
    "\n",
    "# Criando as listas das áreas e os pesos\n",
    "areas = list(areas_dict.keys())\n",
    "weights = [i/sum(areas_dict.values()) for i in areas_dict.values()]\n",
    "\n",
    "# Criando uma lista de escolhas ponderadas\n",
    "areas_list = np.random.choice(a = areas, size = len(dataset), p = weights)\n",
    "\n",
    "# Incluindo a área no dataset\n",
    "dataset['area'] = areas_list\n",
    "\n",
    "# Verificando a distribuição\n",
    "area_dataset = pd.DataFrame(dict(dataset.groupby(['area']).size()).items(), columns = ['area', 'total'])\n",
    "fig = px.bar(area_dataset, y = 'area', x = 'total')\n",
    "fig.update_layout(barmode = 'stack', yaxis = {'categoryorder': 'total ascending'})\n",
    "fig.show()"
   ]
  },
  {
   "cell_type": "markdown",
   "id": "6d130bfd-cd1c-4e6a-81bd-2dc4e4e235c7",
   "metadata": {},
   "source": [
    "#### 4) Criando o tempo de empresa, em anos, de cada colaboradoe"
   ]
  },
  {
   "cell_type": "code",
   "execution_count": null,
   "id": "b48c0348-c238-4b52-b087-d226f9caf645",
   "metadata": {},
   "outputs": [],
   "source": [
    "# Definindo o tempo médio de empresa\n",
    "average_time = 3\n",
    "sd_time = 1\n",
    "\n",
    "# Criando uma amostra de tempo de empresa\n",
    "company_time = np.random.normal(average_time, sd_time, len(dataset))\n",
    "company_time = [round(abs(i), 2) for i in company_time]\n",
    "\n",
    "# Adicionando ao dataset\n",
    "dataset['tempo_de_empresa'] = company_time\n",
    "\n",
    "# Plotando\n",
    "fig = px.histogram(dataset, x = \"tempo_de_empresa\")\n",
    "fig.show()"
   ]
  },
  {
   "cell_type": "markdown",
   "id": "d1190b01-173f-4074-9ca5-43542922bb50",
   "metadata": {},
   "source": [
    "#### 5) Criando o último salário, em reais, de cada colaborador"
   ]
  },
  {
   "cell_type": "code",
   "execution_count": null,
   "id": "50bac20c-3d16-4bac-a970-748556e673d4",
   "metadata": {},
   "outputs": [],
   "source": [
    "# Criando um dicionário de pesos salariais para as áreas\n",
    "salary_dict = {\n",
    "    'People': 1,\n",
    "    'FP&A': 1,\n",
    "    'Engenharia': 3,\n",
    "    'Customer Success': 1.5,\n",
    "    'Comercial': 2,\n",
    "    'Suporte': 1.5,\n",
    "    'Jurídico': 1,\n",
    "    'TI': 1,\n",
    "    'Marketing': 1,\n",
    "    'Operações': 1.5\n",
    "}\n",
    "\n",
    "# Definindo o salário base médio e o desvio padrão\n",
    "average_salary = 3000\n",
    "sd_salary = 500\n",
    "\n",
    "# Criando uma amostra de salário para cada área\n",
    "salary_list = []\n",
    "for i in salary_dict.items():\n",
    "    area_average_salary = np.random.normal(average_salary*i[1], sd_salary*i[1], len(dataset.loc[dataset['area'] == i[0]]))\n",
    "    area_average_salary = [round(abs(i), 2) for i in area_average_salary]\n",
    "    salary_list.extend(area_average_salary)\n",
    "\n",
    "# Incluindo no dataset\n",
    "dataset['ultimo_salario'] = salary_list\n",
    "\n",
    "# Plotando\n",
    "fig = make_subplots(rows = 5, cols = 2)\n",
    "figs_list = []\n",
    "\n",
    "for i in salary_dict.keys():\n",
    "    trace = go.Histogram(x = dataset.loc[dataset['area'] == i]['ultimo_salario'], nbinsx = 20, name = i)\n",
    "    figs_list.append(trace)\n",
    "\n",
    "for i in range(1, 6):\n",
    "    for j in range(1, 3):\n",
    "        fig.append_trace(figs_list[0], i, j)\n",
    "        figs_list.pop(0)\n",
    "\n",
    "fig.update_layout(width = 1500, height = 1000)\n",
    "fig.show()"
   ]
  },
  {
   "cell_type": "code",
   "execution_count": null,
   "id": "51800ef3-7b78-4191-b8b9-8cbe731690da",
   "metadata": {},
   "outputs": [],
   "source": [
    "dataset.to_csv(\"c:/Users/Usuario/Documents/Estudos/Data Science e Programação/Datasets/colaboradores.csv\", index = False)"
   ]
  }
 ],
 "metadata": {
  "kernelspec": {
   "display_name": "Python 3",
   "language": "python",
   "name": "python3"
  },
  "language_info": {
   "codemirror_mode": {
    "name": "ipython",
    "version": 3
   },
   "file_extension": ".py",
   "mimetype": "text/x-python",
   "name": "python",
   "nbconvert_exporter": "python",
   "pygments_lexer": "ipython3",
   "version": "3.8.8"
  }
 },
 "nbformat": 4,
 "nbformat_minor": 5
}
