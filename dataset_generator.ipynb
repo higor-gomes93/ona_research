{
 "cells": [
  {
   "cell_type": "code",
   "execution_count": 17,
   "id": "79c26e0f-17c1-42c9-a0cd-e3b12311981b",
   "metadata": {},
   "outputs": [],
   "source": [
    "# Importando as bibliotecas\n",
    "import pyvis as pv\n",
    "import networkx as nx\n",
    "import pandas as pd\n",
    "import numpy as np\n",
    "import names\n",
    "import plotly.express as px"
   ]
  },
  {
   "cell_type": "code",
   "execution_count": 2,
   "id": "7637c66b-382c-49d7-98ab-6904d877505c",
   "metadata": {},
   "outputs": [],
   "source": [
    "# Criando uma lista de colaboradores\n",
    "employees = list(set([names.get_full_name() for i in range(1000)]))\n",
    "\n",
    "# Criando um objeto do tipo dataframe\n",
    "dataset = pd.DataFrame(employees, columns = ['nome'])"
   ]
  },
  {
   "cell_type": "code",
   "execution_count": 13,
   "id": "f42e0fc6-0709-42a8-9047-e7dbe79627b7",
   "metadata": {},
   "outputs": [],
   "source": [
    "# Criando um dicionário de áreas\n",
    "areas_dict = {\n",
    "    'People': 1,\n",
    "    'FP&A': 1,\n",
    "    'Engenharia': 6,\n",
    "    'Customer Success': 3,\n",
    "    'Comercial': 3,\n",
    "    'Suporte': 2,\n",
    "    'Jurídico': 1,\n",
    "    'TI': 1,\n",
    "    'Marketing': 1,\n",
    "    'Operações': 3\n",
    "}\n",
    "\n",
    "# Criando as listas das áreas e os pesos\n",
    "areas = list(areas_dict.keys())\n",
    "weights = [i/sum(areas_dict.values()) for i in areas_dict.values()]"
   ]
  },
  {
   "cell_type": "code",
   "execution_count": 35,
   "id": "de26d6ed-9b5a-4777-95bb-5f23d500c14d",
   "metadata": {
    "tags": []
   },
   "outputs": [],
   "source": [
    "# Criando uma lista de escolhas ponderadas\n",
    "areas_list = np.random.choice(a = areas, size = len(dataset), p = weights)\n",
    "\n",
    "# Incluindo a área no dataset\n",
    "dataset['area'] = areas_list"
   ]
  },
  {
   "cell_type": "code",
   "execution_count": 36,
   "id": "4fec9e76-5919-4526-be56-8e9750642582",
   "metadata": {
    "collapsed": true,
    "jupyter": {
     "outputs_hidden": true
    },
    "tags": []
   },
   "outputs": [
    {
     "data": {
      "application/vnd.plotly.v1+json": {
       "config": {
        "plotlyServerURL": "https://plotly.com"
       },
       "data": [
        {
         "alignmentgroup": "True",
         "hovertemplate": "total=%{x}<br>area=%{y}<extra></extra>",
         "legendgroup": "",
         "marker": {
          "color": "#636efa"
         },
         "name": "",
         "offsetgroup": "",
         "orientation": "h",
         "showlegend": false,
         "textposition": "auto",
         "type": "bar",
         "x": [
          128,
          129,
          279,
          36,
          49,
          48,
          147,
          47,
          84,
          51
         ],
         "xaxis": "x",
         "y": [
          "Comercial",
          "Customer Success",
          "Engenharia",
          "FP&A",
          "Jurídico",
          "Marketing",
          "Operações",
          "People",
          "Suporte",
          "TI"
         ],
         "yaxis": "y"
        }
       ],
       "layout": {
        "autosize": true,
        "barmode": "relative",
        "legend": {
         "tracegroupgap": 0
        },
        "margin": {
         "t": 60
        },
        "template": {
         "data": {
          "bar": [
           {
            "error_x": {
             "color": "#2a3f5f"
            },
            "error_y": {
             "color": "#2a3f5f"
            },
            "marker": {
             "line": {
              "color": "#E5ECF6",
              "width": 0.5
             }
            },
            "type": "bar"
           }
          ],
          "barpolar": [
           {
            "marker": {
             "line": {
              "color": "#E5ECF6",
              "width": 0.5
             }
            },
            "type": "barpolar"
           }
          ],
          "carpet": [
           {
            "aaxis": {
             "endlinecolor": "#2a3f5f",
             "gridcolor": "white",
             "linecolor": "white",
             "minorgridcolor": "white",
             "startlinecolor": "#2a3f5f"
            },
            "baxis": {
             "endlinecolor": "#2a3f5f",
             "gridcolor": "white",
             "linecolor": "white",
             "minorgridcolor": "white",
             "startlinecolor": "#2a3f5f"
            },
            "type": "carpet"
           }
          ],
          "choropleth": [
           {
            "colorbar": {
             "outlinewidth": 0,
             "ticks": ""
            },
            "type": "choropleth"
           }
          ],
          "contour": [
           {
            "colorbar": {
             "outlinewidth": 0,
             "ticks": ""
            },
            "colorscale": [
             [
              0,
              "#0d0887"
             ],
             [
              0.1111111111111111,
              "#46039f"
             ],
             [
              0.2222222222222222,
              "#7201a8"
             ],
             [
              0.3333333333333333,
              "#9c179e"
             ],
             [
              0.4444444444444444,
              "#bd3786"
             ],
             [
              0.5555555555555556,
              "#d8576b"
             ],
             [
              0.6666666666666666,
              "#ed7953"
             ],
             [
              0.7777777777777778,
              "#fb9f3a"
             ],
             [
              0.8888888888888888,
              "#fdca26"
             ],
             [
              1,
              "#f0f921"
             ]
            ],
            "type": "contour"
           }
          ],
          "contourcarpet": [
           {
            "colorbar": {
             "outlinewidth": 0,
             "ticks": ""
            },
            "type": "contourcarpet"
           }
          ],
          "heatmap": [
           {
            "colorbar": {
             "outlinewidth": 0,
             "ticks": ""
            },
            "colorscale": [
             [
              0,
              "#0d0887"
             ],
             [
              0.1111111111111111,
              "#46039f"
             ],
             [
              0.2222222222222222,
              "#7201a8"
             ],
             [
              0.3333333333333333,
              "#9c179e"
             ],
             [
              0.4444444444444444,
              "#bd3786"
             ],
             [
              0.5555555555555556,
              "#d8576b"
             ],
             [
              0.6666666666666666,
              "#ed7953"
             ],
             [
              0.7777777777777778,
              "#fb9f3a"
             ],
             [
              0.8888888888888888,
              "#fdca26"
             ],
             [
              1,
              "#f0f921"
             ]
            ],
            "type": "heatmap"
           }
          ],
          "heatmapgl": [
           {
            "colorbar": {
             "outlinewidth": 0,
             "ticks": ""
            },
            "colorscale": [
             [
              0,
              "#0d0887"
             ],
             [
              0.1111111111111111,
              "#46039f"
             ],
             [
              0.2222222222222222,
              "#7201a8"
             ],
             [
              0.3333333333333333,
              "#9c179e"
             ],
             [
              0.4444444444444444,
              "#bd3786"
             ],
             [
              0.5555555555555556,
              "#d8576b"
             ],
             [
              0.6666666666666666,
              "#ed7953"
             ],
             [
              0.7777777777777778,
              "#fb9f3a"
             ],
             [
              0.8888888888888888,
              "#fdca26"
             ],
             [
              1,
              "#f0f921"
             ]
            ],
            "type": "heatmapgl"
           }
          ],
          "histogram": [
           {
            "marker": {
             "colorbar": {
              "outlinewidth": 0,
              "ticks": ""
             }
            },
            "type": "histogram"
           }
          ],
          "histogram2d": [
           {
            "colorbar": {
             "outlinewidth": 0,
             "ticks": ""
            },
            "colorscale": [
             [
              0,
              "#0d0887"
             ],
             [
              0.1111111111111111,
              "#46039f"
             ],
             [
              0.2222222222222222,
              "#7201a8"
             ],
             [
              0.3333333333333333,
              "#9c179e"
             ],
             [
              0.4444444444444444,
              "#bd3786"
             ],
             [
              0.5555555555555556,
              "#d8576b"
             ],
             [
              0.6666666666666666,
              "#ed7953"
             ],
             [
              0.7777777777777778,
              "#fb9f3a"
             ],
             [
              0.8888888888888888,
              "#fdca26"
             ],
             [
              1,
              "#f0f921"
             ]
            ],
            "type": "histogram2d"
           }
          ],
          "histogram2dcontour": [
           {
            "colorbar": {
             "outlinewidth": 0,
             "ticks": ""
            },
            "colorscale": [
             [
              0,
              "#0d0887"
             ],
             [
              0.1111111111111111,
              "#46039f"
             ],
             [
              0.2222222222222222,
              "#7201a8"
             ],
             [
              0.3333333333333333,
              "#9c179e"
             ],
             [
              0.4444444444444444,
              "#bd3786"
             ],
             [
              0.5555555555555556,
              "#d8576b"
             ],
             [
              0.6666666666666666,
              "#ed7953"
             ],
             [
              0.7777777777777778,
              "#fb9f3a"
             ],
             [
              0.8888888888888888,
              "#fdca26"
             ],
             [
              1,
              "#f0f921"
             ]
            ],
            "type": "histogram2dcontour"
           }
          ],
          "mesh3d": [
           {
            "colorbar": {
             "outlinewidth": 0,
             "ticks": ""
            },
            "type": "mesh3d"
           }
          ],
          "parcoords": [
           {
            "line": {
             "colorbar": {
              "outlinewidth": 0,
              "ticks": ""
             }
            },
            "type": "parcoords"
           }
          ],
          "pie": [
           {
            "automargin": true,
            "type": "pie"
           }
          ],
          "scatter": [
           {
            "marker": {
             "colorbar": {
              "outlinewidth": 0,
              "ticks": ""
             }
            },
            "type": "scatter"
           }
          ],
          "scatter3d": [
           {
            "line": {
             "colorbar": {
              "outlinewidth": 0,
              "ticks": ""
             }
            },
            "marker": {
             "colorbar": {
              "outlinewidth": 0,
              "ticks": ""
             }
            },
            "type": "scatter3d"
           }
          ],
          "scattercarpet": [
           {
            "marker": {
             "colorbar": {
              "outlinewidth": 0,
              "ticks": ""
             }
            },
            "type": "scattercarpet"
           }
          ],
          "scattergeo": [
           {
            "marker": {
             "colorbar": {
              "outlinewidth": 0,
              "ticks": ""
             }
            },
            "type": "scattergeo"
           }
          ],
          "scattergl": [
           {
            "marker": {
             "colorbar": {
              "outlinewidth": 0,
              "ticks": ""
             }
            },
            "type": "scattergl"
           }
          ],
          "scattermapbox": [
           {
            "marker": {
             "colorbar": {
              "outlinewidth": 0,
              "ticks": ""
             }
            },
            "type": "scattermapbox"
           }
          ],
          "scatterpolar": [
           {
            "marker": {
             "colorbar": {
              "outlinewidth": 0,
              "ticks": ""
             }
            },
            "type": "scatterpolar"
           }
          ],
          "scatterpolargl": [
           {
            "marker": {
             "colorbar": {
              "outlinewidth": 0,
              "ticks": ""
             }
            },
            "type": "scatterpolargl"
           }
          ],
          "scatterternary": [
           {
            "marker": {
             "colorbar": {
              "outlinewidth": 0,
              "ticks": ""
             }
            },
            "type": "scatterternary"
           }
          ],
          "surface": [
           {
            "colorbar": {
             "outlinewidth": 0,
             "ticks": ""
            },
            "colorscale": [
             [
              0,
              "#0d0887"
             ],
             [
              0.1111111111111111,
              "#46039f"
             ],
             [
              0.2222222222222222,
              "#7201a8"
             ],
             [
              0.3333333333333333,
              "#9c179e"
             ],
             [
              0.4444444444444444,
              "#bd3786"
             ],
             [
              0.5555555555555556,
              "#d8576b"
             ],
             [
              0.6666666666666666,
              "#ed7953"
             ],
             [
              0.7777777777777778,
              "#fb9f3a"
             ],
             [
              0.8888888888888888,
              "#fdca26"
             ],
             [
              1,
              "#f0f921"
             ]
            ],
            "type": "surface"
           }
          ],
          "table": [
           {
            "cells": {
             "fill": {
              "color": "#EBF0F8"
             },
             "line": {
              "color": "white"
             }
            },
            "header": {
             "fill": {
              "color": "#C8D4E3"
             },
             "line": {
              "color": "white"
             }
            },
            "type": "table"
           }
          ]
         },
         "layout": {
          "annotationdefaults": {
           "arrowcolor": "#2a3f5f",
           "arrowhead": 0,
           "arrowwidth": 1
          },
          "autotypenumbers": "strict",
          "coloraxis": {
           "colorbar": {
            "outlinewidth": 0,
            "ticks": ""
           }
          },
          "colorscale": {
           "diverging": [
            [
             0,
             "#8e0152"
            ],
            [
             0.1,
             "#c51b7d"
            ],
            [
             0.2,
             "#de77ae"
            ],
            [
             0.3,
             "#f1b6da"
            ],
            [
             0.4,
             "#fde0ef"
            ],
            [
             0.5,
             "#f7f7f7"
            ],
            [
             0.6,
             "#e6f5d0"
            ],
            [
             0.7,
             "#b8e186"
            ],
            [
             0.8,
             "#7fbc41"
            ],
            [
             0.9,
             "#4d9221"
            ],
            [
             1,
             "#276419"
            ]
           ],
           "sequential": [
            [
             0,
             "#0d0887"
            ],
            [
             0.1111111111111111,
             "#46039f"
            ],
            [
             0.2222222222222222,
             "#7201a8"
            ],
            [
             0.3333333333333333,
             "#9c179e"
            ],
            [
             0.4444444444444444,
             "#bd3786"
            ],
            [
             0.5555555555555556,
             "#d8576b"
            ],
            [
             0.6666666666666666,
             "#ed7953"
            ],
            [
             0.7777777777777778,
             "#fb9f3a"
            ],
            [
             0.8888888888888888,
             "#fdca26"
            ],
            [
             1,
             "#f0f921"
            ]
           ],
           "sequentialminus": [
            [
             0,
             "#0d0887"
            ],
            [
             0.1111111111111111,
             "#46039f"
            ],
            [
             0.2222222222222222,
             "#7201a8"
            ],
            [
             0.3333333333333333,
             "#9c179e"
            ],
            [
             0.4444444444444444,
             "#bd3786"
            ],
            [
             0.5555555555555556,
             "#d8576b"
            ],
            [
             0.6666666666666666,
             "#ed7953"
            ],
            [
             0.7777777777777778,
             "#fb9f3a"
            ],
            [
             0.8888888888888888,
             "#fdca26"
            ],
            [
             1,
             "#f0f921"
            ]
           ]
          },
          "colorway": [
           "#636efa",
           "#EF553B",
           "#00cc96",
           "#ab63fa",
           "#FFA15A",
           "#19d3f3",
           "#FF6692",
           "#B6E880",
           "#FF97FF",
           "#FECB52"
          ],
          "font": {
           "color": "#2a3f5f"
          },
          "geo": {
           "bgcolor": "white",
           "lakecolor": "white",
           "landcolor": "#E5ECF6",
           "showlakes": true,
           "showland": true,
           "subunitcolor": "white"
          },
          "hoverlabel": {
           "align": "left"
          },
          "hovermode": "closest",
          "mapbox": {
           "style": "light"
          },
          "paper_bgcolor": "white",
          "plot_bgcolor": "#E5ECF6",
          "polar": {
           "angularaxis": {
            "gridcolor": "white",
            "linecolor": "white",
            "ticks": ""
           },
           "bgcolor": "#E5ECF6",
           "radialaxis": {
            "gridcolor": "white",
            "linecolor": "white",
            "ticks": ""
           }
          },
          "scene": {
           "xaxis": {
            "backgroundcolor": "#E5ECF6",
            "gridcolor": "white",
            "gridwidth": 2,
            "linecolor": "white",
            "showbackground": true,
            "ticks": "",
            "zerolinecolor": "white"
           },
           "yaxis": {
            "backgroundcolor": "#E5ECF6",
            "gridcolor": "white",
            "gridwidth": 2,
            "linecolor": "white",
            "showbackground": true,
            "ticks": "",
            "zerolinecolor": "white"
           },
           "zaxis": {
            "backgroundcolor": "#E5ECF6",
            "gridcolor": "white",
            "gridwidth": 2,
            "linecolor": "white",
            "showbackground": true,
            "ticks": "",
            "zerolinecolor": "white"
           }
          },
          "shapedefaults": {
           "line": {
            "color": "#2a3f5f"
           }
          },
          "ternary": {
           "aaxis": {
            "gridcolor": "white",
            "linecolor": "white",
            "ticks": ""
           },
           "baxis": {
            "gridcolor": "white",
            "linecolor": "white",
            "ticks": ""
           },
           "bgcolor": "#E5ECF6",
           "caxis": {
            "gridcolor": "white",
            "linecolor": "white",
            "ticks": ""
           }
          },
          "title": {
           "x": 0.05
          },
          "xaxis": {
           "automargin": true,
           "gridcolor": "white",
           "linecolor": "white",
           "ticks": "",
           "title": {
            "standoff": 15
           },
           "zerolinecolor": "white",
           "zerolinewidth": 2
          },
          "yaxis": {
           "automargin": true,
           "gridcolor": "white",
           "linecolor": "white",
           "ticks": "",
           "title": {
            "standoff": 15
           },
           "zerolinecolor": "white",
           "zerolinewidth": 2
          }
         }
        },
        "xaxis": {
         "anchor": "y",
         "autorange": true,
         "domain": [
          0,
          1
         ],
         "range": [
          0,
          293.6842105263158
         ],
         "title": {
          "text": "total"
         },
         "type": "linear"
        },
        "yaxis": {
         "anchor": "x",
         "autorange": true,
         "domain": [
          0,
          1
         ],
         "range": [
          -0.5,
          9.5
         ],
         "title": {
          "text": "area"
         },
         "type": "category"
        }
       }
      },
      "image/png": "[encoded data removed]",
      "text/html": [
       "<div>                            <div id=\"094e6f85-9442-4ba4-b5c9-dd8c6356313d\" class=\"plotly-graph-div\" style=\"height:525px; width:100%;\"></div>            <script type=\"text/javascript\">                require([\"plotly\"], function(Plotly) {                    window.PLOTLYENV=window.PLOTLYENV || {};                                    if (document.getElementById(\"094e6f85-9442-4ba4-b5c9-dd8c6356313d\")) {                    Plotly.newPlot(                        \"094e6f85-9442-4ba4-b5c9-dd8c6356313d\",                        [{\"alignmentgroup\": \"True\", \"hovertemplate\": \"total=%{x}<br>area=%{y}<extra></extra>\", \"legendgroup\": \"\", \"marker\": {\"color\": \"#636efa\"}, \"name\": \"\", \"offsetgroup\": \"\", \"orientation\": \"h\", \"showlegend\": false, \"textposition\": \"auto\", \"type\": \"bar\", \"x\": [128, 129, 279, 36, 49, 48, 147, 47, 84, 51], \"xaxis\": \"x\", \"y\": [\"Comercial\", \"Customer Success\", \"Engenharia\", \"FP&A\", \"Jur\\u00eddico\", \"Marketing\", \"Opera\\u00e7\\u00f5es\", \"People\", \"Suporte\", \"TI\"], \"yaxis\": \"y\"}],                        {\"barmode\": \"relative\", \"legend\": {\"tracegroupgap\": 0}, \"margin\": {\"t\": 60}, \"template\": {\"data\": {\"bar\": [{\"error_x\": {\"color\": \"#2a3f5f\"}, \"error_y\": {\"color\": \"#2a3f5f\"}, \"marker\": {\"line\": {\"color\": \"#E5ECF6\", \"width\": 0.5}}, \"type\": \"bar\"}], \"barpolar\": [{\"marker\": {\"line\": {\"color\": \"#E5ECF6\", \"width\": 0.5}}, \"type\": \"barpolar\"}], \"carpet\": [{\"aaxis\": {\"endlinecolor\": \"#2a3f5f\", \"gridcolor\": \"white\", \"linecolor\": \"white\", \"minorgridcolor\": \"white\", \"startlinecolor\": \"#2a3f5f\"}, \"baxis\": {\"endlinecolor\": \"#2a3f5f\", \"gridcolor\": \"white\", \"linecolor\": \"white\", \"minorgridcolor\": \"white\", \"startlinecolor\": \"#2a3f5f\"}, \"type\": \"carpet\"}], \"choropleth\": [{\"colorbar\": {\"outlinewidth\": 0, \"ticks\": \"\"}, \"type\": \"choropleth\"}], \"contour\": [{\"colorbar\": {\"outlinewidth\": 0, \"ticks\": \"\"}, \"colorscale\": [[0.0, \"#0d0887\"], [0.1111111111111111, \"#46039f\"], [0.2222222222222222, \"#7201a8\"], [0.3333333333333333, \"#9c179e\"], [0.4444444444444444, \"#bd3786\"], [0.5555555555555556, \"#d8576b\"], [0.6666666666666666, \"#ed7953\"], [0.7777777777777778, \"#fb9f3a\"], [0.8888888888888888, \"#fdca26\"], [1.0, \"#f0f921\"]], \"type\": \"contour\"}], \"contourcarpet\": [{\"colorbar\": {\"outlinewidth\": 0, \"ticks\": \"\"}, \"type\": \"contourcarpet\"}], \"heatmap\": [{\"colorbar\": {\"outlinewidth\": 0, \"ticks\": \"\"}, \"colorscale\": [[0.0, \"#0d0887\"], [0.1111111111111111, \"#46039f\"], [0.2222222222222222, \"#7201a8\"], [0.3333333333333333, \"#9c179e\"], [0.4444444444444444, \"#bd3786\"], [0.5555555555555556, \"#d8576b\"], [0.6666666666666666, \"#ed7953\"], [0.7777777777777778, \"#fb9f3a\"], [0.8888888888888888, \"#fdca26\"], [1.0, \"#f0f921\"]], \"type\": \"heatmap\"}], \"heatmapgl\": [{\"colorbar\": {\"outlinewidth\": 0, \"ticks\": \"\"}, \"colorscale\": [[0.0, \"#0d0887\"], [0.1111111111111111, \"#46039f\"], [0.2222222222222222, \"#7201a8\"], [0.3333333333333333, \"#9c179e\"], [0.4444444444444444, \"#bd3786\"], [0.5555555555555556, \"#d8576b\"], [0.6666666666666666, \"#ed7953\"], [0.7777777777777778, \"#fb9f3a\"], [0.8888888888888888, \"#fdca26\"], [1.0, \"#f0f921\"]], \"type\": \"heatmapgl\"}], \"histogram\": [{\"marker\": {\"colorbar\": {\"outlinewidth\": 0, \"ticks\": \"\"}}, \"type\": \"histogram\"}], \"histogram2d\": [{\"colorbar\": {\"outlinewidth\": 0, \"ticks\": \"\"}, \"colorscale\": [[0.0, \"#0d0887\"], [0.1111111111111111, \"#46039f\"], [0.2222222222222222, \"#7201a8\"], [0.3333333333333333, \"#9c179e\"], [0.4444444444444444, \"#bd3786\"], [0.5555555555555556, \"#d8576b\"], [0.6666666666666666, \"#ed7953\"], [0.7777777777777778, \"#fb9f3a\"], [0.8888888888888888, \"#fdca26\"], [1.0, \"#f0f921\"]], \"type\": \"histogram2d\"}], \"histogram2dcontour\": [{\"colorbar\": {\"outlinewidth\": 0, \"ticks\": \"\"}, \"colorscale\": [[0.0, \"#0d0887\"], [0.1111111111111111, \"#46039f\"], [0.2222222222222222, \"#7201a8\"], [0.3333333333333333, \"#9c179e\"], [0.4444444444444444, \"#bd3786\"], [0.5555555555555556, \"#d8576b\"], [0.6666666666666666, \"#ed7953\"], [0.7777777777777778, \"#fb9f3a\"], [0.8888888888888888, \"#fdca26\"], [1.0, \"#f0f921\"]], \"type\": \"histogram2dcontour\"}], \"mesh3d\": [{\"colorbar\": {\"outlinewidth\": 0, \"ticks\": \"\"}, \"type\": \"mesh3d\"}], \"parcoords\": [{\"line\": {\"colorbar\": {\"outlinewidth\": 0, \"ticks\": \"\"}}, \"type\": \"parcoords\"}], \"pie\": [{\"automargin\": true, \"type\": \"pie\"}], \"scatter\": [{\"marker\": {\"colorbar\": {\"outlinewidth\": 0, \"ticks\": \"\"}}, \"type\": \"scatter\"}], \"scatter3d\": [{\"line\": {\"colorbar\": {\"outlinewidth\": 0, \"ticks\": \"\"}}, \"marker\": {\"colorbar\": {\"outlinewidth\": 0, \"ticks\": \"\"}}, \"type\": \"scatter3d\"}], \"scattercarpet\": [{\"marker\": {\"colorbar\": {\"outlinewidth\": 0, \"ticks\": \"\"}}, \"type\": \"scattercarpet\"}], \"scattergeo\": [{\"marker\": {\"colorbar\": {\"outlinewidth\": 0, \"ticks\": \"\"}}, \"type\": \"scattergeo\"}], \"scattergl\": [{\"marker\": {\"colorbar\": {\"outlinewidth\": 0, \"ticks\": \"\"}}, \"type\": \"scattergl\"}], \"scattermapbox\": [{\"marker\": {\"colorbar\": {\"outlinewidth\": 0, \"ticks\": \"\"}}, \"type\": \"scattermapbox\"}], \"scatterpolar\": [{\"marker\": {\"colorbar\": {\"outlinewidth\": 0, \"ticks\": \"\"}}, \"type\": \"scatterpolar\"}], \"scatterpolargl\": [{\"marker\": {\"colorbar\": {\"outlinewidth\": 0, \"ticks\": \"\"}}, \"type\": \"scatterpolargl\"}], \"scatterternary\": [{\"marker\": {\"colorbar\": {\"outlinewidth\": 0, \"ticks\": \"\"}}, \"type\": \"scatterternary\"}], \"surface\": [{\"colorbar\": {\"outlinewidth\": 0, \"ticks\": \"\"}, \"colorscale\": [[0.0, \"#0d0887\"], [0.1111111111111111, \"#46039f\"], [0.2222222222222222, \"#7201a8\"], [0.3333333333333333, \"#9c179e\"], [0.4444444444444444, \"#bd3786\"], [0.5555555555555556, \"#d8576b\"], [0.6666666666666666, \"#ed7953\"], [0.7777777777777778, \"#fb9f3a\"], [0.8888888888888888, \"#fdca26\"], [1.0, \"#f0f921\"]], \"type\": \"surface\"}], \"table\": [{\"cells\": {\"fill\": {\"color\": \"#EBF0F8\"}, \"line\": {\"color\": \"white\"}}, \"header\": {\"fill\": {\"color\": \"#C8D4E3\"}, \"line\": {\"color\": \"white\"}}, \"type\": \"table\"}]}, \"layout\": {\"annotationdefaults\": {\"arrowcolor\": \"#2a3f5f\", \"arrowhead\": 0, \"arrowwidth\": 1}, \"autotypenumbers\": \"strict\", \"coloraxis\": {\"colorbar\": {\"outlinewidth\": 0, \"ticks\": \"\"}}, \"colorscale\": {\"diverging\": [[0, \"#8e0152\"], [0.1, \"#c51b7d\"], [0.2, \"#de77ae\"], [0.3, \"#f1b6da\"], [0.4, \"#fde0ef\"], [0.5, \"#f7f7f7\"], [0.6, \"#e6f5d0\"], [0.7, \"#b8e186\"], [0.8, \"#7fbc41\"], [0.9, \"#4d9221\"], [1, \"#276419\"]], \"sequential\": [[0.0, \"#0d0887\"], [0.1111111111111111, \"#46039f\"], [0.2222222222222222, \"#7201a8\"], [0.3333333333333333, \"#9c179e\"], [0.4444444444444444, \"#bd3786\"], [0.5555555555555556, \"#d8576b\"], [0.6666666666666666, \"#ed7953\"], [0.7777777777777778, \"#fb9f3a\"], [0.8888888888888888, \"#fdca26\"], [1.0, \"#f0f921\"]], \"sequentialminus\": [[0.0, \"#0d0887\"], [0.1111111111111111, \"#46039f\"], [0.2222222222222222, \"#7201a8\"], [0.3333333333333333, \"#9c179e\"], [0.4444444444444444, \"#bd3786\"], [0.5555555555555556, \"#d8576b\"], [0.6666666666666666, \"#ed7953\"], [0.7777777777777778, \"#fb9f3a\"], [0.8888888888888888, \"#fdca26\"], [1.0, \"#f0f921\"]]}, \"colorway\": [\"#636efa\", \"#EF553B\", \"#00cc96\", \"#ab63fa\", \"#FFA15A\", \"#19d3f3\", \"#FF6692\", \"#B6E880\", \"#FF97FF\", \"#FECB52\"], \"font\": {\"color\": \"#2a3f5f\"}, \"geo\": {\"bgcolor\": \"white\", \"lakecolor\": \"white\", \"landcolor\": \"#E5ECF6\", \"showlakes\": true, \"showland\": true, \"subunitcolor\": \"white\"}, \"hoverlabel\": {\"align\": \"left\"}, \"hovermode\": \"closest\", \"mapbox\": {\"style\": \"light\"}, \"paper_bgcolor\": \"white\", \"plot_bgcolor\": \"#E5ECF6\", \"polar\": {\"angularaxis\": {\"gridcolor\": \"white\", \"linecolor\": \"white\", \"ticks\": \"\"}, \"bgcolor\": \"#E5ECF6\", \"radialaxis\": {\"gridcolor\": \"white\", \"linecolor\": \"white\", \"ticks\": \"\"}}, \"scene\": {\"xaxis\": {\"backgroundcolor\": \"#E5ECF6\", \"gridcolor\": \"white\", \"gridwidth\": 2, \"linecolor\": \"white\", \"showbackground\": true, \"ticks\": \"\", \"zerolinecolor\": \"white\"}, \"yaxis\": {\"backgroundcolor\": \"#E5ECF6\", \"gridcolor\": \"white\", \"gridwidth\": 2, \"linecolor\": \"white\", \"showbackground\": true, \"ticks\": \"\", \"zerolinecolor\": \"white\"}, \"zaxis\": {\"backgroundcolor\": \"#E5ECF6\", \"gridcolor\": \"white\", \"gridwidth\": 2, \"linecolor\": \"white\", \"showbackground\": true, \"ticks\": \"\", \"zerolinecolor\": \"white\"}}, \"shapedefaults\": {\"line\": {\"color\": \"#2a3f5f\"}}, \"ternary\": {\"aaxis\": {\"gridcolor\": \"white\", \"linecolor\": \"white\", \"ticks\": \"\"}, \"baxis\": {\"gridcolor\": \"white\", \"linecolor\": \"white\", \"ticks\": \"\"}, \"bgcolor\": \"#E5ECF6\", \"caxis\": {\"gridcolor\": \"white\", \"linecolor\": \"white\", \"ticks\": \"\"}}, \"title\": {\"x\": 0.05}, \"xaxis\": {\"automargin\": true, \"gridcolor\": \"white\", \"linecolor\": \"white\", \"ticks\": \"\", \"title\": {\"standoff\": 15}, \"zerolinecolor\": \"white\", \"zerolinewidth\": 2}, \"yaxis\": {\"automargin\": true, \"gridcolor\": \"white\", \"linecolor\": \"white\", \"ticks\": \"\", \"title\": {\"standoff\": 15}, \"zerolinecolor\": \"white\", \"zerolinewidth\": 2}}}, \"xaxis\": {\"anchor\": \"y\", \"domain\": [0.0, 1.0], \"title\": {\"text\": \"total\"}}, \"yaxis\": {\"anchor\": \"x\", \"domain\": [0.0, 1.0], \"title\": {\"text\": \"area\"}}},                        {\"responsive\": true}                    ).then(function(){\n",
       "                            \n",
       "var gd = document.getElementById('094e6f85-9442-4ba4-b5c9-dd8c6356313d');\n",
       "var x = new MutationObserver(function (mutations, observer) {{\n",
       "        var display = window.getComputedStyle(gd).display;\n",
       "        if (!display || display === 'none') {{\n",
       "            console.log([gd, 'removed!']);\n",
       "            Plotly.purge(gd);\n",
       "            observer.disconnect();\n",
       "        }}\n",
       "}});\n",
       "\n",
       "// Listen for the removal of the full notebook cells\n",
       "var notebookContainer = gd.closest('#notebook-container');\n",
       "if (notebookContainer) {{\n",
       "    x.observe(notebookContainer, {childList: true});\n",
       "}}\n",
       "\n",
       "// Listen for the clearing of the current output cell\n",
       "var outputEl = gd.closest('.output');\n",
       "if (outputEl) {{\n",
       "    x.observe(outputEl, {childList: true});\n",
       "}}\n",
       "\n",
       "                        })                };                });            </script>        </div>"
      ]
     },
     "metadata": {},
     "output_type": "display_data"
    }
   ],
   "source": [
    "area_dataset = pd.DataFrame(dict(dataset.groupby(['area']).size()).items(), columns = ['area', 'total'])\n",
    "fig = px.bar(area_dataset, y = 'area', x = 'total')\n",
    "fig.show()"
   ]
  },
  {
   "cell_type": "code",
   "execution_count": 40,
   "id": "b48c0348-c238-4b52-b087-d226f9caf645",
   "metadata": {},
   "outputs": [
    {
     "data": {
      "application/vnd.plotly.v1+json": {
       "config": {
        "plotlyServerURL": "https://plotly.com"
       },
       "data": [
        {
         "alignmentgroup": "True",
         "bingroup": "x",
         "hovertemplate": "tempo_de_empresa=%{x}<br>count=%{y}<extra></extra>",
         "legendgroup": "",
         "marker": {
          "color": "#636efa"
         },
         "name": "",
         "offsetgroup": "",
         "orientation": "v",
         "showlegend": false,
         "type": "histogram",
         "x": [
          2.029448804012547,
          2.7763083429740076,
          3.5938822706145293,
          2.3097297236565346,
          1.7971178458355035,
          2.000536911483366,
          1.5714807692322488,
          2.8654398457343384,
          2.977216714609532,
          3.060086239681251,
          4.01736410960453,
          3.3274847084861774,
          3.4258090841824393,
          2.655218518093709,
          3.7216536831749973,
          2.5907908985279944,
          4.512013257565708,
          1.5699982354064586,
          1.8705879203201297,
          0.9898206566991119,
          2.962397699646525,
          2.16994102573343,
          2.6204629887666355,
          2.1914114397439857,
          2.247287473864135,
          2.696752005754531,
          1.702202048266945,
          2.8083398663038013,
          6.926050755918993,
          2.460024349230417,
          0.5231331324331596,
          2.7433873157025253,
          3.3367977612265323,
          3.281743132460314,
          2.00502901273859,
          2.555993770900115,
          3.532210591675868,
          3.103051303986732,
          2.031288051890306,
          4.31278503763189,
          3.8979114151957566,
          3.1305068819861495,
          2.4274762919083246,
          2.956014379906601,
          1.9890292900784627,
          2.4066784319659207,
          3.7008193564741925,
          3.3806646229585513,
          1.628044876429289,
          2.136065294432308,
          2.337841044136399,
          3.8252084810971647,
          2.372341608820851,
          1.2904959540091863,
          4.6815465179572,
          2.581518911833557,
          3.1369615747485944,
          2.8268065758555365,
          2.858119733668392,
          1.8672359988762244,
          2.9279128947589905,
          3.9856050459041,
          3.2719422381107814,
          3.8275490253136866,
          2.914722527705608,
          4.680985086289833,
          3.451810357895015,
          2.041038380439489,
          3.051459031109196,
          3.461411108200287,
          4.2860215139796765,
          2.7620548926387896,
          2.5182102721207187,
          4.627624134791305,
          3.2288224822827596,
          3.9411058164076787,
          2.5655836447074227,
          1.2363247752706408,
          1.043752081329667,
          2.4580316096177017,
          4.3948488410168265,
          3.81750972091724,
          0.8098734742570586,
          3.979234934690351,
          3.5140317884858074,
          1.449711989835511,
          3.5540815118990565,
          3.3777669668799843,
          2.5614995212667333,
          2.032060645315317,
          2.358161725367087,
          2.9853570595497816,
          4.694878643268358,
          2.657686611041001,
          2.2502229279899955,
          2.6964667793628423,
          3.1926701566725275,
          1.7110043320137103,
          3.1622105464612025,
          3.718121834855859,
          1.2666452785141478,
          3.504327802721281,
          3.4266913403427575,
          2.0026135469631092,
          2.3054317060047604,
          2.7789066352848595,
          3.2490125954000053,
          2.3999689733717173,
          2.232581637348347,
          4.720408337402382,
          2.6048912984206827,
          2.9246770946644545,
          2.316906521107576,
          2.6970987293750666,
          4.771712808890231,
          3.0992493479223877,
          4.910469101945242,
          2.149766489613442,
          2.36429815223797,
          3.55735764843027,
          2.3718873455805056,
          3.7194474445227454,
          3.4406913730712967,
          3.678859265450881,
          3.867985258723859,
          2.8192960016545223,
          2.783239840009732,
          2.775466446696065,
          5.2134907615948425,
          4.846653018197847,
          3.487018150784404,
          3.1856259258965918,
          2.6025908214981937,
          2.535377221706316,
          2.2614097544370857,
          3.1824639641849615,
          1.1399637101342064,
          5.770320479840068,
          2.3431108244821712,
          2.3880234570066037,
          3.5901969121371557,
          2.0683555832761313,
          2.2209222707844454,
          2.022888081071953,
          3.4875742657889646,
          3.798051682480308,
          1.8251273475002099,
          2.807709734819034,
          2.6566543469501047,
          2.795460214913673,
          2.602309719341363,
          3.2624328513153324,
          2.054367548713179,
          4.959801916121473,
          1.1945604272783001,
          3.454855123014639,
          1.2884926207499674,
          3.401321821460165,
          2.9039542965984566,
          3.1010293420364072,
          3.05714249523346,
          2.6485507989940573,
          -0.25507259333569454,
          3.1579310722214737,
          4.744778124104046,
          1.1089590366525552,
          3.40053033297326,
          4.272045293232379,
          1.7003985447254557,
          2.797696881218771,
          4.0505018870426195,
          3.5701738655998208,
          2.912928234962124,
          4.118689491086518,
          3.6103718639731412,
          1.3913237630332866,
          4.976697484217579,
          3.5712301550565844,
          1.3779678636319974,
          2.119777982999992,
          4.0878095787156195,
          3.896032285664241,
          2.503279800665675,
          1.7973240022978558,
          2.20605845576876,
          4.3562478084190825,
          3.5766919243303774,
          4.31520822106495,
          4.237075006292183,
          3.0199714361478143,
          1.4818533145893895,
          2.410404697753845,
          3.1868321492115768,
          3.1750000561490475,
          3.2239871589394298,
          4.218037641831359,
          3.3515403267730663,
          3.377548576186528,
          3.9404741875628693,
          3.6542048884981715,
          3.195909773151927,
          3.5740062495682845,
          5.20505603678588,
          2.3650851826134835,
          4.052213068891129,
          3.2092795041456474,
          4.011159515234748,
          3.143415023093277,
          2.245664349505039,
          2.742037907130249,
          4.288406379696518,
          3.789330244285757,
          4.7737543354455685,
          1.864289952305023,
          2.3822994615461486,
          3.3641025182167956,
          0.6334845757625782,
          4.4767240433251185,
          3.6658333890581716,
          2.5034648489516744,
          4.458662983982969,
          4.614109308670952,
          2.9059870918859407,
          3.5861904303321035,
          2.4056808471843656,
          2.72371493762454,
          2.6218411443675804,
          4.346123696765156,
          2.7818837707422426,
          2.4967367641627796,
          3.2142935040039373,
          2.648798474537287,
          2.6903111411078426,
          2.7296893509416584,
          4.128321440240356,
          4.225414396158301,
          3.111497326241996,
          2.8863851081447964,
          0.9900482513316189,
          3.6421449623623277,
          3.4434777809338564,
          3.838111338205665,
          1.954210575895507,
          4.564899671019673,
          2.068887304912464,
          3.988761862663046,
          3.7175363735226012,
          2.1359770845694297,
          3.084432312618493,
          2.5008187496176904,
          4.020224718783612,
          1.0598520749111349,
          0.7373102939492386,
          2.8701112510397246,
          3.294657434614191,
          3.6040749969774994,
          3.8566442809472496,
          3.448918813800847,
          4.445337582731446,
          1.2250370440120328,
          1.3961999441875002,
          1.5463742496172865,
          3.3754176455323193,
          1.8891934763742573,
          3.7062877249915034,
          3.6402692647723027,
          1.280404837905237,
          3.22858878665154,
          4.019924481450296,
          2.9045966057775305,
          3.0997525428902564,
          2.5267662471471843,
          3.1814094857558803,
          4.895862057602285,
          3.053670663902898,
          3.5160852180117015,
          1.9957047789300777,
          1.9988281188031383,
          0.9419863641310329,
          2.786178663978523,
          3.344083435289942,
          2.258549899007228,
          2.032506856674308,
          3.8137367740453607,
          4.516818255920452,
          5.2317356777820345,
          4.637655149972914,
          2.8030162342541387,
          0.3570834324399055,
          2.413708651764249,
          3.3245859079758335,
          2.4800735477771427,
          2.5520503666924412,
          1.7965397611087817,
          2.2868215178838875,
          2.0561830304226096,
          4.394901861934138,
          3.7447371430901004,
          3.8940587562021562,
          1.7242855616493102,
          4.763192709116018,
          3.543818241931977,
          3.3421543577560433,
          1.5027850126803324,
          3.168125795796114,
          1.1451582305148509,
          2.5729105286413527,
          3.6573446668564964,
          4.325783599332992,
          2.442498784447869,
          2.154066421206193,
          2.4173524771134898,
          2.640479397246689,
          4.233457092741255,
          3.7381841059245122,
          3.4335103797788546,
          2.301202378627258,
          5.351984542666859,
          4.099492687635497,
          3.252161218588462,
          3.881043195772284,
          2.445714493802665,
          1.8091514827989377,
          2.0642533724351453,
          2.1543189940939436,
          4.500182534236195,
          1.6057113432170607,
          3.0336171960538554,
          1.6642309962857782,
          3.050497915660435,
          3.974619865326089,
          2.249994691897411,
          3.271272573147856,
          3.240873032824187,
          1.7489142275515004,
          4.2305982766169805,
          2.626748068157725,
          3.2422051825374822,
          2.536274762293337,
          4.370620654901889,
          3.5639652790434857,
          2.146374995207434,
          2.498771575093567,
          2.3722304281965805,
          4.518343119118883,
          3.182054476047671,
          3.1635673174189605,
          2.6469704027641736,
          2.4562753825809978,
          3.4334250176935854,
          3.0114859368342595,
          3.8389978644995155,
          3.0106065353025584,
          3.850378709937626,
          3.247879765285947,
          3.6439609501314205,
          1.7132573302936716,
          2.703989401189176,
          1.9148993751495307,
          3.886380263256382,
          0.9702045949666585,
          3.7451671747329804,
          3.6506670131424754,
          2.2895776458931336,
          0.5351759171527437,
          3.1788717717868336,
          1.6494325770540896,
          2.9664100778933515,
          2.8682999321463956,
          1.7938698557556279,
          4.363412390271672,
          2.8534040248936448,
          3.255712228700003,
          3.0422587851215166,
          3.0097276239850186,
          3.321413490202366,
          2.023278792005159,
          3.261388495452026,
          2.060249276296857,
          4.168486630403489,
          3.9869787218717416,
          1.725245710797566,
          2.849076924893447,
          1.7994793397559021,
          2.959488094606695,
          4.019817199388303,
          2.452346253762518,
          3.97655179294935,
          2.9509118956829994,
          2.275995699139178,
          3.6199946845676787,
          1.097318796654571,
          3.2366342921439326,
          3.4575932190490817,
          3.659987450590165,
          2.4521217318449953,
          3.660191778553499,
          3.94709446996875,
          5.54927898317,
          1.5911555230322034,
          3.3601529024474672,
          2.0843875775124605,
          2.1496548241798754,
          3.277189581636743,
          4.793357670710121,
          2.855311144921841,
          3.3387850912467347,
          2.1209430702268506,
          3.663042789053793,
          2.323223976574891,
          2.882069748878913,
          3.9250775178623147,
          2.7985858716051593,
          3.1179578558226786,
          3.6556081280219304,
          4.9667533555263725,
          1.5896540905102288,
          2.535364165779104,
          3.644903774108692,
          5.519505432846482,
          2.4129297564075225,
          2.9509762485401736,
          1.6608873362178311,
          3.4005041884813823,
          3.89007447214635,
          4.554758771422024,
          2.183147921164808,
          2.7236267805338232,
          3.900979079813639,
          3.608295721017984,
          2.68458034529932,
          4.726730793771862,
          2.7384182021858416,
          2.2899832680330645,
          5.027394186903683,
          2.098149389598869,
          2.9695214405824952,
          2.924526280349744,
          0.5698910408692708,
          1.6859636036154122,
          3.799280231196471,
          2.6949998353987743,
          2.813515549286154,
          2.8852727987972284,
          2.401994732300337,
          2.218663926644512,
          3.071280914271105,
          5.269041940513879,
          2.209222572797165,
          0.3808409676988056,
          2.888062525343137,
          2.7047369731361055,
          1.775500691420128,
          3.1194269439481945,
          3.0949328743355062,
          3.2596494111645193,
          3.359711223601037,
          3.1154382841735684,
          4.104046929193413,
          3.2416245753452544,
          3.5890979045794116,
          2.3792799542436276,
          3.3270136507792416,
          1.6634632641884073,
          4.355544508116049,
          3.3326561644350234,
          3.280795989961808,
          4.148472892125099,
          4.175390096197902,
          2.522793409537033,
          4.022188442056959,
          3.9935628626580124,
          5.1270050928166615,
          3.4106674572699966,
          3.614986058691245,
          3.167325354692407,
          3.1406198374815064,
          3.006096336523021,
          3.3417280856684104,
          3.031807062636511,
          4.829818687356093,
          1.3081617590887848,
          3.4308764620050196,
          3.6319057871340563,
          1.3901267031802482,
          1.5642191694538459,
          2.2634627081268253,
          3.288906466368574,
          3.2506906941004114,
          4.055357484244206,
          3.7597239310042267,
          2.117446306378184,
          4.162288705239209,
          3.7307467836036197,
          3.451733089296654,
          3.981525287373998,
          2.72041935848506,
          4.261799992586111,
          3.5103632486853367,
          1.3490879347818379,
          4.3761178430666305,
          2.2868249221381776,
          1.0612040240525935,
          3.023757902929985,
          3.4026589548974133,
          2.8053804917852694,
          3.8950770305104436,
          3.099554248541625,
          3.031060851568631,
          4.513919530349744,
          1.718876884693242,
          3.6095256170028804,
          4.265607117407786,
          3.4188805505446327,
          2.0548705670651044,
          2.783249310006075,
          2.8154868942349363,
          2.1074297494954086,
          3.038158200358489,
          2.2712588562185196,
          2.2274645957434287,
          3.2139784615346434,
          3.16618426090876,
          3.0003304827595447,
          3.0437300543728174,
          3.1277869419932114,
          2.0422092568584227,
          3.8504282308636784,
          5.295041423698121,
          -0.751008877656377,
          2.4655179930225137,
          1.4831516022249405,
          2.5255986713640555,
          3.3996909330740723,
          3.1694998408644843,
          3.5147189340563476,
          2.7272176909442325,
          3.87210894887758,
          2.2228689311768095,
          2.4870704522171323,
          2.8319477789372747,
          3.617066452149038,
          4.783301060842369,
          3.2207436162128626,
          4.9161098411540936,
          3.15631152485222,
          2.702652791570944,
          2.815100671438095,
          4.2385726025814545,
          3.723036111588214,
          1.966449431796277,
          1.7561464995468583,
          3.0030282587078747,
          2.9812098552089656,
          1.7927889796947283,
          2.92173907803869,
          4.368141455135684,
          2.7048312390785627,
          2.74390143676557,
          4.2501433034886285,
          3.437751621571385,
          2.279146285395664,
          2.171176317843542,
          4.1973611008259395,
          4.087779467304671,
          3.182403670633064,
          1.3135767517432169,
          2.6425314475138975,
          2.236144145466458,
          4.040423976676913,
          2.6170945743137515,
          4.486572217358228,
          2.191674414282406,
          3.0068617399082695,
          2.794310140719858,
          2.185430133985686,
          3.058633049098698,
          0.500035120204656,
          2.444345974361846,
          2.2085296850987435,
          4.359833591501246,
          2.6790231906158732,
          1.9573814146342687,
          3.4584480891874496,
          4.359137069669368,
          4.510245216732013,
          3.5860063025454805,
          2.538053534396981,
          2.2267148321583417,
          3.634481387880319,
          2.010340413442763,
          1.2441151968521054,
          2.3277292323393364,
          2.5526297366113586,
          4.313099570184219,
          5.196435171488362,
          3.267923597482863,
          1.5733032971199574,
          2.975097039087443,
          2.6342619096767863,
          3.0141125629719836,
          4.954551707281794,
          1.0022717259369018,
          4.925571669380752,
          2.97299101591958,
          3.4777891616259016,
          3.0336877677272502,
          2.535240338201873,
          3.5887891048460396,
          2.4616840939184224,
          1.721243594362793,
          4.666212470240985,
          2.516922532856853,
          2.3058233027328368,
          3.977185209295079,
          3.108513696278906,
          3.1883492129301843,
          1.9221339047626105,
          3.050986260969497,
          2.633080800773112,
          2.7742522718291656,
          3.6845278576649108,
          2.153071052407485,
          2.4841147289732826,
          4.827415012914718,
          4.064513955787007,
          3.798202227790353,
          3.5271198471847516,
          3.794871857683786,
          1.863917547290684,
          3.2089271341821544,
          3.746988631408723,
          1.810255117989394,
          2.6850497795919983,
          4.385196139168434,
          3.156423872057156,
          1.9633275328619657,
          3.9973250893275467,
          3.6377595503573366,
          4.380281843445203,
          4.225574823409787,
          0.6317864379771843,
          1.8458144122950577,
          3.1637006215988404,
          3.4694713756193427,
          1.860225262250015,
          3.6489425225127112,
          2.4352941423589285,
          2.6842630461616936,
          1.9423485891354253,
          2.8276636713169414,
          2.8384385694305285,
          3.4887489407577013,
          1.3122239214957032,
          1.7621965033699534,
          2.467872023668241,
          2.959250221333639,
          1.580313647152408,
          4.3288378726899275,
          3.690200503860674,
          3.282921064039741,
          4.242906437258486,
          2.29013552251394,
          3.803417782890923,
          3.7206663177524364,
          4.227939610481876,
          1.5152623666782568,
          3.2216045769930988,
          3.6004118973503374,
          2.457351307618839,
          2.7734759447941117,
          5.127404950339141,
          3.9612678552954246,
          3.634714623304971,
          5.038304225692011,
          3.576928327457404,
          4.225302099168979,
          1.5733880012155048,
          3.738023863938378,
          4.309517062554051,
          3.367639352665208,
          3.0080312770948865,
          2.7339203063931388,
          5.2965394606707275,
          6.304257737366461,
          3.105798230364686,
          2.411872619765841,
          3.719391936561994,
          2.2334459731261136,
          2.4465145627880855,
          3.8448787422085484,
          2.3106523127898555,
          1.7021962561073225,
          1.7979993370199723,
          2.692650332482533,
          1.8002457054379708,
          3.178683800337279,
          3.3265467341534274,
          3.0142063022859564,
          4.7752233704466525,
          2.4850814229395426,
          2.814553273659577,
          2.9713668344042508,
          2.83598282207703,
          1.8943598417652991,
          2.733466036429921,
          4.577179563142861,
          4.037578613295599,
          2.202126373232622,
          2.832724156752489,
          3.75150809642402,
          2.0352945656199637,
          2.5745150779630768,
          2.627149428346033,
          2.406577132534723,
          3.0002436562924815,
          4.275141979167322,
          3.672899732609226,
          3.382839517483875,
          2.7773972341722675,
          3.220674504301808,
          2.007658200212611,
          2.1761706099009848,
          2.82640143512171,
          1.984864312703939,
          2.6993065785751678,
          3.8289549524617006,
          1.9797400093016468,
          2.8927801515024893,
          2.2871573904253317,
          4.330746778950599,
          2.538589596060623,
          2.3900303371184393,
          2.132690613806139,
          4.571413302879119,
          2.892788407008393,
          1.4062093965831606,
          2.8388232425233997,
          1.7724537165341216,
          3.141224576147221,
          1.430217665918584,
          4.3770426211502365,
          2.8079008699575483,
          1.8142801656816585,
          5.9664795872302845,
          1.91913912527126,
          1.3796462864104246,
          4.257454068857196,
          2.944713965100489,
          2.4751767585214015,
          0.6655699668108288,
          0.20707820529807908,
          2.6400894311814014,
          2.256551049236353,
          1.2242764706203093,
          4.309560822595161,
          3.5724038964825446,
          1.3942618573416319,
          3.289377587507132,
          2.5408485439291866,
          0.33122961406449836,
          3.7207121369013674,
          3.6000059157450863,
          2.639046417418693,
          4.2953961785480805,
          1.932840680489684,
          1.894675553059362,
          2.0929228893964407,
          2.2716704346811007,
          3.800322982331624,
          2.082516071834827,
          1.9144628466215952,
          3.910905529918844,
          0.9848798392060041,
          1.4846997552421213,
          2.2615512655376935,
          2.4695010902299925,
          3.6150566784995415,
          3.329315847433482,
          2.2335558556582518,
          4.0057392361828486,
          2.049171763746622,
          2.635544998364337,
          4.551202835816213,
          3.446027899275388,
          2.368663289756552,
          3.2519894922994697,
          2.978108868160251,
          4.681441740266896,
          2.6996223382830586,
          2.375268885728098,
          1.5815117760499169,
          4.348379306490816,
          -0.42921739757824806,
          3.4743746121460095,
          2.1866205463510124,
          4.333946815217898,
          2.952044729421381,
          4.968937720279054,
          2.2206077377332862,
          2.0348939994357944,
          3.422165825023626,
          4.098651414344267,
          3.8759233032592464,
          2.254321540112497,
          3.2102910969102894,
          3.4396215216957766,
          3.7840192275601656,
          2.4009512290231747,
          3.668017710864004,
          3.16406628385746,
          2.230857222803737,
          3.1318224132609447,
          2.2252933826838417,
          1.4101684876996397,
          0.8091055500990803,
          2.6287425337651973,
          2.6004688494994808,
          1.9781721617943933,
          3.6365864045971747,
          2.560506449056355,
          3.0892322567069637,
          1.9803175424564095,
          3.2659305359853086,
          2.4364891397797974,
          2.7449815820343177,
          3.5827978453478435,
          4.031386646317305,
          1.859102784433486,
          4.154308552985876,
          2.4745307612019682,
          2.7245107949429825,
          4.094609578643684,
          2.8669353380123033,
          2.772309585674908,
          2.187834138473752,
          2.9375448330245613,
          1.970209740471059,
          3.667612048614023,
          1.5473528580234759,
          1.9209290499891125,
          2.6424255001982813,
          2.5931926335962507,
          2.8277569952366566,
          3.854476211416901,
          2.4756855959563566,
          2.430401413193098,
          2.08247023482157,
          3.557249141515362,
          0.27114064079799505,
          3.8891338540142293,
          3.286336660315186,
          1.5762186640353464,
          2.1788016055914774,
          1.3066746918317758,
          4.72083044321913,
          1.3856831167938752,
          1.6612068930140391,
          5.911083270308316,
          4.118796415881105,
          4.134000799877991,
          1.8585289844867179,
          2.874069072923781,
          0.9785054928822738,
          3.3872055095822633,
          2.9667229847523005,
          3.4309223135067257,
          1.2179862583259733,
          2.659197987685516,
          3.1050125026529853,
          2.4316689756368506,
          3.5398877578326484,
          5.024927788631965,
          3.3257634085117433,
          1.7655941622686087,
          1.4150964510174193,
          2.393685175777231,
          3.4416044597582536,
          2.9686435800529316,
          1.413807169363386,
          2.230313544822402,
          4.542753392636751,
          2.9977275799561443,
          5.169586543362573,
          1.4927229931391048,
          1.8399230300021214,
          1.992864139284881,
          5.610218248980697,
          2.3325850504193992,
          2.7880128847233197,
          1.542560372974332,
          0.8921625979521286,
          3.4271227357293874,
          2.596513932407708,
          3.8445436565953353,
          4.510877046798759,
          2.812869421822004,
          3.773316931199731,
          3.091539815988612,
          3.0068784857096493,
          3.1678925544186702,
          2.522339684480449,
          3.653232718754624,
          3.6171146200942634,
          1.2128757498027296,
          2.841076066249056,
          2.7333619614190265,
          2.084452389193649,
          3.8124921307556665,
          2.6122829556281815,
          3.063480948991442,
          3.749730250188472,
          3.7925876819516575,
          3.052266850726205,
          3.840021824725955,
          4.712478400485069,
          5.29621360422278,
          3.0561401451453345,
          2.8019674332535,
          1.7646732337481317,
          3.6402065489017614,
          4.238560830997116,
          2.72204412621799,
          3.4902090169228064,
          2.6388470237431543,
          3.238935804810092,
          2.1057544384442504,
          2.4818065482067775,
          3.5375608486169274,
          3.4860741740944983,
          2.8297197622805017,
          3.9438536849404207,
          2.8753920341623194,
          2.7206422241976265,
          3.5857243213276786,
          2.8017826290398893,
          4.231215426134971,
          2.8533259721540274,
          2.9643873429985295,
          3.8600156208050156,
          4.253340202509042,
          4.568997215746134,
          3.77740353280065,
          3.1387114146275494,
          2.744394564796282,
          3.7223104490035652,
          3.1859477746229525,
          3.1083191102725216,
          2.735869849813989,
          3.2215800692319965,
          4.064012425818846,
          3.1229311820777794,
          3.73320144542481,
          2.2041924914919875,
          3.253031667821708,
          2.0308233112038803,
          2.6794661507357582,
          2.7129684114608255,
          2.1351433029582805,
          1.8771368670794502,
          3.6487928359142154,
          2.1469175246347394,
          2.568917329061462,
          3.584934772390736,
          1.7319342543059733,
          3.5175785644771254,
          2.231920270229325,
          2.466907972992508,
          1.3461937287998007,
          2.987309629769808,
          2.0263565368012415,
          3.8572372925095704,
          1.1004239698546323,
          1.6275074946331203,
          1.5639931892852816,
          3.1740755108455105,
          2.251169830046459,
          2.855240535258205,
          4.758721522604065,
          2.460924574678304,
          3.0872788578380033,
          0.7221761082441489,
          4.170011666071226,
          2.9363449329830096,
          2.6475862320016823,
          3.6666383640869262,
          4.515695184368736,
          2.6494745656390792,
          2.56002962028996,
          3.5629874473946375,
          0.1311920932257653,
          3.2277275422509097,
          2.8812976877650947,
          2.0394315271601196,
          2.9302467580108873,
          3.266193212576045,
          2.052985058125415,
          3.615781996473462
         ],
         "xaxis": "x",
         "yaxis": "y"
        }
       ],
       "layout": {
        "autosize": true,
        "barmode": "relative",
        "legend": {
         "tracegroupgap": 0
        },
        "margin": {
         "t": 60
        },
        "template": {
         "data": {
          "bar": [
           {
            "error_x": {
             "color": "#2a3f5f"
            },
            "error_y": {
             "color": "#2a3f5f"
            },
            "marker": {
             "line": {
              "color": "#E5ECF6",
              "width": 0.5
             }
            },
            "type": "bar"
           }
          ],
          "barpolar": [
           {
            "marker": {
             "line": {
              "color": "#E5ECF6",
              "width": 0.5
             }
            },
            "type": "barpolar"
           }
          ],
          "carpet": [
           {
            "aaxis": {
             "endlinecolor": "#2a3f5f",
             "gridcolor": "white",
             "linecolor": "white",
             "minorgridcolor": "white",
             "startlinecolor": "#2a3f5f"
            },
            "baxis": {
             "endlinecolor": "#2a3f5f",
             "gridcolor": "white",
             "linecolor": "white",
             "minorgridcolor": "white",
             "startlinecolor": "#2a3f5f"
            },
            "type": "carpet"
           }
          ],
          "choropleth": [
           {
            "colorbar": {
             "outlinewidth": 0,
             "ticks": ""
            },
            "type": "choropleth"
           }
          ],
          "contour": [
           {
            "colorbar": {
             "outlinewidth": 0,
             "ticks": ""
            },
            "colorscale": [
             [
              0,
              "#0d0887"
             ],
             [
              0.1111111111111111,
              "#46039f"
             ],
             [
              0.2222222222222222,
              "#7201a8"
             ],
             [
              0.3333333333333333,
              "#9c179e"
             ],
             [
              0.4444444444444444,
              "#bd3786"
             ],
             [
              0.5555555555555556,
              "#d8576b"
             ],
             [
              0.6666666666666666,
              "#ed7953"
             ],
             [
              0.7777777777777778,
              "#fb9f3a"
             ],
             [
              0.8888888888888888,
              "#fdca26"
             ],
             [
              1,
              "#f0f921"
             ]
            ],
            "type": "contour"
           }
          ],
          "contourcarpet": [
           {
            "colorbar": {
             "outlinewidth": 0,
             "ticks": ""
            },
            "type": "contourcarpet"
           }
          ],
          "heatmap": [
           {
            "colorbar": {
             "outlinewidth": 0,
             "ticks": ""
            },
            "colorscale": [
             [
              0,
              "#0d0887"
             ],
             [
              0.1111111111111111,
              "#46039f"
             ],
             [
              0.2222222222222222,
              "#7201a8"
             ],
             [
              0.3333333333333333,
              "#9c179e"
             ],
             [
              0.4444444444444444,
              "#bd3786"
             ],
             [
              0.5555555555555556,
              "#d8576b"
             ],
             [
              0.6666666666666666,
              "#ed7953"
             ],
             [
              0.7777777777777778,
              "#fb9f3a"
             ],
             [
              0.8888888888888888,
              "#fdca26"
             ],
             [
              1,
              "#f0f921"
             ]
            ],
            "type": "heatmap"
           }
          ],
          "heatmapgl": [
           {
            "colorbar": {
             "outlinewidth": 0,
             "ticks": ""
            },
            "colorscale": [
             [
              0,
              "#0d0887"
             ],
             [
              0.1111111111111111,
              "#46039f"
             ],
             [
              0.2222222222222222,
              "#7201a8"
             ],
             [
              0.3333333333333333,
              "#9c179e"
             ],
             [
              0.4444444444444444,
              "#bd3786"
             ],
             [
              0.5555555555555556,
              "#d8576b"
             ],
             [
              0.6666666666666666,
              "#ed7953"
             ],
             [
              0.7777777777777778,
              "#fb9f3a"
             ],
             [
              0.8888888888888888,
              "#fdca26"
             ],
             [
              1,
              "#f0f921"
             ]
            ],
            "type": "heatmapgl"
           }
          ],
          "histogram": [
           {
            "marker": {
             "colorbar": {
              "outlinewidth": 0,
              "ticks": ""
             }
            },
            "type": "histogram"
           }
          ],
          "histogram2d": [
           {
            "colorbar": {
             "outlinewidth": 0,
             "ticks": ""
            },
            "colorscale": [
             [
              0,
              "#0d0887"
             ],
             [
              0.1111111111111111,
              "#46039f"
             ],
             [
              0.2222222222222222,
              "#7201a8"
             ],
             [
              0.3333333333333333,
              "#9c179e"
             ],
             [
              0.4444444444444444,
              "#bd3786"
             ],
             [
              0.5555555555555556,
              "#d8576b"
             ],
             [
              0.6666666666666666,
              "#ed7953"
             ],
             [
              0.7777777777777778,
              "#fb9f3a"
             ],
             [
              0.8888888888888888,
              "#fdca26"
             ],
             [
              1,
              "#f0f921"
             ]
            ],
            "type": "histogram2d"
           }
          ],
          "histogram2dcontour": [
           {
            "colorbar": {
             "outlinewidth": 0,
             "ticks": ""
            },
            "colorscale": [
             [
              0,
              "#0d0887"
             ],
             [
              0.1111111111111111,
              "#46039f"
             ],
             [
              0.2222222222222222,
              "#7201a8"
             ],
             [
              0.3333333333333333,
              "#9c179e"
             ],
             [
              0.4444444444444444,
              "#bd3786"
             ],
             [
              0.5555555555555556,
              "#d8576b"
             ],
             [
              0.6666666666666666,
              "#ed7953"
             ],
             [
              0.7777777777777778,
              "#fb9f3a"
             ],
             [
              0.8888888888888888,
              "#fdca26"
             ],
             [
              1,
              "#f0f921"
             ]
            ],
            "type": "histogram2dcontour"
           }
          ],
          "mesh3d": [
           {
            "colorbar": {
             "outlinewidth": 0,
             "ticks": ""
            },
            "type": "mesh3d"
           }
          ],
          "parcoords": [
           {
            "line": {
             "colorbar": {
              "outlinewidth": 0,
              "ticks": ""
             }
            },
            "type": "parcoords"
           }
          ],
          "pie": [
           {
            "automargin": true,
            "type": "pie"
           }
          ],
          "scatter": [
           {
            "marker": {
             "colorbar": {
              "outlinewidth": 0,
              "ticks": ""
             }
            },
            "type": "scatter"
           }
          ],
          "scatter3d": [
           {
            "line": {
             "colorbar": {
              "outlinewidth": 0,
              "ticks": ""
             }
            },
            "marker": {
             "colorbar": {
              "outlinewidth": 0,
              "ticks": ""
             }
            },
            "type": "scatter3d"
           }
          ],
          "scattercarpet": [
           {
            "marker": {
             "colorbar": {
              "outlinewidth": 0,
              "ticks": ""
             }
            },
            "type": "scattercarpet"
           }
          ],
          "scattergeo": [
           {
            "marker": {
             "colorbar": {
              "outlinewidth": 0,
              "ticks": ""
             }
            },
            "type": "scattergeo"
           }
          ],
          "scattergl": [
           {
            "marker": {
             "colorbar": {
              "outlinewidth": 0,
              "ticks": ""
             }
            },
            "type": "scattergl"
           }
          ],
          "scattermapbox": [
           {
            "marker": {
             "colorbar": {
              "outlinewidth": 0,
              "ticks": ""
             }
            },
            "type": "scattermapbox"
           }
          ],
          "scatterpolar": [
           {
            "marker": {
             "colorbar": {
              "outlinewidth": 0,
              "ticks": ""
             }
            },
            "type": "scatterpolar"
           }
          ],
          "scatterpolargl": [
           {
            "marker": {
             "colorbar": {
              "outlinewidth": 0,
              "ticks": ""
             }
            },
            "type": "scatterpolargl"
           }
          ],
          "scatterternary": [
           {
            "marker": {
             "colorbar": {
              "outlinewidth": 0,
              "ticks": ""
             }
            },
            "type": "scatterternary"
           }
          ],
          "surface": [
           {
            "colorbar": {
             "outlinewidth": 0,
             "ticks": ""
            },
            "colorscale": [
             [
              0,
              "#0d0887"
             ],
             [
              0.1111111111111111,
              "#46039f"
             ],
             [
              0.2222222222222222,
              "#7201a8"
             ],
             [
              0.3333333333333333,
              "#9c179e"
             ],
             [
              0.4444444444444444,
              "#bd3786"
             ],
             [
              0.5555555555555556,
              "#d8576b"
             ],
             [
              0.6666666666666666,
              "#ed7953"
             ],
             [
              0.7777777777777778,
              "#fb9f3a"
             ],
             [
              0.8888888888888888,
              "#fdca26"
             ],
             [
              1,
              "#f0f921"
             ]
            ],
            "type": "surface"
           }
          ],
          "table": [
           {
            "cells": {
             "fill": {
              "color": "#EBF0F8"
             },
             "line": {
              "color": "white"
             }
            },
            "header": {
             "fill": {
              "color": "#C8D4E3"
             },
             "line": {
              "color": "white"
             }
            },
            "type": "table"
           }
          ]
         },
         "layout": {
          "annotationdefaults": {
           "arrowcolor": "#2a3f5f",
           "arrowhead": 0,
           "arrowwidth": 1
          },
          "autotypenumbers": "strict",
          "coloraxis": {
           "colorbar": {
            "outlinewidth": 0,
            "ticks": ""
           }
          },
          "colorscale": {
           "diverging": [
            [
             0,
             "#8e0152"
            ],
            [
             0.1,
             "#c51b7d"
            ],
            [
             0.2,
             "#de77ae"
            ],
            [
             0.3,
             "#f1b6da"
            ],
            [
             0.4,
             "#fde0ef"
            ],
            [
             0.5,
             "#f7f7f7"
            ],
            [
             0.6,
             "#e6f5d0"
            ],
            [
             0.7,
             "#b8e186"
            ],
            [
             0.8,
             "#7fbc41"
            ],
            [
             0.9,
             "#4d9221"
            ],
            [
             1,
             "#276419"
            ]
           ],
           "sequential": [
            [
             0,
             "#0d0887"
            ],
            [
             0.1111111111111111,
             "#46039f"
            ],
            [
             0.2222222222222222,
             "#7201a8"
            ],
            [
             0.3333333333333333,
             "#9c179e"
            ],
            [
             0.4444444444444444,
             "#bd3786"
            ],
            [
             0.5555555555555556,
             "#d8576b"
            ],
            [
             0.6666666666666666,
             "#ed7953"
            ],
            [
             0.7777777777777778,
             "#fb9f3a"
            ],
            [
             0.8888888888888888,
             "#fdca26"
            ],
            [
             1,
             "#f0f921"
            ]
           ],
           "sequentialminus": [
            [
             0,
             "#0d0887"
            ],
            [
             0.1111111111111111,
             "#46039f"
            ],
            [
             0.2222222222222222,
             "#7201a8"
            ],
            [
             0.3333333333333333,
             "#9c179e"
            ],
            [
             0.4444444444444444,
             "#bd3786"
            ],
            [
             0.5555555555555556,
             "#d8576b"
            ],
            [
             0.6666666666666666,
             "#ed7953"
            ],
            [
             0.7777777777777778,
             "#fb9f3a"
            ],
            [
             0.8888888888888888,
             "#fdca26"
            ],
            [
             1,
             "#f0f921"
            ]
           ]
          },
          "colorway": [
           "#636efa",
           "#EF553B",
           "#00cc96",
           "#ab63fa",
           "#FFA15A",
           "#19d3f3",
           "#FF6692",
           "#B6E880",
           "#FF97FF",
           "#FECB52"
          ],
          "font": {
           "color": "#2a3f5f"
          },
          "geo": {
           "bgcolor": "white",
           "lakecolor": "white",
           "landcolor": "#E5ECF6",
           "showlakes": true,
           "showland": true,
           "subunitcolor": "white"
          },
          "hoverlabel": {
           "align": "left"
          },
          "hovermode": "closest",
          "mapbox": {
           "style": "light"
          },
          "paper_bgcolor": "white",
          "plot_bgcolor": "#E5ECF6",
          "polar": {
           "angularaxis": {
            "gridcolor": "white",
            "linecolor": "white",
            "ticks": ""
           },
           "bgcolor": "#E5ECF6",
           "radialaxis": {
            "gridcolor": "white",
            "linecolor": "white",
            "ticks": ""
           }
          },
          "scene": {
           "xaxis": {
            "backgroundcolor": "#E5ECF6",
            "gridcolor": "white",
            "gridwidth": 2,
            "linecolor": "white",
            "showbackground": true,
            "ticks": "",
            "zerolinecolor": "white"
           },
           "yaxis": {
            "backgroundcolor": "#E5ECF6",
            "gridcolor": "white",
            "gridwidth": 2,
            "linecolor": "white",
            "showbackground": true,
            "ticks": "",
            "zerolinecolor": "white"
           },
           "zaxis": {
            "backgroundcolor": "#E5ECF6",
            "gridcolor": "white",
            "gridwidth": 2,
            "linecolor": "white",
            "showbackground": true,
            "ticks": "",
            "zerolinecolor": "white"
           }
          },
          "shapedefaults": {
           "line": {
            "color": "#2a3f5f"
           }
          },
          "ternary": {
           "aaxis": {
            "gridcolor": "white",
            "linecolor": "white",
            "ticks": ""
           },
           "baxis": {
            "gridcolor": "white",
            "linecolor": "white",
            "ticks": ""
           },
           "bgcolor": "#E5ECF6",
           "caxis": {
            "gridcolor": "white",
            "linecolor": "white",
            "ticks": ""
           }
          },
          "title": {
           "x": 0.05
          },
          "xaxis": {
           "automargin": true,
           "gridcolor": "white",
           "linecolor": "white",
           "ticks": "",
           "title": {
            "standoff": 15
           },
           "zerolinecolor": "white",
           "zerolinewidth": 2
          },
          "yaxis": {
           "automargin": true,
           "gridcolor": "white",
           "linecolor": "white",
           "ticks": "",
           "title": {
            "standoff": 15
           },
           "zerolinecolor": "white",
           "zerolinewidth": 2
          }
         }
        },
        "xaxis": {
         "anchor": "y",
         "autorange": true,
         "domain": [
          0,
          1
         ],
         "range": [
          -0.7999999999999996,
          7
         ],
         "title": {
          "text": "tempo_de_empresa"
         },
         "type": "linear"
        },
        "yaxis": {
         "anchor": "x",
         "autorange": true,
         "domain": [
          0,
          1
         ],
         "range": [
          0,
          89.47368421052632
         ],
         "title": {
          "text": "count"
         }
        }
       }
      },
      "image/png": "[encoded data removed]",
      "text/html": [
       "<div>                            <div id=\"9b2d4733-c59d-495e-ae3b-0f3be80de801\" class=\"plotly-graph-div\" style=\"height:525px; width:100%;\"></div>            <script type=\"text/javascript\">                require([\"plotly\"], function(Plotly) {                    window.PLOTLYENV=window.PLOTLYENV || {};                                    if (document.getElementById(\"9b2d4733-c59d-495e-ae3b-0f3be80de801\")) {                    Plotly.newPlot(                        \"9b2d4733-c59d-495e-ae3b-0f3be80de801\",                        [{\"alignmentgroup\": \"True\", \"bingroup\": \"x\", \"hovertemplate\": \"tempo_de_empresa=%{x}<br>count=%{y}<extra></extra>\", \"legendgroup\": \"\", \"marker\": {\"color\": \"#636efa\"}, \"name\": \"\", \"offsetgroup\": \"\", \"orientation\": \"v\", \"showlegend\": false, \"type\": \"histogram\", \"x\": [2.029448804012547, 2.7763083429740076, 3.5938822706145293, 2.3097297236565346, 1.7971178458355035, 2.000536911483366, 1.5714807692322488, 2.8654398457343384, 2.977216714609532, 3.060086239681251, 4.01736410960453, 3.3274847084861774, 3.4258090841824393, 2.655218518093709, 3.7216536831749973, 2.5907908985279944, 4.512013257565708, 1.5699982354064586, 1.8705879203201297, 0.9898206566991119, 2.962397699646525, 2.16994102573343, 2.6204629887666355, 2.1914114397439857, 2.247287473864135, 2.696752005754531, 1.702202048266945, 2.8083398663038013, 6.926050755918993, 2.460024349230417, 0.5231331324331596, 2.7433873157025253, 3.3367977612265323, 3.281743132460314, 2.00502901273859, 2.555993770900115, 3.532210591675868, 3.103051303986732, 2.031288051890306, 4.31278503763189, 3.8979114151957566, 3.1305068819861495, 2.4274762919083246, 2.956014379906601, 1.9890292900784627, 2.4066784319659207, 3.7008193564741925, 3.3806646229585513, 1.628044876429289, 2.136065294432308, 2.337841044136399, 3.8252084810971647, 2.372341608820851, 1.2904959540091863, 4.6815465179572, 2.581518911833557, 3.1369615747485944, 2.8268065758555365, 2.858119733668392, 1.8672359988762244, 2.9279128947589905, 3.9856050459041, 3.2719422381107814, 3.8275490253136866, 2.914722527705608, 4.680985086289833, 3.451810357895015, 2.041038380439489, 3.051459031109196, 3.461411108200287, 4.2860215139796765, 2.7620548926387896, 2.5182102721207187, 4.627624134791305, 3.2288224822827596, 3.9411058164076787, 2.5655836447074227, 1.2363247752706408, 1.043752081329667, 2.4580316096177017, 4.3948488410168265, 3.81750972091724, 0.8098734742570586, 3.979234934690351, 3.5140317884858074, 1.449711989835511, 3.5540815118990565, 3.3777669668799843, 2.5614995212667333, 2.032060645315317, 2.358161725367087, 2.9853570595497816, 4.694878643268358, 2.657686611041001, 2.2502229279899955, 2.6964667793628423, 3.1926701566725275, 1.7110043320137103, 3.1622105464612025, 3.718121834855859, 1.2666452785141478, 3.504327802721281, 3.4266913403427575, 2.0026135469631092, 2.3054317060047604, 2.7789066352848595, 3.2490125954000053, 2.3999689733717173, 2.232581637348347, 4.720408337402382, 2.6048912984206827, 2.9246770946644545, 2.316906521107576, 2.6970987293750666, 4.771712808890231, 3.0992493479223877, 4.910469101945242, 2.149766489613442, 2.36429815223797, 3.55735764843027, 2.3718873455805056, 3.7194474445227454, 3.4406913730712967, 3.678859265450881, 3.867985258723859, 2.8192960016545223, 2.783239840009732, 2.775466446696065, 5.2134907615948425, 4.846653018197847, 3.487018150784404, 3.1856259258965918, 2.6025908214981937, 2.535377221706316, 2.2614097544370857, 3.1824639641849615, 1.1399637101342064, 5.770320479840068, 2.3431108244821712, 2.3880234570066037, 3.5901969121371557, 2.0683555832761313, 2.2209222707844454, 2.022888081071953, 3.4875742657889646, 3.798051682480308, 1.8251273475002099, 2.807709734819034, 2.6566543469501047, 2.795460214913673, 2.602309719341363, 3.2624328513153324, 2.054367548713179, 4.959801916121473, 1.1945604272783001, 3.454855123014639, 1.2884926207499674, 3.401321821460165, 2.9039542965984566, 3.1010293420364072, 3.05714249523346, 2.6485507989940573, -0.25507259333569454, 3.1579310722214737, 4.744778124104046, 1.1089590366525552, 3.40053033297326, 4.272045293232379, 1.7003985447254557, 2.797696881218771, 4.0505018870426195, 3.5701738655998208, 2.912928234962124, 4.118689491086518, 3.6103718639731412, 1.3913237630332866, 4.976697484217579, 3.5712301550565844, 1.3779678636319974, 2.119777982999992, 4.0878095787156195, 3.896032285664241, 2.503279800665675, 1.7973240022978558, 2.20605845576876, 4.3562478084190825, 3.5766919243303774, 4.31520822106495, 4.237075006292183, 3.0199714361478143, 1.4818533145893895, 2.410404697753845, 3.1868321492115768, 3.1750000561490475, 3.2239871589394298, 4.218037641831359, 3.3515403267730663, 3.377548576186528, 3.9404741875628693, 3.6542048884981715, 3.195909773151927, 3.5740062495682845, 5.20505603678588, 2.3650851826134835, 4.052213068891129, 3.2092795041456474, 4.011159515234748, 3.143415023093277, 2.245664349505039, 2.742037907130249, 4.288406379696518, 3.789330244285757, 4.7737543354455685, 1.864289952305023, 2.3822994615461486, 3.3641025182167956, 0.6334845757625782, 4.4767240433251185, 3.6658333890581716, 2.5034648489516744, 4.458662983982969, 4.614109308670952, 2.9059870918859407, 3.5861904303321035, 2.4056808471843656, 2.72371493762454, 2.6218411443675804, 4.346123696765156, 2.7818837707422426, 2.4967367641627796, 3.2142935040039373, 2.648798474537287, 2.6903111411078426, 2.7296893509416584, 4.128321440240356, 4.225414396158301, 3.111497326241996, 2.8863851081447964, 0.9900482513316189, 3.6421449623623277, 3.4434777809338564, 3.838111338205665, 1.954210575895507, 4.564899671019673, 2.068887304912464, 3.988761862663046, 3.7175363735226012, 2.1359770845694297, 3.084432312618493, 2.5008187496176904, 4.020224718783612, 1.0598520749111349, 0.7373102939492386, 2.8701112510397246, 3.294657434614191, 3.6040749969774994, 3.8566442809472496, 3.448918813800847, 4.445337582731446, 1.2250370440120328, 1.3961999441875002, 1.5463742496172865, 3.3754176455323193, 1.8891934763742573, 3.7062877249915034, 3.6402692647723027, 1.280404837905237, 3.22858878665154, 4.019924481450296, 2.9045966057775305, 3.0997525428902564, 2.5267662471471843, 3.1814094857558803, 4.895862057602285, 3.053670663902898, 3.5160852180117015, 1.9957047789300777, 1.9988281188031383, 0.9419863641310329, 2.786178663978523, 3.344083435289942, 2.258549899007228, 2.032506856674308, 3.8137367740453607, 4.516818255920452, 5.2317356777820345, 4.637655149972914, 2.8030162342541387, 0.3570834324399055, 2.413708651764249, 3.3245859079758335, 2.4800735477771427, 2.5520503666924412, 1.7965397611087817, 2.2868215178838875, 2.0561830304226096, 4.394901861934138, 3.7447371430901004, 3.8940587562021562, 1.7242855616493102, 4.763192709116018, 3.543818241931977, 3.3421543577560433, 1.5027850126803324, 3.168125795796114, 1.1451582305148509, 2.5729105286413527, 3.6573446668564964, 4.325783599332992, 2.442498784447869, 2.154066421206193, 2.4173524771134898, 2.640479397246689, 4.233457092741255, 3.7381841059245122, 3.4335103797788546, 2.301202378627258, 5.351984542666859, 4.099492687635497, 3.252161218588462, 3.881043195772284, 2.445714493802665, 1.8091514827989377, 2.0642533724351453, 2.1543189940939436, 4.500182534236195, 1.6057113432170607, 3.0336171960538554, 1.6642309962857782, 3.050497915660435, 3.974619865326089, 2.249994691897411, 3.271272573147856, 3.240873032824187, 1.7489142275515004, 4.2305982766169805, 2.626748068157725, 3.2422051825374822, 2.536274762293337, 4.370620654901889, 3.5639652790434857, 2.146374995207434, 2.498771575093567, 2.3722304281965805, 4.518343119118883, 3.182054476047671, 3.1635673174189605, 2.6469704027641736, 2.4562753825809978, 3.4334250176935854, 3.0114859368342595, 3.8389978644995155, 3.0106065353025584, 3.850378709937626, 3.247879765285947, 3.6439609501314205, 1.7132573302936716, 2.703989401189176, 1.9148993751495307, 3.886380263256382, 0.9702045949666585, 3.7451671747329804, 3.6506670131424754, 2.2895776458931336, 0.5351759171527437, 3.1788717717868336, 1.6494325770540896, 2.9664100778933515, 2.8682999321463956, 1.7938698557556279, 4.363412390271672, 2.8534040248936448, 3.255712228700003, 3.0422587851215166, 3.0097276239850186, 3.321413490202366, 2.023278792005159, 3.261388495452026, 2.060249276296857, 4.168486630403489, 3.9869787218717416, 1.725245710797566, 2.849076924893447, 1.7994793397559021, 2.959488094606695, 4.019817199388303, 2.452346253762518, 3.97655179294935, 2.9509118956829994, 2.275995699139178, 3.6199946845676787, 1.097318796654571, 3.2366342921439326, 3.4575932190490817, 3.659987450590165, 2.4521217318449953, 3.660191778553499, 3.94709446996875, 5.54927898317, 1.5911555230322034, 3.3601529024474672, 2.0843875775124605, 2.1496548241798754, 3.277189581636743, 4.793357670710121, 2.855311144921841, 3.3387850912467347, 2.1209430702268506, 3.663042789053793, 2.323223976574891, 2.882069748878913, 3.9250775178623147, 2.7985858716051593, 3.1179578558226786, 3.6556081280219304, 4.9667533555263725, 1.5896540905102288, 2.535364165779104, 3.644903774108692, 5.519505432846482, 2.4129297564075225, 2.9509762485401736, 1.6608873362178311, 3.4005041884813823, 3.89007447214635, 4.554758771422024, 2.183147921164808, 2.7236267805338232, 3.900979079813639, 3.608295721017984, 2.68458034529932, 4.726730793771862, 2.7384182021858416, 2.2899832680330645, 5.027394186903683, 2.098149389598869, 2.9695214405824952, 2.924526280349744, 0.5698910408692708, 1.6859636036154122, 3.799280231196471, 2.6949998353987743, 2.813515549286154, 2.8852727987972284, 2.401994732300337, 2.218663926644512, 3.071280914271105, 5.269041940513879, 2.209222572797165, 0.3808409676988056, 2.888062525343137, 2.7047369731361055, 1.775500691420128, 3.1194269439481945, 3.0949328743355062, 3.2596494111645193, 3.359711223601037, 3.1154382841735684, 4.104046929193413, 3.2416245753452544, 3.5890979045794116, 2.3792799542436276, 3.3270136507792416, 1.6634632641884073, 4.355544508116049, 3.3326561644350234, 3.280795989961808, 4.148472892125099, 4.175390096197902, 2.522793409537033, 4.022188442056959, 3.9935628626580124, 5.1270050928166615, 3.4106674572699966, 3.614986058691245, 3.167325354692407, 3.1406198374815064, 3.006096336523021, 3.3417280856684104, 3.031807062636511, 4.829818687356093, 1.3081617590887848, 3.4308764620050196, 3.6319057871340563, 1.3901267031802482, 1.5642191694538459, 2.2634627081268253, 3.288906466368574, 3.2506906941004114, 4.055357484244206, 3.7597239310042267, 2.117446306378184, 4.162288705239209, 3.7307467836036197, 3.451733089296654, 3.981525287373998, 2.72041935848506, 4.261799992586111, 3.5103632486853367, 1.3490879347818379, 4.3761178430666305, 2.2868249221381776, 1.0612040240525935, 3.023757902929985, 3.4026589548974133, 2.8053804917852694, 3.8950770305104436, 3.099554248541625, 3.031060851568631, 4.513919530349744, 1.718876884693242, 3.6095256170028804, 4.265607117407786, 3.4188805505446327, 2.0548705670651044, 2.783249310006075, 2.8154868942349363, 2.1074297494954086, 3.038158200358489, 2.2712588562185196, 2.2274645957434287, 3.2139784615346434, 3.16618426090876, 3.0003304827595447, 3.0437300543728174, 3.1277869419932114, 2.0422092568584227, 3.8504282308636784, 5.295041423698121, -0.751008877656377, 2.4655179930225137, 1.4831516022249405, 2.5255986713640555, 3.3996909330740723, 3.1694998408644843, 3.5147189340563476, 2.7272176909442325, 3.87210894887758, 2.2228689311768095, 2.4870704522171323, 2.8319477789372747, 3.617066452149038, 4.783301060842369, 3.2207436162128626, 4.9161098411540936, 3.15631152485222, 2.702652791570944, 2.815100671438095, 4.2385726025814545, 3.723036111588214, 1.966449431796277, 1.7561464995468583, 3.0030282587078747, 2.9812098552089656, 1.7927889796947283, 2.92173907803869, 4.368141455135684, 2.7048312390785627, 2.74390143676557, 4.2501433034886285, 3.437751621571385, 2.279146285395664, 2.171176317843542, 4.1973611008259395, 4.087779467304671, 3.182403670633064, 1.3135767517432169, 2.6425314475138975, 2.236144145466458, 4.040423976676913, 2.6170945743137515, 4.486572217358228, 2.191674414282406, 3.0068617399082695, 2.794310140719858, 2.185430133985686, 3.058633049098698, 0.500035120204656, 2.444345974361846, 2.2085296850987435, 4.359833591501246, 2.6790231906158732, 1.9573814146342687, 3.4584480891874496, 4.359137069669368, 4.510245216732013, 3.5860063025454805, 2.538053534396981, 2.2267148321583417, 3.634481387880319, 2.010340413442763, 1.2441151968521054, 2.3277292323393364, 2.5526297366113586, 4.313099570184219, 5.196435171488362, 3.267923597482863, 1.5733032971199574, 2.975097039087443, 2.6342619096767863, 3.0141125629719836, 4.954551707281794, 1.0022717259369018, 4.925571669380752, 2.97299101591958, 3.4777891616259016, 3.0336877677272502, 2.535240338201873, 3.5887891048460396, 2.4616840939184224, 1.721243594362793, 4.666212470240985, 2.516922532856853, 2.3058233027328368, 3.977185209295079, 3.108513696278906, 3.1883492129301843, 1.9221339047626105, 3.050986260969497, 2.633080800773112, 2.7742522718291656, 3.6845278576649108, 2.153071052407485, 2.4841147289732826, 4.827415012914718, 4.064513955787007, 3.798202227790353, 3.5271198471847516, 3.794871857683786, 1.863917547290684, 3.2089271341821544, 3.746988631408723, 1.810255117989394, 2.6850497795919983, 4.385196139168434, 3.156423872057156, 1.9633275328619657, 3.9973250893275467, 3.6377595503573366, 4.380281843445203, 4.225574823409787, 0.6317864379771843, 1.8458144122950577, 3.1637006215988404, 3.4694713756193427, 1.860225262250015, 3.6489425225127112, 2.4352941423589285, 2.6842630461616936, 1.9423485891354253, 2.8276636713169414, 2.8384385694305285, 3.4887489407577013, 1.3122239214957032, 1.7621965033699534, 2.467872023668241, 2.959250221333639, 1.580313647152408, 4.3288378726899275, 3.690200503860674, 3.282921064039741, 4.242906437258486, 2.29013552251394, 3.803417782890923, 3.7206663177524364, 4.227939610481876, 1.5152623666782568, 3.2216045769930988, 3.6004118973503374, 2.457351307618839, 2.7734759447941117, 5.127404950339141, 3.9612678552954246, 3.634714623304971, 5.038304225692011, 3.576928327457404, 4.225302099168979, 1.5733880012155048, 3.738023863938378, 4.309517062554051, 3.367639352665208, 3.0080312770948865, 2.7339203063931388, 5.2965394606707275, 6.304257737366461, 3.105798230364686, 2.411872619765841, 3.719391936561994, 2.2334459731261136, 2.4465145627880855, 3.8448787422085484, 2.3106523127898555, 1.7021962561073225, 1.7979993370199723, 2.692650332482533, 1.8002457054379708, 3.178683800337279, 3.3265467341534274, 3.0142063022859564, 4.7752233704466525, 2.4850814229395426, 2.814553273659577, 2.9713668344042508, 2.83598282207703, 1.8943598417652991, 2.733466036429921, 4.577179563142861, 4.037578613295599, 2.202126373232622, 2.832724156752489, 3.75150809642402, 2.0352945656199637, 2.5745150779630768, 2.627149428346033, 2.406577132534723, 3.0002436562924815, 4.275141979167322, 3.672899732609226, 3.382839517483875, 2.7773972341722675, 3.220674504301808, 2.007658200212611, 2.1761706099009848, 2.82640143512171, 1.984864312703939, 2.6993065785751678, 3.8289549524617006, 1.9797400093016468, 2.8927801515024893, 2.2871573904253317, 4.330746778950599, 2.538589596060623, 2.3900303371184393, 2.132690613806139, 4.571413302879119, 2.892788407008393, 1.4062093965831606, 2.8388232425233997, 1.7724537165341216, 3.141224576147221, 1.430217665918584, 4.3770426211502365, 2.8079008699575483, 1.8142801656816585, 5.9664795872302845, 1.91913912527126, 1.3796462864104246, 4.257454068857196, 2.944713965100489, 2.4751767585214015, 0.6655699668108288, 0.20707820529807908, 2.6400894311814014, 2.256551049236353, 1.2242764706203093, 4.309560822595161, 3.5724038964825446, 1.3942618573416319, 3.289377587507132, 2.5408485439291866, 0.33122961406449836, 3.7207121369013674, 3.6000059157450863, 2.639046417418693, 4.2953961785480805, 1.932840680489684, 1.894675553059362, 2.0929228893964407, 2.2716704346811007, 3.800322982331624, 2.082516071834827, 1.9144628466215952, 3.910905529918844, 0.9848798392060041, 1.4846997552421213, 2.2615512655376935, 2.4695010902299925, 3.6150566784995415, 3.329315847433482, 2.2335558556582518, 4.0057392361828486, 2.049171763746622, 2.635544998364337, 4.551202835816213, 3.446027899275388, 2.368663289756552, 3.2519894922994697, 2.978108868160251, 4.681441740266896, 2.6996223382830586, 2.375268885728098, 1.5815117760499169, 4.348379306490816, -0.42921739757824806, 3.4743746121460095, 2.1866205463510124, 4.333946815217898, 2.952044729421381, 4.968937720279054, 2.2206077377332862, 2.0348939994357944, 3.422165825023626, 4.098651414344267, 3.8759233032592464, 2.254321540112497, 3.2102910969102894, 3.4396215216957766, 3.7840192275601656, 2.4009512290231747, 3.668017710864004, 3.16406628385746, 2.230857222803737, 3.1318224132609447, 2.2252933826838417, 1.4101684876996397, 0.8091055500990803, 2.6287425337651973, 2.6004688494994808, 1.9781721617943933, 3.6365864045971747, 2.560506449056355, 3.0892322567069637, 1.9803175424564095, 3.2659305359853086, 2.4364891397797974, 2.7449815820343177, 3.5827978453478435, 4.031386646317305, 1.859102784433486, 4.154308552985876, 2.4745307612019682, 2.7245107949429825, 4.094609578643684, 2.8669353380123033, 2.772309585674908, 2.187834138473752, 2.9375448330245613, 1.970209740471059, 3.667612048614023, 1.5473528580234759, 1.9209290499891125, 2.6424255001982813, 2.5931926335962507, 2.8277569952366566, 3.854476211416901, 2.4756855959563566, 2.430401413193098, 2.08247023482157, 3.557249141515362, 0.27114064079799505, 3.8891338540142293, 3.286336660315186, 1.5762186640353464, 2.1788016055914774, 1.3066746918317758, 4.72083044321913, 1.3856831167938752, 1.6612068930140391, 5.911083270308316, 4.118796415881105, 4.134000799877991, 1.8585289844867179, 2.874069072923781, 0.9785054928822738, 3.3872055095822633, 2.9667229847523005, 3.4309223135067257, 1.2179862583259733, 2.659197987685516, 3.1050125026529853, 2.4316689756368506, 3.5398877578326484, 5.024927788631965, 3.3257634085117433, 1.7655941622686087, 1.4150964510174193, 2.393685175777231, 3.4416044597582536, 2.9686435800529316, 1.413807169363386, 2.230313544822402, 4.542753392636751, 2.9977275799561443, 5.169586543362573, 1.4927229931391048, 1.8399230300021214, 1.992864139284881, 5.610218248980697, 2.3325850504193992, 2.7880128847233197, 1.542560372974332, 0.8921625979521286, 3.4271227357293874, 2.596513932407708, 3.8445436565953353, 4.510877046798759, 2.812869421822004, 3.773316931199731, 3.091539815988612, 3.0068784857096493, 3.1678925544186702, 2.522339684480449, 3.653232718754624, 3.6171146200942634, 1.2128757498027296, 2.841076066249056, 2.7333619614190265, 2.084452389193649, 3.8124921307556665, 2.6122829556281815, 3.063480948991442, 3.749730250188472, 3.7925876819516575, 3.052266850726205, 3.840021824725955, 4.712478400485069, 5.29621360422278, 3.0561401451453345, 2.8019674332535, 1.7646732337481317, 3.6402065489017614, 4.238560830997116, 2.72204412621799, 3.4902090169228064, 2.6388470237431543, 3.238935804810092, 2.1057544384442504, 2.4818065482067775, 3.5375608486169274, 3.4860741740944983, 2.8297197622805017, 3.9438536849404207, 2.8753920341623194, 2.7206422241976265, 3.5857243213276786, 2.8017826290398893, 4.231215426134971, 2.8533259721540274, 2.9643873429985295, 3.8600156208050156, 4.253340202509042, 4.568997215746134, 3.77740353280065, 3.1387114146275494, 2.744394564796282, 3.7223104490035652, 3.1859477746229525, 3.1083191102725216, 2.735869849813989, 3.2215800692319965, 4.064012425818846, 3.1229311820777794, 3.73320144542481, 2.2041924914919875, 3.253031667821708, 2.0308233112038803, 2.6794661507357582, 2.7129684114608255, 2.1351433029582805, 1.8771368670794502, 3.6487928359142154, 2.1469175246347394, 2.568917329061462, 3.584934772390736, 1.7319342543059733, 3.5175785644771254, 2.231920270229325, 2.466907972992508, 1.3461937287998007, 2.987309629769808, 2.0263565368012415, 3.8572372925095704, 1.1004239698546323, 1.6275074946331203, 1.5639931892852816, 3.1740755108455105, 2.251169830046459, 2.855240535258205, 4.758721522604065, 2.460924574678304, 3.0872788578380033, 0.7221761082441489, 4.170011666071226, 2.9363449329830096, 2.6475862320016823, 3.6666383640869262, 4.515695184368736, 2.6494745656390792, 2.56002962028996, 3.5629874473946375, 0.1311920932257653, 3.2277275422509097, 2.8812976877650947, 2.0394315271601196, 2.9302467580108873, 3.266193212576045, 2.052985058125415, 3.615781996473462], \"xaxis\": \"x\", \"yaxis\": \"y\"}],                        {\"barmode\": \"relative\", \"legend\": {\"tracegroupgap\": 0}, \"margin\": {\"t\": 60}, \"template\": {\"data\": {\"bar\": [{\"error_x\": {\"color\": \"#2a3f5f\"}, \"error_y\": {\"color\": \"#2a3f5f\"}, \"marker\": {\"line\": {\"color\": \"#E5ECF6\", \"width\": 0.5}}, \"type\": \"bar\"}], \"barpolar\": [{\"marker\": {\"line\": {\"color\": \"#E5ECF6\", \"width\": 0.5}}, \"type\": \"barpolar\"}], \"carpet\": [{\"aaxis\": {\"endlinecolor\": \"#2a3f5f\", \"gridcolor\": \"white\", \"linecolor\": \"white\", \"minorgridcolor\": \"white\", \"startlinecolor\": \"#2a3f5f\"}, \"baxis\": {\"endlinecolor\": \"#2a3f5f\", \"gridcolor\": \"white\", \"linecolor\": \"white\", \"minorgridcolor\": \"white\", \"startlinecolor\": \"#2a3f5f\"}, \"type\": \"carpet\"}], \"choropleth\": [{\"colorbar\": {\"outlinewidth\": 0, \"ticks\": \"\"}, \"type\": \"choropleth\"}], \"contour\": [{\"colorbar\": {\"outlinewidth\": 0, \"ticks\": \"\"}, \"colorscale\": [[0.0, \"#0d0887\"], [0.1111111111111111, \"#46039f\"], [0.2222222222222222, \"#7201a8\"], [0.3333333333333333, \"#9c179e\"], [0.4444444444444444, \"#bd3786\"], [0.5555555555555556, \"#d8576b\"], [0.6666666666666666, \"#ed7953\"], [0.7777777777777778, \"#fb9f3a\"], [0.8888888888888888, \"#fdca26\"], [1.0, \"#f0f921\"]], \"type\": \"contour\"}], \"contourcarpet\": [{\"colorbar\": {\"outlinewidth\": 0, \"ticks\": \"\"}, \"type\": \"contourcarpet\"}], \"heatmap\": [{\"colorbar\": {\"outlinewidth\": 0, \"ticks\": \"\"}, \"colorscale\": [[0.0, \"#0d0887\"], [0.1111111111111111, \"#46039f\"], [0.2222222222222222, \"#7201a8\"], [0.3333333333333333, \"#9c179e\"], [0.4444444444444444, \"#bd3786\"], [0.5555555555555556, \"#d8576b\"], [0.6666666666666666, \"#ed7953\"], [0.7777777777777778, \"#fb9f3a\"], [0.8888888888888888, \"#fdca26\"], [1.0, \"#f0f921\"]], \"type\": \"heatmap\"}], \"heatmapgl\": [{\"colorbar\": {\"outlinewidth\": 0, \"ticks\": \"\"}, \"colorscale\": [[0.0, \"#0d0887\"], [0.1111111111111111, \"#46039f\"], [0.2222222222222222, \"#7201a8\"], [0.3333333333333333, \"#9c179e\"], [0.4444444444444444, \"#bd3786\"], [0.5555555555555556, \"#d8576b\"], [0.6666666666666666, \"#ed7953\"], [0.7777777777777778, \"#fb9f3a\"], [0.8888888888888888, \"#fdca26\"], [1.0, \"#f0f921\"]], \"type\": \"heatmapgl\"}], \"histogram\": [{\"marker\": {\"colorbar\": {\"outlinewidth\": 0, \"ticks\": \"\"}}, \"type\": \"histogram\"}], \"histogram2d\": [{\"colorbar\": {\"outlinewidth\": 0, \"ticks\": \"\"}, \"colorscale\": [[0.0, \"#0d0887\"], [0.1111111111111111, \"#46039f\"], [0.2222222222222222, \"#7201a8\"], [0.3333333333333333, \"#9c179e\"], [0.4444444444444444, \"#bd3786\"], [0.5555555555555556, \"#d8576b\"], [0.6666666666666666, \"#ed7953\"], [0.7777777777777778, \"#fb9f3a\"], [0.8888888888888888, \"#fdca26\"], [1.0, \"#f0f921\"]], \"type\": \"histogram2d\"}], \"histogram2dcontour\": [{\"colorbar\": {\"outlinewidth\": 0, \"ticks\": \"\"}, \"colorscale\": [[0.0, \"#0d0887\"], [0.1111111111111111, \"#46039f\"], [0.2222222222222222, \"#7201a8\"], [0.3333333333333333, \"#9c179e\"], [0.4444444444444444, \"#bd3786\"], [0.5555555555555556, \"#d8576b\"], [0.6666666666666666, \"#ed7953\"], [0.7777777777777778, \"#fb9f3a\"], [0.8888888888888888, \"#fdca26\"], [1.0, \"#f0f921\"]], \"type\": \"histogram2dcontour\"}], \"mesh3d\": [{\"colorbar\": {\"outlinewidth\": 0, \"ticks\": \"\"}, \"type\": \"mesh3d\"}], \"parcoords\": [{\"line\": {\"colorbar\": {\"outlinewidth\": 0, \"ticks\": \"\"}}, \"type\": \"parcoords\"}], \"pie\": [{\"automargin\": true, \"type\": \"pie\"}], \"scatter\": [{\"marker\": {\"colorbar\": {\"outlinewidth\": 0, \"ticks\": \"\"}}, \"type\": \"scatter\"}], \"scatter3d\": [{\"line\": {\"colorbar\": {\"outlinewidth\": 0, \"ticks\": \"\"}}, \"marker\": {\"colorbar\": {\"outlinewidth\": 0, \"ticks\": \"\"}}, \"type\": \"scatter3d\"}], \"scattercarpet\": [{\"marker\": {\"colorbar\": {\"outlinewidth\": 0, \"ticks\": \"\"}}, \"type\": \"scattercarpet\"}], \"scattergeo\": [{\"marker\": {\"colorbar\": {\"outlinewidth\": 0, \"ticks\": \"\"}}, \"type\": \"scattergeo\"}], \"scattergl\": [{\"marker\": {\"colorbar\": {\"outlinewidth\": 0, \"ticks\": \"\"}}, \"type\": \"scattergl\"}], \"scattermapbox\": [{\"marker\": {\"colorbar\": {\"outlinewidth\": 0, \"ticks\": \"\"}}, \"type\": \"scattermapbox\"}], \"scatterpolar\": [{\"marker\": {\"colorbar\": {\"outlinewidth\": 0, \"ticks\": \"\"}}, \"type\": \"scatterpolar\"}], \"scatterpolargl\": [{\"marker\": {\"colorbar\": {\"outlinewidth\": 0, \"ticks\": \"\"}}, \"type\": \"scatterpolargl\"}], \"scatterternary\": [{\"marker\": {\"colorbar\": {\"outlinewidth\": 0, \"ticks\": \"\"}}, \"type\": \"scatterternary\"}], \"surface\": [{\"colorbar\": {\"outlinewidth\": 0, \"ticks\": \"\"}, \"colorscale\": [[0.0, \"#0d0887\"], [0.1111111111111111, \"#46039f\"], [0.2222222222222222, \"#7201a8\"], [0.3333333333333333, \"#9c179e\"], [0.4444444444444444, \"#bd3786\"], [0.5555555555555556, \"#d8576b\"], [0.6666666666666666, \"#ed7953\"], [0.7777777777777778, \"#fb9f3a\"], [0.8888888888888888, \"#fdca26\"], [1.0, \"#f0f921\"]], \"type\": \"surface\"}], \"table\": [{\"cells\": {\"fill\": {\"color\": \"#EBF0F8\"}, \"line\": {\"color\": \"white\"}}, \"header\": {\"fill\": {\"color\": \"#C8D4E3\"}, \"line\": {\"color\": \"white\"}}, \"type\": \"table\"}]}, \"layout\": {\"annotationdefaults\": {\"arrowcolor\": \"#2a3f5f\", \"arrowhead\": 0, \"arrowwidth\": 1}, \"autotypenumbers\": \"strict\", \"coloraxis\": {\"colorbar\": {\"outlinewidth\": 0, \"ticks\": \"\"}}, \"colorscale\": {\"diverging\": [[0, \"#8e0152\"], [0.1, \"#c51b7d\"], [0.2, \"#de77ae\"], [0.3, \"#f1b6da\"], [0.4, \"#fde0ef\"], [0.5, \"#f7f7f7\"], [0.6, \"#e6f5d0\"], [0.7, \"#b8e186\"], [0.8, \"#7fbc41\"], [0.9, \"#4d9221\"], [1, \"#276419\"]], \"sequential\": [[0.0, \"#0d0887\"], [0.1111111111111111, \"#46039f\"], [0.2222222222222222, \"#7201a8\"], [0.3333333333333333, \"#9c179e\"], [0.4444444444444444, \"#bd3786\"], [0.5555555555555556, \"#d8576b\"], [0.6666666666666666, \"#ed7953\"], [0.7777777777777778, \"#fb9f3a\"], [0.8888888888888888, \"#fdca26\"], [1.0, \"#f0f921\"]], \"sequentialminus\": [[0.0, \"#0d0887\"], [0.1111111111111111, \"#46039f\"], [0.2222222222222222, \"#7201a8\"], [0.3333333333333333, \"#9c179e\"], [0.4444444444444444, \"#bd3786\"], [0.5555555555555556, \"#d8576b\"], [0.6666666666666666, \"#ed7953\"], [0.7777777777777778, \"#fb9f3a\"], [0.8888888888888888, \"#fdca26\"], [1.0, \"#f0f921\"]]}, \"colorway\": [\"#636efa\", \"#EF553B\", \"#00cc96\", \"#ab63fa\", \"#FFA15A\", \"#19d3f3\", \"#FF6692\", \"#B6E880\", \"#FF97FF\", \"#FECB52\"], \"font\": {\"color\": \"#2a3f5f\"}, \"geo\": {\"bgcolor\": \"white\", \"lakecolor\": \"white\", \"landcolor\": \"#E5ECF6\", \"showlakes\": true, \"showland\": true, \"subunitcolor\": \"white\"}, \"hoverlabel\": {\"align\": \"left\"}, \"hovermode\": \"closest\", \"mapbox\": {\"style\": \"light\"}, \"paper_bgcolor\": \"white\", \"plot_bgcolor\": \"#E5ECF6\", \"polar\": {\"angularaxis\": {\"gridcolor\": \"white\", \"linecolor\": \"white\", \"ticks\": \"\"}, \"bgcolor\": \"#E5ECF6\", \"radialaxis\": {\"gridcolor\": \"white\", \"linecolor\": \"white\", \"ticks\": \"\"}}, \"scene\": {\"xaxis\": {\"backgroundcolor\": \"#E5ECF6\", \"gridcolor\": \"white\", \"gridwidth\": 2, \"linecolor\": \"white\", \"showbackground\": true, \"ticks\": \"\", \"zerolinecolor\": \"white\"}, \"yaxis\": {\"backgroundcolor\": \"#E5ECF6\", \"gridcolor\": \"white\", \"gridwidth\": 2, \"linecolor\": \"white\", \"showbackground\": true, \"ticks\": \"\", \"zerolinecolor\": \"white\"}, \"zaxis\": {\"backgroundcolor\": \"#E5ECF6\", \"gridcolor\": \"white\", \"gridwidth\": 2, \"linecolor\": \"white\", \"showbackground\": true, \"ticks\": \"\", \"zerolinecolor\": \"white\"}}, \"shapedefaults\": {\"line\": {\"color\": \"#2a3f5f\"}}, \"ternary\": {\"aaxis\": {\"gridcolor\": \"white\", \"linecolor\": \"white\", \"ticks\": \"\"}, \"baxis\": {\"gridcolor\": \"white\", \"linecolor\": \"white\", \"ticks\": \"\"}, \"bgcolor\": \"#E5ECF6\", \"caxis\": {\"gridcolor\": \"white\", \"linecolor\": \"white\", \"ticks\": \"\"}}, \"title\": {\"x\": 0.05}, \"xaxis\": {\"automargin\": true, \"gridcolor\": \"white\", \"linecolor\": \"white\", \"ticks\": \"\", \"title\": {\"standoff\": 15}, \"zerolinecolor\": \"white\", \"zerolinewidth\": 2}, \"yaxis\": {\"automargin\": true, \"gridcolor\": \"white\", \"linecolor\": \"white\", \"ticks\": \"\", \"title\": {\"standoff\": 15}, \"zerolinecolor\": \"white\", \"zerolinewidth\": 2}}}, \"xaxis\": {\"anchor\": \"y\", \"domain\": [0.0, 1.0], \"title\": {\"text\": \"tempo_de_empresa\"}}, \"yaxis\": {\"anchor\": \"x\", \"domain\": [0.0, 1.0], \"title\": {\"text\": \"count\"}}},                        {\"responsive\": true}                    ).then(function(){\n",
       "                            \n",
       "var gd = document.getElementById('9b2d4733-c59d-495e-ae3b-0f3be80de801');\n",
       "var x = new MutationObserver(function (mutations, observer) {{\n",
       "        var display = window.getComputedStyle(gd).display;\n",
       "        if (!display || display === 'none') {{\n",
       "            console.log([gd, 'removed!']);\n",
       "            Plotly.purge(gd);\n",
       "            observer.disconnect();\n",
       "        }}\n",
       "}});\n",
       "\n",
       "// Listen for the removal of the full notebook cells\n",
       "var notebookContainer = gd.closest('#notebook-container');\n",
       "if (notebookContainer) {{\n",
       "    x.observe(notebookContainer, {childList: true});\n",
       "}}\n",
       "\n",
       "// Listen for the clearing of the current output cell\n",
       "var outputEl = gd.closest('.output');\n",
       "if (outputEl) {{\n",
       "    x.observe(outputEl, {childList: true});\n",
       "}}\n",
       "\n",
       "                        })                };                });            </script>        </div>"
      ]
     },
     "metadata": {},
     "output_type": "display_data"
    }
   ],
   "source": [
    "# Definindo o tempo médio de empresa\n",
    "average_time = 3\n",
    "sd_time = 1\n",
    "\n",
    "# Criando uma amostra de tempos de empresa\n",
    "company_time = np.random.normal(average_time, sd_time, len(dataset))\n",
    "\n",
    "# Adicionando ao dataset\n",
    "dataset['tempo_de_empresa'] = company_time\n",
    "\n",
    "# Plotando\n",
    "fig = px.histogram(dataset, x = \"tempo_de_empresa\")\n",
    "fig.show()"
   ]
  }
 ],
 "metadata": {
  "kernelspec": {
   "display_name": "Python 3",
   "language": "python",
   "name": "python3"
  },
  "language_info": {
   "codemirror_mode": {
    "name": "ipython",
    "version": 3
   },
   "file_extension": ".py",
   "mimetype": "text/x-python",
   "name": "python",
   "nbconvert_exporter": "python",
   "pygments_lexer": "ipython3",
   "version": "3.6.13"
  }
 },
 "nbformat": 4,
 "nbformat_minor": 5
}
