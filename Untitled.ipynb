{
 "cells": [
  {
   "cell_type": "code",
   "execution_count": 1,
   "id": "79c26e0f-17c1-42c9-a0cd-e3b12311981b",
   "metadata": {},
   "outputs": [],
   "source": [
    "# Importando as bibliotecas\n",
    "import pyvis\n",
    "import networkx\n",
    "import pandas as pd\n",
    "import names"
   ]
  },
  {
   "cell_type": "code",
   "execution_count": 15,
   "id": "7637c66b-382c-49d7-98ab-6904d877505c",
   "metadata": {},
   "outputs": [],
   "source": [
    "# Criando uma lista de colaboradores\n",
    "employees = list(set([names.get_full_name() for i in range(1000)]))\n",
    "\n",
    "# Criando um objeto do tipo dataframe\n",
    "dataset = pd.DataFrame(employees, columns = ['nome'])"
   ]
  },
  {
   "cell_type": "code",
   "execution_count": 20,
   "id": "f42e0fc6-0709-42a8-9047-e7dbe79627b7",
   "metadata": {},
   "outputs": [
    {
     "data": {
      "text/html": [
       "<div>\n",
       "<style scoped>\n",
       "    .dataframe tbody tr th:only-of-type {\n",
       "        vertical-align: middle;\n",
       "    }\n",
       "\n",
       "    .dataframe tbody tr th {\n",
       "        vertical-align: top;\n",
       "    }\n",
       "\n",
       "    .dataframe thead th {\n",
       "        text-align: right;\n",
       "    }\n",
       "</style>\n",
       "<table border=\"1\" class=\"dataframe\">\n",
       "  <thead>\n",
       "    <tr style=\"text-align: right;\">\n",
       "      <th></th>\n",
       "      <th>nome</th>\n",
       "    </tr>\n",
       "  </thead>\n",
       "  <tbody>\n",
       "    <tr>\n",
       "      <th>0</th>\n",
       "      <td>Anita Anderson</td>\n",
       "    </tr>\n",
       "    <tr>\n",
       "      <th>1</th>\n",
       "      <td>Melinda Juarez</td>\n",
       "    </tr>\n",
       "    <tr>\n",
       "      <th>2</th>\n",
       "      <td>Sally Szekely</td>\n",
       "    </tr>\n",
       "    <tr>\n",
       "      <th>3</th>\n",
       "      <td>Ronald Miner</td>\n",
       "    </tr>\n",
       "    <tr>\n",
       "      <th>4</th>\n",
       "      <td>Eric Ching</td>\n",
       "    </tr>\n",
       "    <tr>\n",
       "      <th>...</th>\n",
       "      <td>...</td>\n",
       "    </tr>\n",
       "    <tr>\n",
       "      <th>995</th>\n",
       "      <td>Miles Legere</td>\n",
       "    </tr>\n",
       "    <tr>\n",
       "      <th>996</th>\n",
       "      <td>Dina Felder</td>\n",
       "    </tr>\n",
       "    <tr>\n",
       "      <th>997</th>\n",
       "      <td>James Grosz</td>\n",
       "    </tr>\n",
       "    <tr>\n",
       "      <th>998</th>\n",
       "      <td>Pauline Stephens</td>\n",
       "    </tr>\n",
       "    <tr>\n",
       "      <th>999</th>\n",
       "      <td>Michael Bejaran</td>\n",
       "    </tr>\n",
       "  </tbody>\n",
       "</table>\n",
       "<p>1000 rows × 1 columns</p>\n",
       "</div>"
      ],
      "text/plain": [
       "                 nome\n",
       "0      Anita Anderson\n",
       "1      Melinda Juarez\n",
       "2       Sally Szekely\n",
       "3        Ronald Miner\n",
       "4          Eric Ching\n",
       "..                ...\n",
       "995      Miles Legere\n",
       "996       Dina Felder\n",
       "997       James Grosz\n",
       "998  Pauline Stephens\n",
       "999   Michael Bejaran\n",
       "\n",
       "[1000 rows x 1 columns]"
      ]
     },
     "execution_count": 20,
     "metadata": {},
     "output_type": "execute_result"
    }
   ],
   "source": [
    "# Criando um dicionário de áreas\n",
    "areas_dict = {\n",
    "    'People': 1,\n",
    "    'FP&A': 1,\n",
    "    'Engenharia': 6,\n",
    "    'Customer Success': 3,\n",
    "    'Comercial': 3,\n",
    "    'Suporte': 2,\n",
    "    'Jurídico': 1,\n",
    "    'TI': 1,\n",
    "    'Marketing': 1,\n",
    "    'Operações': 3\n",
    "}\n",
    "\n"
   ]
  }
 ],
 "metadata": {
  "kernelspec": {
   "display_name": "Python 3",
   "language": "python",
   "name": "python3"
  },
  "language_info": {
   "codemirror_mode": {
    "name": "ipython",
    "version": 3
   },
   "file_extension": ".py",
   "mimetype": "text/x-python",
   "name": "python",
   "nbconvert_exporter": "python",
   "pygments_lexer": "ipython3",
   "version": "3.6.13"
  }
 },
 "nbformat": 4,
 "nbformat_minor": 5
}
