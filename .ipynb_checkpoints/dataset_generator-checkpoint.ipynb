{
 "cells": [
  {
   "cell_type": "code",
   "execution_count": 5,
   "id": "79c26e0f-17c1-42c9-a0cd-e3b12311981b",
   "metadata": {},
   "outputs": [],
   "source": [
    "# Importando as bibliotecas\n",
    "import pyvis as pv\n",
    "import networkx as nx\n",
    "import pandas as pd\n",
    "import numpy as np\n",
    "import names"
   ]
  },
  {
   "cell_type": "code",
   "execution_count": 6,
   "id": "7637c66b-382c-49d7-98ab-6904d877505c",
   "metadata": {},
   "outputs": [],
   "source": [
    "# Criando uma lista de colaboradores\n",
    "employees = list(set([names.get_full_name() for i in range(1000)]))\n",
    "\n",
    "# Criando um objeto do tipo dataframe\n",
    "dataset = pd.DataFrame(employees, columns = ['nome'])"
   ]
  },
  {
   "cell_type": "code",
   "execution_count": 7,
   "id": "f42e0fc6-0709-42a8-9047-e7dbe79627b7",
   "metadata": {},
   "outputs": [],
   "source": [
    "# Criando um dicionário de áreas\n",
    "areas_dict = {\n",
    "    'People': 1,\n",
    "    'FP&A': 1,\n",
    "    'Engenharia': 6,\n",
    "    'Customer Success': 3,\n",
    "    'Comercial': 3,\n",
    "    'Suporte': 2,\n",
    "    'Jurídico': 1,\n",
    "    'TI': 1,\n",
    "    'Marketing': 1,\n",
    "    'Operações': 3\n",
    "}"
   ]
  },
  {
   "cell_type": "code",
   "execution_count": 9,
   "id": "de26d6ed-9b5a-4777-95bb-5f23d500c14d",
   "metadata": {},
   "outputs": [
    {
     "data": {
      "text/plain": [
       "22"
      ]
     },
     "execution_count": 9,
     "metadata": {},
     "output_type": "execute_result"
    }
   ],
   "source": [
    "sum_weights = sum(areas_dict.values())\n"
   ]
  }
 ],
 "metadata": {
  "kernelspec": {
   "display_name": "Python 3",
   "language": "python",
   "name": "python3"
  },
  "language_info": {
   "codemirror_mode": {
    "name": "ipython",
    "version": 3
   },
   "file_extension": ".py",
   "mimetype": "text/x-python",
   "name": "python",
   "nbconvert_exporter": "python",
   "pygments_lexer": "ipython3",
   "version": "3.6.13"
  }
 },
 "nbformat": 4,
 "nbformat_minor": 5
}
