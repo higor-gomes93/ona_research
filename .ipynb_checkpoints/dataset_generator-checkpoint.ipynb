{
 "cells": [
  {
   "cell_type": "markdown",
   "id": "e0968c43-0339-4bff-b3cc-b34f87d3ec52",
   "metadata": {
    "tags": []
   },
   "source": [
    "#### 1) Importação das Bibliotecas"
   ]
  },
  {
   "cell_type": "code",
   "execution_count": 21,
   "id": "79c26e0f-17c1-42c9-a0cd-e3b12311981b",
   "metadata": {
    "tags": []
   },
   "outputs": [],
   "source": [
    "# Importando as bibliotecas\n",
    "import pyvis as pv\n",
    "import networkx as nx\n",
    "import pandas as pd\n",
    "import numpy as np\n",
    "import names\n",
    "import plotly.express as px\n",
    "import plotly.graph_objects as go\n",
    "from plotly.subplots import make_subplots"
   ]
  },
  {
   "cell_type": "markdown",
   "id": "3e9b1503-d8c2-41ba-97a1-c45fc0a82113",
   "metadata": {},
   "source": [
    "#### 2) Criação da lista de nomes"
   ]
  },
  {
   "cell_type": "code",
   "execution_count": 2,
   "id": "7637c66b-382c-49d7-98ab-6904d877505c",
   "metadata": {},
   "outputs": [],
   "source": [
    "# Criando uma lista de colaboradores\n",
    "employees = list(set([names.get_full_name() for i in range(1000)]))\n",
    "\n",
    "# Criando um objeto do tipo dataframe\n",
    "dataset = pd.DataFrame(employees, columns = ['nome'])"
   ]
  },
  {
   "cell_type": "markdown",
   "id": "de9d81b0-d9d4-40d9-a2b4-660372f1c57b",
   "metadata": {},
   "source": [
    "#### 3) Criação das áreas de cada colaborador"
   ]
  },
  {
   "cell_type": "code",
   "execution_count": 11,
   "id": "f42e0fc6-0709-42a8-9047-e7dbe79627b7",
   "metadata": {},
   "outputs": [
    {
     "data": {
      "application/vnd.plotly.v1+json": {
       "config": {
        "plotlyServerURL": "https://plotly.com"
       },
       "data": [
        {
         "alignmentgroup": "True",
         "hovertemplate": "total=%{x}<br>area=%{y}<extra></extra>",
         "legendgroup": "",
         "marker": {
          "color": "#636efa"
         },
         "name": "",
         "offsetgroup": "",
         "orientation": "h",
         "showlegend": false,
         "textposition": "auto",
         "type": "bar",
         "x": [
          140,
          131,
          271,
          43,
          44,
          48,
          132,
          41,
          99,
          48
         ],
         "xaxis": "x",
         "y": [
          "Comercial",
          "Customer Success",
          "Engenharia",
          "FP&A",
          "Jurídico",
          "Marketing",
          "Operações",
          "People",
          "Suporte",
          "TI"
         ],
         "yaxis": "y"
        }
       ],
       "layout": {
        "autosize": true,
        "barmode": "stack",
        "legend": {
         "tracegroupgap": 0
        },
        "margin": {
         "t": 60
        },
        "template": {
         "data": {
          "bar": [
           {
            "error_x": {
             "color": "#2a3f5f"
            },
            "error_y": {
             "color": "#2a3f5f"
            },
            "marker": {
             "line": {
              "color": "#E5ECF6",
              "width": 0.5
             }
            },
            "type": "bar"
           }
          ],
          "barpolar": [
           {
            "marker": {
             "line": {
              "color": "#E5ECF6",
              "width": 0.5
             }
            },
            "type": "barpolar"
           }
          ],
          "carpet": [
           {
            "aaxis": {
             "endlinecolor": "#2a3f5f",
             "gridcolor": "white",
             "linecolor": "white",
             "minorgridcolor": "white",
             "startlinecolor": "#2a3f5f"
            },
            "baxis": {
             "endlinecolor": "#2a3f5f",
             "gridcolor": "white",
             "linecolor": "white",
             "minorgridcolor": "white",
             "startlinecolor": "#2a3f5f"
            },
            "type": "carpet"
           }
          ],
          "choropleth": [
           {
            "colorbar": {
             "outlinewidth": 0,
             "ticks": ""
            },
            "type": "choropleth"
           }
          ],
          "contour": [
           {
            "colorbar": {
             "outlinewidth": 0,
             "ticks": ""
            },
            "colorscale": [
             [
              0,
              "#0d0887"
             ],
             [
              0.1111111111111111,
              "#46039f"
             ],
             [
              0.2222222222222222,
              "#7201a8"
             ],
             [
              0.3333333333333333,
              "#9c179e"
             ],
             [
              0.4444444444444444,
              "#bd3786"
             ],
             [
              0.5555555555555556,
              "#d8576b"
             ],
             [
              0.6666666666666666,
              "#ed7953"
             ],
             [
              0.7777777777777778,
              "#fb9f3a"
             ],
             [
              0.8888888888888888,
              "#fdca26"
             ],
             [
              1,
              "#f0f921"
             ]
            ],
            "type": "contour"
           }
          ],
          "contourcarpet": [
           {
            "colorbar": {
             "outlinewidth": 0,
             "ticks": ""
            },
            "type": "contourcarpet"
           }
          ],
          "heatmap": [
           {
            "colorbar": {
             "outlinewidth": 0,
             "ticks": ""
            },
            "colorscale": [
             [
              0,
              "#0d0887"
             ],
             [
              0.1111111111111111,
              "#46039f"
             ],
             [
              0.2222222222222222,
              "#7201a8"
             ],
             [
              0.3333333333333333,
              "#9c179e"
             ],
             [
              0.4444444444444444,
              "#bd3786"
             ],
             [
              0.5555555555555556,
              "#d8576b"
             ],
             [
              0.6666666666666666,
              "#ed7953"
             ],
             [
              0.7777777777777778,
              "#fb9f3a"
             ],
             [
              0.8888888888888888,
              "#fdca26"
             ],
             [
              1,
              "#f0f921"
             ]
            ],
            "type": "heatmap"
           }
          ],
          "heatmapgl": [
           {
            "colorbar": {
             "outlinewidth": 0,
             "ticks": ""
            },
            "colorscale": [
             [
              0,
              "#0d0887"
             ],
             [
              0.1111111111111111,
              "#46039f"
             ],
             [
              0.2222222222222222,
              "#7201a8"
             ],
             [
              0.3333333333333333,
              "#9c179e"
             ],
             [
              0.4444444444444444,
              "#bd3786"
             ],
             [
              0.5555555555555556,
              "#d8576b"
             ],
             [
              0.6666666666666666,
              "#ed7953"
             ],
             [
              0.7777777777777778,
              "#fb9f3a"
             ],
             [
              0.8888888888888888,
              "#fdca26"
             ],
             [
              1,
              "#f0f921"
             ]
            ],
            "type": "heatmapgl"
           }
          ],
          "histogram": [
           {
            "marker": {
             "colorbar": {
              "outlinewidth": 0,
              "ticks": ""
             }
            },
            "type": "histogram"
           }
          ],
          "histogram2d": [
           {
            "colorbar": {
             "outlinewidth": 0,
             "ticks": ""
            },
            "colorscale": [
             [
              0,
              "#0d0887"
             ],
             [
              0.1111111111111111,
              "#46039f"
             ],
             [
              0.2222222222222222,
              "#7201a8"
             ],
             [
              0.3333333333333333,
              "#9c179e"
             ],
             [
              0.4444444444444444,
              "#bd3786"
             ],
             [
              0.5555555555555556,
              "#d8576b"
             ],
             [
              0.6666666666666666,
              "#ed7953"
             ],
             [
              0.7777777777777778,
              "#fb9f3a"
             ],
             [
              0.8888888888888888,
              "#fdca26"
             ],
             [
              1,
              "#f0f921"
             ]
            ],
            "type": "histogram2d"
           }
          ],
          "histogram2dcontour": [
           {
            "colorbar": {
             "outlinewidth": 0,
             "ticks": ""
            },
            "colorscale": [
             [
              0,
              "#0d0887"
             ],
             [
              0.1111111111111111,
              "#46039f"
             ],
             [
              0.2222222222222222,
              "#7201a8"
             ],
             [
              0.3333333333333333,
              "#9c179e"
             ],
             [
              0.4444444444444444,
              "#bd3786"
             ],
             [
              0.5555555555555556,
              "#d8576b"
             ],
             [
              0.6666666666666666,
              "#ed7953"
             ],
             [
              0.7777777777777778,
              "#fb9f3a"
             ],
             [
              0.8888888888888888,
              "#fdca26"
             ],
             [
              1,
              "#f0f921"
             ]
            ],
            "type": "histogram2dcontour"
           }
          ],
          "mesh3d": [
           {
            "colorbar": {
             "outlinewidth": 0,
             "ticks": ""
            },
            "type": "mesh3d"
           }
          ],
          "parcoords": [
           {
            "line": {
             "colorbar": {
              "outlinewidth": 0,
              "ticks": ""
             }
            },
            "type": "parcoords"
           }
          ],
          "pie": [
           {
            "automargin": true,
            "type": "pie"
           }
          ],
          "scatter": [
           {
            "marker": {
             "colorbar": {
              "outlinewidth": 0,
              "ticks": ""
             }
            },
            "type": "scatter"
           }
          ],
          "scatter3d": [
           {
            "line": {
             "colorbar": {
              "outlinewidth": 0,
              "ticks": ""
             }
            },
            "marker": {
             "colorbar": {
              "outlinewidth": 0,
              "ticks": ""
             }
            },
            "type": "scatter3d"
           }
          ],
          "scattercarpet": [
           {
            "marker": {
             "colorbar": {
              "outlinewidth": 0,
              "ticks": ""
             }
            },
            "type": "scattercarpet"
           }
          ],
          "scattergeo": [
           {
            "marker": {
             "colorbar": {
              "outlinewidth": 0,
              "ticks": ""
             }
            },
            "type": "scattergeo"
           }
          ],
          "scattergl": [
           {
            "marker": {
             "colorbar": {
              "outlinewidth": 0,
              "ticks": ""
             }
            },
            "type": "scattergl"
           }
          ],
          "scattermapbox": [
           {
            "marker": {
             "colorbar": {
              "outlinewidth": 0,
              "ticks": ""
             }
            },
            "type": "scattermapbox"
           }
          ],
          "scatterpolar": [
           {
            "marker": {
             "colorbar": {
              "outlinewidth": 0,
              "ticks": ""
             }
            },
            "type": "scatterpolar"
           }
          ],
          "scatterpolargl": [
           {
            "marker": {
             "colorbar": {
              "outlinewidth": 0,
              "ticks": ""
             }
            },
            "type": "scatterpolargl"
           }
          ],
          "scatterternary": [
           {
            "marker": {
             "colorbar": {
              "outlinewidth": 0,
              "ticks": ""
             }
            },
            "type": "scatterternary"
           }
          ],
          "surface": [
           {
            "colorbar": {
             "outlinewidth": 0,
             "ticks": ""
            },
            "colorscale": [
             [
              0,
              "#0d0887"
             ],
             [
              0.1111111111111111,
              "#46039f"
             ],
             [
              0.2222222222222222,
              "#7201a8"
             ],
             [
              0.3333333333333333,
              "#9c179e"
             ],
             [
              0.4444444444444444,
              "#bd3786"
             ],
             [
              0.5555555555555556,
              "#d8576b"
             ],
             [
              0.6666666666666666,
              "#ed7953"
             ],
             [
              0.7777777777777778,
              "#fb9f3a"
             ],
             [
              0.8888888888888888,
              "#fdca26"
             ],
             [
              1,
              "#f0f921"
             ]
            ],
            "type": "surface"
           }
          ],
          "table": [
           {
            "cells": {
             "fill": {
              "color": "#EBF0F8"
             },
             "line": {
              "color": "white"
             }
            },
            "header": {
             "fill": {
              "color": "#C8D4E3"
             },
             "line": {
              "color": "white"
             }
            },
            "type": "table"
           }
          ]
         },
         "layout": {
          "annotationdefaults": {
           "arrowcolor": "#2a3f5f",
           "arrowhead": 0,
           "arrowwidth": 1
          },
          "autotypenumbers": "strict",
          "coloraxis": {
           "colorbar": {
            "outlinewidth": 0,
            "ticks": ""
           }
          },
          "colorscale": {
           "diverging": [
            [
             0,
             "#8e0152"
            ],
            [
             0.1,
             "#c51b7d"
            ],
            [
             0.2,
             "#de77ae"
            ],
            [
             0.3,
             "#f1b6da"
            ],
            [
             0.4,
             "#fde0ef"
            ],
            [
             0.5,
             "#f7f7f7"
            ],
            [
             0.6,
             "#e6f5d0"
            ],
            [
             0.7,
             "#b8e186"
            ],
            [
             0.8,
             "#7fbc41"
            ],
            [
             0.9,
             "#4d9221"
            ],
            [
             1,
             "#276419"
            ]
           ],
           "sequential": [
            [
             0,
             "#0d0887"
            ],
            [
             0.1111111111111111,
             "#46039f"
            ],
            [
             0.2222222222222222,
             "#7201a8"
            ],
            [
             0.3333333333333333,
             "#9c179e"
            ],
            [
             0.4444444444444444,
             "#bd3786"
            ],
            [
             0.5555555555555556,
             "#d8576b"
            ],
            [
             0.6666666666666666,
             "#ed7953"
            ],
            [
             0.7777777777777778,
             "#fb9f3a"
            ],
            [
             0.8888888888888888,
             "#fdca26"
            ],
            [
             1,
             "#f0f921"
            ]
           ],
           "sequentialminus": [
            [
             0,
             "#0d0887"
            ],
            [
             0.1111111111111111,
             "#46039f"
            ],
            [
             0.2222222222222222,
             "#7201a8"
            ],
            [
             0.3333333333333333,
             "#9c179e"
            ],
            [
             0.4444444444444444,
             "#bd3786"
            ],
            [
             0.5555555555555556,
             "#d8576b"
            ],
            [
             0.6666666666666666,
             "#ed7953"
            ],
            [
             0.7777777777777778,
             "#fb9f3a"
            ],
            [
             0.8888888888888888,
             "#fdca26"
            ],
            [
             1,
             "#f0f921"
            ]
           ]
          },
          "colorway": [
           "#636efa",
           "#EF553B",
           "#00cc96",
           "#ab63fa",
           "#FFA15A",
           "#19d3f3",
           "#FF6692",
           "#B6E880",
           "#FF97FF",
           "#FECB52"
          ],
          "font": {
           "color": "#2a3f5f"
          },
          "geo": {
           "bgcolor": "white",
           "lakecolor": "white",
           "landcolor": "#E5ECF6",
           "showlakes": true,
           "showland": true,
           "subunitcolor": "white"
          },
          "hoverlabel": {
           "align": "left"
          },
          "hovermode": "closest",
          "mapbox": {
           "style": "light"
          },
          "paper_bgcolor": "white",
          "plot_bgcolor": "#E5ECF6",
          "polar": {
           "angularaxis": {
            "gridcolor": "white",
            "linecolor": "white",
            "ticks": ""
           },
           "bgcolor": "#E5ECF6",
           "radialaxis": {
            "gridcolor": "white",
            "linecolor": "white",
            "ticks": ""
           }
          },
          "scene": {
           "xaxis": {
            "backgroundcolor": "#E5ECF6",
            "gridcolor": "white",
            "gridwidth": 2,
            "linecolor": "white",
            "showbackground": true,
            "ticks": "",
            "zerolinecolor": "white"
           },
           "yaxis": {
            "backgroundcolor": "#E5ECF6",
            "gridcolor": "white",
            "gridwidth": 2,
            "linecolor": "white",
            "showbackground": true,
            "ticks": "",
            "zerolinecolor": "white"
           },
           "zaxis": {
            "backgroundcolor": "#E5ECF6",
            "gridcolor": "white",
            "gridwidth": 2,
            "linecolor": "white",
            "showbackground": true,
            "ticks": "",
            "zerolinecolor": "white"
           }
          },
          "shapedefaults": {
           "line": {
            "color": "#2a3f5f"
           }
          },
          "ternary": {
           "aaxis": {
            "gridcolor": "white",
            "linecolor": "white",
            "ticks": ""
           },
           "baxis": {
            "gridcolor": "white",
            "linecolor": "white",
            "ticks": ""
           },
           "bgcolor": "#E5ECF6",
           "caxis": {
            "gridcolor": "white",
            "linecolor": "white",
            "ticks": ""
           }
          },
          "title": {
           "x": 0.05
          },
          "xaxis": {
           "automargin": true,
           "gridcolor": "white",
           "linecolor": "white",
           "ticks": "",
           "title": {
            "standoff": 15
           },
           "zerolinecolor": "white",
           "zerolinewidth": 2
          },
          "yaxis": {
           "automargin": true,
           "gridcolor": "white",
           "linecolor": "white",
           "ticks": "",
           "title": {
            "standoff": 15
           },
           "zerolinecolor": "white",
           "zerolinewidth": 2
          }
         }
        },
        "xaxis": {
         "anchor": "y",
         "autorange": true,
         "domain": [
          0,
          1
         ],
         "range": [
          0,
          285.2631578947368
         ],
         "title": {
          "text": "total"
         },
         "type": "linear"
        },
        "yaxis": {
         "anchor": "x",
         "autorange": true,
         "categoryorder": "total ascending",
         "domain": [
          0,
          1
         ],
         "range": [
          -0.5,
          9.5
         ],
         "title": {
          "text": "area"
         },
         "type": "category"
        }
       }
      },
      "image/png": "[encoded data removed]",
      "text/html": [
       "<div>                            <div id=\"16d4af99-e4f6-4ee2-a781-a6d09b34fe60\" class=\"plotly-graph-div\" style=\"height:525px; width:100%;\"></div>            <script type=\"text/javascript\">                require([\"plotly\"], function(Plotly) {                    window.PLOTLYENV=window.PLOTLYENV || {};                                    if (document.getElementById(\"16d4af99-e4f6-4ee2-a781-a6d09b34fe60\")) {                    Plotly.newPlot(                        \"16d4af99-e4f6-4ee2-a781-a6d09b34fe60\",                        [{\"alignmentgroup\": \"True\", \"hovertemplate\": \"total=%{x}<br>area=%{y}<extra></extra>\", \"legendgroup\": \"\", \"marker\": {\"color\": \"#636efa\"}, \"name\": \"\", \"offsetgroup\": \"\", \"orientation\": \"h\", \"showlegend\": false, \"textposition\": \"auto\", \"type\": \"bar\", \"x\": [140, 131, 271, 43, 44, 48, 132, 41, 99, 48], \"xaxis\": \"x\", \"y\": [\"Comercial\", \"Customer Success\", \"Engenharia\", \"FP&A\", \"Jur\\u00eddico\", \"Marketing\", \"Opera\\u00e7\\u00f5es\", \"People\", \"Suporte\", \"TI\"], \"yaxis\": \"y\"}],                        {\"barmode\": \"stack\", \"legend\": {\"tracegroupgap\": 0}, \"margin\": {\"t\": 60}, \"template\": {\"data\": {\"bar\": [{\"error_x\": {\"color\": \"#2a3f5f\"}, \"error_y\": {\"color\": \"#2a3f5f\"}, \"marker\": {\"line\": {\"color\": \"#E5ECF6\", \"width\": 0.5}}, \"type\": \"bar\"}], \"barpolar\": [{\"marker\": {\"line\": {\"color\": \"#E5ECF6\", \"width\": 0.5}}, \"type\": \"barpolar\"}], \"carpet\": [{\"aaxis\": {\"endlinecolor\": \"#2a3f5f\", \"gridcolor\": \"white\", \"linecolor\": \"white\", \"minorgridcolor\": \"white\", \"startlinecolor\": \"#2a3f5f\"}, \"baxis\": {\"endlinecolor\": \"#2a3f5f\", \"gridcolor\": \"white\", \"linecolor\": \"white\", \"minorgridcolor\": \"white\", \"startlinecolor\": \"#2a3f5f\"}, \"type\": \"carpet\"}], \"choropleth\": [{\"colorbar\": {\"outlinewidth\": 0, \"ticks\": \"\"}, \"type\": \"choropleth\"}], \"contour\": [{\"colorbar\": {\"outlinewidth\": 0, \"ticks\": \"\"}, \"colorscale\": [[0.0, \"#0d0887\"], [0.1111111111111111, \"#46039f\"], [0.2222222222222222, \"#7201a8\"], [0.3333333333333333, \"#9c179e\"], [0.4444444444444444, \"#bd3786\"], [0.5555555555555556, \"#d8576b\"], [0.6666666666666666, \"#ed7953\"], [0.7777777777777778, \"#fb9f3a\"], [0.8888888888888888, \"#fdca26\"], [1.0, \"#f0f921\"]], \"type\": \"contour\"}], \"contourcarpet\": [{\"colorbar\": {\"outlinewidth\": 0, \"ticks\": \"\"}, \"type\": \"contourcarpet\"}], \"heatmap\": [{\"colorbar\": {\"outlinewidth\": 0, \"ticks\": \"\"}, \"colorscale\": [[0.0, \"#0d0887\"], [0.1111111111111111, \"#46039f\"], [0.2222222222222222, \"#7201a8\"], [0.3333333333333333, \"#9c179e\"], [0.4444444444444444, \"#bd3786\"], [0.5555555555555556, \"#d8576b\"], [0.6666666666666666, \"#ed7953\"], [0.7777777777777778, \"#fb9f3a\"], [0.8888888888888888, \"#fdca26\"], [1.0, \"#f0f921\"]], \"type\": \"heatmap\"}], \"heatmapgl\": [{\"colorbar\": {\"outlinewidth\": 0, \"ticks\": \"\"}, \"colorscale\": [[0.0, \"#0d0887\"], [0.1111111111111111, \"#46039f\"], [0.2222222222222222, \"#7201a8\"], [0.3333333333333333, \"#9c179e\"], [0.4444444444444444, \"#bd3786\"], [0.5555555555555556, \"#d8576b\"], [0.6666666666666666, \"#ed7953\"], [0.7777777777777778, \"#fb9f3a\"], [0.8888888888888888, \"#fdca26\"], [1.0, \"#f0f921\"]], \"type\": \"heatmapgl\"}], \"histogram\": [{\"marker\": {\"colorbar\": {\"outlinewidth\": 0, \"ticks\": \"\"}}, \"type\": \"histogram\"}], \"histogram2d\": [{\"colorbar\": {\"outlinewidth\": 0, \"ticks\": \"\"}, \"colorscale\": [[0.0, \"#0d0887\"], [0.1111111111111111, \"#46039f\"], [0.2222222222222222, \"#7201a8\"], [0.3333333333333333, \"#9c179e\"], [0.4444444444444444, \"#bd3786\"], [0.5555555555555556, \"#d8576b\"], [0.6666666666666666, \"#ed7953\"], [0.7777777777777778, \"#fb9f3a\"], [0.8888888888888888, \"#fdca26\"], [1.0, \"#f0f921\"]], \"type\": \"histogram2d\"}], \"histogram2dcontour\": [{\"colorbar\": {\"outlinewidth\": 0, \"ticks\": \"\"}, \"colorscale\": [[0.0, \"#0d0887\"], [0.1111111111111111, \"#46039f\"], [0.2222222222222222, \"#7201a8\"], [0.3333333333333333, \"#9c179e\"], [0.4444444444444444, \"#bd3786\"], [0.5555555555555556, \"#d8576b\"], [0.6666666666666666, \"#ed7953\"], [0.7777777777777778, \"#fb9f3a\"], [0.8888888888888888, \"#fdca26\"], [1.0, \"#f0f921\"]], \"type\": \"histogram2dcontour\"}], \"mesh3d\": [{\"colorbar\": {\"outlinewidth\": 0, \"ticks\": \"\"}, \"type\": \"mesh3d\"}], \"parcoords\": [{\"line\": {\"colorbar\": {\"outlinewidth\": 0, \"ticks\": \"\"}}, \"type\": \"parcoords\"}], \"pie\": [{\"automargin\": true, \"type\": \"pie\"}], \"scatter\": [{\"marker\": {\"colorbar\": {\"outlinewidth\": 0, \"ticks\": \"\"}}, \"type\": \"scatter\"}], \"scatter3d\": [{\"line\": {\"colorbar\": {\"outlinewidth\": 0, \"ticks\": \"\"}}, \"marker\": {\"colorbar\": {\"outlinewidth\": 0, \"ticks\": \"\"}}, \"type\": \"scatter3d\"}], \"scattercarpet\": [{\"marker\": {\"colorbar\": {\"outlinewidth\": 0, \"ticks\": \"\"}}, \"type\": \"scattercarpet\"}], \"scattergeo\": [{\"marker\": {\"colorbar\": {\"outlinewidth\": 0, \"ticks\": \"\"}}, \"type\": \"scattergeo\"}], \"scattergl\": [{\"marker\": {\"colorbar\": {\"outlinewidth\": 0, \"ticks\": \"\"}}, \"type\": \"scattergl\"}], \"scattermapbox\": [{\"marker\": {\"colorbar\": {\"outlinewidth\": 0, \"ticks\": \"\"}}, \"type\": \"scattermapbox\"}], \"scatterpolar\": [{\"marker\": {\"colorbar\": {\"outlinewidth\": 0, \"ticks\": \"\"}}, \"type\": \"scatterpolar\"}], \"scatterpolargl\": [{\"marker\": {\"colorbar\": {\"outlinewidth\": 0, \"ticks\": \"\"}}, \"type\": \"scatterpolargl\"}], \"scatterternary\": [{\"marker\": {\"colorbar\": {\"outlinewidth\": 0, \"ticks\": \"\"}}, \"type\": \"scatterternary\"}], \"surface\": [{\"colorbar\": {\"outlinewidth\": 0, \"ticks\": \"\"}, \"colorscale\": [[0.0, \"#0d0887\"], [0.1111111111111111, \"#46039f\"], [0.2222222222222222, \"#7201a8\"], [0.3333333333333333, \"#9c179e\"], [0.4444444444444444, \"#bd3786\"], [0.5555555555555556, \"#d8576b\"], [0.6666666666666666, \"#ed7953\"], [0.7777777777777778, \"#fb9f3a\"], [0.8888888888888888, \"#fdca26\"], [1.0, \"#f0f921\"]], \"type\": \"surface\"}], \"table\": [{\"cells\": {\"fill\": {\"color\": \"#EBF0F8\"}, \"line\": {\"color\": \"white\"}}, \"header\": {\"fill\": {\"color\": \"#C8D4E3\"}, \"line\": {\"color\": \"white\"}}, \"type\": \"table\"}]}, \"layout\": {\"annotationdefaults\": {\"arrowcolor\": \"#2a3f5f\", \"arrowhead\": 0, \"arrowwidth\": 1}, \"autotypenumbers\": \"strict\", \"coloraxis\": {\"colorbar\": {\"outlinewidth\": 0, \"ticks\": \"\"}}, \"colorscale\": {\"diverging\": [[0, \"#8e0152\"], [0.1, \"#c51b7d\"], [0.2, \"#de77ae\"], [0.3, \"#f1b6da\"], [0.4, \"#fde0ef\"], [0.5, \"#f7f7f7\"], [0.6, \"#e6f5d0\"], [0.7, \"#b8e186\"], [0.8, \"#7fbc41\"], [0.9, \"#4d9221\"], [1, \"#276419\"]], \"sequential\": [[0.0, \"#0d0887\"], [0.1111111111111111, \"#46039f\"], [0.2222222222222222, \"#7201a8\"], [0.3333333333333333, \"#9c179e\"], [0.4444444444444444, \"#bd3786\"], [0.5555555555555556, \"#d8576b\"], [0.6666666666666666, \"#ed7953\"], [0.7777777777777778, \"#fb9f3a\"], [0.8888888888888888, \"#fdca26\"], [1.0, \"#f0f921\"]], \"sequentialminus\": [[0.0, \"#0d0887\"], [0.1111111111111111, \"#46039f\"], [0.2222222222222222, \"#7201a8\"], [0.3333333333333333, \"#9c179e\"], [0.4444444444444444, \"#bd3786\"], [0.5555555555555556, \"#d8576b\"], [0.6666666666666666, \"#ed7953\"], [0.7777777777777778, \"#fb9f3a\"], [0.8888888888888888, \"#fdca26\"], [1.0, \"#f0f921\"]]}, \"colorway\": [\"#636efa\", \"#EF553B\", \"#00cc96\", \"#ab63fa\", \"#FFA15A\", \"#19d3f3\", \"#FF6692\", \"#B6E880\", \"#FF97FF\", \"#FECB52\"], \"font\": {\"color\": \"#2a3f5f\"}, \"geo\": {\"bgcolor\": \"white\", \"lakecolor\": \"white\", \"landcolor\": \"#E5ECF6\", \"showlakes\": true, \"showland\": true, \"subunitcolor\": \"white\"}, \"hoverlabel\": {\"align\": \"left\"}, \"hovermode\": \"closest\", \"mapbox\": {\"style\": \"light\"}, \"paper_bgcolor\": \"white\", \"plot_bgcolor\": \"#E5ECF6\", \"polar\": {\"angularaxis\": {\"gridcolor\": \"white\", \"linecolor\": \"white\", \"ticks\": \"\"}, \"bgcolor\": \"#E5ECF6\", \"radialaxis\": {\"gridcolor\": \"white\", \"linecolor\": \"white\", \"ticks\": \"\"}}, \"scene\": {\"xaxis\": {\"backgroundcolor\": \"#E5ECF6\", \"gridcolor\": \"white\", \"gridwidth\": 2, \"linecolor\": \"white\", \"showbackground\": true, \"ticks\": \"\", \"zerolinecolor\": \"white\"}, \"yaxis\": {\"backgroundcolor\": \"#E5ECF6\", \"gridcolor\": \"white\", \"gridwidth\": 2, \"linecolor\": \"white\", \"showbackground\": true, \"ticks\": \"\", \"zerolinecolor\": \"white\"}, \"zaxis\": {\"backgroundcolor\": \"#E5ECF6\", \"gridcolor\": \"white\", \"gridwidth\": 2, \"linecolor\": \"white\", \"showbackground\": true, \"ticks\": \"\", \"zerolinecolor\": \"white\"}}, \"shapedefaults\": {\"line\": {\"color\": \"#2a3f5f\"}}, \"ternary\": {\"aaxis\": {\"gridcolor\": \"white\", \"linecolor\": \"white\", \"ticks\": \"\"}, \"baxis\": {\"gridcolor\": \"white\", \"linecolor\": \"white\", \"ticks\": \"\"}, \"bgcolor\": \"#E5ECF6\", \"caxis\": {\"gridcolor\": \"white\", \"linecolor\": \"white\", \"ticks\": \"\"}}, \"title\": {\"x\": 0.05}, \"xaxis\": {\"automargin\": true, \"gridcolor\": \"white\", \"linecolor\": \"white\", \"ticks\": \"\", \"title\": {\"standoff\": 15}, \"zerolinecolor\": \"white\", \"zerolinewidth\": 2}, \"yaxis\": {\"automargin\": true, \"gridcolor\": \"white\", \"linecolor\": \"white\", \"ticks\": \"\", \"title\": {\"standoff\": 15}, \"zerolinecolor\": \"white\", \"zerolinewidth\": 2}}}, \"xaxis\": {\"anchor\": \"y\", \"domain\": [0.0, 1.0], \"title\": {\"text\": \"total\"}}, \"yaxis\": {\"anchor\": \"x\", \"categoryorder\": \"total ascending\", \"domain\": [0.0, 1.0], \"title\": {\"text\": \"area\"}}},                        {\"responsive\": true}                    ).then(function(){\n",
       "                            \n",
       "var gd = document.getElementById('16d4af99-e4f6-4ee2-a781-a6d09b34fe60');\n",
       "var x = new MutationObserver(function (mutations, observer) {{\n",
       "        var display = window.getComputedStyle(gd).display;\n",
       "        if (!display || display === 'none') {{\n",
       "            console.log([gd, 'removed!']);\n",
       "            Plotly.purge(gd);\n",
       "            observer.disconnect();\n",
       "        }}\n",
       "}});\n",
       "\n",
       "// Listen for the removal of the full notebook cells\n",
       "var notebookContainer = gd.closest('#notebook-container');\n",
       "if (notebookContainer) {{\n",
       "    x.observe(notebookContainer, {childList: true});\n",
       "}}\n",
       "\n",
       "// Listen for the clearing of the current output cell\n",
       "var outputEl = gd.closest('.output');\n",
       "if (outputEl) {{\n",
       "    x.observe(outputEl, {childList: true});\n",
       "}}\n",
       "\n",
       "                        })                };                });            </script>        </div>"
      ]
     },
     "metadata": {},
     "output_type": "display_data"
    }
   ],
   "source": [
    "# Criando um dicionário de quantidade de pessoas por área\n",
    "areas_dict = {\n",
    "    'People': 1,\n",
    "    'FP&A': 1,\n",
    "    'Engenharia': 6,\n",
    "    'Customer Success': 3,\n",
    "    'Comercial': 3,\n",
    "    'Suporte': 2,\n",
    "    'Jurídico': 1,\n",
    "    'TI': 1,\n",
    "    'Marketing': 1,\n",
    "    'Operações': 3\n",
    "}\n",
    "\n",
    "# Criando as listas das áreas e os pesos\n",
    "areas = list(areas_dict.keys())\n",
    "weights = [i/sum(areas_dict.values()) for i in areas_dict.values()]\n",
    "\n",
    "# Criando uma lista de escolhas ponderadas\n",
    "areas_list = np.random.choice(a = areas, size = len(dataset), p = weights)\n",
    "\n",
    "# Incluindo a área no dataset\n",
    "dataset['area'] = areas_list\n",
    "\n",
    "# Verificando a distribuição\n",
    "area_dataset = pd.DataFrame(dict(dataset.groupby(['area']).size()).items(), columns = ['area', 'total'])\n",
    "fig = px.bar(area_dataset, y = 'area', x = 'total')\n",
    "fig.update_layout(barmode = 'stack', yaxis = {'categoryorder': 'total ascending'})\n",
    "fig.show()"
   ]
  },
  {
   "cell_type": "markdown",
   "id": "6d130bfd-cd1c-4e6a-81bd-2dc4e4e235c7",
   "metadata": {},
   "source": [
    "#### 4) Criando o tempo de empresa, em anos, de cada colaboradoe"
   ]
  },
  {
   "cell_type": "code",
   "execution_count": 18,
   "id": "b48c0348-c238-4b52-b087-d226f9caf645",
   "metadata": {},
   "outputs": [
    {
     "data": {
      "application/vnd.plotly.v1+json": {
       "config": {
        "plotlyServerURL": "https://plotly.com"
       },
       "data": [
        {
         "alignmentgroup": "True",
         "bingroup": "x",
         "hovertemplate": "tempo_de_empresa=%{x}<br>count=%{y}<extra></extra>",
         "legendgroup": "",
         "marker": {
          "color": "#636efa"
         },
         "name": "",
         "offsetgroup": "",
         "orientation": "v",
         "showlegend": false,
         "type": "histogram",
         "x": [
          2.09,
          3.67,
          4.25,
          3.47,
          3.45,
          3.04,
          2.25,
          2.18,
          4.3,
          2.06,
          3.32,
          2.45,
          3.86,
          5.37,
          3.2,
          3.27,
          2.81,
          3.18,
          3.41,
          2.7,
          2.81,
          1.9,
          2.36,
          2.53,
          3.84,
          4.3,
          4.34,
          2.32,
          2.86,
          2.37,
          2.41,
          2.58,
          2.51,
          3.81,
          2.22,
          3.68,
          4.38,
          2.24,
          4.29,
          3.46,
          3.76,
          1.98,
          3.33,
          4.35,
          3.5,
          3.64,
          5.51,
          3.36,
          3.1,
          2.61,
          4.25,
          3.61,
          2.08,
          1.32,
          1.71,
          1.92,
          2.27,
          2.14,
          4.27,
          3.75,
          2.91,
          3.64,
          2.47,
          2.1,
          4.3,
          1.71,
          3.03,
          2.87,
          4.57,
          1.77,
          3.17,
          3.05,
          2.23,
          4.53,
          4.78,
          4.21,
          4.24,
          1.91,
          1.37,
          2.24,
          2.79,
          2.85,
          3.67,
          2.33,
          3.82,
          2.51,
          2.33,
          2.78,
          1.83,
          4.32,
          2.91,
          3.55,
          2.48,
          2.5,
          3.62,
          3.93,
          2.86,
          5.39,
          3.23,
          4.71,
          2.08,
          3.15,
          2.38,
          3.65,
          3.36,
          2.95,
          1.97,
          2.24,
          2.18,
          1.18,
          3.13,
          3.91,
          0.79,
          2.96,
          2.9,
          2.46,
          2.92,
          3.04,
          3.55,
          3.21,
          4.17,
          3.63,
          2.76,
          1.01,
          1.63,
          2.26,
          3.74,
          2.83,
          3.35,
          2.43,
          3.64,
          3.72,
          3.55,
          2.24,
          2.97,
          4.1,
          2.95,
          5.18,
          2.86,
          3.2,
          3.55,
          2.41,
          1.69,
          2.33,
          2.22,
          2.12,
          2.51,
          3.28,
          3.66,
          2.57,
          3.61,
          2.27,
          3.96,
          4.67,
          1.34,
          3.73,
          3.81,
          1.6,
          3.71,
          5.41,
          4.26,
          2.58,
          1.55,
          4.47,
          4.02,
          3.04,
          4,
          3.1,
          5.34,
          3.02,
          2.83,
          2.23,
          2.46,
          2.6,
          4.48,
          3.06,
          6.23,
          0.85,
          2.05,
          2.97,
          1.74,
          4.03,
          3.32,
          2.38,
          4.6,
          3.6,
          4.95,
          1.82,
          2.92,
          1.8,
          1.91,
          4.24,
          2.49,
          4.32,
          3.82,
          3.66,
          2.15,
          3.71,
          3.78,
          2.06,
          3.35,
          3.54,
          4.72,
          5.35,
          4.22,
          2,
          3.88,
          1.63,
          3.25,
          2.44,
          2.87,
          2.99,
          2.15,
          4.01,
          3.65,
          2.41,
          2.08,
          3.35,
          4.59,
          3.06,
          3.33,
          1.62,
          3.03,
          2.21,
          4.2,
          2.53,
          3.69,
          3.13,
          4.5,
          4.57,
          0.35,
          2.54,
          3.56,
          1.33,
          3.66,
          3.1,
          1.06,
          1.67,
          2.94,
          4.49,
          3.46,
          2.4,
          1.66,
          3.88,
          2.5,
          1.58,
          2.72,
          2.79,
          1.88,
          3.49,
          2.63,
          2.6,
          2.21,
          4.2,
          4.05,
          4.23,
          3.26,
          3.48,
          2.61,
          2.32,
          3.28,
          2.7,
          2.9,
          3.35,
          1.55,
          1.52,
          1.61,
          3.21,
          1.34,
          4.54,
          2.34,
          2.97,
          3.02,
          3.33,
          3.39,
          2.23,
          2.44,
          4.57,
          2.29,
          3,
          2.26,
          1.85,
          2.92,
          3.47,
          4.13,
          3.38,
          3.71,
          2.99,
          2.86,
          2.31,
          4.46,
          0.17,
          2.51,
          4.58,
          5.06,
          2.98,
          2.01,
          4.24,
          2.69,
          2.75,
          1.46,
          2.62,
          2.5,
          3.1,
          4.26,
          4.78,
          4.31,
          2.72,
          2.56,
          2.87,
          3.07,
          1.67,
          3.54,
          4.29,
          3.98,
          4.08,
          4.89,
          4.73,
          1.83,
          0.09,
          2.87,
          5.03,
          3.65,
          4.09,
          3.2,
          2.75,
          3.34,
          1.33,
          3.02,
          3.16,
          3.18,
          1.02,
          0.85,
          4.64,
          1.09,
          2.27,
          2.33,
          3.11,
          4.35,
          4.79,
          3.37,
          3.43,
          3.13,
          2.96,
          2.91,
          2.75,
          4.38,
          1.97,
          5.62,
          2.48,
          2.5,
          2.44,
          2.89,
          3.57,
          2.56,
          1.82,
          2.67,
          3.84,
          4.11,
          4.6,
          1.03,
          4.2,
          4.97,
          3.68,
          2.61,
          4.75,
          4.59,
          1,
          1.63,
          4.75,
          2.79,
          0.96,
          4.33,
          4.1,
          4.05,
          0.87,
          4.13,
          3.31,
          1.14,
          3.45,
          4.98,
          4.18,
          2.8,
          2.88,
          4.52,
          2.22,
          3.79,
          2.47,
          4.44,
          2.72,
          2,
          2.13,
          5.66,
          2.82,
          3.83,
          2.76,
          2.04,
          2.87,
          2.09,
          3.23,
          2.68,
          3.39,
          1.49,
          2.66,
          3.87,
          3.38,
          5.13,
          2.36,
          2.81,
          1.03,
          3.03,
          2.98,
          3.83,
          4.38,
          2.78,
          2.86,
          1.6,
          2.5,
          3.45,
          2.17,
          1.64,
          3.53,
          4.12,
          3.18,
          3.08,
          3.39,
          3.32,
          1.86,
          1.91,
          4.66,
          4.41,
          2.46,
          2.66,
          4.44,
          3.11,
          2.61,
          3.35,
          3.82,
          5.1,
          3.13,
          2.91,
          1.04,
          2.52,
          1.46,
          4.41,
          3.87,
          1.82,
          4.47,
          2.57,
          3.76,
          2.32,
          2.37,
          1.94,
          1.42,
          2.13,
          2.62,
          2.89,
          4.31,
          3.05,
          3.67,
          5.18,
          3.21,
          3.48,
          1.59,
          4.05,
          2.51,
          1,
          2.6,
          1.16,
          2.95,
          2.96,
          2.5,
          1.77,
          3.38,
          2.9,
          2.23,
          2.22,
          3.59,
          3.4,
          0.89,
          3.45,
          3.09,
          1.31,
          3.59,
          2.74,
          2.36,
          2.6,
          4.38,
          2.76,
          3.18,
          2.1,
          3.09,
          2.3,
          2.86,
          2.52,
          4.12,
          3.52,
          2.9,
          3.66,
          1.36,
          2.32,
          3.05,
          3.61,
          2.83,
          1.81,
          2.65,
          3.68,
          3.2,
          3.28,
          3.46,
          1.99,
          2.44,
          3.8,
          3.04,
          1.76,
          3.98,
          5.18,
          3.28,
          2.4,
          3.54,
          3.41,
          2.34,
          1.07,
          3.9,
          3.03,
          1.32,
          3.99,
          3.2,
          3.2,
          2.16,
          3.13,
          2.54,
          2.51,
          3.1,
          3.45,
          1.42,
          2.99,
          1.98,
          5.49,
          1.9,
          1.59,
          2.65,
          1.04,
          3.13,
          2.56,
          2.84,
          1.87,
          1.86,
          3.98,
          2.95,
          3.03,
          3.03,
          2.78,
          2.86,
          3.65,
          2.35,
          2.91,
          2.45,
          4.54,
          2.11,
          3.24,
          3.06,
          2.16,
          3.64,
          3,
          3.22,
          2.29,
          1.22,
          2.24,
          3.41,
          3.69,
          2.33,
          2.79,
          2.34,
          2.85,
          2.42,
          4.62,
          4.21,
          2.1,
          2.06,
          1.84,
          4.34,
          3.36,
          3.02,
          2.75,
          3.21,
          3.92,
          3.92,
          4.04,
          2.81,
          2.03,
          1.91,
          4.48,
          3.34,
          4.51,
          1.86,
          2.07,
          3.7,
          2.32,
          3.44,
          3.58,
          3.85,
          3.45,
          3.57,
          3.57,
          1.93,
          3.44,
          3.14,
          3.71,
          3.15,
          2.61,
          2.39,
          3,
          3.2,
          2.88,
          3.39,
          3.14,
          2.42,
          2.81,
          2.89,
          2.42,
          3.53,
          2.9,
          3.09,
          1.59,
          3.15,
          3.59,
          3.26,
          2.52,
          3.97,
          4.89,
          2.07,
          3.96,
          2.25,
          0.52,
          3.49,
          2.83,
          2.49,
          4.53,
          3.23,
          4.74,
          3.57,
          1.5,
          3.29,
          3.04,
          4.52,
          3.72,
          1.4,
          2.97,
          2.91,
          2.12,
          2.77,
          3.22,
          4.58,
          4.54,
          4.31,
          3.66,
          3.62,
          5.41,
          1.54,
          3.37,
          4.78,
          4.36,
          3.19,
          3,
          1.63,
          3.18,
          1.36,
          3.84,
          3.36,
          4.33,
          3.52,
          2.61,
          2.78,
          2.45,
          3.25,
          2.99,
          2.4,
          2.6,
          2.38,
          2.98,
          2.17,
          2.51,
          3.32,
          3.8,
          2.11,
          2.88,
          4.31,
          2.64,
          2.53,
          2.3,
          3.26,
          1.57,
          3.37,
          1.97,
          3.43,
          2.72,
          4.39,
          4.5,
          1.29,
          2.21,
          2.39,
          2.23,
          4.35,
          3.89,
          2.63,
          3.35,
          5.89,
          2.68,
          3.02,
          3.03,
          4.25,
          2.03,
          4.16,
          3.74,
          2.21,
          3.73,
          1.69,
          2.11,
          3.52,
          3.21,
          4.21,
          2.41,
          3.8,
          1.79,
          4.61,
          3.47,
          2.63,
          2.93,
          0.83,
          3.14,
          2.73,
          3.27,
          3.88,
          4.61,
          3.68,
          3.87,
          3.42,
          3.58,
          5.28,
          1.31,
          3.1,
          1.99,
          2.84,
          3.24,
          2.65,
          4.17,
          3.88,
          3.34,
          2.67,
          4.55,
          4.61,
          3.13,
          2.91,
          3.16,
          3.05,
          2.17,
          2.6,
          2.81,
          2.95,
          2.1,
          2.09,
          2.91,
          2.28,
          2.18,
          0.51,
          4.34,
          3.66,
          3.26,
          1.55,
          2.09,
          4.77,
          2.92,
          2.52,
          1.4,
          3.82,
          2.16,
          1.51,
          2.62,
          1.98,
          2.44,
          1.66,
          2.08,
          3.73,
          3.15,
          3.18,
          2.85,
          3.27,
          1.36,
          3.67,
          1.06,
          2.52,
          3.31,
          2.05,
          3.17,
          2.78,
          4.87,
          2.28,
          4.61,
          2.71,
          2.64,
          2.46,
          3.9,
          3.01,
          2.65,
          2.78,
          5.07,
          1.46,
          2.49,
          4.15,
          3.09,
          3.41,
          1.89,
          3.95,
          4.03,
          5.19,
          4.01,
          2.9,
          2.75,
          0.84,
          4.19,
          1.77,
          2.42,
          2.77,
          4.16,
          3.11,
          3.58,
          3.37,
          4.04,
          4.26,
          1.86,
          2.52,
          2.99,
          4.83,
          2.93,
          2.41,
          4.98,
          1.79,
          4.63,
          3.65,
          3.57,
          3.53,
          2.22,
          2.86,
          2.54,
          4.4,
          3.52,
          3.7,
          3,
          1.8,
          2.23,
          3.84,
          1.26,
          2.02,
          3.7,
          4.17,
          4.54,
          3.16,
          3.1,
          2.15,
          3.33,
          3,
          3.51,
          3.43,
          3.79,
          3.6,
          2.74,
          3.06,
          3.57,
          0.56,
          3.13,
          2.47,
          2.78,
          3.28,
          4.25,
          2.41,
          3.5,
          1.59,
          3.88,
          3.4,
          2.68,
          2.36,
          4.47,
          2.66,
          1.25,
          2.87,
          0.56,
          4.82,
          2.55,
          3.3,
          3.05,
          1.89,
          3.27,
          3.13,
          3.21,
          4.26,
          3.53,
          3.32,
          2.71,
          2.89,
          3.05,
          4.73,
          3.68,
          2.96,
          2.11,
          1.11,
          3.37,
          2.97,
          4.18,
          3.03,
          2.8,
          3.15,
          3.28,
          3.05,
          3.65,
          3.14,
          2.71,
          3.32,
          3.4,
          2.67,
          2.67,
          3.76,
          2.92,
          4.14,
          3.6,
          2.8,
          1.77,
          4.17,
          4.15,
          3.96,
          1.87,
          2.56,
          2.93,
          2.62,
          2.34,
          3.97,
          4.2,
          1.64,
          2.57,
          2.55,
          3.5,
          3.35,
          3.04,
          3.66,
          1.63,
          1.44,
          2.88,
          3.32,
          3.05,
          2.63,
          2.39,
          3.36,
          2.58,
          3.04,
          3.48,
          3.01,
          2.12,
          5.44,
          3.9,
          4.62,
          3.8,
          5.29,
          2.88,
          5.09,
          2.31,
          4.49,
          1.73,
          3.78,
          3.98,
          3.68,
          1.93,
          3.19,
          2.76,
          4.09,
          2.64,
          5.04,
          2.31,
          2.74,
          1.93,
          3.72,
          3.16,
          2.69,
          3.18,
          2.09,
          2.31,
          3.05,
          2.51,
          2.4,
          2.68,
          3.55,
          2.31,
          2.71,
          4.76,
          3.67,
          2.85,
          2.88,
          2.95,
          1.59,
          2.97,
          3.04
         ],
         "xaxis": "x",
         "yaxis": "y"
        }
       ],
       "layout": {
        "autosize": true,
        "barmode": "relative",
        "legend": {
         "tracegroupgap": 0
        },
        "margin": {
         "t": 60
        },
        "template": {
         "data": {
          "bar": [
           {
            "error_x": {
             "color": "#2a3f5f"
            },
            "error_y": {
             "color": "#2a3f5f"
            },
            "marker": {
             "line": {
              "color": "#E5ECF6",
              "width": 0.5
             }
            },
            "type": "bar"
           }
          ],
          "barpolar": [
           {
            "marker": {
             "line": {
              "color": "#E5ECF6",
              "width": 0.5
             }
            },
            "type": "barpolar"
           }
          ],
          "carpet": [
           {
            "aaxis": {
             "endlinecolor": "#2a3f5f",
             "gridcolor": "white",
             "linecolor": "white",
             "minorgridcolor": "white",
             "startlinecolor": "#2a3f5f"
            },
            "baxis": {
             "endlinecolor": "#2a3f5f",
             "gridcolor": "white",
             "linecolor": "white",
             "minorgridcolor": "white",
             "startlinecolor": "#2a3f5f"
            },
            "type": "carpet"
           }
          ],
          "choropleth": [
           {
            "colorbar": {
             "outlinewidth": 0,
             "ticks": ""
            },
            "type": "choropleth"
           }
          ],
          "contour": [
           {
            "colorbar": {
             "outlinewidth": 0,
             "ticks": ""
            },
            "colorscale": [
             [
              0,
              "#0d0887"
             ],
             [
              0.1111111111111111,
              "#46039f"
             ],
             [
              0.2222222222222222,
              "#7201a8"
             ],
             [
              0.3333333333333333,
              "#9c179e"
             ],
             [
              0.4444444444444444,
              "#bd3786"
             ],
             [
              0.5555555555555556,
              "#d8576b"
             ],
             [
              0.6666666666666666,
              "#ed7953"
             ],
             [
              0.7777777777777778,
              "#fb9f3a"
             ],
             [
              0.8888888888888888,
              "#fdca26"
             ],
             [
              1,
              "#f0f921"
             ]
            ],
            "type": "contour"
           }
          ],
          "contourcarpet": [
           {
            "colorbar": {
             "outlinewidth": 0,
             "ticks": ""
            },
            "type": "contourcarpet"
           }
          ],
          "heatmap": [
           {
            "colorbar": {
             "outlinewidth": 0,
             "ticks": ""
            },
            "colorscale": [
             [
              0,
              "#0d0887"
             ],
             [
              0.1111111111111111,
              "#46039f"
             ],
             [
              0.2222222222222222,
              "#7201a8"
             ],
             [
              0.3333333333333333,
              "#9c179e"
             ],
             [
              0.4444444444444444,
              "#bd3786"
             ],
             [
              0.5555555555555556,
              "#d8576b"
             ],
             [
              0.6666666666666666,
              "#ed7953"
             ],
             [
              0.7777777777777778,
              "#fb9f3a"
             ],
             [
              0.8888888888888888,
              "#fdca26"
             ],
             [
              1,
              "#f0f921"
             ]
            ],
            "type": "heatmap"
           }
          ],
          "heatmapgl": [
           {
            "colorbar": {
             "outlinewidth": 0,
             "ticks": ""
            },
            "colorscale": [
             [
              0,
              "#0d0887"
             ],
             [
              0.1111111111111111,
              "#46039f"
             ],
             [
              0.2222222222222222,
              "#7201a8"
             ],
             [
              0.3333333333333333,
              "#9c179e"
             ],
             [
              0.4444444444444444,
              "#bd3786"
             ],
             [
              0.5555555555555556,
              "#d8576b"
             ],
             [
              0.6666666666666666,
              "#ed7953"
             ],
             [
              0.7777777777777778,
              "#fb9f3a"
             ],
             [
              0.8888888888888888,
              "#fdca26"
             ],
             [
              1,
              "#f0f921"
             ]
            ],
            "type": "heatmapgl"
           }
          ],
          "histogram": [
           {
            "marker": {
             "colorbar": {
              "outlinewidth": 0,
              "ticks": ""
             }
            },
            "type": "histogram"
           }
          ],
          "histogram2d": [
           {
            "colorbar": {
             "outlinewidth": 0,
             "ticks": ""
            },
            "colorscale": [
             [
              0,
              "#0d0887"
             ],
             [
              0.1111111111111111,
              "#46039f"
             ],
             [
              0.2222222222222222,
              "#7201a8"
             ],
             [
              0.3333333333333333,
              "#9c179e"
             ],
             [
              0.4444444444444444,
              "#bd3786"
             ],
             [
              0.5555555555555556,
              "#d8576b"
             ],
             [
              0.6666666666666666,
              "#ed7953"
             ],
             [
              0.7777777777777778,
              "#fb9f3a"
             ],
             [
              0.8888888888888888,
              "#fdca26"
             ],
             [
              1,
              "#f0f921"
             ]
            ],
            "type": "histogram2d"
           }
          ],
          "histogram2dcontour": [
           {
            "colorbar": {
             "outlinewidth": 0,
             "ticks": ""
            },
            "colorscale": [
             [
              0,
              "#0d0887"
             ],
             [
              0.1111111111111111,
              "#46039f"
             ],
             [
              0.2222222222222222,
              "#7201a8"
             ],
             [
              0.3333333333333333,
              "#9c179e"
             ],
             [
              0.4444444444444444,
              "#bd3786"
             ],
             [
              0.5555555555555556,
              "#d8576b"
             ],
             [
              0.6666666666666666,
              "#ed7953"
             ],
             [
              0.7777777777777778,
              "#fb9f3a"
             ],
             [
              0.8888888888888888,
              "#fdca26"
             ],
             [
              1,
              "#f0f921"
             ]
            ],
            "type": "histogram2dcontour"
           }
          ],
          "mesh3d": [
           {
            "colorbar": {
             "outlinewidth": 0,
             "ticks": ""
            },
            "type": "mesh3d"
           }
          ],
          "parcoords": [
           {
            "line": {
             "colorbar": {
              "outlinewidth": 0,
              "ticks": ""
             }
            },
            "type": "parcoords"
           }
          ],
          "pie": [
           {
            "automargin": true,
            "type": "pie"
           }
          ],
          "scatter": [
           {
            "marker": {
             "colorbar": {
              "outlinewidth": 0,
              "ticks": ""
             }
            },
            "type": "scatter"
           }
          ],
          "scatter3d": [
           {
            "line": {
             "colorbar": {
              "outlinewidth": 0,
              "ticks": ""
             }
            },
            "marker": {
             "colorbar": {
              "outlinewidth": 0,
              "ticks": ""
             }
            },
            "type": "scatter3d"
           }
          ],
          "scattercarpet": [
           {
            "marker": {
             "colorbar": {
              "outlinewidth": 0,
              "ticks": ""
             }
            },
            "type": "scattercarpet"
           }
          ],
          "scattergeo": [
           {
            "marker": {
             "colorbar": {
              "outlinewidth": 0,
              "ticks": ""
             }
            },
            "type": "scattergeo"
           }
          ],
          "scattergl": [
           {
            "marker": {
             "colorbar": {
              "outlinewidth": 0,
              "ticks": ""
             }
            },
            "type": "scattergl"
           }
          ],
          "scattermapbox": [
           {
            "marker": {
             "colorbar": {
              "outlinewidth": 0,
              "ticks": ""
             }
            },
            "type": "scattermapbox"
           }
          ],
          "scatterpolar": [
           {
            "marker": {
             "colorbar": {
              "outlinewidth": 0,
              "ticks": ""
             }
            },
            "type": "scatterpolar"
           }
          ],
          "scatterpolargl": [
           {
            "marker": {
             "colorbar": {
              "outlinewidth": 0,
              "ticks": ""
             }
            },
            "type": "scatterpolargl"
           }
          ],
          "scatterternary": [
           {
            "marker": {
             "colorbar": {
              "outlinewidth": 0,
              "ticks": ""
             }
            },
            "type": "scatterternary"
           }
          ],
          "surface": [
           {
            "colorbar": {
             "outlinewidth": 0,
             "ticks": ""
            },
            "colorscale": [
             [
              0,
              "#0d0887"
             ],
             [
              0.1111111111111111,
              "#46039f"
             ],
             [
              0.2222222222222222,
              "#7201a8"
             ],
             [
              0.3333333333333333,
              "#9c179e"
             ],
             [
              0.4444444444444444,
              "#bd3786"
             ],
             [
              0.5555555555555556,
              "#d8576b"
             ],
             [
              0.6666666666666666,
              "#ed7953"
             ],
             [
              0.7777777777777778,
              "#fb9f3a"
             ],
             [
              0.8888888888888888,
              "#fdca26"
             ],
             [
              1,
              "#f0f921"
             ]
            ],
            "type": "surface"
           }
          ],
          "table": [
           {
            "cells": {
             "fill": {
              "color": "#EBF0F8"
             },
             "line": {
              "color": "white"
             }
            },
            "header": {
             "fill": {
              "color": "#C8D4E3"
             },
             "line": {
              "color": "white"
             }
            },
            "type": "table"
           }
          ]
         },
         "layout": {
          "annotationdefaults": {
           "arrowcolor": "#2a3f5f",
           "arrowhead": 0,
           "arrowwidth": 1
          },
          "autotypenumbers": "strict",
          "coloraxis": {
           "colorbar": {
            "outlinewidth": 0,
            "ticks": ""
           }
          },
          "colorscale": {
           "diverging": [
            [
             0,
             "#8e0152"
            ],
            [
             0.1,
             "#c51b7d"
            ],
            [
             0.2,
             "#de77ae"
            ],
            [
             0.3,
             "#f1b6da"
            ],
            [
             0.4,
             "#fde0ef"
            ],
            [
             0.5,
             "#f7f7f7"
            ],
            [
             0.6,
             "#e6f5d0"
            ],
            [
             0.7,
             "#b8e186"
            ],
            [
             0.8,
             "#7fbc41"
            ],
            [
             0.9,
             "#4d9221"
            ],
            [
             1,
             "#276419"
            ]
           ],
           "sequential": [
            [
             0,
             "#0d0887"
            ],
            [
             0.1111111111111111,
             "#46039f"
            ],
            [
             0.2222222222222222,
             "#7201a8"
            ],
            [
             0.3333333333333333,
             "#9c179e"
            ],
            [
             0.4444444444444444,
             "#bd3786"
            ],
            [
             0.5555555555555556,
             "#d8576b"
            ],
            [
             0.6666666666666666,
             "#ed7953"
            ],
            [
             0.7777777777777778,
             "#fb9f3a"
            ],
            [
             0.8888888888888888,
             "#fdca26"
            ],
            [
             1,
             "#f0f921"
            ]
           ],
           "sequentialminus": [
            [
             0,
             "#0d0887"
            ],
            [
             0.1111111111111111,
             "#46039f"
            ],
            [
             0.2222222222222222,
             "#7201a8"
            ],
            [
             0.3333333333333333,
             "#9c179e"
            ],
            [
             0.4444444444444444,
             "#bd3786"
            ],
            [
             0.5555555555555556,
             "#d8576b"
            ],
            [
             0.6666666666666666,
             "#ed7953"
            ],
            [
             0.7777777777777778,
             "#fb9f3a"
            ],
            [
             0.8888888888888888,
             "#fdca26"
            ],
            [
             1,
             "#f0f921"
            ]
           ]
          },
          "colorway": [
           "#636efa",
           "#EF553B",
           "#00cc96",
           "#ab63fa",
           "#FFA15A",
           "#19d3f3",
           "#FF6692",
           "#B6E880",
           "#FF97FF",
           "#FECB52"
          ],
          "font": {
           "color": "#2a3f5f"
          },
          "geo": {
           "bgcolor": "white",
           "lakecolor": "white",
           "landcolor": "#E5ECF6",
           "showlakes": true,
           "showland": true,
           "subunitcolor": "white"
          },
          "hoverlabel": {
           "align": "left"
          },
          "hovermode": "closest",
          "mapbox": {
           "style": "light"
          },
          "paper_bgcolor": "white",
          "plot_bgcolor": "#E5ECF6",
          "polar": {
           "angularaxis": {
            "gridcolor": "white",
            "linecolor": "white",
            "ticks": ""
           },
           "bgcolor": "#E5ECF6",
           "radialaxis": {
            "gridcolor": "white",
            "linecolor": "white",
            "ticks": ""
           }
          },
          "scene": {
           "xaxis": {
            "backgroundcolor": "#E5ECF6",
            "gridcolor": "white",
            "gridwidth": 2,
            "linecolor": "white",
            "showbackground": true,
            "ticks": "",
            "zerolinecolor": "white"
           },
           "yaxis": {
            "backgroundcolor": "#E5ECF6",
            "gridcolor": "white",
            "gridwidth": 2,
            "linecolor": "white",
            "showbackground": true,
            "ticks": "",
            "zerolinecolor": "white"
           },
           "zaxis": {
            "backgroundcolor": "#E5ECF6",
            "gridcolor": "white",
            "gridwidth": 2,
            "linecolor": "white",
            "showbackground": true,
            "ticks": "",
            "zerolinecolor": "white"
           }
          },
          "shapedefaults": {
           "line": {
            "color": "#2a3f5f"
           }
          },
          "ternary": {
           "aaxis": {
            "gridcolor": "white",
            "linecolor": "white",
            "ticks": ""
           },
           "baxis": {
            "gridcolor": "white",
            "linecolor": "white",
            "ticks": ""
           },
           "bgcolor": "#E5ECF6",
           "caxis": {
            "gridcolor": "white",
            "linecolor": "white",
            "ticks": ""
           }
          },
          "title": {
           "x": 0.05
          },
          "xaxis": {
           "automargin": true,
           "gridcolor": "white",
           "linecolor": "white",
           "ticks": "",
           "title": {
            "standoff": 15
           },
           "zerolinecolor": "white",
           "zerolinewidth": 2
          },
          "yaxis": {
           "automargin": true,
           "gridcolor": "white",
           "linecolor": "white",
           "ticks": "",
           "title": {
            "standoff": 15
           },
           "zerolinecolor": "white",
           "zerolinewidth": 2
          }
         }
        },
        "xaxis": {
         "anchor": "y",
         "autorange": true,
         "domain": [
          0,
          1
         ],
         "range": [
          3.608224830031759e-16,
          6.4
         ],
         "title": {
          "text": "tempo_de_empresa"
         },
         "type": "linear"
        },
        "yaxis": {
         "anchor": "x",
         "autorange": true,
         "domain": [
          0,
          1
         ],
         "range": [
          0,
          95.78947368421052
         ],
         "title": {
          "text": "count"
         }
        }
       }
      },
      "image/png": "[encoded data removed]",
      "text/html": [
       "<div>                            <div id=\"f03536fc-dac1-4216-9473-2435427560f8\" class=\"plotly-graph-div\" style=\"height:525px; width:100%;\"></div>            <script type=\"text/javascript\">                require([\"plotly\"], function(Plotly) {                    window.PLOTLYENV=window.PLOTLYENV || {};                                    if (document.getElementById(\"f03536fc-dac1-4216-9473-2435427560f8\")) {                    Plotly.newPlot(                        \"f03536fc-dac1-4216-9473-2435427560f8\",                        [{\"alignmentgroup\": \"True\", \"bingroup\": \"x\", \"hovertemplate\": \"tempo_de_empresa=%{x}<br>count=%{y}<extra></extra>\", \"legendgroup\": \"\", \"marker\": {\"color\": \"#636efa\"}, \"name\": \"\", \"offsetgroup\": \"\", \"orientation\": \"v\", \"showlegend\": false, \"type\": \"histogram\", \"x\": [2.09, 3.67, 4.25, 3.47, 3.45, 3.04, 2.25, 2.18, 4.3, 2.06, 3.32, 2.45, 3.86, 5.37, 3.2, 3.27, 2.81, 3.18, 3.41, 2.7, 2.81, 1.9, 2.36, 2.53, 3.84, 4.3, 4.34, 2.32, 2.86, 2.37, 2.41, 2.58, 2.51, 3.81, 2.22, 3.68, 4.38, 2.24, 4.29, 3.46, 3.76, 1.98, 3.33, 4.35, 3.5, 3.64, 5.51, 3.36, 3.1, 2.61, 4.25, 3.61, 2.08, 1.32, 1.71, 1.92, 2.27, 2.14, 4.27, 3.75, 2.91, 3.64, 2.47, 2.1, 4.3, 1.71, 3.03, 2.87, 4.57, 1.77, 3.17, 3.05, 2.23, 4.53, 4.78, 4.21, 4.24, 1.91, 1.37, 2.24, 2.79, 2.85, 3.67, 2.33, 3.82, 2.51, 2.33, 2.78, 1.83, 4.32, 2.91, 3.55, 2.48, 2.5, 3.62, 3.93, 2.86, 5.39, 3.23, 4.71, 2.08, 3.15, 2.38, 3.65, 3.36, 2.95, 1.97, 2.24, 2.18, 1.18, 3.13, 3.91, 0.79, 2.96, 2.9, 2.46, 2.92, 3.04, 3.55, 3.21, 4.17, 3.63, 2.76, 1.01, 1.63, 2.26, 3.74, 2.83, 3.35, 2.43, 3.64, 3.72, 3.55, 2.24, 2.97, 4.1, 2.95, 5.18, 2.86, 3.2, 3.55, 2.41, 1.69, 2.33, 2.22, 2.12, 2.51, 3.28, 3.66, 2.57, 3.61, 2.27, 3.96, 4.67, 1.34, 3.73, 3.81, 1.6, 3.71, 5.41, 4.26, 2.58, 1.55, 4.47, 4.02, 3.04, 4.0, 3.1, 5.34, 3.02, 2.83, 2.23, 2.46, 2.6, 4.48, 3.06, 6.23, 0.85, 2.05, 2.97, 1.74, 4.03, 3.32, 2.38, 4.6, 3.6, 4.95, 1.82, 2.92, 1.8, 1.91, 4.24, 2.49, 4.32, 3.82, 3.66, 2.15, 3.71, 3.78, 2.06, 3.35, 3.54, 4.72, 5.35, 4.22, 2.0, 3.88, 1.63, 3.25, 2.44, 2.87, 2.99, 2.15, 4.01, 3.65, 2.41, 2.08, 3.35, 4.59, 3.06, 3.33, 1.62, 3.03, 2.21, 4.2, 2.53, 3.69, 3.13, 4.5, 4.57, 0.35, 2.54, 3.56, 1.33, 3.66, 3.1, 1.06, 1.67, 2.94, 4.49, 3.46, 2.4, 1.66, 3.88, 2.5, 1.58, 2.72, 2.79, 1.88, 3.49, 2.63, 2.6, 2.21, 4.2, 4.05, 4.23, 3.26, 3.48, 2.61, 2.32, 3.28, 2.7, 2.9, 3.35, 1.55, 1.52, 1.61, 3.21, 1.34, 4.54, 2.34, 2.97, 3.02, 3.33, 3.39, 2.23, 2.44, 4.57, 2.29, 3.0, 2.26, 1.85, 2.92, 3.47, 4.13, 3.38, 3.71, 2.99, 2.86, 2.31, 4.46, 0.17, 2.51, 4.58, 5.06, 2.98, 2.01, 4.24, 2.69, 2.75, 1.46, 2.62, 2.5, 3.1, 4.26, 4.78, 4.31, 2.72, 2.56, 2.87, 3.07, 1.67, 3.54, 4.29, 3.98, 4.08, 4.89, 4.73, 1.83, 0.09, 2.87, 5.03, 3.65, 4.09, 3.2, 2.75, 3.34, 1.33, 3.02, 3.16, 3.18, 1.02, 0.85, 4.64, 1.09, 2.27, 2.33, 3.11, 4.35, 4.79, 3.37, 3.43, 3.13, 2.96, 2.91, 2.75, 4.38, 1.97, 5.62, 2.48, 2.5, 2.44, 2.89, 3.57, 2.56, 1.82, 2.67, 3.84, 4.11, 4.6, 1.03, 4.2, 4.97, 3.68, 2.61, 4.75, 4.59, 1.0, 1.63, 4.75, 2.79, 0.96, 4.33, 4.1, 4.05, 0.87, 4.13, 3.31, 1.14, 3.45, 4.98, 4.18, 2.8, 2.88, 4.52, 2.22, 3.79, 2.47, 4.44, 2.72, 2.0, 2.13, 5.66, 2.82, 3.83, 2.76, 2.04, 2.87, 2.09, 3.23, 2.68, 3.39, 1.49, 2.66, 3.87, 3.38, 5.13, 2.36, 2.81, 1.03, 3.03, 2.98, 3.83, 4.38, 2.78, 2.86, 1.6, 2.5, 3.45, 2.17, 1.64, 3.53, 4.12, 3.18, 3.08, 3.39, 3.32, 1.86, 1.91, 4.66, 4.41, 2.46, 2.66, 4.44, 3.11, 2.61, 3.35, 3.82, 5.1, 3.13, 2.91, 1.04, 2.52, 1.46, 4.41, 3.87, 1.82, 4.47, 2.57, 3.76, 2.32, 2.37, 1.94, 1.42, 2.13, 2.62, 2.89, 4.31, 3.05, 3.67, 5.18, 3.21, 3.48, 1.59, 4.05, 2.51, 1.0, 2.6, 1.16, 2.95, 2.96, 2.5, 1.77, 3.38, 2.9, 2.23, 2.22, 3.59, 3.4, 0.89, 3.45, 3.09, 1.31, 3.59, 2.74, 2.36, 2.6, 4.38, 2.76, 3.18, 2.1, 3.09, 2.3, 2.86, 2.52, 4.12, 3.52, 2.9, 3.66, 1.36, 2.32, 3.05, 3.61, 2.83, 1.81, 2.65, 3.68, 3.2, 3.28, 3.46, 1.99, 2.44, 3.8, 3.04, 1.76, 3.98, 5.18, 3.28, 2.4, 3.54, 3.41, 2.34, 1.07, 3.9, 3.03, 1.32, 3.99, 3.2, 3.2, 2.16, 3.13, 2.54, 2.51, 3.1, 3.45, 1.42, 2.99, 1.98, 5.49, 1.9, 1.59, 2.65, 1.04, 3.13, 2.56, 2.84, 1.87, 1.86, 3.98, 2.95, 3.03, 3.03, 2.78, 2.86, 3.65, 2.35, 2.91, 2.45, 4.54, 2.11, 3.24, 3.06, 2.16, 3.64, 3.0, 3.22, 2.29, 1.22, 2.24, 3.41, 3.69, 2.33, 2.79, 2.34, 2.85, 2.42, 4.62, 4.21, 2.1, 2.06, 1.84, 4.34, 3.36, 3.02, 2.75, 3.21, 3.92, 3.92, 4.04, 2.81, 2.03, 1.91, 4.48, 3.34, 4.51, 1.86, 2.07, 3.7, 2.32, 3.44, 3.58, 3.85, 3.45, 3.57, 3.57, 1.93, 3.44, 3.14, 3.71, 3.15, 2.61, 2.39, 3.0, 3.2, 2.88, 3.39, 3.14, 2.42, 2.81, 2.89, 2.42, 3.53, 2.9, 3.09, 1.59, 3.15, 3.59, 3.26, 2.52, 3.97, 4.89, 2.07, 3.96, 2.25, 0.52, 3.49, 2.83, 2.49, 4.53, 3.23, 4.74, 3.57, 1.5, 3.29, 3.04, 4.52, 3.72, 1.4, 2.97, 2.91, 2.12, 2.77, 3.22, 4.58, 4.54, 4.31, 3.66, 3.62, 5.41, 1.54, 3.37, 4.78, 4.36, 3.19, 3.0, 1.63, 3.18, 1.36, 3.84, 3.36, 4.33, 3.52, 2.61, 2.78, 2.45, 3.25, 2.99, 2.4, 2.6, 2.38, 2.98, 2.17, 2.51, 3.32, 3.8, 2.11, 2.88, 4.31, 2.64, 2.53, 2.3, 3.26, 1.57, 3.37, 1.97, 3.43, 2.72, 4.39, 4.5, 1.29, 2.21, 2.39, 2.23, 4.35, 3.89, 2.63, 3.35, 5.89, 2.68, 3.02, 3.03, 4.25, 2.03, 4.16, 3.74, 2.21, 3.73, 1.69, 2.11, 3.52, 3.21, 4.21, 2.41, 3.8, 1.79, 4.61, 3.47, 2.63, 2.93, 0.83, 3.14, 2.73, 3.27, 3.88, 4.61, 3.68, 3.87, 3.42, 3.58, 5.28, 1.31, 3.1, 1.99, 2.84, 3.24, 2.65, 4.17, 3.88, 3.34, 2.67, 4.55, 4.61, 3.13, 2.91, 3.16, 3.05, 2.17, 2.6, 2.81, 2.95, 2.1, 2.09, 2.91, 2.28, 2.18, 0.51, 4.34, 3.66, 3.26, 1.55, 2.09, 4.77, 2.92, 2.52, 1.4, 3.82, 2.16, 1.51, 2.62, 1.98, 2.44, 1.66, 2.08, 3.73, 3.15, 3.18, 2.85, 3.27, 1.36, 3.67, 1.06, 2.52, 3.31, 2.05, 3.17, 2.78, 4.87, 2.28, 4.61, 2.71, 2.64, 2.46, 3.9, 3.01, 2.65, 2.78, 5.07, 1.46, 2.49, 4.15, 3.09, 3.41, 1.89, 3.95, 4.03, 5.19, 4.01, 2.9, 2.75, 0.84, 4.19, 1.77, 2.42, 2.77, 4.16, 3.11, 3.58, 3.37, 4.04, 4.26, 1.86, 2.52, 2.99, 4.83, 2.93, 2.41, 4.98, 1.79, 4.63, 3.65, 3.57, 3.53, 2.22, 2.86, 2.54, 4.4, 3.52, 3.7, 3.0, 1.8, 2.23, 3.84, 1.26, 2.02, 3.7, 4.17, 4.54, 3.16, 3.1, 2.15, 3.33, 3.0, 3.51, 3.43, 3.79, 3.6, 2.74, 3.06, 3.57, 0.56, 3.13, 2.47, 2.78, 3.28, 4.25, 2.41, 3.5, 1.59, 3.88, 3.4, 2.68, 2.36, 4.47, 2.66, 1.25, 2.87, 0.56, 4.82, 2.55, 3.3, 3.05, 1.89, 3.27, 3.13, 3.21, 4.26, 3.53, 3.32, 2.71, 2.89, 3.05, 4.73, 3.68, 2.96, 2.11, 1.11, 3.37, 2.97, 4.18, 3.03, 2.8, 3.15, 3.28, 3.05, 3.65, 3.14, 2.71, 3.32, 3.4, 2.67, 2.67, 3.76, 2.92, 4.14, 3.6, 2.8, 1.77, 4.17, 4.15, 3.96, 1.87, 2.56, 2.93, 2.62, 2.34, 3.97, 4.2, 1.64, 2.57, 2.55, 3.5, 3.35, 3.04, 3.66, 1.63, 1.44, 2.88, 3.32, 3.05, 2.63, 2.39, 3.36, 2.58, 3.04, 3.48, 3.01, 2.12, 5.44, 3.9, 4.62, 3.8, 5.29, 2.88, 5.09, 2.31, 4.49, 1.73, 3.78, 3.98, 3.68, 1.93, 3.19, 2.76, 4.09, 2.64, 5.04, 2.31, 2.74, 1.93, 3.72, 3.16, 2.69, 3.18, 2.09, 2.31, 3.05, 2.51, 2.4, 2.68, 3.55, 2.31, 2.71, 4.76, 3.67, 2.85, 2.88, 2.95, 1.59, 2.97, 3.04], \"xaxis\": \"x\", \"yaxis\": \"y\"}],                        {\"barmode\": \"relative\", \"legend\": {\"tracegroupgap\": 0}, \"margin\": {\"t\": 60}, \"template\": {\"data\": {\"bar\": [{\"error_x\": {\"color\": \"#2a3f5f\"}, \"error_y\": {\"color\": \"#2a3f5f\"}, \"marker\": {\"line\": {\"color\": \"#E5ECF6\", \"width\": 0.5}}, \"type\": \"bar\"}], \"barpolar\": [{\"marker\": {\"line\": {\"color\": \"#E5ECF6\", \"width\": 0.5}}, \"type\": \"barpolar\"}], \"carpet\": [{\"aaxis\": {\"endlinecolor\": \"#2a3f5f\", \"gridcolor\": \"white\", \"linecolor\": \"white\", \"minorgridcolor\": \"white\", \"startlinecolor\": \"#2a3f5f\"}, \"baxis\": {\"endlinecolor\": \"#2a3f5f\", \"gridcolor\": \"white\", \"linecolor\": \"white\", \"minorgridcolor\": \"white\", \"startlinecolor\": \"#2a3f5f\"}, \"type\": \"carpet\"}], \"choropleth\": [{\"colorbar\": {\"outlinewidth\": 0, \"ticks\": \"\"}, \"type\": \"choropleth\"}], \"contour\": [{\"colorbar\": {\"outlinewidth\": 0, \"ticks\": \"\"}, \"colorscale\": [[0.0, \"#0d0887\"], [0.1111111111111111, \"#46039f\"], [0.2222222222222222, \"#7201a8\"], [0.3333333333333333, \"#9c179e\"], [0.4444444444444444, \"#bd3786\"], [0.5555555555555556, \"#d8576b\"], [0.6666666666666666, \"#ed7953\"], [0.7777777777777778, \"#fb9f3a\"], [0.8888888888888888, \"#fdca26\"], [1.0, \"#f0f921\"]], \"type\": \"contour\"}], \"contourcarpet\": [{\"colorbar\": {\"outlinewidth\": 0, \"ticks\": \"\"}, \"type\": \"contourcarpet\"}], \"heatmap\": [{\"colorbar\": {\"outlinewidth\": 0, \"ticks\": \"\"}, \"colorscale\": [[0.0, \"#0d0887\"], [0.1111111111111111, \"#46039f\"], [0.2222222222222222, \"#7201a8\"], [0.3333333333333333, \"#9c179e\"], [0.4444444444444444, \"#bd3786\"], [0.5555555555555556, \"#d8576b\"], [0.6666666666666666, \"#ed7953\"], [0.7777777777777778, \"#fb9f3a\"], [0.8888888888888888, \"#fdca26\"], [1.0, \"#f0f921\"]], \"type\": \"heatmap\"}], \"heatmapgl\": [{\"colorbar\": {\"outlinewidth\": 0, \"ticks\": \"\"}, \"colorscale\": [[0.0, \"#0d0887\"], [0.1111111111111111, \"#46039f\"], [0.2222222222222222, \"#7201a8\"], [0.3333333333333333, \"#9c179e\"], [0.4444444444444444, \"#bd3786\"], [0.5555555555555556, \"#d8576b\"], [0.6666666666666666, \"#ed7953\"], [0.7777777777777778, \"#fb9f3a\"], [0.8888888888888888, \"#fdca26\"], [1.0, \"#f0f921\"]], \"type\": \"heatmapgl\"}], \"histogram\": [{\"marker\": {\"colorbar\": {\"outlinewidth\": 0, \"ticks\": \"\"}}, \"type\": \"histogram\"}], \"histogram2d\": [{\"colorbar\": {\"outlinewidth\": 0, \"ticks\": \"\"}, \"colorscale\": [[0.0, \"#0d0887\"], [0.1111111111111111, \"#46039f\"], [0.2222222222222222, \"#7201a8\"], [0.3333333333333333, \"#9c179e\"], [0.4444444444444444, \"#bd3786\"], [0.5555555555555556, \"#d8576b\"], [0.6666666666666666, \"#ed7953\"], [0.7777777777777778, \"#fb9f3a\"], [0.8888888888888888, \"#fdca26\"], [1.0, \"#f0f921\"]], \"type\": \"histogram2d\"}], \"histogram2dcontour\": [{\"colorbar\": {\"outlinewidth\": 0, \"ticks\": \"\"}, \"colorscale\": [[0.0, \"#0d0887\"], [0.1111111111111111, \"#46039f\"], [0.2222222222222222, \"#7201a8\"], [0.3333333333333333, \"#9c179e\"], [0.4444444444444444, \"#bd3786\"], [0.5555555555555556, \"#d8576b\"], [0.6666666666666666, \"#ed7953\"], [0.7777777777777778, \"#fb9f3a\"], [0.8888888888888888, \"#fdca26\"], [1.0, \"#f0f921\"]], \"type\": \"histogram2dcontour\"}], \"mesh3d\": [{\"colorbar\": {\"outlinewidth\": 0, \"ticks\": \"\"}, \"type\": \"mesh3d\"}], \"parcoords\": [{\"line\": {\"colorbar\": {\"outlinewidth\": 0, \"ticks\": \"\"}}, \"type\": \"parcoords\"}], \"pie\": [{\"automargin\": true, \"type\": \"pie\"}], \"scatter\": [{\"marker\": {\"colorbar\": {\"outlinewidth\": 0, \"ticks\": \"\"}}, \"type\": \"scatter\"}], \"scatter3d\": [{\"line\": {\"colorbar\": {\"outlinewidth\": 0, \"ticks\": \"\"}}, \"marker\": {\"colorbar\": {\"outlinewidth\": 0, \"ticks\": \"\"}}, \"type\": \"scatter3d\"}], \"scattercarpet\": [{\"marker\": {\"colorbar\": {\"outlinewidth\": 0, \"ticks\": \"\"}}, \"type\": \"scattercarpet\"}], \"scattergeo\": [{\"marker\": {\"colorbar\": {\"outlinewidth\": 0, \"ticks\": \"\"}}, \"type\": \"scattergeo\"}], \"scattergl\": [{\"marker\": {\"colorbar\": {\"outlinewidth\": 0, \"ticks\": \"\"}}, \"type\": \"scattergl\"}], \"scattermapbox\": [{\"marker\": {\"colorbar\": {\"outlinewidth\": 0, \"ticks\": \"\"}}, \"type\": \"scattermapbox\"}], \"scatterpolar\": [{\"marker\": {\"colorbar\": {\"outlinewidth\": 0, \"ticks\": \"\"}}, \"type\": \"scatterpolar\"}], \"scatterpolargl\": [{\"marker\": {\"colorbar\": {\"outlinewidth\": 0, \"ticks\": \"\"}}, \"type\": \"scatterpolargl\"}], \"scatterternary\": [{\"marker\": {\"colorbar\": {\"outlinewidth\": 0, \"ticks\": \"\"}}, \"type\": \"scatterternary\"}], \"surface\": [{\"colorbar\": {\"outlinewidth\": 0, \"ticks\": \"\"}, \"colorscale\": [[0.0, \"#0d0887\"], [0.1111111111111111, \"#46039f\"], [0.2222222222222222, \"#7201a8\"], [0.3333333333333333, \"#9c179e\"], [0.4444444444444444, \"#bd3786\"], [0.5555555555555556, \"#d8576b\"], [0.6666666666666666, \"#ed7953\"], [0.7777777777777778, \"#fb9f3a\"], [0.8888888888888888, \"#fdca26\"], [1.0, \"#f0f921\"]], \"type\": \"surface\"}], \"table\": [{\"cells\": {\"fill\": {\"color\": \"#EBF0F8\"}, \"line\": {\"color\": \"white\"}}, \"header\": {\"fill\": {\"color\": \"#C8D4E3\"}, \"line\": {\"color\": \"white\"}}, \"type\": \"table\"}]}, \"layout\": {\"annotationdefaults\": {\"arrowcolor\": \"#2a3f5f\", \"arrowhead\": 0, \"arrowwidth\": 1}, \"autotypenumbers\": \"strict\", \"coloraxis\": {\"colorbar\": {\"outlinewidth\": 0, \"ticks\": \"\"}}, \"colorscale\": {\"diverging\": [[0, \"#8e0152\"], [0.1, \"#c51b7d\"], [0.2, \"#de77ae\"], [0.3, \"#f1b6da\"], [0.4, \"#fde0ef\"], [0.5, \"#f7f7f7\"], [0.6, \"#e6f5d0\"], [0.7, \"#b8e186\"], [0.8, \"#7fbc41\"], [0.9, \"#4d9221\"], [1, \"#276419\"]], \"sequential\": [[0.0, \"#0d0887\"], [0.1111111111111111, \"#46039f\"], [0.2222222222222222, \"#7201a8\"], [0.3333333333333333, \"#9c179e\"], [0.4444444444444444, \"#bd3786\"], [0.5555555555555556, \"#d8576b\"], [0.6666666666666666, \"#ed7953\"], [0.7777777777777778, \"#fb9f3a\"], [0.8888888888888888, \"#fdca26\"], [1.0, \"#f0f921\"]], \"sequentialminus\": [[0.0, \"#0d0887\"], [0.1111111111111111, \"#46039f\"], [0.2222222222222222, \"#7201a8\"], [0.3333333333333333, \"#9c179e\"], [0.4444444444444444, \"#bd3786\"], [0.5555555555555556, \"#d8576b\"], [0.6666666666666666, \"#ed7953\"], [0.7777777777777778, \"#fb9f3a\"], [0.8888888888888888, \"#fdca26\"], [1.0, \"#f0f921\"]]}, \"colorway\": [\"#636efa\", \"#EF553B\", \"#00cc96\", \"#ab63fa\", \"#FFA15A\", \"#19d3f3\", \"#FF6692\", \"#B6E880\", \"#FF97FF\", \"#FECB52\"], \"font\": {\"color\": \"#2a3f5f\"}, \"geo\": {\"bgcolor\": \"white\", \"lakecolor\": \"white\", \"landcolor\": \"#E5ECF6\", \"showlakes\": true, \"showland\": true, \"subunitcolor\": \"white\"}, \"hoverlabel\": {\"align\": \"left\"}, \"hovermode\": \"closest\", \"mapbox\": {\"style\": \"light\"}, \"paper_bgcolor\": \"white\", \"plot_bgcolor\": \"#E5ECF6\", \"polar\": {\"angularaxis\": {\"gridcolor\": \"white\", \"linecolor\": \"white\", \"ticks\": \"\"}, \"bgcolor\": \"#E5ECF6\", \"radialaxis\": {\"gridcolor\": \"white\", \"linecolor\": \"white\", \"ticks\": \"\"}}, \"scene\": {\"xaxis\": {\"backgroundcolor\": \"#E5ECF6\", \"gridcolor\": \"white\", \"gridwidth\": 2, \"linecolor\": \"white\", \"showbackground\": true, \"ticks\": \"\", \"zerolinecolor\": \"white\"}, \"yaxis\": {\"backgroundcolor\": \"#E5ECF6\", \"gridcolor\": \"white\", \"gridwidth\": 2, \"linecolor\": \"white\", \"showbackground\": true, \"ticks\": \"\", \"zerolinecolor\": \"white\"}, \"zaxis\": {\"backgroundcolor\": \"#E5ECF6\", \"gridcolor\": \"white\", \"gridwidth\": 2, \"linecolor\": \"white\", \"showbackground\": true, \"ticks\": \"\", \"zerolinecolor\": \"white\"}}, \"shapedefaults\": {\"line\": {\"color\": \"#2a3f5f\"}}, \"ternary\": {\"aaxis\": {\"gridcolor\": \"white\", \"linecolor\": \"white\", \"ticks\": \"\"}, \"baxis\": {\"gridcolor\": \"white\", \"linecolor\": \"white\", \"ticks\": \"\"}, \"bgcolor\": \"#E5ECF6\", \"caxis\": {\"gridcolor\": \"white\", \"linecolor\": \"white\", \"ticks\": \"\"}}, \"title\": {\"x\": 0.05}, \"xaxis\": {\"automargin\": true, \"gridcolor\": \"white\", \"linecolor\": \"white\", \"ticks\": \"\", \"title\": {\"standoff\": 15}, \"zerolinecolor\": \"white\", \"zerolinewidth\": 2}, \"yaxis\": {\"automargin\": true, \"gridcolor\": \"white\", \"linecolor\": \"white\", \"ticks\": \"\", \"title\": {\"standoff\": 15}, \"zerolinecolor\": \"white\", \"zerolinewidth\": 2}}}, \"xaxis\": {\"anchor\": \"y\", \"domain\": [0.0, 1.0], \"title\": {\"text\": \"tempo_de_empresa\"}}, \"yaxis\": {\"anchor\": \"x\", \"domain\": [0.0, 1.0], \"title\": {\"text\": \"count\"}}},                        {\"responsive\": true}                    ).then(function(){\n",
       "                            \n",
       "var gd = document.getElementById('f03536fc-dac1-4216-9473-2435427560f8');\n",
       "var x = new MutationObserver(function (mutations, observer) {{\n",
       "        var display = window.getComputedStyle(gd).display;\n",
       "        if (!display || display === 'none') {{\n",
       "            console.log([gd, 'removed!']);\n",
       "            Plotly.purge(gd);\n",
       "            observer.disconnect();\n",
       "        }}\n",
       "}});\n",
       "\n",
       "// Listen for the removal of the full notebook cells\n",
       "var notebookContainer = gd.closest('#notebook-container');\n",
       "if (notebookContainer) {{\n",
       "    x.observe(notebookContainer, {childList: true});\n",
       "}}\n",
       "\n",
       "// Listen for the clearing of the current output cell\n",
       "var outputEl = gd.closest('.output');\n",
       "if (outputEl) {{\n",
       "    x.observe(outputEl, {childList: true});\n",
       "}}\n",
       "\n",
       "                        })                };                });            </script>        </div>"
      ]
     },
     "metadata": {},
     "output_type": "display_data"
    }
   ],
   "source": [
    "# Definindo o tempo médio de empresa\n",
    "average_time = 3\n",
    "sd_time = 1\n",
    "\n",
    "# Criando uma amostra de tempo de empresa\n",
    "company_time = np.random.normal(average_time, sd_time, len(dataset))\n",
    "company_time = [round(abs(i), 2) for i in company_time]\n",
    "\n",
    "# Adicionando ao dataset\n",
    "dataset['tempo_de_empresa'] = company_time\n",
    "\n",
    "# Plotando\n",
    "fig = px.histogram(dataset, x = \"tempo_de_empresa\")\n",
    "fig.show()"
   ]
  },
  {
   "cell_type": "markdown",
   "id": "d1190b01-173f-4074-9ca5-43542922bb50",
   "metadata": {},
   "source": [
    "#### 5) Criando o último salário, em reais, de cada colaborador"
   ]
  },
  {
   "cell_type": "code",
   "execution_count": 29,
   "id": "50bac20c-3d16-4bac-a970-748556e673d4",
   "metadata": {},
   "outputs": [
    {
     "data": {
      "application/vnd.plotly.v1+json": {
       "config": {
        "plotlyServerURL": "https://plotly.com"
       },
       "data": [
        {
         "name": "People",
         "nbinsx": 20,
         "type": "histogram",
         "x": [
          3658.57,
          2424.55,
          2796.11,
          3089.17,
          2836.03,
          11463.27,
          7296.03,
          9362.81,
          12349.12,
          8493.37,
          8753.04,
          9698.5,
          11590.23,
          5083.29,
          8277.18,
          10157.79,
          9982.88,
          5453.32,
          4865.94,
          4330.87,
          6350.51,
          6185.48,
          4503.32,
          6266.12,
          4126.17,
          4658.29,
          3416.77,
          4347.42,
          4392.24,
          5809.71,
          2551.35,
          2990,
          3883.95,
          2682.91,
          3457.4,
          4417.45,
          2853.84,
          2160.27,
          3500.45,
          2447.57,
          3531.64
         ],
         "xaxis": "x",
         "yaxis": "y"
        },
        {
         "name": "FP&A",
         "nbinsx": 20,
         "type": "histogram",
         "x": [
          2636.32,
          5818.2,
          10090.84,
          6984.82,
          8189.87,
          10993.45,
          11930.12,
          5953.58,
          8423.89,
          8391.32,
          8514.04,
          9155.69,
          4668.06,
          4003.4,
          4086.27,
          4201.35,
          2074.11,
          4108.39,
          6768.61,
          6543.55,
          8122.19,
          6277.05,
          4426.43,
          7263.91,
          7599.14,
          5160.98,
          4029.17,
          4852.23,
          5416.53,
          4055.48,
          4588.4,
          3018.7,
          2242.1,
          3039.9,
          3025.64,
          2698.46,
          2840.51,
          5222.07,
          3468.26,
          5478.73,
          4403.57,
          4252.31,
          3861.11
         ],
         "xaxis": "x2",
         "yaxis": "y2"
        },
        {
         "name": "Engenharia",
         "nbinsx": 20,
         "type": "histogram",
         "x": [
          3241.96,
          3582.51,
          2268.45,
          3046.45,
          3101.61,
          2853.51,
          2410.78,
          3989.73,
          3133.41,
          3055.28,
          2119.02,
          2365.93,
          3466.3,
          2479.86,
          2918.79,
          3170.28,
          3345.63,
          2904.51,
          3721.71,
          3351.52,
          2921.45,
          3922.57,
          1774.29,
          2884.51,
          10747.6,
          8591.05,
          8323,
          10149.59,
          10926.27,
          7851.06,
          6890.64,
          7882.2,
          8713.38,
          9981.93,
          9793.74,
          8307.6,
          8948.41,
          8092.66,
          10301.84,
          9148.23,
          11095.11,
          9591.71,
          8599.63,
          8830.91,
          9335.91,
          8225.48,
          9332.66,
          8452.3,
          10171.17,
          7536.41,
          9767.39,
          12405.11,
          9875.5,
          10400.43,
          11098.9,
          10095.27,
          8735.45,
          12298.27,
          8495.98,
          10881.31,
          7620.98,
          7419.42,
          8124.46,
          6087.35,
          9943.12,
          10033.63,
          7102.41,
          9160.13,
          9122.9,
          7447.57,
          11499.96,
          10545.71,
          8393.69,
          10176.99,
          9594.52,
          11215.46,
          9234.26,
          7958.86,
          10474.43,
          9094.74,
          8846.42,
          4388.86,
          9529.7,
          9515.1,
          8604.51,
          8090.1,
          6409.15,
          10042.86,
          8649.75,
          11761.62,
          8394.36,
          10225.44,
          9891.15,
          8514.57,
          10792,
          9092.98,
          7392.62,
          11082.64,
          7102.32,
          8383.35,
          6557.87,
          3655.35,
          3617.73,
          6269.89,
          5725.63,
          4327.14,
          5219.2,
          4690.73,
          4275.14,
          3398.62,
          4026.99,
          5457.58,
          4904.35,
          3948.17,
          3644.13,
          4023.48,
          4184.56,
          3685.41,
          2531.13,
          4009.27,
          4572.66,
          3681.63,
          5307.66,
          5903.07,
          4769.69,
          3901.07,
          3365.36,
          4859.23,
          4553.28,
          3649.86,
          5421.98,
          4703.63,
          4771.76,
          7365.22,
          5769.53,
          5869.37,
          4903.21,
          6115.04,
          4849.71,
          4889.64,
          4986.09,
          3947.11,
          9055.27,
          4584.45,
          7978.64,
          7621.41,
          4953.56,
          6002.01,
          4743.85,
          6092.17,
          6902.67,
          6122,
          5568.24,
          6186.55,
          5003.49,
          5692.43,
          6880.56,
          6993.72,
          7369.14,
          7304.59,
          2848.34,
          4802.32,
          6014.42,
          5137.59,
          6491.84,
          6009.49,
          7379.53,
          6185.16,
          5085.23,
          5733.04,
          6528.37,
          6315.15,
          7555.51,
          4152.3,
          3939.63,
          3814.26,
          4710.75,
          2605.6,
          4191.35,
          4765.74,
          3595.68,
          3660.93,
          6553.74,
          3557.07,
          4723.39,
          3804.95,
          4320.77,
          5746.3,
          3606.43,
          4169.18,
          5764.14,
          4187.53,
          3221.98,
          5328.89,
          5209.41,
          2409.52,
          3208.45,
          4032.04,
          2522.76,
          3218.68,
          3872.94,
          2897.32,
          2745.01,
          3562.16,
          3081.78,
          3090.74,
          3885,
          1983.88,
          3494.63,
          3467.67,
          3315.44,
          1843.87,
          3473.63,
          2078.14,
          3982.91,
          2638.03,
          3134.78,
          3062.36,
          2862.95,
          2734.19,
          2998.13,
          2302.93,
          3590.95,
          1896.02,
          3249.97,
          2400,
          2918.73,
          2772.32,
          3087.59,
          2949.34,
          4602.49,
          5199.24,
          4176.26,
          4383.73,
          3181.53,
          3285.89,
          5350.17,
          4654.9,
          4586.85,
          3761.1,
          5586.04,
          3311.79,
          5184.63,
          5439.38,
          4882.18,
          4913.28,
          3956.65,
          4400.25,
          4341.69,
          4456.89,
          3772.68,
          6318.66,
          3694.28,
          5011.89,
          5055.54,
          4661.34,
          5577.14,
          3862.14,
          5053.8,
          4307.94,
          3875.93,
          4226.35,
          5171.09,
          5140.98,
          4791.09,
          4979.67,
          4333.49,
          4227.3,
          4620.53,
          4316.35,
          3233.37
         ],
         "xaxis": "x3",
         "yaxis": "y3"
        },
        {
         "name": "Customer Success",
         "nbinsx": 20,
         "type": "histogram",
         "x": [
          3721.5,
          3168.4,
          3474.39,
          3180.75,
          2723.28,
          3041.37,
          2830.75,
          2906.86,
          2133.49,
          2777.79,
          2431.83,
          4012.36,
          2626.48,
          3242.65,
          2431.08,
          5776.21,
          9171.9,
          7956.78,
          12748.82,
          10902.39,
          10767.69,
          9466.12,
          10056.99,
          8843.27,
          7403.25,
          9085.02,
          8037.46,
          7846.26,
          10582.63,
          10533.55,
          10509.27,
          8112.3,
          6375.62,
          10468.64,
          10259.14,
          7444.73,
          9987.89,
          10586.98,
          9079.81,
          8895.66,
          7923.62,
          9919.24,
          7861.25,
          9076.36,
          7485.08,
          9678.09,
          8335.82,
          10062.73,
          8278.53,
          5182.11,
          4733.82,
          4366.04,
          4477.23,
          5099.65,
          4641.23,
          4992.86,
          5803.99,
          4346.28,
          6600.27,
          4720.91,
          6834.77,
          4868.82,
          2851.28,
          5525.27,
          6124.96,
          4281.48,
          4973.31,
          7251.3,
          5897.19,
          5909.18,
          4820.31,
          7053.24,
          6712.9,
          5552.33,
          7768.24,
          5937.55,
          4384.84,
          5710.29,
          7070.64,
          7931.68,
          6145.71,
          6588.4,
          6074.94,
          6395.33,
          5435.6,
          4153.56,
          4194.46,
          4020.11,
          4458.73,
          2623.39,
          3817.72,
          3712.43,
          3980.82,
          4798.85,
          3084.59,
          4837.89,
          4298.9,
          3869.18,
          4396.26,
          4729.12,
          5471.72,
          5131.8,
          2947.41,
          4677.2,
          3541.68,
          2805.64,
          3201.73,
          4051.55,
          3147.1,
          4333.92,
          3790.27,
          5522.4,
          4441.81,
          4815.45,
          3549.14,
          3559.18,
          4572.23,
          4664.6,
          4660.95,
          4051.15,
          4409.29,
          4941.15,
          3327.55,
          3957.23,
          4775.91,
          4068.99,
          4903.1,
          5035.42,
          4928,
          4193.33,
          3599.95
         ],
         "xaxis": "x4",
         "yaxis": "y4"
        },
        {
         "name": "Comercial",
         "nbinsx": 20,
         "type": "histogram",
         "x": [
          2816.14,
          2453.43,
          2885.43,
          2990.34,
          2059.76,
          3357.79,
          3574.59,
          3399.8,
          3579.89,
          2867.9,
          3749.61,
          3343,
          3666.83,
          4010.64,
          2715.99,
          11483.74,
          8623.47,
          12740.43,
          9333.62,
          8518.55,
          8775.41,
          8025.6,
          7973.25,
          9568.71,
          9686.2,
          6759.17,
          10436.78,
          9679.26,
          8692.52,
          6194,
          8311.21,
          9162.04,
          8484.38,
          7899.99,
          7089.55,
          7014.59,
          13317.28,
          6613.66,
          10356.19,
          9460.33,
          7625.37,
          9812.83,
          8666.67,
          7600.48,
          6676.68,
          10745.31,
          6167.97,
          8099.2,
          8702.73,
          8382.54,
          9903.36,
          8398.27,
          9056.07,
          7678.88,
          8372.31,
          5239.31,
          4275.25,
          4280.72,
          4397.39,
          4912.5,
          4486.18,
          4471.67,
          4228.66,
          5732.18,
          4493.03,
          4410.77,
          4308.83,
          4130.86,
          3216.75,
          4681.63,
          4425.83,
          4749.5,
          4150.38,
          5417.93,
          4355.08,
          6624.79,
          6793.63,
          5846.07,
          6116.68,
          4202.97,
          3846.71,
          5083.39,
          7028.5,
          4565.01,
          6077.43,
          6061.99,
          3685.09,
          5848.58,
          5114.49,
          6460.09,
          4314.35,
          4123.81,
          4008.57,
          3968.38,
          3077.95,
          4556.23,
          5774.54,
          5827.58,
          4151.44,
          4128.11,
          5151.81,
          2507.42,
          2859.43,
          2880.14,
          2523.19,
          2141.87,
          2342.74,
          3198.85,
          2120.93,
          2445.44,
          3540.94,
          2936.05,
          3152.46,
          3091.56,
          2331.53,
          3381,
          3127.46,
          2296.96,
          3662.39,
          2919.55,
          3311.93,
          2768.94,
          3445.79,
          2529.75,
          3432.41,
          2765.78,
          3441.32,
          4595.37,
          3735.66,
          4196.88,
          3962.09,
          4060.21,
          4396.42,
          4691.97,
          4595.98,
          3948.04,
          4236.75,
          4370.17,
          3169.68,
          5064.86
         ],
         "xaxis": "x5",
         "yaxis": "y5"
        },
        {
         "name": "Suporte",
         "nbinsx": 20,
         "type": "histogram",
         "x": [
          3026.41,
          2824.21,
          3711.6,
          3910.75,
          2667.2,
          2779.59,
          2978.08,
          9198.01,
          9022.86,
          8640.84,
          5952.46,
          8687.14,
          7041.18,
          7065.21,
          10607.58,
          8583.83,
          7831.96,
          9531.36,
          6381.56,
          9075.16,
          11082.25,
          9249.45,
          10655.59,
          8595.99,
          11421.38,
          9919.78,
          6802.8,
          7096.96,
          11957.14,
          9004.95,
          9027.28,
          10298.26,
          8754.8,
          7183.21,
          5207.25,
          3902.66,
          4103.97,
          6250.13,
          5669.61,
          4043.53,
          3589.1,
          6128.92,
          4913.84,
          4527.92,
          3822.56,
          4819.19,
          4640.92,
          5853.99,
          3756.65,
          4237.58,
          7763.73,
          6531.11,
          5589.1,
          8133.36,
          6736.52,
          5314.15,
          6157.07,
          5292.93,
          4509.81,
          5501.28,
          5790.29,
          7017.31,
          6049.96,
          5881.58,
          6348.25,
          5019.97,
          4584.48,
          4805.19,
          5477.58,
          5905.9,
          4028.77,
          4951.75,
          3080.13,
          4343.97,
          4944.19,
          3138.44,
          2561.61,
          3045.61,
          2301.37,
          3053.22,
          2785.6,
          2833.64,
          1888.81,
          2611.07,
          2557.23,
          2155.19,
          2707.99,
          3540.46,
          6625.64,
          3449.56,
          5076.6,
          5121.62,
          5049.58,
          3586.26,
          3879.08,
          6687.86,
          4241.34,
          4871.77,
          4982.98
         ],
         "xaxis": "x6",
         "yaxis": "y6"
        },
        {
         "name": "Jurídico",
         "nbinsx": 20,
         "type": "histogram",
         "x": [
          2418.06,
          11373.17,
          9278.05,
          10162.79,
          9441.3,
          10257.28,
          6968.02,
          6756.19,
          7298.1,
          11456.25,
          7619.71,
          9746,
          6291.86,
          5837.07,
          3809.41,
          5645.32,
          3307.76,
          2995.45,
          4249.36,
          5779.74,
          7472.97,
          5107.12,
          6789.42,
          2786.2,
          6440.13,
          4711.25,
          5342.93,
          4250.88,
          5561,
          5700.44,
          4278.93,
          3086.85,
          2828.4,
          3175.1,
          3607.59,
          2287.08,
          2245.26,
          3501.73,
          3326.86,
          3538.99,
          3926.52,
          4051.57,
          4091.2,
          3659.3
         ],
         "xaxis": "x7",
         "yaxis": "y7"
        },
        {
         "name": "TI",
         "nbinsx": 20,
         "type": "histogram",
         "x": [
          3650.1,
          3089.07,
          3103.48,
          8270.25,
          3707.98,
          10595.41,
          9457.54,
          10128.75,
          9951.06,
          8880.11,
          8780.68,
          9837.58,
          8678.82,
          8987.72,
          8132.04,
          7750.64,
          5262.67,
          3814.31,
          4867.19,
          4644.27,
          5282.34,
          3550.03,
          4527.74,
          4874.75,
          4054.81,
          6930.79,
          6081.86,
          6032.32,
          3196.86,
          5061.53,
          5250.15,
          5846.89,
          4976.5,
          5477.08,
          3312.83,
          5529.42,
          5095.18,
          4717.85,
          3811.06,
          3211.68,
          2399.49,
          1961.41,
          3882.18,
          3526.97,
          2938.47,
          4508.46,
          3445.65,
          3793.65
         ],
         "xaxis": "x8",
         "yaxis": "y8"
        },
        {
         "name": "Marketing",
         "nbinsx": 20,
         "type": "histogram",
         "x": [
          2560.64,
          2942.04,
          2155.14,
          8459.96,
          9072.55,
          7283.59,
          7610.24,
          9665.42,
          10933.92,
          4593.6,
          5851.16,
          3446.44,
          4845.63,
          4774.37,
          3357.4,
          5208.66,
          6189.24,
          4463.39,
          3333.14,
          4239.15,
          8180.57,
          6365.56,
          4284.72,
          5587.21,
          7514.64,
          5510.94,
          4299.41,
          4289.14,
          2426.35,
          3112.1,
          3046.53,
          2290.73,
          3445.4,
          3387.34,
          4371.73,
          2984.4,
          3699.93,
          3355.52,
          2706.51,
          3382.74,
          3040.56,
          3159.16,
          3690.65,
          5664.28,
          5297.66,
          3682.74,
          4711.16,
          4670.01
         ],
         "xaxis": "x9",
         "yaxis": "y9"
        },
        {
         "name": "Operações",
         "nbinsx": 20,
         "type": "histogram",
         "x": [
          3259.03,
          3398.58,
          3324.26,
          3262.34,
          2808.2,
          2379.69,
          3877.85,
          2205.7,
          2953.09,
          3025.46,
          7379.9,
          7335.95,
          9245.85,
          8195.51,
          7283.09,
          12507.28,
          8758.19,
          8703.11,
          7419.95,
          9759,
          9835.27,
          6849.44,
          9678.96,
          7467.46,
          10909.83,
          11791.89,
          9455.12,
          9943.47,
          9342.34,
          10030.18,
          7775.4,
          9557.11,
          11001.79,
          11862.76,
          6051.49,
          7968.95,
          8119.97,
          11242.78,
          6635.77,
          9127.58,
          10468.84,
          10464.58,
          9229.74,
          9751.5,
          10305.62,
          8123.51,
          9079.18,
          8433.76,
          10381.26,
          6624.51,
          5016.63,
          4915.81,
          4716.48,
          4292.77,
          4059.47,
          3281.12,
          3436.52,
          4463.04,
          5805.73,
          4498.42,
          3837.98,
          4911.02,
          4379.59,
          5240.95,
          4345.85,
          5948.72,
          5647.86,
          5865.83,
          5688.38,
          6223.71,
          5591.78,
          5214.99,
          6955.5,
          6646.96,
          7189.15,
          5204.13,
          5927.71,
          3807.91,
          5125.6,
          6256.22,
          6559.34,
          5834.9,
          4726.07,
          4711.7,
          2570.95,
          4381,
          3909.97,
          3900.68,
          5329.63,
          4792.3,
          4022.1,
          4315.8,
          4515.94,
          2758.58,
          2785.12,
          2864.72,
          2436.26,
          3143.81,
          2842.42,
          2718.37,
          3108.43,
          3388.56,
          3088.9,
          3225.2,
          3028.54,
          4463.11,
          2791.89,
          3586.9,
          3308.24,
          3066.54,
          2759.62,
          4906.43,
          4500.78,
          4065.32,
          4072.38,
          4672.56,
          3544.82,
          5415.64,
          3126.76,
          5051.86,
          4886.49,
          5224.35,
          4943.38,
          4758.71,
          3710.33,
          4136.57,
          5696.28,
          4592.77,
          4431.07,
          4010.62,
          5527.71,
          3932.41
         ],
         "xaxis": "x10",
         "yaxis": "y10"
        }
       ],
       "layout": {
        "height": 1000,
        "template": {
         "data": {
          "bar": [
           {
            "error_x": {
             "color": "#2a3f5f"
            },
            "error_y": {
             "color": "#2a3f5f"
            },
            "marker": {
             "line": {
              "color": "#E5ECF6",
              "width": 0.5
             }
            },
            "type": "bar"
           }
          ],
          "barpolar": [
           {
            "marker": {
             "line": {
              "color": "#E5ECF6",
              "width": 0.5
             }
            },
            "type": "barpolar"
           }
          ],
          "carpet": [
           {
            "aaxis": {
             "endlinecolor": "#2a3f5f",
             "gridcolor": "white",
             "linecolor": "white",
             "minorgridcolor": "white",
             "startlinecolor": "#2a3f5f"
            },
            "baxis": {
             "endlinecolor": "#2a3f5f",
             "gridcolor": "white",
             "linecolor": "white",
             "minorgridcolor": "white",
             "startlinecolor": "#2a3f5f"
            },
            "type": "carpet"
           }
          ],
          "choropleth": [
           {
            "colorbar": {
             "outlinewidth": 0,
             "ticks": ""
            },
            "type": "choropleth"
           }
          ],
          "contour": [
           {
            "colorbar": {
             "outlinewidth": 0,
             "ticks": ""
            },
            "colorscale": [
             [
              0,
              "#0d0887"
             ],
             [
              0.1111111111111111,
              "#46039f"
             ],
             [
              0.2222222222222222,
              "#7201a8"
             ],
             [
              0.3333333333333333,
              "#9c179e"
             ],
             [
              0.4444444444444444,
              "#bd3786"
             ],
             [
              0.5555555555555556,
              "#d8576b"
             ],
             [
              0.6666666666666666,
              "#ed7953"
             ],
             [
              0.7777777777777778,
              "#fb9f3a"
             ],
             [
              0.8888888888888888,
              "#fdca26"
             ],
             [
              1,
              "#f0f921"
             ]
            ],
            "type": "contour"
           }
          ],
          "contourcarpet": [
           {
            "colorbar": {
             "outlinewidth": 0,
             "ticks": ""
            },
            "type": "contourcarpet"
           }
          ],
          "heatmap": [
           {
            "colorbar": {
             "outlinewidth": 0,
             "ticks": ""
            },
            "colorscale": [
             [
              0,
              "#0d0887"
             ],
             [
              0.1111111111111111,
              "#46039f"
             ],
             [
              0.2222222222222222,
              "#7201a8"
             ],
             [
              0.3333333333333333,
              "#9c179e"
             ],
             [
              0.4444444444444444,
              "#bd3786"
             ],
             [
              0.5555555555555556,
              "#d8576b"
             ],
             [
              0.6666666666666666,
              "#ed7953"
             ],
             [
              0.7777777777777778,
              "#fb9f3a"
             ],
             [
              0.8888888888888888,
              "#fdca26"
             ],
             [
              1,
              "#f0f921"
             ]
            ],
            "type": "heatmap"
           }
          ],
          "heatmapgl": [
           {
            "colorbar": {
             "outlinewidth": 0,
             "ticks": ""
            },
            "colorscale": [
             [
              0,
              "#0d0887"
             ],
             [
              0.1111111111111111,
              "#46039f"
             ],
             [
              0.2222222222222222,
              "#7201a8"
             ],
             [
              0.3333333333333333,
              "#9c179e"
             ],
             [
              0.4444444444444444,
              "#bd3786"
             ],
             [
              0.5555555555555556,
              "#d8576b"
             ],
             [
              0.6666666666666666,
              "#ed7953"
             ],
             [
              0.7777777777777778,
              "#fb9f3a"
             ],
             [
              0.8888888888888888,
              "#fdca26"
             ],
             [
              1,
              "#f0f921"
             ]
            ],
            "type": "heatmapgl"
           }
          ],
          "histogram": [
           {
            "marker": {
             "colorbar": {
              "outlinewidth": 0,
              "ticks": ""
             }
            },
            "type": "histogram"
           }
          ],
          "histogram2d": [
           {
            "colorbar": {
             "outlinewidth": 0,
             "ticks": ""
            },
            "colorscale": [
             [
              0,
              "#0d0887"
             ],
             [
              0.1111111111111111,
              "#46039f"
             ],
             [
              0.2222222222222222,
              "#7201a8"
             ],
             [
              0.3333333333333333,
              "#9c179e"
             ],
             [
              0.4444444444444444,
              "#bd3786"
             ],
             [
              0.5555555555555556,
              "#d8576b"
             ],
             [
              0.6666666666666666,
              "#ed7953"
             ],
             [
              0.7777777777777778,
              "#fb9f3a"
             ],
             [
              0.8888888888888888,
              "#fdca26"
             ],
             [
              1,
              "#f0f921"
             ]
            ],
            "type": "histogram2d"
           }
          ],
          "histogram2dcontour": [
           {
            "colorbar": {
             "outlinewidth": 0,
             "ticks": ""
            },
            "colorscale": [
             [
              0,
              "#0d0887"
             ],
             [
              0.1111111111111111,
              "#46039f"
             ],
             [
              0.2222222222222222,
              "#7201a8"
             ],
             [
              0.3333333333333333,
              "#9c179e"
             ],
             [
              0.4444444444444444,
              "#bd3786"
             ],
             [
              0.5555555555555556,
              "#d8576b"
             ],
             [
              0.6666666666666666,
              "#ed7953"
             ],
             [
              0.7777777777777778,
              "#fb9f3a"
             ],
             [
              0.8888888888888888,
              "#fdca26"
             ],
             [
              1,
              "#f0f921"
             ]
            ],
            "type": "histogram2dcontour"
           }
          ],
          "mesh3d": [
           {
            "colorbar": {
             "outlinewidth": 0,
             "ticks": ""
            },
            "type": "mesh3d"
           }
          ],
          "parcoords": [
           {
            "line": {
             "colorbar": {
              "outlinewidth": 0,
              "ticks": ""
             }
            },
            "type": "parcoords"
           }
          ],
          "pie": [
           {
            "automargin": true,
            "type": "pie"
           }
          ],
          "scatter": [
           {
            "marker": {
             "colorbar": {
              "outlinewidth": 0,
              "ticks": ""
             }
            },
            "type": "scatter"
           }
          ],
          "scatter3d": [
           {
            "line": {
             "colorbar": {
              "outlinewidth": 0,
              "ticks": ""
             }
            },
            "marker": {
             "colorbar": {
              "outlinewidth": 0,
              "ticks": ""
             }
            },
            "type": "scatter3d"
           }
          ],
          "scattercarpet": [
           {
            "marker": {
             "colorbar": {
              "outlinewidth": 0,
              "ticks": ""
             }
            },
            "type": "scattercarpet"
           }
          ],
          "scattergeo": [
           {
            "marker": {
             "colorbar": {
              "outlinewidth": 0,
              "ticks": ""
             }
            },
            "type": "scattergeo"
           }
          ],
          "scattergl": [
           {
            "marker": {
             "colorbar": {
              "outlinewidth": 0,
              "ticks": ""
             }
            },
            "type": "scattergl"
           }
          ],
          "scattermapbox": [
           {
            "marker": {
             "colorbar": {
              "outlinewidth": 0,
              "ticks": ""
             }
            },
            "type": "scattermapbox"
           }
          ],
          "scatterpolar": [
           {
            "marker": {
             "colorbar": {
              "outlinewidth": 0,
              "ticks": ""
             }
            },
            "type": "scatterpolar"
           }
          ],
          "scatterpolargl": [
           {
            "marker": {
             "colorbar": {
              "outlinewidth": 0,
              "ticks": ""
             }
            },
            "type": "scatterpolargl"
           }
          ],
          "scatterternary": [
           {
            "marker": {
             "colorbar": {
              "outlinewidth": 0,
              "ticks": ""
             }
            },
            "type": "scatterternary"
           }
          ],
          "surface": [
           {
            "colorbar": {
             "outlinewidth": 0,
             "ticks": ""
            },
            "colorscale": [
             [
              0,
              "#0d0887"
             ],
             [
              0.1111111111111111,
              "#46039f"
             ],
             [
              0.2222222222222222,
              "#7201a8"
             ],
             [
              0.3333333333333333,
              "#9c179e"
             ],
             [
              0.4444444444444444,
              "#bd3786"
             ],
             [
              0.5555555555555556,
              "#d8576b"
             ],
             [
              0.6666666666666666,
              "#ed7953"
             ],
             [
              0.7777777777777778,
              "#fb9f3a"
             ],
             [
              0.8888888888888888,
              "#fdca26"
             ],
             [
              1,
              "#f0f921"
             ]
            ],
            "type": "surface"
           }
          ],
          "table": [
           {
            "cells": {
             "fill": {
              "color": "#EBF0F8"
             },
             "line": {
              "color": "white"
             }
            },
            "header": {
             "fill": {
              "color": "#C8D4E3"
             },
             "line": {
              "color": "white"
             }
            },
            "type": "table"
           }
          ]
         },
         "layout": {
          "annotationdefaults": {
           "arrowcolor": "#2a3f5f",
           "arrowhead": 0,
           "arrowwidth": 1
          },
          "autotypenumbers": "strict",
          "coloraxis": {
           "colorbar": {
            "outlinewidth": 0,
            "ticks": ""
           }
          },
          "colorscale": {
           "diverging": [
            [
             0,
             "#8e0152"
            ],
            [
             0.1,
             "#c51b7d"
            ],
            [
             0.2,
             "#de77ae"
            ],
            [
             0.3,
             "#f1b6da"
            ],
            [
             0.4,
             "#fde0ef"
            ],
            [
             0.5,
             "#f7f7f7"
            ],
            [
             0.6,
             "#e6f5d0"
            ],
            [
             0.7,
             "#b8e186"
            ],
            [
             0.8,
             "#7fbc41"
            ],
            [
             0.9,
             "#4d9221"
            ],
            [
             1,
             "#276419"
            ]
           ],
           "sequential": [
            [
             0,
             "#0d0887"
            ],
            [
             0.1111111111111111,
             "#46039f"
            ],
            [
             0.2222222222222222,
             "#7201a8"
            ],
            [
             0.3333333333333333,
             "#9c179e"
            ],
            [
             0.4444444444444444,
             "#bd3786"
            ],
            [
             0.5555555555555556,
             "#d8576b"
            ],
            [
             0.6666666666666666,
             "#ed7953"
            ],
            [
             0.7777777777777778,
             "#fb9f3a"
            ],
            [
             0.8888888888888888,
             "#fdca26"
            ],
            [
             1,
             "#f0f921"
            ]
           ],
           "sequentialminus": [
            [
             0,
             "#0d0887"
            ],
            [
             0.1111111111111111,
             "#46039f"
            ],
            [
             0.2222222222222222,
             "#7201a8"
            ],
            [
             0.3333333333333333,
             "#9c179e"
            ],
            [
             0.4444444444444444,
             "#bd3786"
            ],
            [
             0.5555555555555556,
             "#d8576b"
            ],
            [
             0.6666666666666666,
             "#ed7953"
            ],
            [
             0.7777777777777778,
             "#fb9f3a"
            ],
            [
             0.8888888888888888,
             "#fdca26"
            ],
            [
             1,
             "#f0f921"
            ]
           ]
          },
          "colorway": [
           "#636efa",
           "#EF553B",
           "#00cc96",
           "#ab63fa",
           "#FFA15A",
           "#19d3f3",
           "#FF6692",
           "#B6E880",
           "#FF97FF",
           "#FECB52"
          ],
          "font": {
           "color": "#2a3f5f"
          },
          "geo": {
           "bgcolor": "white",
           "lakecolor": "white",
           "landcolor": "#E5ECF6",
           "showlakes": true,
           "showland": true,
           "subunitcolor": "white"
          },
          "hoverlabel": {
           "align": "left"
          },
          "hovermode": "closest",
          "mapbox": {
           "style": "light"
          },
          "paper_bgcolor": "white",
          "plot_bgcolor": "#E5ECF6",
          "polar": {
           "angularaxis": {
            "gridcolor": "white",
            "linecolor": "white",
            "ticks": ""
           },
           "bgcolor": "#E5ECF6",
           "radialaxis": {
            "gridcolor": "white",
            "linecolor": "white",
            "ticks": ""
           }
          },
          "scene": {
           "xaxis": {
            "backgroundcolor": "#E5ECF6",
            "gridcolor": "white",
            "gridwidth": 2,
            "linecolor": "white",
            "showbackground": true,
            "ticks": "",
            "zerolinecolor": "white"
           },
           "yaxis": {
            "backgroundcolor": "#E5ECF6",
            "gridcolor": "white",
            "gridwidth": 2,
            "linecolor": "white",
            "showbackground": true,
            "ticks": "",
            "zerolinecolor": "white"
           },
           "zaxis": {
            "backgroundcolor": "#E5ECF6",
            "gridcolor": "white",
            "gridwidth": 2,
            "linecolor": "white",
            "showbackground": true,
            "ticks": "",
            "zerolinecolor": "white"
           }
          },
          "shapedefaults": {
           "line": {
            "color": "#2a3f5f"
           }
          },
          "ternary": {
           "aaxis": {
            "gridcolor": "white",
            "linecolor": "white",
            "ticks": ""
           },
           "baxis": {
            "gridcolor": "white",
            "linecolor": "white",
            "ticks": ""
           },
           "bgcolor": "#E5ECF6",
           "caxis": {
            "gridcolor": "white",
            "linecolor": "white",
            "ticks": ""
           }
          },
          "title": {
           "x": 0.05
          },
          "xaxis": {
           "automargin": true,
           "gridcolor": "white",
           "linecolor": "white",
           "ticks": "",
           "title": {
            "standoff": 15
           },
           "zerolinecolor": "white",
           "zerolinewidth": 2
          },
          "yaxis": {
           "automargin": true,
           "gridcolor": "white",
           "linecolor": "white",
           "ticks": "",
           "title": {
            "standoff": 15
           },
           "zerolinecolor": "white",
           "zerolinewidth": 2
          }
         }
        },
        "width": 1500,
        "xaxis": {
         "anchor": "y",
         "autorange": true,
         "domain": [
          0,
          0.45
         ],
         "range": [
          2000,
          13000
         ],
         "type": "linear"
        },
        "xaxis10": {
         "anchor": "y10",
         "autorange": true,
         "domain": [
          0.55,
          1
         ],
         "range": [
          2000,
          13000
         ],
         "type": "linear"
        },
        "xaxis2": {
         "anchor": "y2",
         "autorange": true,
         "domain": [
          0.55,
          1
         ],
         "range": [
          2000,
          12000
         ],
         "type": "linear"
        },
        "xaxis3": {
         "anchor": "y3",
         "autorange": true,
         "domain": [
          0,
          0.45
         ],
         "range": [
          1000,
          13000
         ],
         "type": "linear"
        },
        "xaxis4": {
         "anchor": "y4",
         "autorange": true,
         "domain": [
          0.55,
          1
         ],
         "range": [
          2000,
          13000
         ],
         "type": "linear"
        },
        "xaxis5": {
         "anchor": "y5",
         "autorange": true,
         "domain": [
          0,
          0.45
         ],
         "range": [
          2000,
          14000
         ],
         "type": "linear"
        },
        "xaxis6": {
         "anchor": "y6",
         "autorange": true,
         "domain": [
          0.55,
          1
         ],
         "range": [
          1000,
          12000
         ],
         "type": "linear"
        },
        "xaxis7": {
         "anchor": "y7",
         "autorange": true,
         "domain": [
          0,
          0.45
         ],
         "range": [
          2000,
          11500
         ],
         "type": "linear"
        },
        "xaxis8": {
         "anchor": "y8",
         "autorange": true,
         "domain": [
          0.55,
          1
         ],
         "range": [
          1500,
          11000
         ],
         "type": "linear"
        },
        "xaxis9": {
         "anchor": "y9",
         "autorange": true,
         "domain": [
          0,
          0.45
         ],
         "range": [
          2000,
          11000
         ],
         "type": "linear"
        },
        "yaxis": {
         "anchor": "x",
         "autorange": true,
         "domain": [
          0.848,
          1
         ],
         "range": [
          0,
          9.473684210526315
         ]
        },
        "yaxis10": {
         "anchor": "x10",
         "autorange": true,
         "domain": [
          0,
          0.152
         ],
         "range": [
          0,
          30.526315789473685
         ]
        },
        "yaxis2": {
         "anchor": "x2",
         "autorange": true,
         "domain": [
          0.848,
          1
         ],
         "range": [
          0,
          9.473684210526315
         ]
        },
        "yaxis3": {
         "anchor": "x3",
         "autorange": true,
         "domain": [
          0.6359999999999999,
          0.7879999999999999
         ],
         "range": [
          0,
          62.10526315789474
         ]
        },
        "yaxis4": {
         "anchor": "x4",
         "autorange": true,
         "domain": [
          0.6359999999999999,
          0.7879999999999999
         ],
         "range": [
          0,
          40
         ]
        },
        "yaxis5": {
         "anchor": "x5",
         "autorange": true,
         "domain": [
          0.424,
          0.576
         ],
         "range": [
          0,
          34.73684210526316
         ]
        },
        "yaxis6": {
         "anchor": "x6",
         "autorange": true,
         "domain": [
          0.424,
          0.576
         ],
         "range": [
          0,
          17.894736842105264
         ]
        },
        "yaxis7": {
         "anchor": "x7",
         "autorange": true,
         "domain": [
          0.212,
          0.364
         ],
         "range": [
          0,
          6.315789473684211
         ]
        },
        "yaxis8": {
         "anchor": "x8",
         "autorange": true,
         "domain": [
          0.212,
          0.364
         ],
         "range": [
          0,
          8.421052631578947
         ]
        },
        "yaxis9": {
         "anchor": "x9",
         "autorange": true,
         "domain": [
          0,
          0.152
         ],
         "range": [
          0,
          11.578947368421053
         ]
        }
       }
      },
      "image/png": "[encoded data removed]",
      "text/html": [
       "<div>                            <div id=\"e04235bd-544a-472c-b145-885015dcb58f\" class=\"plotly-graph-div\" style=\"height:1000px; width:1500px;\"></div>            <script type=\"text/javascript\">                require([\"plotly\"], function(Plotly) {                    window.PLOTLYENV=window.PLOTLYENV || {};                                    if (document.getElementById(\"e04235bd-544a-472c-b145-885015dcb58f\")) {                    Plotly.newPlot(                        \"e04235bd-544a-472c-b145-885015dcb58f\",                        [{\"name\": \"People\", \"nbinsx\": 20, \"type\": \"histogram\", \"x\": [3658.57, 2424.55, 2796.11, 3089.17, 2836.03, 11463.27, 7296.03, 9362.81, 12349.12, 8493.37, 8753.04, 9698.5, 11590.23, 5083.29, 8277.18, 10157.79, 9982.88, 5453.32, 4865.94, 4330.87, 6350.51, 6185.48, 4503.32, 6266.12, 4126.17, 4658.29, 3416.77, 4347.42, 4392.24, 5809.71, 2551.35, 2990.0, 3883.95, 2682.91, 3457.4, 4417.45, 2853.84, 2160.27, 3500.45, 2447.57, 3531.64], \"xaxis\": \"x\", \"yaxis\": \"y\"}, {\"name\": \"FP&A\", \"nbinsx\": 20, \"type\": \"histogram\", \"x\": [2636.32, 5818.2, 10090.84, 6984.82, 8189.87, 10993.45, 11930.12, 5953.58, 8423.89, 8391.32, 8514.04, 9155.69, 4668.06, 4003.4, 4086.27, 4201.35, 2074.11, 4108.39, 6768.61, 6543.55, 8122.19, 6277.05, 4426.43, 7263.91, 7599.14, 5160.98, 4029.17, 4852.23, 5416.53, 4055.48, 4588.4, 3018.7, 2242.1, 3039.9, 3025.64, 2698.46, 2840.51, 5222.07, 3468.26, 5478.73, 4403.57, 4252.31, 3861.11], \"xaxis\": \"x2\", \"yaxis\": \"y2\"}, {\"name\": \"Engenharia\", \"nbinsx\": 20, \"type\": \"histogram\", \"x\": [3241.96, 3582.51, 2268.45, 3046.45, 3101.61, 2853.51, 2410.78, 3989.73, 3133.41, 3055.28, 2119.02, 2365.93, 3466.3, 2479.86, 2918.79, 3170.28, 3345.63, 2904.51, 3721.71, 3351.52, 2921.45, 3922.57, 1774.29, 2884.51, 10747.6, 8591.05, 8323.0, 10149.59, 10926.27, 7851.06, 6890.64, 7882.2, 8713.38, 9981.93, 9793.74, 8307.6, 8948.41, 8092.66, 10301.84, 9148.23, 11095.11, 9591.71, 8599.63, 8830.91, 9335.91, 8225.48, 9332.66, 8452.3, 10171.17, 7536.41, 9767.39, 12405.11, 9875.5, 10400.43, 11098.9, 10095.27, 8735.45, 12298.27, 8495.98, 10881.31, 7620.98, 7419.42, 8124.46, 6087.35, 9943.12, 10033.63, 7102.41, 9160.13, 9122.9, 7447.57, 11499.96, 10545.71, 8393.69, 10176.99, 9594.52, 11215.46, 9234.26, 7958.86, 10474.43, 9094.74, 8846.42, 4388.86, 9529.7, 9515.1, 8604.51, 8090.1, 6409.15, 10042.86, 8649.75, 11761.62, 8394.36, 10225.44, 9891.15, 8514.57, 10792.0, 9092.98, 7392.62, 11082.64, 7102.32, 8383.35, 6557.87, 3655.35, 3617.73, 6269.89, 5725.63, 4327.14, 5219.2, 4690.73, 4275.14, 3398.62, 4026.99, 5457.58, 4904.35, 3948.17, 3644.13, 4023.48, 4184.56, 3685.41, 2531.13, 4009.27, 4572.66, 3681.63, 5307.66, 5903.07, 4769.69, 3901.07, 3365.36, 4859.23, 4553.28, 3649.86, 5421.98, 4703.63, 4771.76, 7365.22, 5769.53, 5869.37, 4903.21, 6115.04, 4849.71, 4889.64, 4986.09, 3947.11, 9055.27, 4584.45, 7978.64, 7621.41, 4953.56, 6002.01, 4743.85, 6092.17, 6902.67, 6122.0, 5568.24, 6186.55, 5003.49, 5692.43, 6880.56, 6993.72, 7369.14, 7304.59, 2848.34, 4802.32, 6014.42, 5137.59, 6491.84, 6009.49, 7379.53, 6185.16, 5085.23, 5733.04, 6528.37, 6315.15, 7555.51, 4152.3, 3939.63, 3814.26, 4710.75, 2605.6, 4191.35, 4765.74, 3595.68, 3660.93, 6553.74, 3557.07, 4723.39, 3804.95, 4320.77, 5746.3, 3606.43, 4169.18, 5764.14, 4187.53, 3221.98, 5328.89, 5209.41, 2409.52, 3208.45, 4032.04, 2522.76, 3218.68, 3872.94, 2897.32, 2745.01, 3562.16, 3081.78, 3090.74, 3885.0, 1983.88, 3494.63, 3467.67, 3315.44, 1843.87, 3473.63, 2078.14, 3982.91, 2638.03, 3134.78, 3062.36, 2862.95, 2734.19, 2998.13, 2302.93, 3590.95, 1896.02, 3249.97, 2400.0, 2918.73, 2772.32, 3087.59, 2949.34, 4602.49, 5199.24, 4176.26, 4383.73, 3181.53, 3285.89, 5350.17, 4654.9, 4586.85, 3761.1, 5586.04, 3311.79, 5184.63, 5439.38, 4882.18, 4913.28, 3956.65, 4400.25, 4341.69, 4456.89, 3772.68, 6318.66, 3694.28, 5011.89, 5055.54, 4661.34, 5577.14, 3862.14, 5053.8, 4307.94, 3875.93, 4226.35, 5171.09, 5140.98, 4791.09, 4979.67, 4333.49, 4227.3, 4620.53, 4316.35, 3233.37], \"xaxis\": \"x3\", \"yaxis\": \"y3\"}, {\"name\": \"Customer Success\", \"nbinsx\": 20, \"type\": \"histogram\", \"x\": [3721.5, 3168.4, 3474.39, 3180.75, 2723.28, 3041.37, 2830.75, 2906.86, 2133.49, 2777.79, 2431.83, 4012.36, 2626.48, 3242.65, 2431.08, 5776.21, 9171.9, 7956.78, 12748.82, 10902.39, 10767.69, 9466.12, 10056.99, 8843.27, 7403.25, 9085.02, 8037.46, 7846.26, 10582.63, 10533.55, 10509.27, 8112.3, 6375.62, 10468.64, 10259.14, 7444.73, 9987.89, 10586.98, 9079.81, 8895.66, 7923.62, 9919.24, 7861.25, 9076.36, 7485.08, 9678.09, 8335.82, 10062.73, 8278.53, 5182.11, 4733.82, 4366.04, 4477.23, 5099.65, 4641.23, 4992.86, 5803.99, 4346.28, 6600.27, 4720.91, 6834.77, 4868.82, 2851.28, 5525.27, 6124.96, 4281.48, 4973.31, 7251.3, 5897.19, 5909.18, 4820.31, 7053.24, 6712.9, 5552.33, 7768.24, 5937.55, 4384.84, 5710.29, 7070.64, 7931.68, 6145.71, 6588.4, 6074.94, 6395.33, 5435.6, 4153.56, 4194.46, 4020.11, 4458.73, 2623.39, 3817.72, 3712.43, 3980.82, 4798.85, 3084.59, 4837.89, 4298.9, 3869.18, 4396.26, 4729.12, 5471.72, 5131.8, 2947.41, 4677.2, 3541.68, 2805.64, 3201.73, 4051.55, 3147.1, 4333.92, 3790.27, 5522.4, 4441.81, 4815.45, 3549.14, 3559.18, 4572.23, 4664.6, 4660.95, 4051.15, 4409.29, 4941.15, 3327.55, 3957.23, 4775.91, 4068.99, 4903.1, 5035.42, 4928.0, 4193.33, 3599.95], \"xaxis\": \"x4\", \"yaxis\": \"y4\"}, {\"name\": \"Comercial\", \"nbinsx\": 20, \"type\": \"histogram\", \"x\": [2816.14, 2453.43, 2885.43, 2990.34, 2059.76, 3357.79, 3574.59, 3399.8, 3579.89, 2867.9, 3749.61, 3343.0, 3666.83, 4010.64, 2715.99, 11483.74, 8623.47, 12740.43, 9333.62, 8518.55, 8775.41, 8025.6, 7973.25, 9568.71, 9686.2, 6759.17, 10436.78, 9679.26, 8692.52, 6194.0, 8311.21, 9162.04, 8484.38, 7899.99, 7089.55, 7014.59, 13317.28, 6613.66, 10356.19, 9460.33, 7625.37, 9812.83, 8666.67, 7600.48, 6676.68, 10745.31, 6167.97, 8099.2, 8702.73, 8382.54, 9903.36, 8398.27, 9056.07, 7678.88, 8372.31, 5239.31, 4275.25, 4280.72, 4397.39, 4912.5, 4486.18, 4471.67, 4228.66, 5732.18, 4493.03, 4410.77, 4308.83, 4130.86, 3216.75, 4681.63, 4425.83, 4749.5, 4150.38, 5417.93, 4355.08, 6624.79, 6793.63, 5846.07, 6116.68, 4202.97, 3846.71, 5083.39, 7028.5, 4565.01, 6077.43, 6061.99, 3685.09, 5848.58, 5114.49, 6460.09, 4314.35, 4123.81, 4008.57, 3968.38, 3077.95, 4556.23, 5774.54, 5827.58, 4151.44, 4128.11, 5151.81, 2507.42, 2859.43, 2880.14, 2523.19, 2141.87, 2342.74, 3198.85, 2120.93, 2445.44, 3540.94, 2936.05, 3152.46, 3091.56, 2331.53, 3381.0, 3127.46, 2296.96, 3662.39, 2919.55, 3311.93, 2768.94, 3445.79, 2529.75, 3432.41, 2765.78, 3441.32, 4595.37, 3735.66, 4196.88, 3962.09, 4060.21, 4396.42, 4691.97, 4595.98, 3948.04, 4236.75, 4370.17, 3169.68, 5064.86], \"xaxis\": \"x5\", \"yaxis\": \"y5\"}, {\"name\": \"Suporte\", \"nbinsx\": 20, \"type\": \"histogram\", \"x\": [3026.41, 2824.21, 3711.6, 3910.75, 2667.2, 2779.59, 2978.08, 9198.01, 9022.86, 8640.84, 5952.46, 8687.14, 7041.18, 7065.21, 10607.58, 8583.83, 7831.96, 9531.36, 6381.56, 9075.16, 11082.25, 9249.45, 10655.59, 8595.99, 11421.38, 9919.78, 6802.8, 7096.96, 11957.14, 9004.95, 9027.28, 10298.26, 8754.8, 7183.21, 5207.25, 3902.66, 4103.97, 6250.13, 5669.61, 4043.53, 3589.1, 6128.92, 4913.84, 4527.92, 3822.56, 4819.19, 4640.92, 5853.99, 3756.65, 4237.58, 7763.73, 6531.11, 5589.1, 8133.36, 6736.52, 5314.15, 6157.07, 5292.93, 4509.81, 5501.28, 5790.29, 7017.31, 6049.96, 5881.58, 6348.25, 5019.97, 4584.48, 4805.19, 5477.58, 5905.9, 4028.77, 4951.75, 3080.13, 4343.97, 4944.19, 3138.44, 2561.61, 3045.61, 2301.37, 3053.22, 2785.6, 2833.64, 1888.81, 2611.07, 2557.23, 2155.19, 2707.99, 3540.46, 6625.64, 3449.56, 5076.6, 5121.62, 5049.58, 3586.26, 3879.08, 6687.86, 4241.34, 4871.77, 4982.98], \"xaxis\": \"x6\", \"yaxis\": \"y6\"}, {\"name\": \"Jur\\u00eddico\", \"nbinsx\": 20, \"type\": \"histogram\", \"x\": [2418.06, 11373.17, 9278.05, 10162.79, 9441.3, 10257.28, 6968.02, 6756.19, 7298.1, 11456.25, 7619.71, 9746.0, 6291.86, 5837.07, 3809.41, 5645.32, 3307.76, 2995.45, 4249.36, 5779.74, 7472.97, 5107.12, 6789.42, 2786.2, 6440.13, 4711.25, 5342.93, 4250.88, 5561.0, 5700.44, 4278.93, 3086.85, 2828.4, 3175.1, 3607.59, 2287.08, 2245.26, 3501.73, 3326.86, 3538.99, 3926.52, 4051.57, 4091.2, 3659.3], \"xaxis\": \"x7\", \"yaxis\": \"y7\"}, {\"name\": \"TI\", \"nbinsx\": 20, \"type\": \"histogram\", \"x\": [3650.1, 3089.07, 3103.48, 8270.25, 3707.98, 10595.41, 9457.54, 10128.75, 9951.06, 8880.11, 8780.68, 9837.58, 8678.82, 8987.72, 8132.04, 7750.64, 5262.67, 3814.31, 4867.19, 4644.27, 5282.34, 3550.03, 4527.74, 4874.75, 4054.81, 6930.79, 6081.86, 6032.32, 3196.86, 5061.53, 5250.15, 5846.89, 4976.5, 5477.08, 3312.83, 5529.42, 5095.18, 4717.85, 3811.06, 3211.68, 2399.49, 1961.41, 3882.18, 3526.97, 2938.47, 4508.46, 3445.65, 3793.65], \"xaxis\": \"x8\", \"yaxis\": \"y8\"}, {\"name\": \"Marketing\", \"nbinsx\": 20, \"type\": \"histogram\", \"x\": [2560.64, 2942.04, 2155.14, 8459.96, 9072.55, 7283.59, 7610.24, 9665.42, 10933.92, 4593.6, 5851.16, 3446.44, 4845.63, 4774.37, 3357.4, 5208.66, 6189.24, 4463.39, 3333.14, 4239.15, 8180.57, 6365.56, 4284.72, 5587.21, 7514.64, 5510.94, 4299.41, 4289.14, 2426.35, 3112.1, 3046.53, 2290.73, 3445.4, 3387.34, 4371.73, 2984.4, 3699.93, 3355.52, 2706.51, 3382.74, 3040.56, 3159.16, 3690.65, 5664.28, 5297.66, 3682.74, 4711.16, 4670.01], \"xaxis\": \"x9\", \"yaxis\": \"y9\"}, {\"name\": \"Opera\\u00e7\\u00f5es\", \"nbinsx\": 20, \"type\": \"histogram\", \"x\": [3259.03, 3398.58, 3324.26, 3262.34, 2808.2, 2379.69, 3877.85, 2205.7, 2953.09, 3025.46, 7379.9, 7335.95, 9245.85, 8195.51, 7283.09, 12507.28, 8758.19, 8703.11, 7419.95, 9759.0, 9835.27, 6849.44, 9678.96, 7467.46, 10909.83, 11791.89, 9455.12, 9943.47, 9342.34, 10030.18, 7775.4, 9557.11, 11001.79, 11862.76, 6051.49, 7968.95, 8119.97, 11242.78, 6635.77, 9127.58, 10468.84, 10464.58, 9229.74, 9751.5, 10305.62, 8123.51, 9079.18, 8433.76, 10381.26, 6624.51, 5016.63, 4915.81, 4716.48, 4292.77, 4059.47, 3281.12, 3436.52, 4463.04, 5805.73, 4498.42, 3837.98, 4911.02, 4379.59, 5240.95, 4345.85, 5948.72, 5647.86, 5865.83, 5688.38, 6223.71, 5591.78, 5214.99, 6955.5, 6646.96, 7189.15, 5204.13, 5927.71, 3807.91, 5125.6, 6256.22, 6559.34, 5834.9, 4726.07, 4711.7, 2570.95, 4381.0, 3909.97, 3900.68, 5329.63, 4792.3, 4022.1, 4315.8, 4515.94, 2758.58, 2785.12, 2864.72, 2436.26, 3143.81, 2842.42, 2718.37, 3108.43, 3388.56, 3088.9, 3225.2, 3028.54, 4463.11, 2791.89, 3586.9, 3308.24, 3066.54, 2759.62, 4906.43, 4500.78, 4065.32, 4072.38, 4672.56, 3544.82, 5415.64, 3126.76, 5051.86, 4886.49, 5224.35, 4943.38, 4758.71, 3710.33, 4136.57, 5696.28, 4592.77, 4431.07, 4010.62, 5527.71, 3932.41], \"xaxis\": \"x10\", \"yaxis\": \"y10\"}],                        {\"height\": 1000, \"template\": {\"data\": {\"bar\": [{\"error_x\": {\"color\": \"#2a3f5f\"}, \"error_y\": {\"color\": \"#2a3f5f\"}, \"marker\": {\"line\": {\"color\": \"#E5ECF6\", \"width\": 0.5}}, \"type\": \"bar\"}], \"barpolar\": [{\"marker\": {\"line\": {\"color\": \"#E5ECF6\", \"width\": 0.5}}, \"type\": \"barpolar\"}], \"carpet\": [{\"aaxis\": {\"endlinecolor\": \"#2a3f5f\", \"gridcolor\": \"white\", \"linecolor\": \"white\", \"minorgridcolor\": \"white\", \"startlinecolor\": \"#2a3f5f\"}, \"baxis\": {\"endlinecolor\": \"#2a3f5f\", \"gridcolor\": \"white\", \"linecolor\": \"white\", \"minorgridcolor\": \"white\", \"startlinecolor\": \"#2a3f5f\"}, \"type\": \"carpet\"}], \"choropleth\": [{\"colorbar\": {\"outlinewidth\": 0, \"ticks\": \"\"}, \"type\": \"choropleth\"}], \"contour\": [{\"colorbar\": {\"outlinewidth\": 0, \"ticks\": \"\"}, \"colorscale\": [[0.0, \"#0d0887\"], [0.1111111111111111, \"#46039f\"], [0.2222222222222222, \"#7201a8\"], [0.3333333333333333, \"#9c179e\"], [0.4444444444444444, \"#bd3786\"], [0.5555555555555556, \"#d8576b\"], [0.6666666666666666, \"#ed7953\"], [0.7777777777777778, \"#fb9f3a\"], [0.8888888888888888, \"#fdca26\"], [1.0, \"#f0f921\"]], \"type\": \"contour\"}], \"contourcarpet\": [{\"colorbar\": {\"outlinewidth\": 0, \"ticks\": \"\"}, \"type\": \"contourcarpet\"}], \"heatmap\": [{\"colorbar\": {\"outlinewidth\": 0, \"ticks\": \"\"}, \"colorscale\": [[0.0, \"#0d0887\"], [0.1111111111111111, \"#46039f\"], [0.2222222222222222, \"#7201a8\"], [0.3333333333333333, \"#9c179e\"], [0.4444444444444444, \"#bd3786\"], [0.5555555555555556, \"#d8576b\"], [0.6666666666666666, \"#ed7953\"], [0.7777777777777778, \"#fb9f3a\"], [0.8888888888888888, \"#fdca26\"], [1.0, \"#f0f921\"]], \"type\": \"heatmap\"}], \"heatmapgl\": [{\"colorbar\": {\"outlinewidth\": 0, \"ticks\": \"\"}, \"colorscale\": [[0.0, \"#0d0887\"], [0.1111111111111111, \"#46039f\"], [0.2222222222222222, \"#7201a8\"], [0.3333333333333333, \"#9c179e\"], [0.4444444444444444, \"#bd3786\"], [0.5555555555555556, \"#d8576b\"], [0.6666666666666666, \"#ed7953\"], [0.7777777777777778, \"#fb9f3a\"], [0.8888888888888888, \"#fdca26\"], [1.0, \"#f0f921\"]], \"type\": \"heatmapgl\"}], \"histogram\": [{\"marker\": {\"colorbar\": {\"outlinewidth\": 0, \"ticks\": \"\"}}, \"type\": \"histogram\"}], \"histogram2d\": [{\"colorbar\": {\"outlinewidth\": 0, \"ticks\": \"\"}, \"colorscale\": [[0.0, \"#0d0887\"], [0.1111111111111111, \"#46039f\"], [0.2222222222222222, \"#7201a8\"], [0.3333333333333333, \"#9c179e\"], [0.4444444444444444, \"#bd3786\"], [0.5555555555555556, \"#d8576b\"], [0.6666666666666666, \"#ed7953\"], [0.7777777777777778, \"#fb9f3a\"], [0.8888888888888888, \"#fdca26\"], [1.0, \"#f0f921\"]], \"type\": \"histogram2d\"}], \"histogram2dcontour\": [{\"colorbar\": {\"outlinewidth\": 0, \"ticks\": \"\"}, \"colorscale\": [[0.0, \"#0d0887\"], [0.1111111111111111, \"#46039f\"], [0.2222222222222222, \"#7201a8\"], [0.3333333333333333, \"#9c179e\"], [0.4444444444444444, \"#bd3786\"], [0.5555555555555556, \"#d8576b\"], [0.6666666666666666, \"#ed7953\"], [0.7777777777777778, \"#fb9f3a\"], [0.8888888888888888, \"#fdca26\"], [1.0, \"#f0f921\"]], \"type\": \"histogram2dcontour\"}], \"mesh3d\": [{\"colorbar\": {\"outlinewidth\": 0, \"ticks\": \"\"}, \"type\": \"mesh3d\"}], \"parcoords\": [{\"line\": {\"colorbar\": {\"outlinewidth\": 0, \"ticks\": \"\"}}, \"type\": \"parcoords\"}], \"pie\": [{\"automargin\": true, \"type\": \"pie\"}], \"scatter\": [{\"marker\": {\"colorbar\": {\"outlinewidth\": 0, \"ticks\": \"\"}}, \"type\": \"scatter\"}], \"scatter3d\": [{\"line\": {\"colorbar\": {\"outlinewidth\": 0, \"ticks\": \"\"}}, \"marker\": {\"colorbar\": {\"outlinewidth\": 0, \"ticks\": \"\"}}, \"type\": \"scatter3d\"}], \"scattercarpet\": [{\"marker\": {\"colorbar\": {\"outlinewidth\": 0, \"ticks\": \"\"}}, \"type\": \"scattercarpet\"}], \"scattergeo\": [{\"marker\": {\"colorbar\": {\"outlinewidth\": 0, \"ticks\": \"\"}}, \"type\": \"scattergeo\"}], \"scattergl\": [{\"marker\": {\"colorbar\": {\"outlinewidth\": 0, \"ticks\": \"\"}}, \"type\": \"scattergl\"}], \"scattermapbox\": [{\"marker\": {\"colorbar\": {\"outlinewidth\": 0, \"ticks\": \"\"}}, \"type\": \"scattermapbox\"}], \"scatterpolar\": [{\"marker\": {\"colorbar\": {\"outlinewidth\": 0, \"ticks\": \"\"}}, \"type\": \"scatterpolar\"}], \"scatterpolargl\": [{\"marker\": {\"colorbar\": {\"outlinewidth\": 0, \"ticks\": \"\"}}, \"type\": \"scatterpolargl\"}], \"scatterternary\": [{\"marker\": {\"colorbar\": {\"outlinewidth\": 0, \"ticks\": \"\"}}, \"type\": \"scatterternary\"}], \"surface\": [{\"colorbar\": {\"outlinewidth\": 0, \"ticks\": \"\"}, \"colorscale\": [[0.0, \"#0d0887\"], [0.1111111111111111, \"#46039f\"], [0.2222222222222222, \"#7201a8\"], [0.3333333333333333, \"#9c179e\"], [0.4444444444444444, \"#bd3786\"], [0.5555555555555556, \"#d8576b\"], [0.6666666666666666, \"#ed7953\"], [0.7777777777777778, \"#fb9f3a\"], [0.8888888888888888, \"#fdca26\"], [1.0, \"#f0f921\"]], \"type\": \"surface\"}], \"table\": [{\"cells\": {\"fill\": {\"color\": \"#EBF0F8\"}, \"line\": {\"color\": \"white\"}}, \"header\": {\"fill\": {\"color\": \"#C8D4E3\"}, \"line\": {\"color\": \"white\"}}, \"type\": \"table\"}]}, \"layout\": {\"annotationdefaults\": {\"arrowcolor\": \"#2a3f5f\", \"arrowhead\": 0, \"arrowwidth\": 1}, \"autotypenumbers\": \"strict\", \"coloraxis\": {\"colorbar\": {\"outlinewidth\": 0, \"ticks\": \"\"}}, \"colorscale\": {\"diverging\": [[0, \"#8e0152\"], [0.1, \"#c51b7d\"], [0.2, \"#de77ae\"], [0.3, \"#f1b6da\"], [0.4, \"#fde0ef\"], [0.5, \"#f7f7f7\"], [0.6, \"#e6f5d0\"], [0.7, \"#b8e186\"], [0.8, \"#7fbc41\"], [0.9, \"#4d9221\"], [1, \"#276419\"]], \"sequential\": [[0.0, \"#0d0887\"], [0.1111111111111111, \"#46039f\"], [0.2222222222222222, \"#7201a8\"], [0.3333333333333333, \"#9c179e\"], [0.4444444444444444, \"#bd3786\"], [0.5555555555555556, \"#d8576b\"], [0.6666666666666666, \"#ed7953\"], [0.7777777777777778, \"#fb9f3a\"], [0.8888888888888888, \"#fdca26\"], [1.0, \"#f0f921\"]], \"sequentialminus\": [[0.0, \"#0d0887\"], [0.1111111111111111, \"#46039f\"], [0.2222222222222222, \"#7201a8\"], [0.3333333333333333, \"#9c179e\"], [0.4444444444444444, \"#bd3786\"], [0.5555555555555556, \"#d8576b\"], [0.6666666666666666, \"#ed7953\"], [0.7777777777777778, \"#fb9f3a\"], [0.8888888888888888, \"#fdca26\"], [1.0, \"#f0f921\"]]}, \"colorway\": [\"#636efa\", \"#EF553B\", \"#00cc96\", \"#ab63fa\", \"#FFA15A\", \"#19d3f3\", \"#FF6692\", \"#B6E880\", \"#FF97FF\", \"#FECB52\"], \"font\": {\"color\": \"#2a3f5f\"}, \"geo\": {\"bgcolor\": \"white\", \"lakecolor\": \"white\", \"landcolor\": \"#E5ECF6\", \"showlakes\": true, \"showland\": true, \"subunitcolor\": \"white\"}, \"hoverlabel\": {\"align\": \"left\"}, \"hovermode\": \"closest\", \"mapbox\": {\"style\": \"light\"}, \"paper_bgcolor\": \"white\", \"plot_bgcolor\": \"#E5ECF6\", \"polar\": {\"angularaxis\": {\"gridcolor\": \"white\", \"linecolor\": \"white\", \"ticks\": \"\"}, \"bgcolor\": \"#E5ECF6\", \"radialaxis\": {\"gridcolor\": \"white\", \"linecolor\": \"white\", \"ticks\": \"\"}}, \"scene\": {\"xaxis\": {\"backgroundcolor\": \"#E5ECF6\", \"gridcolor\": \"white\", \"gridwidth\": 2, \"linecolor\": \"white\", \"showbackground\": true, \"ticks\": \"\", \"zerolinecolor\": \"white\"}, \"yaxis\": {\"backgroundcolor\": \"#E5ECF6\", \"gridcolor\": \"white\", \"gridwidth\": 2, \"linecolor\": \"white\", \"showbackground\": true, \"ticks\": \"\", \"zerolinecolor\": \"white\"}, \"zaxis\": {\"backgroundcolor\": \"#E5ECF6\", \"gridcolor\": \"white\", \"gridwidth\": 2, \"linecolor\": \"white\", \"showbackground\": true, \"ticks\": \"\", \"zerolinecolor\": \"white\"}}, \"shapedefaults\": {\"line\": {\"color\": \"#2a3f5f\"}}, \"ternary\": {\"aaxis\": {\"gridcolor\": \"white\", \"linecolor\": \"white\", \"ticks\": \"\"}, \"baxis\": {\"gridcolor\": \"white\", \"linecolor\": \"white\", \"ticks\": \"\"}, \"bgcolor\": \"#E5ECF6\", \"caxis\": {\"gridcolor\": \"white\", \"linecolor\": \"white\", \"ticks\": \"\"}}, \"title\": {\"x\": 0.05}, \"xaxis\": {\"automargin\": true, \"gridcolor\": \"white\", \"linecolor\": \"white\", \"ticks\": \"\", \"title\": {\"standoff\": 15}, \"zerolinecolor\": \"white\", \"zerolinewidth\": 2}, \"yaxis\": {\"automargin\": true, \"gridcolor\": \"white\", \"linecolor\": \"white\", \"ticks\": \"\", \"title\": {\"standoff\": 15}, \"zerolinecolor\": \"white\", \"zerolinewidth\": 2}}}, \"width\": 1500, \"xaxis\": {\"anchor\": \"y\", \"domain\": [0.0, 0.45]}, \"xaxis10\": {\"anchor\": \"y10\", \"domain\": [0.55, 1.0]}, \"xaxis2\": {\"anchor\": \"y2\", \"domain\": [0.55, 1.0]}, \"xaxis3\": {\"anchor\": \"y3\", \"domain\": [0.0, 0.45]}, \"xaxis4\": {\"anchor\": \"y4\", \"domain\": [0.55, 1.0]}, \"xaxis5\": {\"anchor\": \"y5\", \"domain\": [0.0, 0.45]}, \"xaxis6\": {\"anchor\": \"y6\", \"domain\": [0.55, 1.0]}, \"xaxis7\": {\"anchor\": \"y7\", \"domain\": [0.0, 0.45]}, \"xaxis8\": {\"anchor\": \"y8\", \"domain\": [0.55, 1.0]}, \"xaxis9\": {\"anchor\": \"y9\", \"domain\": [0.0, 0.45]}, \"yaxis\": {\"anchor\": \"x\", \"domain\": [0.848, 1.0]}, \"yaxis10\": {\"anchor\": \"x10\", \"domain\": [0.0, 0.152]}, \"yaxis2\": {\"anchor\": \"x2\", \"domain\": [0.848, 1.0]}, \"yaxis3\": {\"anchor\": \"x3\", \"domain\": [0.6359999999999999, 0.7879999999999999]}, \"yaxis4\": {\"anchor\": \"x4\", \"domain\": [0.6359999999999999, 0.7879999999999999]}, \"yaxis5\": {\"anchor\": \"x5\", \"domain\": [0.424, 0.576]}, \"yaxis6\": {\"anchor\": \"x6\", \"domain\": [0.424, 0.576]}, \"yaxis7\": {\"anchor\": \"x7\", \"domain\": [0.212, 0.364]}, \"yaxis8\": {\"anchor\": \"x8\", \"domain\": [0.212, 0.364]}, \"yaxis9\": {\"anchor\": \"x9\", \"domain\": [0.0, 0.152]}},                        {\"responsive\": true}                    ).then(function(){\n",
       "                            \n",
       "var gd = document.getElementById('e04235bd-544a-472c-b145-885015dcb58f');\n",
       "var x = new MutationObserver(function (mutations, observer) {{\n",
       "        var display = window.getComputedStyle(gd).display;\n",
       "        if (!display || display === 'none') {{\n",
       "            console.log([gd, 'removed!']);\n",
       "            Plotly.purge(gd);\n",
       "            observer.disconnect();\n",
       "        }}\n",
       "}});\n",
       "\n",
       "// Listen for the removal of the full notebook cells\n",
       "var notebookContainer = gd.closest('#notebook-container');\n",
       "if (notebookContainer) {{\n",
       "    x.observe(notebookContainer, {childList: true});\n",
       "}}\n",
       "\n",
       "// Listen for the clearing of the current output cell\n",
       "var outputEl = gd.closest('.output');\n",
       "if (outputEl) {{\n",
       "    x.observe(outputEl, {childList: true});\n",
       "}}\n",
       "\n",
       "                        })                };                });            </script>        </div>"
      ]
     },
     "metadata": {},
     "output_type": "display_data"
    }
   ],
   "source": [
    "# Criando um dicionário de pesos salariais para as áreas\n",
    "salary_dict = {\n",
    "    'People': 1,\n",
    "    'FP&A': 1,\n",
    "    'Engenharia': 3,\n",
    "    'Customer Success': 1.5,\n",
    "    'Comercial': 2,\n",
    "    'Suporte': 1.5,\n",
    "    'Jurídico': 1,\n",
    "    'TI': 1,\n",
    "    'Marketing': 1,\n",
    "    'Operações': 1.5\n",
    "}\n",
    "\n",
    "# Definindo o salário base médio e o desvio padrão\n",
    "average_salary = 3000\n",
    "sd_salary = 500\n",
    "\n",
    "# Criando uma amostra de salário para cada área\n",
    "salary_list = []\n",
    "for i in salary_dict.items():\n",
    "    area_average_salary = np.random.normal(average_salary*i[1], sd_salary*i[1], len(dataset.loc[dataset['area'] == i[0]]))\n",
    "    area_average_salary = [round(abs(i), 2) for i in area_average_salary]\n",
    "    salary_list.extend(area_average_salary)\n",
    "\n",
    "# Incluindo no dataset\n",
    "dataset['ultimo_salario'] = salary_list\n",
    "\n",
    "# Plotando\n",
    "fig = make_subplots(rows = 5, cols = 2)\n",
    "figs_list = []\n",
    "\n",
    "for i in salary_dict.keys():\n",
    "    trace = go.Histogram(x = dataset.loc[dataset['area'] == i]['ultimo_salario'], nbinsx = 20, name = i)\n",
    "    figs_list.append(trace)\n",
    "\n",
    "for i in range(1, 6):\n",
    "    for j in range(1, 3):\n",
    "        fig.append_trace(figs_list[0], i, j)\n",
    "        figs_list.pop(0)\n",
    "\n",
    "fig.update_layout(width = 1500, height = 1000)\n",
    "fig.show()"
   ]
  }
 ],
 "metadata": {
  "kernelspec": {
   "display_name": "Python 3",
   "language": "python",
   "name": "python3"
  },
  "language_info": {
   "codemirror_mode": {
    "name": "ipython",
    "version": 3
   },
   "file_extension": ".py",
   "mimetype": "text/x-python",
   "name": "python",
   "nbconvert_exporter": "python",
   "pygments_lexer": "ipython3",
   "version": "3.6.13"
  }
 },
 "nbformat": 4,
 "nbformat_minor": 5
}
