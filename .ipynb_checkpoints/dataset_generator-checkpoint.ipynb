{
 "cells": [
  {
   "cell_type": "markdown",
   "id": "e0968c43-0339-4bff-b3cc-b34f87d3ec52",
   "metadata": {
    "tags": []
   },
   "source": [
    "#### 1) Importação das Bibliotecas"
   ]
  },
  {
   "cell_type": "code",
   "execution_count": 1,
   "id": "79c26e0f-17c1-42c9-a0cd-e3b12311981b",
   "metadata": {
    "tags": []
   },
   "outputs": [],
   "source": [
    "# Importando as bibliotecas\n",
    "import pyvis as pv\n",
    "import networkx as nx\n",
    "import pandas as pd\n",
    "import numpy as np\n",
    "import names\n",
    "import plotly.express as px"
   ]
  },
  {
   "cell_type": "markdown",
   "id": "3e9b1503-d8c2-41ba-97a1-c45fc0a82113",
   "metadata": {},
   "source": [
    "#### 2) Criação da lista de nomes"
   ]
  },
  {
   "cell_type": "code",
   "execution_count": 2,
   "id": "7637c66b-382c-49d7-98ab-6904d877505c",
   "metadata": {},
   "outputs": [],
   "source": [
    "# Criando uma lista de colaboradores\n",
    "employees = list(set([names.get_full_name() for i in range(1000)]))\n",
    "\n",
    "# Criando um objeto do tipo dataframe\n",
    "dataset = pd.DataFrame(employees, columns = ['nome'])"
   ]
  },
  {
   "cell_type": "markdown",
   "id": "de9d81b0-d9d4-40d9-a2b4-660372f1c57b",
   "metadata": {},
   "source": [
    "#### 3) Criação das áreas de cada colaborador"
   ]
  },
  {
   "cell_type": "code",
   "execution_count": 11,
   "id": "f42e0fc6-0709-42a8-9047-e7dbe79627b7",
   "metadata": {},
   "outputs": [
    {
     "data": {
      "application/vnd.plotly.v1+json": {
       "config": {
        "plotlyServerURL": "https://plotly.com"
       },
       "data": [
        {
         "alignmentgroup": "True",
         "hovertemplate": "total=%{x}<br>area=%{y}<extra></extra>",
         "legendgroup": "",
         "marker": {
          "color": "#636efa"
         },
         "name": "",
         "offsetgroup": "",
         "orientation": "h",
         "showlegend": false,
         "textposition": "auto",
         "type": "bar",
         "x": [
          140,
          131,
          271,
          43,
          44,
          48,
          132,
          41,
          99,
          48
         ],
         "xaxis": "x",
         "y": [
          "Comercial",
          "Customer Success",
          "Engenharia",
          "FP&A",
          "Jurídico",
          "Marketing",
          "Operações",
          "People",
          "Suporte",
          "TI"
         ],
         "yaxis": "y"
        }
       ],
       "layout": {
        "autosize": true,
        "barmode": "stack",
        "legend": {
         "tracegroupgap": 0
        },
        "margin": {
         "t": 60
        },
        "template": {
         "data": {
          "bar": [
           {
            "error_x": {
             "color": "#2a3f5f"
            },
            "error_y": {
             "color": "#2a3f5f"
            },
            "marker": {
             "line": {
              "color": "#E5ECF6",
              "width": 0.5
             }
            },
            "type": "bar"
           }
          ],
          "barpolar": [
           {
            "marker": {
             "line": {
              "color": "#E5ECF6",
              "width": 0.5
             }
            },
            "type": "barpolar"
           }
          ],
          "carpet": [
           {
            "aaxis": {
             "endlinecolor": "#2a3f5f",
             "gridcolor": "white",
             "linecolor": "white",
             "minorgridcolor": "white",
             "startlinecolor": "#2a3f5f"
            },
            "baxis": {
             "endlinecolor": "#2a3f5f",
             "gridcolor": "white",
             "linecolor": "white",
             "minorgridcolor": "white",
             "startlinecolor": "#2a3f5f"
            },
            "type": "carpet"
           }
          ],
          "choropleth": [
           {
            "colorbar": {
             "outlinewidth": 0,
             "ticks": ""
            },
            "type": "choropleth"
           }
          ],
          "contour": [
           {
            "colorbar": {
             "outlinewidth": 0,
             "ticks": ""
            },
            "colorscale": [
             [
              0,
              "#0d0887"
             ],
             [
              0.1111111111111111,
              "#46039f"
             ],
             [
              0.2222222222222222,
              "#7201a8"
             ],
             [
              0.3333333333333333,
              "#9c179e"
             ],
             [
              0.4444444444444444,
              "#bd3786"
             ],
             [
              0.5555555555555556,
              "#d8576b"
             ],
             [
              0.6666666666666666,
              "#ed7953"
             ],
             [
              0.7777777777777778,
              "#fb9f3a"
             ],
             [
              0.8888888888888888,
              "#fdca26"
             ],
             [
              1,
              "#f0f921"
             ]
            ],
            "type": "contour"
           }
          ],
          "contourcarpet": [
           {
            "colorbar": {
             "outlinewidth": 0,
             "ticks": ""
            },
            "type": "contourcarpet"
           }
          ],
          "heatmap": [
           {
            "colorbar": {
             "outlinewidth": 0,
             "ticks": ""
            },
            "colorscale": [
             [
              0,
              "#0d0887"
             ],
             [
              0.1111111111111111,
              "#46039f"
             ],
             [
              0.2222222222222222,
              "#7201a8"
             ],
             [
              0.3333333333333333,
              "#9c179e"
             ],
             [
              0.4444444444444444,
              "#bd3786"
             ],
             [
              0.5555555555555556,
              "#d8576b"
             ],
             [
              0.6666666666666666,
              "#ed7953"
             ],
             [
              0.7777777777777778,
              "#fb9f3a"
             ],
             [
              0.8888888888888888,
              "#fdca26"
             ],
             [
              1,
              "#f0f921"
             ]
            ],
            "type": "heatmap"
           }
          ],
          "heatmapgl": [
           {
            "colorbar": {
             "outlinewidth": 0,
             "ticks": ""
            },
            "colorscale": [
             [
              0,
              "#0d0887"
             ],
             [
              0.1111111111111111,
              "#46039f"
             ],
             [
              0.2222222222222222,
              "#7201a8"
             ],
             [
              0.3333333333333333,
              "#9c179e"
             ],
             [
              0.4444444444444444,
              "#bd3786"
             ],
             [
              0.5555555555555556,
              "#d8576b"
             ],
             [
              0.6666666666666666,
              "#ed7953"
             ],
             [
              0.7777777777777778,
              "#fb9f3a"
             ],
             [
              0.8888888888888888,
              "#fdca26"
             ],
             [
              1,
              "#f0f921"
             ]
            ],
            "type": "heatmapgl"
           }
          ],
          "histogram": [
           {
            "marker": {
             "colorbar": {
              "outlinewidth": 0,
              "ticks": ""
             }
            },
            "type": "histogram"
           }
          ],
          "histogram2d": [
           {
            "colorbar": {
             "outlinewidth": 0,
             "ticks": ""
            },
            "colorscale": [
             [
              0,
              "#0d0887"
             ],
             [
              0.1111111111111111,
              "#46039f"
             ],
             [
              0.2222222222222222,
              "#7201a8"
             ],
             [
              0.3333333333333333,
              "#9c179e"
             ],
             [
              0.4444444444444444,
              "#bd3786"
             ],
             [
              0.5555555555555556,
              "#d8576b"
             ],
             [
              0.6666666666666666,
              "#ed7953"
             ],
             [
              0.7777777777777778,
              "#fb9f3a"
             ],
             [
              0.8888888888888888,
              "#fdca26"
             ],
             [
              1,
              "#f0f921"
             ]
            ],
            "type": "histogram2d"
           }
          ],
          "histogram2dcontour": [
           {
            "colorbar": {
             "outlinewidth": 0,
             "ticks": ""
            },
            "colorscale": [
             [
              0,
              "#0d0887"
             ],
             [
              0.1111111111111111,
              "#46039f"
             ],
             [
              0.2222222222222222,
              "#7201a8"
             ],
             [
              0.3333333333333333,
              "#9c179e"
             ],
             [
              0.4444444444444444,
              "#bd3786"
             ],
             [
              0.5555555555555556,
              "#d8576b"
             ],
             [
              0.6666666666666666,
              "#ed7953"
             ],
             [
              0.7777777777777778,
              "#fb9f3a"
             ],
             [
              0.8888888888888888,
              "#fdca26"
             ],
             [
              1,
              "#f0f921"
             ]
            ],
            "type": "histogram2dcontour"
           }
          ],
          "mesh3d": [
           {
            "colorbar": {
             "outlinewidth": 0,
             "ticks": ""
            },
            "type": "mesh3d"
           }
          ],
          "parcoords": [
           {
            "line": {
             "colorbar": {
              "outlinewidth": 0,
              "ticks": ""
             }
            },
            "type": "parcoords"
           }
          ],
          "pie": [
           {
            "automargin": true,
            "type": "pie"
           }
          ],
          "scatter": [
           {
            "marker": {
             "colorbar": {
              "outlinewidth": 0,
              "ticks": ""
             }
            },
            "type": "scatter"
           }
          ],
          "scatter3d": [
           {
            "line": {
             "colorbar": {
              "outlinewidth": 0,
              "ticks": ""
             }
            },
            "marker": {
             "colorbar": {
              "outlinewidth": 0,
              "ticks": ""
             }
            },
            "type": "scatter3d"
           }
          ],
          "scattercarpet": [
           {
            "marker": {
             "colorbar": {
              "outlinewidth": 0,
              "ticks": ""
             }
            },
            "type": "scattercarpet"
           }
          ],
          "scattergeo": [
           {
            "marker": {
             "colorbar": {
              "outlinewidth": 0,
              "ticks": ""
             }
            },
            "type": "scattergeo"
           }
          ],
          "scattergl": [
           {
            "marker": {
             "colorbar": {
              "outlinewidth": 0,
              "ticks": ""
             }
            },
            "type": "scattergl"
           }
          ],
          "scattermapbox": [
           {
            "marker": {
             "colorbar": {
              "outlinewidth": 0,
              "ticks": ""
             }
            },
            "type": "scattermapbox"
           }
          ],
          "scatterpolar": [
           {
            "marker": {
             "colorbar": {
              "outlinewidth": 0,
              "ticks": ""
             }
            },
            "type": "scatterpolar"
           }
          ],
          "scatterpolargl": [
           {
            "marker": {
             "colorbar": {
              "outlinewidth": 0,
              "ticks": ""
             }
            },
            "type": "scatterpolargl"
           }
          ],
          "scatterternary": [
           {
            "marker": {
             "colorbar": {
              "outlinewidth": 0,
              "ticks": ""
             }
            },
            "type": "scatterternary"
           }
          ],
          "surface": [
           {
            "colorbar": {
             "outlinewidth": 0,
             "ticks": ""
            },
            "colorscale": [
             [
              0,
              "#0d0887"
             ],
             [
              0.1111111111111111,
              "#46039f"
             ],
             [
              0.2222222222222222,
              "#7201a8"
             ],
             [
              0.3333333333333333,
              "#9c179e"
             ],
             [
              0.4444444444444444,
              "#bd3786"
             ],
             [
              0.5555555555555556,
              "#d8576b"
             ],
             [
              0.6666666666666666,
              "#ed7953"
             ],
             [
              0.7777777777777778,
              "#fb9f3a"
             ],
             [
              0.8888888888888888,
              "#fdca26"
             ],
             [
              1,
              "#f0f921"
             ]
            ],
            "type": "surface"
           }
          ],
          "table": [
           {
            "cells": {
             "fill": {
              "color": "#EBF0F8"
             },
             "line": {
              "color": "white"
             }
            },
            "header": {
             "fill": {
              "color": "#C8D4E3"
             },
             "line": {
              "color": "white"
             }
            },
            "type": "table"
           }
          ]
         },
         "layout": {
          "annotationdefaults": {
           "arrowcolor": "#2a3f5f",
           "arrowhead": 0,
           "arrowwidth": 1
          },
          "autotypenumbers": "strict",
          "coloraxis": {
           "colorbar": {
            "outlinewidth": 0,
            "ticks": ""
           }
          },
          "colorscale": {
           "diverging": [
            [
             0,
             "#8e0152"
            ],
            [
             0.1,
             "#c51b7d"
            ],
            [
             0.2,
             "#de77ae"
            ],
            [
             0.3,
             "#f1b6da"
            ],
            [
             0.4,
             "#fde0ef"
            ],
            [
             0.5,
             "#f7f7f7"
            ],
            [
             0.6,
             "#e6f5d0"
            ],
            [
             0.7,
             "#b8e186"
            ],
            [
             0.8,
             "#7fbc41"
            ],
            [
             0.9,
             "#4d9221"
            ],
            [
             1,
             "#276419"
            ]
           ],
           "sequential": [
            [
             0,
             "#0d0887"
            ],
            [
             0.1111111111111111,
             "#46039f"
            ],
            [
             0.2222222222222222,
             "#7201a8"
            ],
            [
             0.3333333333333333,
             "#9c179e"
            ],
            [
             0.4444444444444444,
             "#bd3786"
            ],
            [
             0.5555555555555556,
             "#d8576b"
            ],
            [
             0.6666666666666666,
             "#ed7953"
            ],
            [
             0.7777777777777778,
             "#fb9f3a"
            ],
            [
             0.8888888888888888,
             "#fdca26"
            ],
            [
             1,
             "#f0f921"
            ]
           ],
           "sequentialminus": [
            [
             0,
             "#0d0887"
            ],
            [
             0.1111111111111111,
             "#46039f"
            ],
            [
             0.2222222222222222,
             "#7201a8"
            ],
            [
             0.3333333333333333,
             "#9c179e"
            ],
            [
             0.4444444444444444,
             "#bd3786"
            ],
            [
             0.5555555555555556,
             "#d8576b"
            ],
            [
             0.6666666666666666,
             "#ed7953"
            ],
            [
             0.7777777777777778,
             "#fb9f3a"
            ],
            [
             0.8888888888888888,
             "#fdca26"
            ],
            [
             1,
             "#f0f921"
            ]
           ]
          },
          "colorway": [
           "#636efa",
           "#EF553B",
           "#00cc96",
           "#ab63fa",
           "#FFA15A",
           "#19d3f3",
           "#FF6692",
           "#B6E880",
           "#FF97FF",
           "#FECB52"
          ],
          "font": {
           "color": "#2a3f5f"
          },
          "geo": {
           "bgcolor": "white",
           "lakecolor": "white",
           "landcolor": "#E5ECF6",
           "showlakes": true,
           "showland": true,
           "subunitcolor": "white"
          },
          "hoverlabel": {
           "align": "left"
          },
          "hovermode": "closest",
          "mapbox": {
           "style": "light"
          },
          "paper_bgcolor": "white",
          "plot_bgcolor": "#E5ECF6",
          "polar": {
           "angularaxis": {
            "gridcolor": "white",
            "linecolor": "white",
            "ticks": ""
           },
           "bgcolor": "#E5ECF6",
           "radialaxis": {
            "gridcolor": "white",
            "linecolor": "white",
            "ticks": ""
           }
          },
          "scene": {
           "xaxis": {
            "backgroundcolor": "#E5ECF6",
            "gridcolor": "white",
            "gridwidth": 2,
            "linecolor": "white",
            "showbackground": true,
            "ticks": "",
            "zerolinecolor": "white"
           },
           "yaxis": {
            "backgroundcolor": "#E5ECF6",
            "gridcolor": "white",
            "gridwidth": 2,
            "linecolor": "white",
            "showbackground": true,
            "ticks": "",
            "zerolinecolor": "white"
           },
           "zaxis": {
            "backgroundcolor": "#E5ECF6",
            "gridcolor": "white",
            "gridwidth": 2,
            "linecolor": "white",
            "showbackground": true,
            "ticks": "",
            "zerolinecolor": "white"
           }
          },
          "shapedefaults": {
           "line": {
            "color": "#2a3f5f"
           }
          },
          "ternary": {
           "aaxis": {
            "gridcolor": "white",
            "linecolor": "white",
            "ticks": ""
           },
           "baxis": {
            "gridcolor": "white",
            "linecolor": "white",
            "ticks": ""
           },
           "bgcolor": "#E5ECF6",
           "caxis": {
            "gridcolor": "white",
            "linecolor": "white",
            "ticks": ""
           }
          },
          "title": {
           "x": 0.05
          },
          "xaxis": {
           "automargin": true,
           "gridcolor": "white",
           "linecolor": "white",
           "ticks": "",
           "title": {
            "standoff": 15
           },
           "zerolinecolor": "white",
           "zerolinewidth": 2
          },
          "yaxis": {
           "automargin": true,
           "gridcolor": "white",
           "linecolor": "white",
           "ticks": "",
           "title": {
            "standoff": 15
           },
           "zerolinecolor": "white",
           "zerolinewidth": 2
          }
         }
        },
        "xaxis": {
         "anchor": "y",
         "autorange": true,
         "domain": [
          0,
          1
         ],
         "range": [
          0,
          285.2631578947368
         ],
         "title": {
          "text": "total"
         },
         "type": "linear"
        },
        "yaxis": {
         "anchor": "x",
         "autorange": true,
         "categoryorder": "total ascending",
         "domain": [
          0,
          1
         ],
         "range": [
          -0.5,
          9.5
         ],
         "title": {
          "text": "area"
         },
         "type": "category"
        }
       }
      },
      "image/png": "[encoded data removed]",
      "text/html": [
       "<div>                            <div id=\"16d4af99-e4f6-4ee2-a781-a6d09b34fe60\" class=\"plotly-graph-div\" style=\"height:525px; width:100%;\"></div>            <script type=\"text/javascript\">                require([\"plotly\"], function(Plotly) {                    window.PLOTLYENV=window.PLOTLYENV || {};                                    if (document.getElementById(\"16d4af99-e4f6-4ee2-a781-a6d09b34fe60\")) {                    Plotly.newPlot(                        \"16d4af99-e4f6-4ee2-a781-a6d09b34fe60\",                        [{\"alignmentgroup\": \"True\", \"hovertemplate\": \"total=%{x}<br>area=%{y}<extra></extra>\", \"legendgroup\": \"\", \"marker\": {\"color\": \"#636efa\"}, \"name\": \"\", \"offsetgroup\": \"\", \"orientation\": \"h\", \"showlegend\": false, \"textposition\": \"auto\", \"type\": \"bar\", \"x\": [140, 131, 271, 43, 44, 48, 132, 41, 99, 48], \"xaxis\": \"x\", \"y\": [\"Comercial\", \"Customer Success\", \"Engenharia\", \"FP&A\", \"Jur\\u00eddico\", \"Marketing\", \"Opera\\u00e7\\u00f5es\", \"People\", \"Suporte\", \"TI\"], \"yaxis\": \"y\"}],                        {\"barmode\": \"stack\", \"legend\": {\"tracegroupgap\": 0}, \"margin\": {\"t\": 60}, \"template\": {\"data\": {\"bar\": [{\"error_x\": {\"color\": \"#2a3f5f\"}, \"error_y\": {\"color\": \"#2a3f5f\"}, \"marker\": {\"line\": {\"color\": \"#E5ECF6\", \"width\": 0.5}}, \"type\": \"bar\"}], \"barpolar\": [{\"marker\": {\"line\": {\"color\": \"#E5ECF6\", \"width\": 0.5}}, \"type\": \"barpolar\"}], \"carpet\": [{\"aaxis\": {\"endlinecolor\": \"#2a3f5f\", \"gridcolor\": \"white\", \"linecolor\": \"white\", \"minorgridcolor\": \"white\", \"startlinecolor\": \"#2a3f5f\"}, \"baxis\": {\"endlinecolor\": \"#2a3f5f\", \"gridcolor\": \"white\", \"linecolor\": \"white\", \"minorgridcolor\": \"white\", \"startlinecolor\": \"#2a3f5f\"}, \"type\": \"carpet\"}], \"choropleth\": [{\"colorbar\": {\"outlinewidth\": 0, \"ticks\": \"\"}, \"type\": \"choropleth\"}], \"contour\": [{\"colorbar\": {\"outlinewidth\": 0, \"ticks\": \"\"}, \"colorscale\": [[0.0, \"#0d0887\"], [0.1111111111111111, \"#46039f\"], [0.2222222222222222, \"#7201a8\"], [0.3333333333333333, \"#9c179e\"], [0.4444444444444444, \"#bd3786\"], [0.5555555555555556, \"#d8576b\"], [0.6666666666666666, \"#ed7953\"], [0.7777777777777778, \"#fb9f3a\"], [0.8888888888888888, \"#fdca26\"], [1.0, \"#f0f921\"]], \"type\": \"contour\"}], \"contourcarpet\": [{\"colorbar\": {\"outlinewidth\": 0, \"ticks\": \"\"}, \"type\": \"contourcarpet\"}], \"heatmap\": [{\"colorbar\": {\"outlinewidth\": 0, \"ticks\": \"\"}, \"colorscale\": [[0.0, \"#0d0887\"], [0.1111111111111111, \"#46039f\"], [0.2222222222222222, \"#7201a8\"], [0.3333333333333333, \"#9c179e\"], [0.4444444444444444, \"#bd3786\"], [0.5555555555555556, \"#d8576b\"], [0.6666666666666666, \"#ed7953\"], [0.7777777777777778, \"#fb9f3a\"], [0.8888888888888888, \"#fdca26\"], [1.0, \"#f0f921\"]], \"type\": \"heatmap\"}], \"heatmapgl\": [{\"colorbar\": {\"outlinewidth\": 0, \"ticks\": \"\"}, \"colorscale\": [[0.0, \"#0d0887\"], [0.1111111111111111, \"#46039f\"], [0.2222222222222222, \"#7201a8\"], [0.3333333333333333, \"#9c179e\"], [0.4444444444444444, \"#bd3786\"], [0.5555555555555556, \"#d8576b\"], [0.6666666666666666, \"#ed7953\"], [0.7777777777777778, \"#fb9f3a\"], [0.8888888888888888, \"#fdca26\"], [1.0, \"#f0f921\"]], \"type\": \"heatmapgl\"}], \"histogram\": [{\"marker\": {\"colorbar\": {\"outlinewidth\": 0, \"ticks\": \"\"}}, \"type\": \"histogram\"}], \"histogram2d\": [{\"colorbar\": {\"outlinewidth\": 0, \"ticks\": \"\"}, \"colorscale\": [[0.0, \"#0d0887\"], [0.1111111111111111, \"#46039f\"], [0.2222222222222222, \"#7201a8\"], [0.3333333333333333, \"#9c179e\"], [0.4444444444444444, \"#bd3786\"], [0.5555555555555556, \"#d8576b\"], [0.6666666666666666, \"#ed7953\"], [0.7777777777777778, \"#fb9f3a\"], [0.8888888888888888, \"#fdca26\"], [1.0, \"#f0f921\"]], \"type\": \"histogram2d\"}], \"histogram2dcontour\": [{\"colorbar\": {\"outlinewidth\": 0, \"ticks\": \"\"}, \"colorscale\": [[0.0, \"#0d0887\"], [0.1111111111111111, \"#46039f\"], [0.2222222222222222, \"#7201a8\"], [0.3333333333333333, \"#9c179e\"], [0.4444444444444444, \"#bd3786\"], [0.5555555555555556, \"#d8576b\"], [0.6666666666666666, \"#ed7953\"], [0.7777777777777778, \"#fb9f3a\"], [0.8888888888888888, \"#fdca26\"], [1.0, \"#f0f921\"]], \"type\": \"histogram2dcontour\"}], \"mesh3d\": [{\"colorbar\": {\"outlinewidth\": 0, \"ticks\": \"\"}, \"type\": \"mesh3d\"}], \"parcoords\": [{\"line\": {\"colorbar\": {\"outlinewidth\": 0, \"ticks\": \"\"}}, \"type\": \"parcoords\"}], \"pie\": [{\"automargin\": true, \"type\": \"pie\"}], \"scatter\": [{\"marker\": {\"colorbar\": {\"outlinewidth\": 0, \"ticks\": \"\"}}, \"type\": \"scatter\"}], \"scatter3d\": [{\"line\": {\"colorbar\": {\"outlinewidth\": 0, \"ticks\": \"\"}}, \"marker\": {\"colorbar\": {\"outlinewidth\": 0, \"ticks\": \"\"}}, \"type\": \"scatter3d\"}], \"scattercarpet\": [{\"marker\": {\"colorbar\": {\"outlinewidth\": 0, \"ticks\": \"\"}}, \"type\": \"scattercarpet\"}], \"scattergeo\": [{\"marker\": {\"colorbar\": {\"outlinewidth\": 0, \"ticks\": \"\"}}, \"type\": \"scattergeo\"}], \"scattergl\": [{\"marker\": {\"colorbar\": {\"outlinewidth\": 0, \"ticks\": \"\"}}, \"type\": \"scattergl\"}], \"scattermapbox\": [{\"marker\": {\"colorbar\": {\"outlinewidth\": 0, \"ticks\": \"\"}}, \"type\": \"scattermapbox\"}], \"scatterpolar\": [{\"marker\": {\"colorbar\": {\"outlinewidth\": 0, \"ticks\": \"\"}}, \"type\": \"scatterpolar\"}], \"scatterpolargl\": [{\"marker\": {\"colorbar\": {\"outlinewidth\": 0, \"ticks\": \"\"}}, \"type\": \"scatterpolargl\"}], \"scatterternary\": [{\"marker\": {\"colorbar\": {\"outlinewidth\": 0, \"ticks\": \"\"}}, \"type\": \"scatterternary\"}], \"surface\": [{\"colorbar\": {\"outlinewidth\": 0, \"ticks\": \"\"}, \"colorscale\": [[0.0, \"#0d0887\"], [0.1111111111111111, \"#46039f\"], [0.2222222222222222, \"#7201a8\"], [0.3333333333333333, \"#9c179e\"], [0.4444444444444444, \"#bd3786\"], [0.5555555555555556, \"#d8576b\"], [0.6666666666666666, \"#ed7953\"], [0.7777777777777778, \"#fb9f3a\"], [0.8888888888888888, \"#fdca26\"], [1.0, \"#f0f921\"]], \"type\": \"surface\"}], \"table\": [{\"cells\": {\"fill\": {\"color\": \"#EBF0F8\"}, \"line\": {\"color\": \"white\"}}, \"header\": {\"fill\": {\"color\": \"#C8D4E3\"}, \"line\": {\"color\": \"white\"}}, \"type\": \"table\"}]}, \"layout\": {\"annotationdefaults\": {\"arrowcolor\": \"#2a3f5f\", \"arrowhead\": 0, \"arrowwidth\": 1}, \"autotypenumbers\": \"strict\", \"coloraxis\": {\"colorbar\": {\"outlinewidth\": 0, \"ticks\": \"\"}}, \"colorscale\": {\"diverging\": [[0, \"#8e0152\"], [0.1, \"#c51b7d\"], [0.2, \"#de77ae\"], [0.3, \"#f1b6da\"], [0.4, \"#fde0ef\"], [0.5, \"#f7f7f7\"], [0.6, \"#e6f5d0\"], [0.7, \"#b8e186\"], [0.8, \"#7fbc41\"], [0.9, \"#4d9221\"], [1, \"#276419\"]], \"sequential\": [[0.0, \"#0d0887\"], [0.1111111111111111, \"#46039f\"], [0.2222222222222222, \"#7201a8\"], [0.3333333333333333, \"#9c179e\"], [0.4444444444444444, \"#bd3786\"], [0.5555555555555556, \"#d8576b\"], [0.6666666666666666, \"#ed7953\"], [0.7777777777777778, \"#fb9f3a\"], [0.8888888888888888, \"#fdca26\"], [1.0, \"#f0f921\"]], \"sequentialminus\": [[0.0, \"#0d0887\"], [0.1111111111111111, \"#46039f\"], [0.2222222222222222, \"#7201a8\"], [0.3333333333333333, \"#9c179e\"], [0.4444444444444444, \"#bd3786\"], [0.5555555555555556, \"#d8576b\"], [0.6666666666666666, \"#ed7953\"], [0.7777777777777778, \"#fb9f3a\"], [0.8888888888888888, \"#fdca26\"], [1.0, \"#f0f921\"]]}, \"colorway\": [\"#636efa\", \"#EF553B\", \"#00cc96\", \"#ab63fa\", \"#FFA15A\", \"#19d3f3\", \"#FF6692\", \"#B6E880\", \"#FF97FF\", \"#FECB52\"], \"font\": {\"color\": \"#2a3f5f\"}, \"geo\": {\"bgcolor\": \"white\", \"lakecolor\": \"white\", \"landcolor\": \"#E5ECF6\", \"showlakes\": true, \"showland\": true, \"subunitcolor\": \"white\"}, \"hoverlabel\": {\"align\": \"left\"}, \"hovermode\": \"closest\", \"mapbox\": {\"style\": \"light\"}, \"paper_bgcolor\": \"white\", \"plot_bgcolor\": \"#E5ECF6\", \"polar\": {\"angularaxis\": {\"gridcolor\": \"white\", \"linecolor\": \"white\", \"ticks\": \"\"}, \"bgcolor\": \"#E5ECF6\", \"radialaxis\": {\"gridcolor\": \"white\", \"linecolor\": \"white\", \"ticks\": \"\"}}, \"scene\": {\"xaxis\": {\"backgroundcolor\": \"#E5ECF6\", \"gridcolor\": \"white\", \"gridwidth\": 2, \"linecolor\": \"white\", \"showbackground\": true, \"ticks\": \"\", \"zerolinecolor\": \"white\"}, \"yaxis\": {\"backgroundcolor\": \"#E5ECF6\", \"gridcolor\": \"white\", \"gridwidth\": 2, \"linecolor\": \"white\", \"showbackground\": true, \"ticks\": \"\", \"zerolinecolor\": \"white\"}, \"zaxis\": {\"backgroundcolor\": \"#E5ECF6\", \"gridcolor\": \"white\", \"gridwidth\": 2, \"linecolor\": \"white\", \"showbackground\": true, \"ticks\": \"\", \"zerolinecolor\": \"white\"}}, \"shapedefaults\": {\"line\": {\"color\": \"#2a3f5f\"}}, \"ternary\": {\"aaxis\": {\"gridcolor\": \"white\", \"linecolor\": \"white\", \"ticks\": \"\"}, \"baxis\": {\"gridcolor\": \"white\", \"linecolor\": \"white\", \"ticks\": \"\"}, \"bgcolor\": \"#E5ECF6\", \"caxis\": {\"gridcolor\": \"white\", \"linecolor\": \"white\", \"ticks\": \"\"}}, \"title\": {\"x\": 0.05}, \"xaxis\": {\"automargin\": true, \"gridcolor\": \"white\", \"linecolor\": \"white\", \"ticks\": \"\", \"title\": {\"standoff\": 15}, \"zerolinecolor\": \"white\", \"zerolinewidth\": 2}, \"yaxis\": {\"automargin\": true, \"gridcolor\": \"white\", \"linecolor\": \"white\", \"ticks\": \"\", \"title\": {\"standoff\": 15}, \"zerolinecolor\": \"white\", \"zerolinewidth\": 2}}}, \"xaxis\": {\"anchor\": \"y\", \"domain\": [0.0, 1.0], \"title\": {\"text\": \"total\"}}, \"yaxis\": {\"anchor\": \"x\", \"categoryorder\": \"total ascending\", \"domain\": [0.0, 1.0], \"title\": {\"text\": \"area\"}}},                        {\"responsive\": true}                    ).then(function(){\n",
       "                            \n",
       "var gd = document.getElementById('16d4af99-e4f6-4ee2-a781-a6d09b34fe60');\n",
       "var x = new MutationObserver(function (mutations, observer) {{\n",
       "        var display = window.getComputedStyle(gd).display;\n",
       "        if (!display || display === 'none') {{\n",
       "            console.log([gd, 'removed!']);\n",
       "            Plotly.purge(gd);\n",
       "            observer.disconnect();\n",
       "        }}\n",
       "}});\n",
       "\n",
       "// Listen for the removal of the full notebook cells\n",
       "var notebookContainer = gd.closest('#notebook-container');\n",
       "if (notebookContainer) {{\n",
       "    x.observe(notebookContainer, {childList: true});\n",
       "}}\n",
       "\n",
       "// Listen for the clearing of the current output cell\n",
       "var outputEl = gd.closest('.output');\n",
       "if (outputEl) {{\n",
       "    x.observe(outputEl, {childList: true});\n",
       "}}\n",
       "\n",
       "                        })                };                });            </script>        </div>"
      ]
     },
     "metadata": {},
     "output_type": "display_data"
    }
   ],
   "source": [
    "# Criando um dicionário de quantidade de pessoas por área\n",
    "areas_dict = {\n",
    "    'People': 1,\n",
    "    'FP&A': 1,\n",
    "    'Engenharia': 6,\n",
    "    'Customer Success': 3,\n",
    "    'Comercial': 3,\n",
    "    'Suporte': 2,\n",
    "    'Jurídico': 1,\n",
    "    'TI': 1,\n",
    "    'Marketing': 1,\n",
    "    'Operações': 3\n",
    "}\n",
    "\n",
    "# Criando as listas das áreas e os pesos\n",
    "areas = list(areas_dict.keys())\n",
    "weights = [i/sum(areas_dict.values()) for i in areas_dict.values()]\n",
    "\n",
    "# Criando uma lista de escolhas ponderadas\n",
    "areas_list = np.random.choice(a = areas, size = len(dataset), p = weights)\n",
    "\n",
    "# Incluindo a área no dataset\n",
    "dataset['area'] = areas_list\n",
    "\n",
    "# Verificando a distribuição\n",
    "area_dataset = pd.DataFrame(dict(dataset.groupby(['area']).size()).items(), columns = ['area', 'total'])\n",
    "fig = px.bar(area_dataset, y = 'area', x = 'total')\n",
    "fig.update_layout(barmode = 'stack', yaxis = {'categoryorder': 'total ascending'})\n",
    "fig.show()"
   ]
  },
  {
   "cell_type": "markdown",
   "id": "6d130bfd-cd1c-4e6a-81bd-2dc4e4e235c7",
   "metadata": {},
   "source": [
    "#### 4) Criando o tempo de empresa, em anos, de cada colaboradoe"
   ]
  },
  {
   "cell_type": "code",
   "execution_count": 18,
   "id": "b48c0348-c238-4b52-b087-d226f9caf645",
   "metadata": {},
   "outputs": [
    {
     "data": {
      "application/vnd.plotly.v1+json": {
       "config": {
        "plotlyServerURL": "https://plotly.com"
       },
       "data": [
        {
         "alignmentgroup": "True",
         "bingroup": "x",
         "hovertemplate": "tempo_de_empresa=%{x}<br>count=%{y}<extra></extra>",
         "legendgroup": "",
         "marker": {
          "color": "#636efa"
         },
         "name": "",
         "offsetgroup": "",
         "orientation": "v",
         "showlegend": false,
         "type": "histogram",
         "x": [
          2.09,
          3.67,
          4.25,
          3.47,
          3.45,
          3.04,
          2.25,
          2.18,
          4.3,
          2.06,
          3.32,
          2.45,
          3.86,
          5.37,
          3.2,
          3.27,
          2.81,
          3.18,
          3.41,
          2.7,
          2.81,
          1.9,
          2.36,
          2.53,
          3.84,
          4.3,
          4.34,
          2.32,
          2.86,
          2.37,
          2.41,
          2.58,
          2.51,
          3.81,
          2.22,
          3.68,
          4.38,
          2.24,
          4.29,
          3.46,
          3.76,
          1.98,
          3.33,
          4.35,
          3.5,
          3.64,
          5.51,
          3.36,
          3.1,
          2.61,
          4.25,
          3.61,
          2.08,
          1.32,
          1.71,
          1.92,
          2.27,
          2.14,
          4.27,
          3.75,
          2.91,
          3.64,
          2.47,
          2.1,
          4.3,
          1.71,
          3.03,
          2.87,
          4.57,
          1.77,
          3.17,
          3.05,
          2.23,
          4.53,
          4.78,
          4.21,
          4.24,
          1.91,
          1.37,
          2.24,
          2.79,
          2.85,
          3.67,
          2.33,
          3.82,
          2.51,
          2.33,
          2.78,
          1.83,
          4.32,
          2.91,
          3.55,
          2.48,
          2.5,
          3.62,
          3.93,
          2.86,
          5.39,
          3.23,
          4.71,
          2.08,
          3.15,
          2.38,
          3.65,
          3.36,
          2.95,
          1.97,
          2.24,
          2.18,
          1.18,
          3.13,
          3.91,
          0.79,
          2.96,
          2.9,
          2.46,
          2.92,
          3.04,
          3.55,
          3.21,
          4.17,
          3.63,
          2.76,
          1.01,
          1.63,
          2.26,
          3.74,
          2.83,
          3.35,
          2.43,
          3.64,
          3.72,
          3.55,
          2.24,
          2.97,
          4.1,
          2.95,
          5.18,
          2.86,
          3.2,
          3.55,
          2.41,
          1.69,
          2.33,
          2.22,
          2.12,
          2.51,
          3.28,
          3.66,
          2.57,
          3.61,
          2.27,
          3.96,
          4.67,
          1.34,
          3.73,
          3.81,
          1.6,
          3.71,
          5.41,
          4.26,
          2.58,
          1.55,
          4.47,
          4.02,
          3.04,
          4,
          3.1,
          5.34,
          3.02,
          2.83,
          2.23,
          2.46,
          2.6,
          4.48,
          3.06,
          6.23,
          0.85,
          2.05,
          2.97,
          1.74,
          4.03,
          3.32,
          2.38,
          4.6,
          3.6,
          4.95,
          1.82,
          2.92,
          1.8,
          1.91,
          4.24,
          2.49,
          4.32,
          3.82,
          3.66,
          2.15,
          3.71,
          3.78,
          2.06,
          3.35,
          3.54,
          4.72,
          5.35,
          4.22,
          2,
          3.88,
          1.63,
          3.25,
          2.44,
          2.87,
          2.99,
          2.15,
          4.01,
          3.65,
          2.41,
          2.08,
          3.35,
          4.59,
          3.06,
          3.33,
          1.62,
          3.03,
          2.21,
          4.2,
          2.53,
          3.69,
          3.13,
          4.5,
          4.57,
          0.35,
          2.54,
          3.56,
          1.33,
          3.66,
          3.1,
          1.06,
          1.67,
          2.94,
          4.49,
          3.46,
          2.4,
          1.66,
          3.88,
          2.5,
          1.58,
          2.72,
          2.79,
          1.88,
          3.49,
          2.63,
          2.6,
          2.21,
          4.2,
          4.05,
          4.23,
          3.26,
          3.48,
          2.61,
          2.32,
          3.28,
          2.7,
          2.9,
          3.35,
          1.55,
          1.52,
          1.61,
          3.21,
          1.34,
          4.54,
          2.34,
          2.97,
          3.02,
          3.33,
          3.39,
          2.23,
          2.44,
          4.57,
          2.29,
          3,
          2.26,
          1.85,
          2.92,
          3.47,
          4.13,
          3.38,
          3.71,
          2.99,
          2.86,
          2.31,
          4.46,
          0.17,
          2.51,
          4.58,
          5.06,
          2.98,
          2.01,
          4.24,
          2.69,
          2.75,
          1.46,
          2.62,
          2.5,
          3.1,
          4.26,
          4.78,
          4.31,
          2.72,
          2.56,
          2.87,
          3.07,
          1.67,
          3.54,
          4.29,
          3.98,
          4.08,
          4.89,
          4.73,
          1.83,
          0.09,
          2.87,
          5.03,
          3.65,
          4.09,
          3.2,
          2.75,
          3.34,
          1.33,
          3.02,
          3.16,
          3.18,
          1.02,
          0.85,
          4.64,
          1.09,
          2.27,
          2.33,
          3.11,
          4.35,
          4.79,
          3.37,
          3.43,
          3.13,
          2.96,
          2.91,
          2.75,
          4.38,
          1.97,
          5.62,
          2.48,
          2.5,
          2.44,
          2.89,
          3.57,
          2.56,
          1.82,
          2.67,
          3.84,
          4.11,
          4.6,
          1.03,
          4.2,
          4.97,
          3.68,
          2.61,
          4.75,
          4.59,
          1,
          1.63,
          4.75,
          2.79,
          0.96,
          4.33,
          4.1,
          4.05,
          0.87,
          4.13,
          3.31,
          1.14,
          3.45,
          4.98,
          4.18,
          2.8,
          2.88,
          4.52,
          2.22,
          3.79,
          2.47,
          4.44,
          2.72,
          2,
          2.13,
          5.66,
          2.82,
          3.83,
          2.76,
          2.04,
          2.87,
          2.09,
          3.23,
          2.68,
          3.39,
          1.49,
          2.66,
          3.87,
          3.38,
          5.13,
          2.36,
          2.81,
          1.03,
          3.03,
          2.98,
          3.83,
          4.38,
          2.78,
          2.86,
          1.6,
          2.5,
          3.45,
          2.17,
          1.64,
          3.53,
          4.12,
          3.18,
          3.08,
          3.39,
          3.32,
          1.86,
          1.91,
          4.66,
          4.41,
          2.46,
          2.66,
          4.44,
          3.11,
          2.61,
          3.35,
          3.82,
          5.1,
          3.13,
          2.91,
          1.04,
          2.52,
          1.46,
          4.41,
          3.87,
          1.82,
          4.47,
          2.57,
          3.76,
          2.32,
          2.37,
          1.94,
          1.42,
          2.13,
          2.62,
          2.89,
          4.31,
          3.05,
          3.67,
          5.18,
          3.21,
          3.48,
          1.59,
          4.05,
          2.51,
          1,
          2.6,
          1.16,
          2.95,
          2.96,
          2.5,
          1.77,
          3.38,
          2.9,
          2.23,
          2.22,
          3.59,
          3.4,
          0.89,
          3.45,
          3.09,
          1.31,
          3.59,
          2.74,
          2.36,
          2.6,
          4.38,
          2.76,
          3.18,
          2.1,
          3.09,
          2.3,
          2.86,
          2.52,
          4.12,
          3.52,
          2.9,
          3.66,
          1.36,
          2.32,
          3.05,
          3.61,
          2.83,
          1.81,
          2.65,
          3.68,
          3.2,
          3.28,
          3.46,
          1.99,
          2.44,
          3.8,
          3.04,
          1.76,
          3.98,
          5.18,
          3.28,
          2.4,
          3.54,
          3.41,
          2.34,
          1.07,
          3.9,
          3.03,
          1.32,
          3.99,
          3.2,
          3.2,
          2.16,
          3.13,
          2.54,
          2.51,
          3.1,
          3.45,
          1.42,
          2.99,
          1.98,
          5.49,
          1.9,
          1.59,
          2.65,
          1.04,
          3.13,
          2.56,
          2.84,
          1.87,
          1.86,
          3.98,
          2.95,
          3.03,
          3.03,
          2.78,
          2.86,
          3.65,
          2.35,
          2.91,
          2.45,
          4.54,
          2.11,
          3.24,
          3.06,
          2.16,
          3.64,
          3,
          3.22,
          2.29,
          1.22,
          2.24,
          3.41,
          3.69,
          2.33,
          2.79,
          2.34,
          2.85,
          2.42,
          4.62,
          4.21,
          2.1,
          2.06,
          1.84,
          4.34,
          3.36,
          3.02,
          2.75,
          3.21,
          3.92,
          3.92,
          4.04,
          2.81,
          2.03,
          1.91,
          4.48,
          3.34,
          4.51,
          1.86,
          2.07,
          3.7,
          2.32,
          3.44,
          3.58,
          3.85,
          3.45,
          3.57,
          3.57,
          1.93,
          3.44,
          3.14,
          3.71,
          3.15,
          2.61,
          2.39,
          3,
          3.2,
          2.88,
          3.39,
          3.14,
          2.42,
          2.81,
          2.89,
          2.42,
          3.53,
          2.9,
          3.09,
          1.59,
          3.15,
          3.59,
          3.26,
          2.52,
          3.97,
          4.89,
          2.07,
          3.96,
          2.25,
          0.52,
          3.49,
          2.83,
          2.49,
          4.53,
          3.23,
          4.74,
          3.57,
          1.5,
          3.29,
          3.04,
          4.52,
          3.72,
          1.4,
          2.97,
          2.91,
          2.12,
          2.77,
          3.22,
          4.58,
          4.54,
          4.31,
          3.66,
          3.62,
          5.41,
          1.54,
          3.37,
          4.78,
          4.36,
          3.19,
          3,
          1.63,
          3.18,
          1.36,
          3.84,
          3.36,
          4.33,
          3.52,
          2.61,
          2.78,
          2.45,
          3.25,
          2.99,
          2.4,
          2.6,
          2.38,
          2.98,
          2.17,
          2.51,
          3.32,
          3.8,
          2.11,
          2.88,
          4.31,
          2.64,
          2.53,
          2.3,
          3.26,
          1.57,
          3.37,
          1.97,
          3.43,
          2.72,
          4.39,
          4.5,
          1.29,
          2.21,
          2.39,
          2.23,
          4.35,
          3.89,
          2.63,
          3.35,
          5.89,
          2.68,
          3.02,
          3.03,
          4.25,
          2.03,
          4.16,
          3.74,
          2.21,
          3.73,
          1.69,
          2.11,
          3.52,
          3.21,
          4.21,
          2.41,
          3.8,
          1.79,
          4.61,
          3.47,
          2.63,
          2.93,
          0.83,
          3.14,
          2.73,
          3.27,
          3.88,
          4.61,
          3.68,
          3.87,
          3.42,
          3.58,
          5.28,
          1.31,
          3.1,
          1.99,
          2.84,
          3.24,
          2.65,
          4.17,
          3.88,
          3.34,
          2.67,
          4.55,
          4.61,
          3.13,
          2.91,
          3.16,
          3.05,
          2.17,
          2.6,
          2.81,
          2.95,
          2.1,
          2.09,
          2.91,
          2.28,
          2.18,
          0.51,
          4.34,
          3.66,
          3.26,
          1.55,
          2.09,
          4.77,
          2.92,
          2.52,
          1.4,
          3.82,
          2.16,
          1.51,
          2.62,
          1.98,
          2.44,
          1.66,
          2.08,
          3.73,
          3.15,
          3.18,
          2.85,
          3.27,
          1.36,
          3.67,
          1.06,
          2.52,
          3.31,
          2.05,
          3.17,
          2.78,
          4.87,
          2.28,
          4.61,
          2.71,
          2.64,
          2.46,
          3.9,
          3.01,
          2.65,
          2.78,
          5.07,
          1.46,
          2.49,
          4.15,
          3.09,
          3.41,
          1.89,
          3.95,
          4.03,
          5.19,
          4.01,
          2.9,
          2.75,
          0.84,
          4.19,
          1.77,
          2.42,
          2.77,
          4.16,
          3.11,
          3.58,
          3.37,
          4.04,
          4.26,
          1.86,
          2.52,
          2.99,
          4.83,
          2.93,
          2.41,
          4.98,
          1.79,
          4.63,
          3.65,
          3.57,
          3.53,
          2.22,
          2.86,
          2.54,
          4.4,
          3.52,
          3.7,
          3,
          1.8,
          2.23,
          3.84,
          1.26,
          2.02,
          3.7,
          4.17,
          4.54,
          3.16,
          3.1,
          2.15,
          3.33,
          3,
          3.51,
          3.43,
          3.79,
          3.6,
          2.74,
          3.06,
          3.57,
          0.56,
          3.13,
          2.47,
          2.78,
          3.28,
          4.25,
          2.41,
          3.5,
          1.59,
          3.88,
          3.4,
          2.68,
          2.36,
          4.47,
          2.66,
          1.25,
          2.87,
          0.56,
          4.82,
          2.55,
          3.3,
          3.05,
          1.89,
          3.27,
          3.13,
          3.21,
          4.26,
          3.53,
          3.32,
          2.71,
          2.89,
          3.05,
          4.73,
          3.68,
          2.96,
          2.11,
          1.11,
          3.37,
          2.97,
          4.18,
          3.03,
          2.8,
          3.15,
          3.28,
          3.05,
          3.65,
          3.14,
          2.71,
          3.32,
          3.4,
          2.67,
          2.67,
          3.76,
          2.92,
          4.14,
          3.6,
          2.8,
          1.77,
          4.17,
          4.15,
          3.96,
          1.87,
          2.56,
          2.93,
          2.62,
          2.34,
          3.97,
          4.2,
          1.64,
          2.57,
          2.55,
          3.5,
          3.35,
          3.04,
          3.66,
          1.63,
          1.44,
          2.88,
          3.32,
          3.05,
          2.63,
          2.39,
          3.36,
          2.58,
          3.04,
          3.48,
          3.01,
          2.12,
          5.44,
          3.9,
          4.62,
          3.8,
          5.29,
          2.88,
          5.09,
          2.31,
          4.49,
          1.73,
          3.78,
          3.98,
          3.68,
          1.93,
          3.19,
          2.76,
          4.09,
          2.64,
          5.04,
          2.31,
          2.74,
          1.93,
          3.72,
          3.16,
          2.69,
          3.18,
          2.09,
          2.31,
          3.05,
          2.51,
          2.4,
          2.68,
          3.55,
          2.31,
          2.71,
          4.76,
          3.67,
          2.85,
          2.88,
          2.95,
          1.59,
          2.97,
          3.04
         ],
         "xaxis": "x",
         "yaxis": "y"
        }
       ],
       "layout": {
        "autosize": true,
        "barmode": "relative",
        "legend": {
         "tracegroupgap": 0
        },
        "margin": {
         "t": 60
        },
        "template": {
         "data": {
          "bar": [
           {
            "error_x": {
             "color": "#2a3f5f"
            },
            "error_y": {
             "color": "#2a3f5f"
            },
            "marker": {
             "line": {
              "color": "#E5ECF6",
              "width": 0.5
             }
            },
            "type": "bar"
           }
          ],
          "barpolar": [
           {
            "marker": {
             "line": {
              "color": "#E5ECF6",
              "width": 0.5
             }
            },
            "type": "barpolar"
           }
          ],
          "carpet": [
           {
            "aaxis": {
             "endlinecolor": "#2a3f5f",
             "gridcolor": "white",
             "linecolor": "white",
             "minorgridcolor": "white",
             "startlinecolor": "#2a3f5f"
            },
            "baxis": {
             "endlinecolor": "#2a3f5f",
             "gridcolor": "white",
             "linecolor": "white",
             "minorgridcolor": "white",
             "startlinecolor": "#2a3f5f"
            },
            "type": "carpet"
           }
          ],
          "choropleth": [
           {
            "colorbar": {
             "outlinewidth": 0,
             "ticks": ""
            },
            "type": "choropleth"
           }
          ],
          "contour": [
           {
            "colorbar": {
             "outlinewidth": 0,
             "ticks": ""
            },
            "colorscale": [
             [
              0,
              "#0d0887"
             ],
             [
              0.1111111111111111,
              "#46039f"
             ],
             [
              0.2222222222222222,
              "#7201a8"
             ],
             [
              0.3333333333333333,
              "#9c179e"
             ],
             [
              0.4444444444444444,
              "#bd3786"
             ],
             [
              0.5555555555555556,
              "#d8576b"
             ],
             [
              0.6666666666666666,
              "#ed7953"
             ],
             [
              0.7777777777777778,
              "#fb9f3a"
             ],
             [
              0.8888888888888888,
              "#fdca26"
             ],
             [
              1,
              "#f0f921"
             ]
            ],
            "type": "contour"
           }
          ],
          "contourcarpet": [
           {
            "colorbar": {
             "outlinewidth": 0,
             "ticks": ""
            },
            "type": "contourcarpet"
           }
          ],
          "heatmap": [
           {
            "colorbar": {
             "outlinewidth": 0,
             "ticks": ""
            },
            "colorscale": [
             [
              0,
              "#0d0887"
             ],
             [
              0.1111111111111111,
              "#46039f"
             ],
             [
              0.2222222222222222,
              "#7201a8"
             ],
             [
              0.3333333333333333,
              "#9c179e"
             ],
             [
              0.4444444444444444,
              "#bd3786"
             ],
             [
              0.5555555555555556,
              "#d8576b"
             ],
             [
              0.6666666666666666,
              "#ed7953"
             ],
             [
              0.7777777777777778,
              "#fb9f3a"
             ],
             [
              0.8888888888888888,
              "#fdca26"
             ],
             [
              1,
              "#f0f921"
             ]
            ],
            "type": "heatmap"
           }
          ],
          "heatmapgl": [
           {
            "colorbar": {
             "outlinewidth": 0,
             "ticks": ""
            },
            "colorscale": [
             [
              0,
              "#0d0887"
             ],
             [
              0.1111111111111111,
              "#46039f"
             ],
             [
              0.2222222222222222,
              "#7201a8"
             ],
             [
              0.3333333333333333,
              "#9c179e"
             ],
             [
              0.4444444444444444,
              "#bd3786"
             ],
             [
              0.5555555555555556,
              "#d8576b"
             ],
             [
              0.6666666666666666,
              "#ed7953"
             ],
             [
              0.7777777777777778,
              "#fb9f3a"
             ],
             [
              0.8888888888888888,
              "#fdca26"
             ],
             [
              1,
              "#f0f921"
             ]
            ],
            "type": "heatmapgl"
           }
          ],
          "histogram": [
           {
            "marker": {
             "colorbar": {
              "outlinewidth": 0,
              "ticks": ""
             }
            },
            "type": "histogram"
           }
          ],
          "histogram2d": [
           {
            "colorbar": {
             "outlinewidth": 0,
             "ticks": ""
            },
            "colorscale": [
             [
              0,
              "#0d0887"
             ],
             [
              0.1111111111111111,
              "#46039f"
             ],
             [
              0.2222222222222222,
              "#7201a8"
             ],
             [
              0.3333333333333333,
              "#9c179e"
             ],
             [
              0.4444444444444444,
              "#bd3786"
             ],
             [
              0.5555555555555556,
              "#d8576b"
             ],
             [
              0.6666666666666666,
              "#ed7953"
             ],
             [
              0.7777777777777778,
              "#fb9f3a"
             ],
             [
              0.8888888888888888,
              "#fdca26"
             ],
             [
              1,
              "#f0f921"
             ]
            ],
            "type": "histogram2d"
           }
          ],
          "histogram2dcontour": [
           {
            "colorbar": {
             "outlinewidth": 0,
             "ticks": ""
            },
            "colorscale": [
             [
              0,
              "#0d0887"
             ],
             [
              0.1111111111111111,
              "#46039f"
             ],
             [
              0.2222222222222222,
              "#7201a8"
             ],
             [
              0.3333333333333333,
              "#9c179e"
             ],
             [
              0.4444444444444444,
              "#bd3786"
             ],
             [
              0.5555555555555556,
              "#d8576b"
             ],
             [
              0.6666666666666666,
              "#ed7953"
             ],
             [
              0.7777777777777778,
              "#fb9f3a"
             ],
             [
              0.8888888888888888,
              "#fdca26"
             ],
             [
              1,
              "#f0f921"
             ]
            ],
            "type": "histogram2dcontour"
           }
          ],
          "mesh3d": [
           {
            "colorbar": {
             "outlinewidth": 0,
             "ticks": ""
            },
            "type": "mesh3d"
           }
          ],
          "parcoords": [
           {
            "line": {
             "colorbar": {
              "outlinewidth": 0,
              "ticks": ""
             }
            },
            "type": "parcoords"
           }
          ],
          "pie": [
           {
            "automargin": true,
            "type": "pie"
           }
          ],
          "scatter": [
           {
            "marker": {
             "colorbar": {
              "outlinewidth": 0,
              "ticks": ""
             }
            },
            "type": "scatter"
           }
          ],
          "scatter3d": [
           {
            "line": {
             "colorbar": {
              "outlinewidth": 0,
              "ticks": ""
             }
            },
            "marker": {
             "colorbar": {
              "outlinewidth": 0,
              "ticks": ""
             }
            },
            "type": "scatter3d"
           }
          ],
          "scattercarpet": [
           {
            "marker": {
             "colorbar": {
              "outlinewidth": 0,
              "ticks": ""
             }
            },
            "type": "scattercarpet"
           }
          ],
          "scattergeo": [
           {
            "marker": {
             "colorbar": {
              "outlinewidth": 0,
              "ticks": ""
             }
            },
            "type": "scattergeo"
           }
          ],
          "scattergl": [
           {
            "marker": {
             "colorbar": {
              "outlinewidth": 0,
              "ticks": ""
             }
            },
            "type": "scattergl"
           }
          ],
          "scattermapbox": [
           {
            "marker": {
             "colorbar": {
              "outlinewidth": 0,
              "ticks": ""
             }
            },
            "type": "scattermapbox"
           }
          ],
          "scatterpolar": [
           {
            "marker": {
             "colorbar": {
              "outlinewidth": 0,
              "ticks": ""
             }
            },
            "type": "scatterpolar"
           }
          ],
          "scatterpolargl": [
           {
            "marker": {
             "colorbar": {
              "outlinewidth": 0,
              "ticks": ""
             }
            },
            "type": "scatterpolargl"
           }
          ],
          "scatterternary": [
           {
            "marker": {
             "colorbar": {
              "outlinewidth": 0,
              "ticks": ""
             }
            },
            "type": "scatterternary"
           }
          ],
          "surface": [
           {
            "colorbar": {
             "outlinewidth": 0,
             "ticks": ""
            },
            "colorscale": [
             [
              0,
              "#0d0887"
             ],
             [
              0.1111111111111111,
              "#46039f"
             ],
             [
              0.2222222222222222,
              "#7201a8"
             ],
             [
              0.3333333333333333,
              "#9c179e"
             ],
             [
              0.4444444444444444,
              "#bd3786"
             ],
             [
              0.5555555555555556,
              "#d8576b"
             ],
             [
              0.6666666666666666,
              "#ed7953"
             ],
             [
              0.7777777777777778,
              "#fb9f3a"
             ],
             [
              0.8888888888888888,
              "#fdca26"
             ],
             [
              1,
              "#f0f921"
             ]
            ],
            "type": "surface"
           }
          ],
          "table": [
           {
            "cells": {
             "fill": {
              "color": "#EBF0F8"
             },
             "line": {
              "color": "white"
             }
            },
            "header": {
             "fill": {
              "color": "#C8D4E3"
             },
             "line": {
              "color": "white"
             }
            },
            "type": "table"
           }
          ]
         },
         "layout": {
          "annotationdefaults": {
           "arrowcolor": "#2a3f5f",
           "arrowhead": 0,
           "arrowwidth": 1
          },
          "autotypenumbers": "strict",
          "coloraxis": {
           "colorbar": {
            "outlinewidth": 0,
            "ticks": ""
           }
          },
          "colorscale": {
           "diverging": [
            [
             0,
             "#8e0152"
            ],
            [
             0.1,
             "#c51b7d"
            ],
            [
             0.2,
             "#de77ae"
            ],
            [
             0.3,
             "#f1b6da"
            ],
            [
             0.4,
             "#fde0ef"
            ],
            [
             0.5,
             "#f7f7f7"
            ],
            [
             0.6,
             "#e6f5d0"
            ],
            [
             0.7,
             "#b8e186"
            ],
            [
             0.8,
             "#7fbc41"
            ],
            [
             0.9,
             "#4d9221"
            ],
            [
             1,
             "#276419"
            ]
           ],
           "sequential": [
            [
             0,
             "#0d0887"
            ],
            [
             0.1111111111111111,
             "#46039f"
            ],
            [
             0.2222222222222222,
             "#7201a8"
            ],
            [
             0.3333333333333333,
             "#9c179e"
            ],
            [
             0.4444444444444444,
             "#bd3786"
            ],
            [
             0.5555555555555556,
             "#d8576b"
            ],
            [
             0.6666666666666666,
             "#ed7953"
            ],
            [
             0.7777777777777778,
             "#fb9f3a"
            ],
            [
             0.8888888888888888,
             "#fdca26"
            ],
            [
             1,
             "#f0f921"
            ]
           ],
           "sequentialminus": [
            [
             0,
             "#0d0887"
            ],
            [
             0.1111111111111111,
             "#46039f"
            ],
            [
             0.2222222222222222,
             "#7201a8"
            ],
            [
             0.3333333333333333,
             "#9c179e"
            ],
            [
             0.4444444444444444,
             "#bd3786"
            ],
            [
             0.5555555555555556,
             "#d8576b"
            ],
            [
             0.6666666666666666,
             "#ed7953"
            ],
            [
             0.7777777777777778,
             "#fb9f3a"
            ],
            [
             0.8888888888888888,
             "#fdca26"
            ],
            [
             1,
             "#f0f921"
            ]
           ]
          },
          "colorway": [
           "#636efa",
           "#EF553B",
           "#00cc96",
           "#ab63fa",
           "#FFA15A",
           "#19d3f3",
           "#FF6692",
           "#B6E880",
           "#FF97FF",
           "#FECB52"
          ],
          "font": {
           "color": "#2a3f5f"
          },
          "geo": {
           "bgcolor": "white",
           "lakecolor": "white",
           "landcolor": "#E5ECF6",
           "showlakes": true,
           "showland": true,
           "subunitcolor": "white"
          },
          "hoverlabel": {
           "align": "left"
          },
          "hovermode": "closest",
          "mapbox": {
           "style": "light"
          },
          "paper_bgcolor": "white",
          "plot_bgcolor": "#E5ECF6",
          "polar": {
           "angularaxis": {
            "gridcolor": "white",
            "linecolor": "white",
            "ticks": ""
           },
           "bgcolor": "#E5ECF6",
           "radialaxis": {
            "gridcolor": "white",
            "linecolor": "white",
            "ticks": ""
           }
          },
          "scene": {
           "xaxis": {
            "backgroundcolor": "#E5ECF6",
            "gridcolor": "white",
            "gridwidth": 2,
            "linecolor": "white",
            "showbackground": true,
            "ticks": "",
            "zerolinecolor": "white"
           },
           "yaxis": {
            "backgroundcolor": "#E5ECF6",
            "gridcolor": "white",
            "gridwidth": 2,
            "linecolor": "white",
            "showbackground": true,
            "ticks": "",
            "zerolinecolor": "white"
           },
           "zaxis": {
            "backgroundcolor": "#E5ECF6",
            "gridcolor": "white",
            "gridwidth": 2,
            "linecolor": "white",
            "showbackground": true,
            "ticks": "",
            "zerolinecolor": "white"
           }
          },
          "shapedefaults": {
           "line": {
            "color": "#2a3f5f"
           }
          },
          "ternary": {
           "aaxis": {
            "gridcolor": "white",
            "linecolor": "white",
            "ticks": ""
           },
           "baxis": {
            "gridcolor": "white",
            "linecolor": "white",
            "ticks": ""
           },
           "bgcolor": "#E5ECF6",
           "caxis": {
            "gridcolor": "white",
            "linecolor": "white",
            "ticks": ""
           }
          },
          "title": {
           "x": 0.05
          },
          "xaxis": {
           "automargin": true,
           "gridcolor": "white",
           "linecolor": "white",
           "ticks": "",
           "title": {
            "standoff": 15
           },
           "zerolinecolor": "white",
           "zerolinewidth": 2
          },
          "yaxis": {
           "automargin": true,
           "gridcolor": "white",
           "linecolor": "white",
           "ticks": "",
           "title": {
            "standoff": 15
           },
           "zerolinecolor": "white",
           "zerolinewidth": 2
          }
         }
        },
        "xaxis": {
         "anchor": "y",
         "autorange": true,
         "domain": [
          0,
          1
         ],
         "range": [
          3.608224830031759e-16,
          6.4
         ],
         "title": {
          "text": "tempo_de_empresa"
         },
         "type": "linear"
        },
        "yaxis": {
         "anchor": "x",
         "autorange": true,
         "domain": [
          0,
          1
         ],
         "range": [
          0,
          95.78947368421052
         ],
         "title": {
          "text": "count"
         }
        }
       }
      },
      "image/png": "[encoded data removed]",
      "text/html": [
       "<div>                            <div id=\"f03536fc-dac1-4216-9473-2435427560f8\" class=\"plotly-graph-div\" style=\"height:525px; width:100%;\"></div>            <script type=\"text/javascript\">                require([\"plotly\"], function(Plotly) {                    window.PLOTLYENV=window.PLOTLYENV || {};                                    if (document.getElementById(\"f03536fc-dac1-4216-9473-2435427560f8\")) {                    Plotly.newPlot(                        \"f03536fc-dac1-4216-9473-2435427560f8\",                        [{\"alignmentgroup\": \"True\", \"bingroup\": \"x\", \"hovertemplate\": \"tempo_de_empresa=%{x}<br>count=%{y}<extra></extra>\", \"legendgroup\": \"\", \"marker\": {\"color\": \"#636efa\"}, \"name\": \"\", \"offsetgroup\": \"\", \"orientation\": \"v\", \"showlegend\": false, \"type\": \"histogram\", \"x\": [2.09, 3.67, 4.25, 3.47, 3.45, 3.04, 2.25, 2.18, 4.3, 2.06, 3.32, 2.45, 3.86, 5.37, 3.2, 3.27, 2.81, 3.18, 3.41, 2.7, 2.81, 1.9, 2.36, 2.53, 3.84, 4.3, 4.34, 2.32, 2.86, 2.37, 2.41, 2.58, 2.51, 3.81, 2.22, 3.68, 4.38, 2.24, 4.29, 3.46, 3.76, 1.98, 3.33, 4.35, 3.5, 3.64, 5.51, 3.36, 3.1, 2.61, 4.25, 3.61, 2.08, 1.32, 1.71, 1.92, 2.27, 2.14, 4.27, 3.75, 2.91, 3.64, 2.47, 2.1, 4.3, 1.71, 3.03, 2.87, 4.57, 1.77, 3.17, 3.05, 2.23, 4.53, 4.78, 4.21, 4.24, 1.91, 1.37, 2.24, 2.79, 2.85, 3.67, 2.33, 3.82, 2.51, 2.33, 2.78, 1.83, 4.32, 2.91, 3.55, 2.48, 2.5, 3.62, 3.93, 2.86, 5.39, 3.23, 4.71, 2.08, 3.15, 2.38, 3.65, 3.36, 2.95, 1.97, 2.24, 2.18, 1.18, 3.13, 3.91, 0.79, 2.96, 2.9, 2.46, 2.92, 3.04, 3.55, 3.21, 4.17, 3.63, 2.76, 1.01, 1.63, 2.26, 3.74, 2.83, 3.35, 2.43, 3.64, 3.72, 3.55, 2.24, 2.97, 4.1, 2.95, 5.18, 2.86, 3.2, 3.55, 2.41, 1.69, 2.33, 2.22, 2.12, 2.51, 3.28, 3.66, 2.57, 3.61, 2.27, 3.96, 4.67, 1.34, 3.73, 3.81, 1.6, 3.71, 5.41, 4.26, 2.58, 1.55, 4.47, 4.02, 3.04, 4.0, 3.1, 5.34, 3.02, 2.83, 2.23, 2.46, 2.6, 4.48, 3.06, 6.23, 0.85, 2.05, 2.97, 1.74, 4.03, 3.32, 2.38, 4.6, 3.6, 4.95, 1.82, 2.92, 1.8, 1.91, 4.24, 2.49, 4.32, 3.82, 3.66, 2.15, 3.71, 3.78, 2.06, 3.35, 3.54, 4.72, 5.35, 4.22, 2.0, 3.88, 1.63, 3.25, 2.44, 2.87, 2.99, 2.15, 4.01, 3.65, 2.41, 2.08, 3.35, 4.59, 3.06, 3.33, 1.62, 3.03, 2.21, 4.2, 2.53, 3.69, 3.13, 4.5, 4.57, 0.35, 2.54, 3.56, 1.33, 3.66, 3.1, 1.06, 1.67, 2.94, 4.49, 3.46, 2.4, 1.66, 3.88, 2.5, 1.58, 2.72, 2.79, 1.88, 3.49, 2.63, 2.6, 2.21, 4.2, 4.05, 4.23, 3.26, 3.48, 2.61, 2.32, 3.28, 2.7, 2.9, 3.35, 1.55, 1.52, 1.61, 3.21, 1.34, 4.54, 2.34, 2.97, 3.02, 3.33, 3.39, 2.23, 2.44, 4.57, 2.29, 3.0, 2.26, 1.85, 2.92, 3.47, 4.13, 3.38, 3.71, 2.99, 2.86, 2.31, 4.46, 0.17, 2.51, 4.58, 5.06, 2.98, 2.01, 4.24, 2.69, 2.75, 1.46, 2.62, 2.5, 3.1, 4.26, 4.78, 4.31, 2.72, 2.56, 2.87, 3.07, 1.67, 3.54, 4.29, 3.98, 4.08, 4.89, 4.73, 1.83, 0.09, 2.87, 5.03, 3.65, 4.09, 3.2, 2.75, 3.34, 1.33, 3.02, 3.16, 3.18, 1.02, 0.85, 4.64, 1.09, 2.27, 2.33, 3.11, 4.35, 4.79, 3.37, 3.43, 3.13, 2.96, 2.91, 2.75, 4.38, 1.97, 5.62, 2.48, 2.5, 2.44, 2.89, 3.57, 2.56, 1.82, 2.67, 3.84, 4.11, 4.6, 1.03, 4.2, 4.97, 3.68, 2.61, 4.75, 4.59, 1.0, 1.63, 4.75, 2.79, 0.96, 4.33, 4.1, 4.05, 0.87, 4.13, 3.31, 1.14, 3.45, 4.98, 4.18, 2.8, 2.88, 4.52, 2.22, 3.79, 2.47, 4.44, 2.72, 2.0, 2.13, 5.66, 2.82, 3.83, 2.76, 2.04, 2.87, 2.09, 3.23, 2.68, 3.39, 1.49, 2.66, 3.87, 3.38, 5.13, 2.36, 2.81, 1.03, 3.03, 2.98, 3.83, 4.38, 2.78, 2.86, 1.6, 2.5, 3.45, 2.17, 1.64, 3.53, 4.12, 3.18, 3.08, 3.39, 3.32, 1.86, 1.91, 4.66, 4.41, 2.46, 2.66, 4.44, 3.11, 2.61, 3.35, 3.82, 5.1, 3.13, 2.91, 1.04, 2.52, 1.46, 4.41, 3.87, 1.82, 4.47, 2.57, 3.76, 2.32, 2.37, 1.94, 1.42, 2.13, 2.62, 2.89, 4.31, 3.05, 3.67, 5.18, 3.21, 3.48, 1.59, 4.05, 2.51, 1.0, 2.6, 1.16, 2.95, 2.96, 2.5, 1.77, 3.38, 2.9, 2.23, 2.22, 3.59, 3.4, 0.89, 3.45, 3.09, 1.31, 3.59, 2.74, 2.36, 2.6, 4.38, 2.76, 3.18, 2.1, 3.09, 2.3, 2.86, 2.52, 4.12, 3.52, 2.9, 3.66, 1.36, 2.32, 3.05, 3.61, 2.83, 1.81, 2.65, 3.68, 3.2, 3.28, 3.46, 1.99, 2.44, 3.8, 3.04, 1.76, 3.98, 5.18, 3.28, 2.4, 3.54, 3.41, 2.34, 1.07, 3.9, 3.03, 1.32, 3.99, 3.2, 3.2, 2.16, 3.13, 2.54, 2.51, 3.1, 3.45, 1.42, 2.99, 1.98, 5.49, 1.9, 1.59, 2.65, 1.04, 3.13, 2.56, 2.84, 1.87, 1.86, 3.98, 2.95, 3.03, 3.03, 2.78, 2.86, 3.65, 2.35, 2.91, 2.45, 4.54, 2.11, 3.24, 3.06, 2.16, 3.64, 3.0, 3.22, 2.29, 1.22, 2.24, 3.41, 3.69, 2.33, 2.79, 2.34, 2.85, 2.42, 4.62, 4.21, 2.1, 2.06, 1.84, 4.34, 3.36, 3.02, 2.75, 3.21, 3.92, 3.92, 4.04, 2.81, 2.03, 1.91, 4.48, 3.34, 4.51, 1.86, 2.07, 3.7, 2.32, 3.44, 3.58, 3.85, 3.45, 3.57, 3.57, 1.93, 3.44, 3.14, 3.71, 3.15, 2.61, 2.39, 3.0, 3.2, 2.88, 3.39, 3.14, 2.42, 2.81, 2.89, 2.42, 3.53, 2.9, 3.09, 1.59, 3.15, 3.59, 3.26, 2.52, 3.97, 4.89, 2.07, 3.96, 2.25, 0.52, 3.49, 2.83, 2.49, 4.53, 3.23, 4.74, 3.57, 1.5, 3.29, 3.04, 4.52, 3.72, 1.4, 2.97, 2.91, 2.12, 2.77, 3.22, 4.58, 4.54, 4.31, 3.66, 3.62, 5.41, 1.54, 3.37, 4.78, 4.36, 3.19, 3.0, 1.63, 3.18, 1.36, 3.84, 3.36, 4.33, 3.52, 2.61, 2.78, 2.45, 3.25, 2.99, 2.4, 2.6, 2.38, 2.98, 2.17, 2.51, 3.32, 3.8, 2.11, 2.88, 4.31, 2.64, 2.53, 2.3, 3.26, 1.57, 3.37, 1.97, 3.43, 2.72, 4.39, 4.5, 1.29, 2.21, 2.39, 2.23, 4.35, 3.89, 2.63, 3.35, 5.89, 2.68, 3.02, 3.03, 4.25, 2.03, 4.16, 3.74, 2.21, 3.73, 1.69, 2.11, 3.52, 3.21, 4.21, 2.41, 3.8, 1.79, 4.61, 3.47, 2.63, 2.93, 0.83, 3.14, 2.73, 3.27, 3.88, 4.61, 3.68, 3.87, 3.42, 3.58, 5.28, 1.31, 3.1, 1.99, 2.84, 3.24, 2.65, 4.17, 3.88, 3.34, 2.67, 4.55, 4.61, 3.13, 2.91, 3.16, 3.05, 2.17, 2.6, 2.81, 2.95, 2.1, 2.09, 2.91, 2.28, 2.18, 0.51, 4.34, 3.66, 3.26, 1.55, 2.09, 4.77, 2.92, 2.52, 1.4, 3.82, 2.16, 1.51, 2.62, 1.98, 2.44, 1.66, 2.08, 3.73, 3.15, 3.18, 2.85, 3.27, 1.36, 3.67, 1.06, 2.52, 3.31, 2.05, 3.17, 2.78, 4.87, 2.28, 4.61, 2.71, 2.64, 2.46, 3.9, 3.01, 2.65, 2.78, 5.07, 1.46, 2.49, 4.15, 3.09, 3.41, 1.89, 3.95, 4.03, 5.19, 4.01, 2.9, 2.75, 0.84, 4.19, 1.77, 2.42, 2.77, 4.16, 3.11, 3.58, 3.37, 4.04, 4.26, 1.86, 2.52, 2.99, 4.83, 2.93, 2.41, 4.98, 1.79, 4.63, 3.65, 3.57, 3.53, 2.22, 2.86, 2.54, 4.4, 3.52, 3.7, 3.0, 1.8, 2.23, 3.84, 1.26, 2.02, 3.7, 4.17, 4.54, 3.16, 3.1, 2.15, 3.33, 3.0, 3.51, 3.43, 3.79, 3.6, 2.74, 3.06, 3.57, 0.56, 3.13, 2.47, 2.78, 3.28, 4.25, 2.41, 3.5, 1.59, 3.88, 3.4, 2.68, 2.36, 4.47, 2.66, 1.25, 2.87, 0.56, 4.82, 2.55, 3.3, 3.05, 1.89, 3.27, 3.13, 3.21, 4.26, 3.53, 3.32, 2.71, 2.89, 3.05, 4.73, 3.68, 2.96, 2.11, 1.11, 3.37, 2.97, 4.18, 3.03, 2.8, 3.15, 3.28, 3.05, 3.65, 3.14, 2.71, 3.32, 3.4, 2.67, 2.67, 3.76, 2.92, 4.14, 3.6, 2.8, 1.77, 4.17, 4.15, 3.96, 1.87, 2.56, 2.93, 2.62, 2.34, 3.97, 4.2, 1.64, 2.57, 2.55, 3.5, 3.35, 3.04, 3.66, 1.63, 1.44, 2.88, 3.32, 3.05, 2.63, 2.39, 3.36, 2.58, 3.04, 3.48, 3.01, 2.12, 5.44, 3.9, 4.62, 3.8, 5.29, 2.88, 5.09, 2.31, 4.49, 1.73, 3.78, 3.98, 3.68, 1.93, 3.19, 2.76, 4.09, 2.64, 5.04, 2.31, 2.74, 1.93, 3.72, 3.16, 2.69, 3.18, 2.09, 2.31, 3.05, 2.51, 2.4, 2.68, 3.55, 2.31, 2.71, 4.76, 3.67, 2.85, 2.88, 2.95, 1.59, 2.97, 3.04], \"xaxis\": \"x\", \"yaxis\": \"y\"}],                        {\"barmode\": \"relative\", \"legend\": {\"tracegroupgap\": 0}, \"margin\": {\"t\": 60}, \"template\": {\"data\": {\"bar\": [{\"error_x\": {\"color\": \"#2a3f5f\"}, \"error_y\": {\"color\": \"#2a3f5f\"}, \"marker\": {\"line\": {\"color\": \"#E5ECF6\", \"width\": 0.5}}, \"type\": \"bar\"}], \"barpolar\": [{\"marker\": {\"line\": {\"color\": \"#E5ECF6\", \"width\": 0.5}}, \"type\": \"barpolar\"}], \"carpet\": [{\"aaxis\": {\"endlinecolor\": \"#2a3f5f\", \"gridcolor\": \"white\", \"linecolor\": \"white\", \"minorgridcolor\": \"white\", \"startlinecolor\": \"#2a3f5f\"}, \"baxis\": {\"endlinecolor\": \"#2a3f5f\", \"gridcolor\": \"white\", \"linecolor\": \"white\", \"minorgridcolor\": \"white\", \"startlinecolor\": \"#2a3f5f\"}, \"type\": \"carpet\"}], \"choropleth\": [{\"colorbar\": {\"outlinewidth\": 0, \"ticks\": \"\"}, \"type\": \"choropleth\"}], \"contour\": [{\"colorbar\": {\"outlinewidth\": 0, \"ticks\": \"\"}, \"colorscale\": [[0.0, \"#0d0887\"], [0.1111111111111111, \"#46039f\"], [0.2222222222222222, \"#7201a8\"], [0.3333333333333333, \"#9c179e\"], [0.4444444444444444, \"#bd3786\"], [0.5555555555555556, \"#d8576b\"], [0.6666666666666666, \"#ed7953\"], [0.7777777777777778, \"#fb9f3a\"], [0.8888888888888888, \"#fdca26\"], [1.0, \"#f0f921\"]], \"type\": \"contour\"}], \"contourcarpet\": [{\"colorbar\": {\"outlinewidth\": 0, \"ticks\": \"\"}, \"type\": \"contourcarpet\"}], \"heatmap\": [{\"colorbar\": {\"outlinewidth\": 0, \"ticks\": \"\"}, \"colorscale\": [[0.0, \"#0d0887\"], [0.1111111111111111, \"#46039f\"], [0.2222222222222222, \"#7201a8\"], [0.3333333333333333, \"#9c179e\"], [0.4444444444444444, \"#bd3786\"], [0.5555555555555556, \"#d8576b\"], [0.6666666666666666, \"#ed7953\"], [0.7777777777777778, \"#fb9f3a\"], [0.8888888888888888, \"#fdca26\"], [1.0, \"#f0f921\"]], \"type\": \"heatmap\"}], \"heatmapgl\": [{\"colorbar\": {\"outlinewidth\": 0, \"ticks\": \"\"}, \"colorscale\": [[0.0, \"#0d0887\"], [0.1111111111111111, \"#46039f\"], [0.2222222222222222, \"#7201a8\"], [0.3333333333333333, \"#9c179e\"], [0.4444444444444444, \"#bd3786\"], [0.5555555555555556, \"#d8576b\"], [0.6666666666666666, \"#ed7953\"], [0.7777777777777778, \"#fb9f3a\"], [0.8888888888888888, \"#fdca26\"], [1.0, \"#f0f921\"]], \"type\": \"heatmapgl\"}], \"histogram\": [{\"marker\": {\"colorbar\": {\"outlinewidth\": 0, \"ticks\": \"\"}}, \"type\": \"histogram\"}], \"histogram2d\": [{\"colorbar\": {\"outlinewidth\": 0, \"ticks\": \"\"}, \"colorscale\": [[0.0, \"#0d0887\"], [0.1111111111111111, \"#46039f\"], [0.2222222222222222, \"#7201a8\"], [0.3333333333333333, \"#9c179e\"], [0.4444444444444444, \"#bd3786\"], [0.5555555555555556, \"#d8576b\"], [0.6666666666666666, \"#ed7953\"], [0.7777777777777778, \"#fb9f3a\"], [0.8888888888888888, \"#fdca26\"], [1.0, \"#f0f921\"]], \"type\": \"histogram2d\"}], \"histogram2dcontour\": [{\"colorbar\": {\"outlinewidth\": 0, \"ticks\": \"\"}, \"colorscale\": [[0.0, \"#0d0887\"], [0.1111111111111111, \"#46039f\"], [0.2222222222222222, \"#7201a8\"], [0.3333333333333333, \"#9c179e\"], [0.4444444444444444, \"#bd3786\"], [0.5555555555555556, \"#d8576b\"], [0.6666666666666666, \"#ed7953\"], [0.7777777777777778, \"#fb9f3a\"], [0.8888888888888888, \"#fdca26\"], [1.0, \"#f0f921\"]], \"type\": \"histogram2dcontour\"}], \"mesh3d\": [{\"colorbar\": {\"outlinewidth\": 0, \"ticks\": \"\"}, \"type\": \"mesh3d\"}], \"parcoords\": [{\"line\": {\"colorbar\": {\"outlinewidth\": 0, \"ticks\": \"\"}}, \"type\": \"parcoords\"}], \"pie\": [{\"automargin\": true, \"type\": \"pie\"}], \"scatter\": [{\"marker\": {\"colorbar\": {\"outlinewidth\": 0, \"ticks\": \"\"}}, \"type\": \"scatter\"}], \"scatter3d\": [{\"line\": {\"colorbar\": {\"outlinewidth\": 0, \"ticks\": \"\"}}, \"marker\": {\"colorbar\": {\"outlinewidth\": 0, \"ticks\": \"\"}}, \"type\": \"scatter3d\"}], \"scattercarpet\": [{\"marker\": {\"colorbar\": {\"outlinewidth\": 0, \"ticks\": \"\"}}, \"type\": \"scattercarpet\"}], \"scattergeo\": [{\"marker\": {\"colorbar\": {\"outlinewidth\": 0, \"ticks\": \"\"}}, \"type\": \"scattergeo\"}], \"scattergl\": [{\"marker\": {\"colorbar\": {\"outlinewidth\": 0, \"ticks\": \"\"}}, \"type\": \"scattergl\"}], \"scattermapbox\": [{\"marker\": {\"colorbar\": {\"outlinewidth\": 0, \"ticks\": \"\"}}, \"type\": \"scattermapbox\"}], \"scatterpolar\": [{\"marker\": {\"colorbar\": {\"outlinewidth\": 0, \"ticks\": \"\"}}, \"type\": \"scatterpolar\"}], \"scatterpolargl\": [{\"marker\": {\"colorbar\": {\"outlinewidth\": 0, \"ticks\": \"\"}}, \"type\": \"scatterpolargl\"}], \"scatterternary\": [{\"marker\": {\"colorbar\": {\"outlinewidth\": 0, \"ticks\": \"\"}}, \"type\": \"scatterternary\"}], \"surface\": [{\"colorbar\": {\"outlinewidth\": 0, \"ticks\": \"\"}, \"colorscale\": [[0.0, \"#0d0887\"], [0.1111111111111111, \"#46039f\"], [0.2222222222222222, \"#7201a8\"], [0.3333333333333333, \"#9c179e\"], [0.4444444444444444, \"#bd3786\"], [0.5555555555555556, \"#d8576b\"], [0.6666666666666666, \"#ed7953\"], [0.7777777777777778, \"#fb9f3a\"], [0.8888888888888888, \"#fdca26\"], [1.0, \"#f0f921\"]], \"type\": \"surface\"}], \"table\": [{\"cells\": {\"fill\": {\"color\": \"#EBF0F8\"}, \"line\": {\"color\": \"white\"}}, \"header\": {\"fill\": {\"color\": \"#C8D4E3\"}, \"line\": {\"color\": \"white\"}}, \"type\": \"table\"}]}, \"layout\": {\"annotationdefaults\": {\"arrowcolor\": \"#2a3f5f\", \"arrowhead\": 0, \"arrowwidth\": 1}, \"autotypenumbers\": \"strict\", \"coloraxis\": {\"colorbar\": {\"outlinewidth\": 0, \"ticks\": \"\"}}, \"colorscale\": {\"diverging\": [[0, \"#8e0152\"], [0.1, \"#c51b7d\"], [0.2, \"#de77ae\"], [0.3, \"#f1b6da\"], [0.4, \"#fde0ef\"], [0.5, \"#f7f7f7\"], [0.6, \"#e6f5d0\"], [0.7, \"#b8e186\"], [0.8, \"#7fbc41\"], [0.9, \"#4d9221\"], [1, \"#276419\"]], \"sequential\": [[0.0, \"#0d0887\"], [0.1111111111111111, \"#46039f\"], [0.2222222222222222, \"#7201a8\"], [0.3333333333333333, \"#9c179e\"], [0.4444444444444444, \"#bd3786\"], [0.5555555555555556, \"#d8576b\"], [0.6666666666666666, \"#ed7953\"], [0.7777777777777778, \"#fb9f3a\"], [0.8888888888888888, \"#fdca26\"], [1.0, \"#f0f921\"]], \"sequentialminus\": [[0.0, \"#0d0887\"], [0.1111111111111111, \"#46039f\"], [0.2222222222222222, \"#7201a8\"], [0.3333333333333333, \"#9c179e\"], [0.4444444444444444, \"#bd3786\"], [0.5555555555555556, \"#d8576b\"], [0.6666666666666666, \"#ed7953\"], [0.7777777777777778, \"#fb9f3a\"], [0.8888888888888888, \"#fdca26\"], [1.0, \"#f0f921\"]]}, \"colorway\": [\"#636efa\", \"#EF553B\", \"#00cc96\", \"#ab63fa\", \"#FFA15A\", \"#19d3f3\", \"#FF6692\", \"#B6E880\", \"#FF97FF\", \"#FECB52\"], \"font\": {\"color\": \"#2a3f5f\"}, \"geo\": {\"bgcolor\": \"white\", \"lakecolor\": \"white\", \"landcolor\": \"#E5ECF6\", \"showlakes\": true, \"showland\": true, \"subunitcolor\": \"white\"}, \"hoverlabel\": {\"align\": \"left\"}, \"hovermode\": \"closest\", \"mapbox\": {\"style\": \"light\"}, \"paper_bgcolor\": \"white\", \"plot_bgcolor\": \"#E5ECF6\", \"polar\": {\"angularaxis\": {\"gridcolor\": \"white\", \"linecolor\": \"white\", \"ticks\": \"\"}, \"bgcolor\": \"#E5ECF6\", \"radialaxis\": {\"gridcolor\": \"white\", \"linecolor\": \"white\", \"ticks\": \"\"}}, \"scene\": {\"xaxis\": {\"backgroundcolor\": \"#E5ECF6\", \"gridcolor\": \"white\", \"gridwidth\": 2, \"linecolor\": \"white\", \"showbackground\": true, \"ticks\": \"\", \"zerolinecolor\": \"white\"}, \"yaxis\": {\"backgroundcolor\": \"#E5ECF6\", \"gridcolor\": \"white\", \"gridwidth\": 2, \"linecolor\": \"white\", \"showbackground\": true, \"ticks\": \"\", \"zerolinecolor\": \"white\"}, \"zaxis\": {\"backgroundcolor\": \"#E5ECF6\", \"gridcolor\": \"white\", \"gridwidth\": 2, \"linecolor\": \"white\", \"showbackground\": true, \"ticks\": \"\", \"zerolinecolor\": \"white\"}}, \"shapedefaults\": {\"line\": {\"color\": \"#2a3f5f\"}}, \"ternary\": {\"aaxis\": {\"gridcolor\": \"white\", \"linecolor\": \"white\", \"ticks\": \"\"}, \"baxis\": {\"gridcolor\": \"white\", \"linecolor\": \"white\", \"ticks\": \"\"}, \"bgcolor\": \"#E5ECF6\", \"caxis\": {\"gridcolor\": \"white\", \"linecolor\": \"white\", \"ticks\": \"\"}}, \"title\": {\"x\": 0.05}, \"xaxis\": {\"automargin\": true, \"gridcolor\": \"white\", \"linecolor\": \"white\", \"ticks\": \"\", \"title\": {\"standoff\": 15}, \"zerolinecolor\": \"white\", \"zerolinewidth\": 2}, \"yaxis\": {\"automargin\": true, \"gridcolor\": \"white\", \"linecolor\": \"white\", \"ticks\": \"\", \"title\": {\"standoff\": 15}, \"zerolinecolor\": \"white\", \"zerolinewidth\": 2}}}, \"xaxis\": {\"anchor\": \"y\", \"domain\": [0.0, 1.0], \"title\": {\"text\": \"tempo_de_empresa\"}}, \"yaxis\": {\"anchor\": \"x\", \"domain\": [0.0, 1.0], \"title\": {\"text\": \"count\"}}},                        {\"responsive\": true}                    ).then(function(){\n",
       "                            \n",
       "var gd = document.getElementById('f03536fc-dac1-4216-9473-2435427560f8');\n",
       "var x = new MutationObserver(function (mutations, observer) {{\n",
       "        var display = window.getComputedStyle(gd).display;\n",
       "        if (!display || display === 'none') {{\n",
       "            console.log([gd, 'removed!']);\n",
       "            Plotly.purge(gd);\n",
       "            observer.disconnect();\n",
       "        }}\n",
       "}});\n",
       "\n",
       "// Listen for the removal of the full notebook cells\n",
       "var notebookContainer = gd.closest('#notebook-container');\n",
       "if (notebookContainer) {{\n",
       "    x.observe(notebookContainer, {childList: true});\n",
       "}}\n",
       "\n",
       "// Listen for the clearing of the current output cell\n",
       "var outputEl = gd.closest('.output');\n",
       "if (outputEl) {{\n",
       "    x.observe(outputEl, {childList: true});\n",
       "}}\n",
       "\n",
       "                        })                };                });            </script>        </div>"
      ]
     },
     "metadata": {},
     "output_type": "display_data"
    }
   ],
   "source": [
    "# Definindo o tempo médio de empresa\n",
    "average_time = 3\n",
    "sd_time = 1\n",
    "\n",
    "# Criando uma amostra de tempo de empresa\n",
    "company_time = np.random.normal(average_time, sd_time, len(dataset))\n",
    "company_time = [round(abs(i), 2) for i in company_time]\n",
    "\n",
    "# Adicionando ao dataset\n",
    "dataset['tempo_de_empresa'] = company_time\n",
    "\n",
    "# Plotando\n",
    "fig = px.histogram(dataset, x = \"tempo_de_empresa\")\n",
    "fig.show()"
   ]
  },
  {
   "cell_type": "markdown",
   "id": "d1190b01-173f-4074-9ca5-43542922bb50",
   "metadata": {},
   "source": [
    "#### 5) Criando o último salário, em reais, de cada colaborador"
   ]
  },
  {
   "cell_type": "code",
   "execution_count": null,
   "id": "50bac20c-3d16-4bac-a970-748556e673d4",
   "metadata": {},
   "outputs": [],
   "source": [
    "# Criando um dicionário de pesos salariais para as áreas\n",
    "salary_dict = {\n",
    "    'People': 1,\n",
    "    'FP&A': 1,\n",
    "    'Engenharia': 3,\n",
    "    'Customer Success': 1.5,\n",
    "    'Comercial': 2,\n",
    "    'Suporte': 1.5,\n",
    "    'Jurídico': 1,\n",
    "    'TI': 1,\n",
    "    'Marketing': 1,\n",
    "    'Operações': 1.5\n",
    "}\n",
    "\n",
    "# Definindo o salário base médio e o desvio padrão\n",
    "average_salary = 3000\n",
    "sd_salary = 500\n",
    "\n",
    "# Criando uma amostra de tempos de empresa\n",
    "area_average_salary = np.random.normal(average_salary, sd_salary, len(dataset))\n",
    "area_average_salary = [round(abs(i), 2) for i in company_time]"
   ]
  }
 ],
 "metadata": {
  "kernelspec": {
   "display_name": "Python 3",
   "language": "python",
   "name": "python3"
  },
  "language_info": {
   "codemirror_mode": {
    "name": "ipython",
    "version": 3
   },
   "file_extension": ".py",
   "mimetype": "text/x-python",
   "name": "python",
   "nbconvert_exporter": "python",
   "pygments_lexer": "ipython3",
   "version": "3.6.13"
  }
 },
 "nbformat": 4,
 "nbformat_minor": 5
}
