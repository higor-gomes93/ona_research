{
 "cells": [
  {
   "cell_type": "code",
   "execution_count": 30,
   "id": "fdb38acb-ca50-446d-9906-528f25338c86",
   "metadata": {},
   "outputs": [],
   "source": [
    "import pyvis as pv\n",
    "import networkx as nx\n",
    "import plotly.graph_objects as go\n",
    "import dash\n",
    "import dash_core_components as dcc\n",
    "import dash_html_components as html\n",
    "import dash_cytoscape as cyto\n",
    "from dash.dependencies import Input, Output\n",
    "import plotly.express as px\n",
    "import pandas as pd\n",
    "import random as rd"
   ]
  },
  {
   "cell_type": "code",
   "execution_count": 69,
   "id": "2fbe2630-c1a3-4b4c-83df-2b821b467080",
   "metadata": {},
   "outputs": [],
   "source": [
    "# Importando as áreas\n",
    "raw_data = pd.read_csv(\"c:/Users/Usuario/Documents/Estudos/Data Science e Programação/Datasets/colaboradores.csv\")\n",
    "raw_data = raw_data[['nome', 'area']]"
   ]
  },
  {
   "cell_type": "code",
   "execution_count": 51,
   "id": "e2727779-bf80-48dc-b766-3aafa50d2cb7",
   "metadata": {},
   "outputs": [],
   "source": [
    "# Criando uma lista de quantidade de pessoas por área\n",
    "areas = set(raw_data['area'])"
   ]
  },
  {
   "cell_type": "code",
   "execution_count": 52,
   "id": "14d23503-d619-437b-ba3f-a26a53d33be2",
   "metadata": {},
   "outputs": [],
   "source": [
    "# Criando uma função para encontrar a estimativa do número de conecções \n",
    "def total_conections(name):\n",
    "    area = list(raw_data.loc[raw_data['nome'] == name]['area'])[0]\n",
    "    total = len(raw_data.loc[raw_data['area'] == area])\n",
    "    conections = rd.randint(round(total*0.1), round(total*1.5))\n",
    "    return conections"
   ]
  },
  {
   "cell_type": "code",
   "execution_count": 67,
   "id": "65281f66-ca0e-4df2-9119-00b5201c6fbd",
   "metadata": {},
   "outputs": [],
   "source": [
    "# Criando uma função para atribuir a ponderação de cada nome\n",
    "def weight_definition(name):\n",
    "    # Encontrando a área\n",
    "    areas_dict = dict.fromkeys(areas, 1) \n",
    "    area = list(raw_data.loc[raw_data['nome'] == name]['area'])[0]\n",
    "    # Atribuindo o peso adequado\n",
    "    areas_dict[area] = 100\n",
    "    raw_data['probabilidade'] = raw_data.apply(lambda x: areas_dict[x['area']], axis = 1)\n",
    "    # Criando o vetor de itens e pesos\n",
    "    itens = list(raw_data['nome'])\n",
    "    #probability = list(raw_data['probabilidade'])\n",
    "    #weights = [j/sum(probability) for j in probability]\n",
    "    weights = list(raw_data['probabilidade'])\n",
    "    return itens, weights"
   ]
  },
  {
   "cell_type": "code",
   "execution_count": 55,
   "id": "2bdb58c0-0f12-4b41-ad81-40ed32c4046c",
   "metadata": {},
   "outputs": [],
   "source": [
    "# Criando uma função para criar as interações de cada pessoa\n",
    "def ona_conections(name):\n",
    "    # Lista completa de nomes\n",
    "    total_names = raw_data['nome']\n",
    "    total_names.remove(i)\n",
    "    # Total de conecções\n",
    "    total_conections = total_conections(i)\n",
    "    # Encontrando a área\n",
    "    areas_dict = dict.fromkeys(areas, 1) \n",
    "    area = list(raw_data.loc[raw_data['nome'] == name]['area'])[0]\n",
    "    # Atribuindo o peso adequado\n",
    "    areas_dict[area] = 10\n",
    "    weights = [j/sum(areas_dict.values()) for j in areas_dict.values()]\n",
    "    "
   ]
  },
  {
   "cell_type": "code",
   "execution_count": 36,
   "id": "06dc6b24-e50e-4264-8f09-5e04668b71db",
   "metadata": {},
   "outputs": [],
   "source": [
    "#for i in list(raw_data['nome']):  "
   ]
  }
 ],
 "metadata": {
  "kernelspec": {
   "display_name": "Python 3",
   "language": "python",
   "name": "python3"
  },
  "language_info": {
   "codemirror_mode": {
    "name": "ipython",
    "version": 3
   },
   "file_extension": ".py",
   "mimetype": "text/x-python",
   "name": "python",
   "nbconvert_exporter": "python",
   "pygments_lexer": "ipython3",
   "version": "3.8.8"
  }
 },
 "nbformat": 4,
 "nbformat_minor": 5
}
