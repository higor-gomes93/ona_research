{
 "cells": [
  {
   "cell_type": "code",
   "execution_count": 1,
   "id": "fdb38acb-ca50-446d-9906-528f25338c86",
   "metadata": {},
   "outputs": [],
   "source": [
    "# Importação das bibliotecas\n",
    "import pyvis as pv\n",
    "import networkx as nx\n",
    "from pyvis.network import Network\n",
    "import plotly.graph_objects as go\n",
    "import dash\n",
    "from dash import dcc\n",
    "from dash import html\n",
    "import dash_cytoscape as cyto\n",
    "from dash.dependencies import Input, Output\n",
    "import plotly.express as px\n",
    "import pandas as pd\n",
    "import random as rd\n",
    "import numpy as np\n",
    "from matplotlib.pyplot import figure"
   ]
  },
  {
   "cell_type": "code",
   "execution_count": 2,
   "id": "2fbe2630-c1a3-4b4c-83df-2b821b467080",
   "metadata": {},
   "outputs": [],
   "source": [
    "# Importando as áreas\n",
    "raw_data = pd.read_csv(\"c:/Users/Usuario/Documents/Estudos/Data Science e Programação/Datasets/colaboradores.csv\")\n",
    "raw_data = raw_data[['nome', 'area']]"
   ]
  },
  {
   "cell_type": "code",
   "execution_count": 3,
   "id": "e2727779-bf80-48dc-b766-3aafa50d2cb7",
   "metadata": {},
   "outputs": [],
   "source": [
    "# Criando uma lista de quantidade de pessoas por área\n",
    "areas = set(raw_data['area'])"
   ]
  },
  {
   "cell_type": "code",
   "execution_count": 4,
   "id": "14d23503-d619-437b-ba3f-a26a53d33be2",
   "metadata": {},
   "outputs": [],
   "source": [
    "# Criando uma função para encontrar a estimativa do número de conecções \n",
    "def total_conections(name):\n",
    "    area = list(raw_data.loc[raw_data['nome'] == name]['area'])[0]\n",
    "    total = len(raw_data.loc[raw_data['area'] == area])\n",
    "    if total > 100:\n",
    "        conections = rd.randint(1, round(total*0.2))\n",
    "    else:\n",
    "        conections = rd.randint(1, round(total*1.5))\n",
    "    return conections"
   ]
  },
  {
   "cell_type": "code",
   "execution_count": 5,
   "id": "65281f66-ca0e-4df2-9119-00b5201c6fbd",
   "metadata": {},
   "outputs": [],
   "source": [
    "# Criando uma função para atribuir a ponderação de cada nome\n",
    "def weight_definition(name):\n",
    "    # Encontrando a área\n",
    "    areas_dict = dict.fromkeys(areas, 1)\n",
    "    area = list(raw_data.loc[raw_data['nome'] == name]['area'])[0]\n",
    "    # Atribuindo o peso adequado\n",
    "    areas_dict[area] = 10\n",
    "    raw_data['probabilidade'] = raw_data.apply(lambda x: areas_dict[x['area']], axis = 1)\n",
    "    # Criando o vetor de itens e pesos\n",
    "    raw_data_filter = raw_data.loc[raw_data['nome'] != name]\n",
    "    itens = list(raw_data_filter['nome'])\n",
    "    probability = list(raw_data_filter['probabilidade'])\n",
    "    weights = [j/sum(probability) for j in probability]\n",
    "    return itens, weights"
   ]
  },
  {
   "cell_type": "code",
   "execution_count": 6,
   "id": "2bdb58c0-0f12-4b41-ad81-40ed32c4046c",
   "metadata": {},
   "outputs": [],
   "source": [
    "# Criando uma função para criar a lista de conecções de cada pessoa\n",
    "def ona_conections(name):\n",
    "    # Total de conecções\n",
    "    conections = total_conections(name)\n",
    "    # Definição da lista de nomes e pesos\n",
    "    names_list = weight_definition(name)[0]\n",
    "    weights_list = weight_definition(name)[1]\n",
    "    # Criação da lista de coneções\n",
    "    conections_list = np.random.choice(a = names_list, size = conections, p = weights_list)\n",
    "    return conections_list  "
   ]
  },
  {
   "cell_type": "code",
   "execution_count": 7,
   "id": "c82751b5-e7ba-4e18-a10a-ac554127536c",
   "metadata": {},
   "outputs": [],
   "source": [
    "# Criando uma função para gerar a rede de cada nome\n",
    "def ona_generator(name):\n",
    "    conections_list = ona_conections(name)\n",
    "    ona_list = [(name, list(raw_data.loc[raw_data['nome'] == name]['area'])[0], i, list(raw_data.loc[raw_data['nome'] == i]['area'])[0]) for i in conections_list]\n",
    "    return ona_list"
   ]
  },
  {
   "cell_type": "code",
   "execution_count": 8,
   "id": "06dc6b24-e50e-4264-8f09-5e04668b71db",
   "metadata": {},
   "outputs": [
    {
     "ename": "ValueError",
     "evalue": "empty range for randrange() (1, -24, -25)",
     "output_type": "error",
     "traceback": [
      "\u001b[1;31m---------------------------------------------------------------------------\u001b[0m",
      "\u001b[1;31mValueError\u001b[0m                                Traceback (most recent call last)",
      "\u001b[1;32m<ipython-input-8-baca2e7e9e0c>\u001b[0m in \u001b[0;36m<module>\u001b[1;34m\u001b[0m\n\u001b[0;32m      2\u001b[0m \u001b[0mona_total_list\u001b[0m \u001b[1;33m=\u001b[0m \u001b[1;33m[\u001b[0m\u001b[1;33m]\u001b[0m\u001b[1;33m\u001b[0m\u001b[1;33m\u001b[0m\u001b[0m\n\u001b[0;32m      3\u001b[0m \u001b[1;32mfor\u001b[0m \u001b[0mi\u001b[0m \u001b[1;32min\u001b[0m \u001b[0mlist\u001b[0m\u001b[1;33m(\u001b[0m\u001b[0mraw_data\u001b[0m\u001b[1;33m[\u001b[0m\u001b[1;34m'nome'\u001b[0m\u001b[1;33m]\u001b[0m\u001b[1;33m)\u001b[0m\u001b[1;33m:\u001b[0m\u001b[1;33m\u001b[0m\u001b[1;33m\u001b[0m\u001b[0m\n\u001b[1;32m----> 4\u001b[1;33m     \u001b[0mona_total_list\u001b[0m\u001b[1;33m.\u001b[0m\u001b[0mextend\u001b[0m\u001b[1;33m(\u001b[0m\u001b[0mona_generator\u001b[0m\u001b[1;33m(\u001b[0m\u001b[0mi\u001b[0m\u001b[1;33m)\u001b[0m\u001b[1;33m)\u001b[0m\u001b[1;33m\u001b[0m\u001b[1;33m\u001b[0m\u001b[0m\n\u001b[0m",
      "\u001b[1;32m<ipython-input-7-170c66c5ddf9>\u001b[0m in \u001b[0;36mona_generator\u001b[1;34m(name)\u001b[0m\n\u001b[0;32m      1\u001b[0m \u001b[1;31m# Criando uma função para gerar a rede de cada nome\u001b[0m\u001b[1;33m\u001b[0m\u001b[1;33m\u001b[0m\u001b[1;33m\u001b[0m\u001b[0m\n\u001b[0;32m      2\u001b[0m \u001b[1;32mdef\u001b[0m \u001b[0mona_generator\u001b[0m\u001b[1;33m(\u001b[0m\u001b[0mname\u001b[0m\u001b[1;33m)\u001b[0m\u001b[1;33m:\u001b[0m\u001b[1;33m\u001b[0m\u001b[1;33m\u001b[0m\u001b[0m\n\u001b[1;32m----> 3\u001b[1;33m     \u001b[0mconections_list\u001b[0m \u001b[1;33m=\u001b[0m \u001b[0mona_conections\u001b[0m\u001b[1;33m(\u001b[0m\u001b[0mname\u001b[0m\u001b[1;33m)\u001b[0m\u001b[1;33m\u001b[0m\u001b[1;33m\u001b[0m\u001b[0m\n\u001b[0m\u001b[0;32m      4\u001b[0m     \u001b[0mona_list\u001b[0m \u001b[1;33m=\u001b[0m \u001b[1;33m[\u001b[0m\u001b[1;33m(\u001b[0m\u001b[0mname\u001b[0m\u001b[1;33m,\u001b[0m \u001b[0mlist\u001b[0m\u001b[1;33m(\u001b[0m\u001b[0mraw_data\u001b[0m\u001b[1;33m.\u001b[0m\u001b[0mloc\u001b[0m\u001b[1;33m[\u001b[0m\u001b[0mraw_data\u001b[0m\u001b[1;33m[\u001b[0m\u001b[1;34m'nome'\u001b[0m\u001b[1;33m]\u001b[0m \u001b[1;33m==\u001b[0m \u001b[0mname\u001b[0m\u001b[1;33m]\u001b[0m\u001b[1;33m[\u001b[0m\u001b[1;34m'area'\u001b[0m\u001b[1;33m]\u001b[0m\u001b[1;33m)\u001b[0m\u001b[1;33m[\u001b[0m\u001b[1;36m0\u001b[0m\u001b[1;33m]\u001b[0m\u001b[1;33m,\u001b[0m \u001b[0mi\u001b[0m\u001b[1;33m,\u001b[0m \u001b[0mlist\u001b[0m\u001b[1;33m(\u001b[0m\u001b[0mraw_data\u001b[0m\u001b[1;33m.\u001b[0m\u001b[0mloc\u001b[0m\u001b[1;33m[\u001b[0m\u001b[0mraw_data\u001b[0m\u001b[1;33m[\u001b[0m\u001b[1;34m'nome'\u001b[0m\u001b[1;33m]\u001b[0m \u001b[1;33m==\u001b[0m \u001b[0mi\u001b[0m\u001b[1;33m]\u001b[0m\u001b[1;33m[\u001b[0m\u001b[1;34m'area'\u001b[0m\u001b[1;33m]\u001b[0m\u001b[1;33m)\u001b[0m\u001b[1;33m[\u001b[0m\u001b[1;36m0\u001b[0m\u001b[1;33m]\u001b[0m\u001b[1;33m)\u001b[0m \u001b[1;32mfor\u001b[0m \u001b[0mi\u001b[0m \u001b[1;32min\u001b[0m \u001b[0mconections_list\u001b[0m\u001b[1;33m]\u001b[0m\u001b[1;33m\u001b[0m\u001b[1;33m\u001b[0m\u001b[0m\n\u001b[0;32m      5\u001b[0m     \u001b[1;32mreturn\u001b[0m \u001b[0mona_list\u001b[0m\u001b[1;33m\u001b[0m\u001b[1;33m\u001b[0m\u001b[0m\n",
      "\u001b[1;32m<ipython-input-6-eb848f3ce9ec>\u001b[0m in \u001b[0;36mona_conections\u001b[1;34m(name)\u001b[0m\n\u001b[0;32m      2\u001b[0m \u001b[1;32mdef\u001b[0m \u001b[0mona_conections\u001b[0m\u001b[1;33m(\u001b[0m\u001b[0mname\u001b[0m\u001b[1;33m)\u001b[0m\u001b[1;33m:\u001b[0m\u001b[1;33m\u001b[0m\u001b[1;33m\u001b[0m\u001b[0m\n\u001b[0;32m      3\u001b[0m     \u001b[1;31m# Total de conecções\u001b[0m\u001b[1;33m\u001b[0m\u001b[1;33m\u001b[0m\u001b[1;33m\u001b[0m\u001b[0m\n\u001b[1;32m----> 4\u001b[1;33m     \u001b[0mconections\u001b[0m \u001b[1;33m=\u001b[0m \u001b[0mtotal_conections\u001b[0m\u001b[1;33m(\u001b[0m\u001b[0mname\u001b[0m\u001b[1;33m)\u001b[0m\u001b[1;33m\u001b[0m\u001b[1;33m\u001b[0m\u001b[0m\n\u001b[0m\u001b[0;32m      5\u001b[0m     \u001b[1;31m# Definição da lista de nomes e pesos\u001b[0m\u001b[1;33m\u001b[0m\u001b[1;33m\u001b[0m\u001b[1;33m\u001b[0m\u001b[0m\n\u001b[0;32m      6\u001b[0m     \u001b[0mnames_list\u001b[0m \u001b[1;33m=\u001b[0m \u001b[0mweight_definition\u001b[0m\u001b[1;33m(\u001b[0m\u001b[0mname\u001b[0m\u001b[1;33m)\u001b[0m\u001b[1;33m[\u001b[0m\u001b[1;36m0\u001b[0m\u001b[1;33m]\u001b[0m\u001b[1;33m\u001b[0m\u001b[1;33m\u001b[0m\u001b[0m\n",
      "\u001b[1;32m<ipython-input-4-c6cb1f22a76c>\u001b[0m in \u001b[0;36mtotal_conections\u001b[1;34m(name)\u001b[0m\n\u001b[0;32m      6\u001b[0m         \u001b[0mconections\u001b[0m \u001b[1;33m=\u001b[0m \u001b[0mrd\u001b[0m\u001b[1;33m.\u001b[0m\u001b[0mrandint\u001b[0m\u001b[1;33m(\u001b[0m\u001b[1;36m1\u001b[0m\u001b[1;33m,\u001b[0m \u001b[0mtotal\u001b[0m \u001b[1;33m-\u001b[0m \u001b[0mround\u001b[0m\u001b[1;33m(\u001b[0m\u001b[0mtotal\u001b[0m\u001b[1;33m/\u001b[0m\u001b[1;36m4\u001b[0m\u001b[1;33m)\u001b[0m\u001b[1;33m)\u001b[0m\u001b[1;33m\u001b[0m\u001b[1;33m\u001b[0m\u001b[0m\n\u001b[0;32m      7\u001b[0m     \u001b[1;32melse\u001b[0m\u001b[1;33m:\u001b[0m\u001b[1;33m\u001b[0m\u001b[1;33m\u001b[0m\u001b[0m\n\u001b[1;32m----> 8\u001b[1;33m         \u001b[0mconections\u001b[0m \u001b[1;33m=\u001b[0m \u001b[0mrd\u001b[0m\u001b[1;33m.\u001b[0m\u001b[0mrandint\u001b[0m\u001b[1;33m(\u001b[0m\u001b[1;36m1\u001b[0m\u001b[1;33m,\u001b[0m \u001b[0mtotal\u001b[0m \u001b[1;33m-\u001b[0m \u001b[0mround\u001b[0m\u001b[1;33m(\u001b[0m\u001b[0mtotal\u001b[0m\u001b[1;33m*\u001b[0m\u001b[1;36m1.5\u001b[0m\u001b[1;33m)\u001b[0m\u001b[1;33m)\u001b[0m\u001b[1;33m\u001b[0m\u001b[1;33m\u001b[0m\u001b[0m\n\u001b[0m\u001b[0;32m      9\u001b[0m     \u001b[1;32mreturn\u001b[0m \u001b[0mconections\u001b[0m\u001b[1;33m\u001b[0m\u001b[1;33m\u001b[0m\u001b[0m\n",
      "\u001b[1;32m~\\anaconda3\\lib\\random.py\u001b[0m in \u001b[0;36mrandint\u001b[1;34m(self, a, b)\u001b[0m\n\u001b[0;32m    246\u001b[0m         \"\"\"\n\u001b[0;32m    247\u001b[0m \u001b[1;33m\u001b[0m\u001b[0m\n\u001b[1;32m--> 248\u001b[1;33m         \u001b[1;32mreturn\u001b[0m \u001b[0mself\u001b[0m\u001b[1;33m.\u001b[0m\u001b[0mrandrange\u001b[0m\u001b[1;33m(\u001b[0m\u001b[0ma\u001b[0m\u001b[1;33m,\u001b[0m \u001b[0mb\u001b[0m\u001b[1;33m+\u001b[0m\u001b[1;36m1\u001b[0m\u001b[1;33m)\u001b[0m\u001b[1;33m\u001b[0m\u001b[1;33m\u001b[0m\u001b[0m\n\u001b[0m\u001b[0;32m    249\u001b[0m \u001b[1;33m\u001b[0m\u001b[0m\n\u001b[0;32m    250\u001b[0m     \u001b[1;32mdef\u001b[0m \u001b[0m_randbelow_with_getrandbits\u001b[0m\u001b[1;33m(\u001b[0m\u001b[0mself\u001b[0m\u001b[1;33m,\u001b[0m \u001b[0mn\u001b[0m\u001b[1;33m)\u001b[0m\u001b[1;33m:\u001b[0m\u001b[1;33m\u001b[0m\u001b[1;33m\u001b[0m\u001b[0m\n",
      "\u001b[1;32m~\\anaconda3\\lib\\random.py\u001b[0m in \u001b[0;36mrandrange\u001b[1;34m(self, start, stop, step, _int)\u001b[0m\n\u001b[0;32m    224\u001b[0m             \u001b[1;32mreturn\u001b[0m \u001b[0mistart\u001b[0m \u001b[1;33m+\u001b[0m \u001b[0mself\u001b[0m\u001b[1;33m.\u001b[0m\u001b[0m_randbelow\u001b[0m\u001b[1;33m(\u001b[0m\u001b[0mwidth\u001b[0m\u001b[1;33m)\u001b[0m\u001b[1;33m\u001b[0m\u001b[1;33m\u001b[0m\u001b[0m\n\u001b[0;32m    225\u001b[0m         \u001b[1;32mif\u001b[0m \u001b[0mstep\u001b[0m \u001b[1;33m==\u001b[0m \u001b[1;36m1\u001b[0m\u001b[1;33m:\u001b[0m\u001b[1;33m\u001b[0m\u001b[1;33m\u001b[0m\u001b[0m\n\u001b[1;32m--> 226\u001b[1;33m             \u001b[1;32mraise\u001b[0m \u001b[0mValueError\u001b[0m\u001b[1;33m(\u001b[0m\u001b[1;34m\"empty range for randrange() (%d, %d, %d)\"\u001b[0m \u001b[1;33m%\u001b[0m \u001b[1;33m(\u001b[0m\u001b[0mistart\u001b[0m\u001b[1;33m,\u001b[0m \u001b[0mistop\u001b[0m\u001b[1;33m,\u001b[0m \u001b[0mwidth\u001b[0m\u001b[1;33m)\u001b[0m\u001b[1;33m)\u001b[0m\u001b[1;33m\u001b[0m\u001b[1;33m\u001b[0m\u001b[0m\n\u001b[0m\u001b[0;32m    227\u001b[0m \u001b[1;33m\u001b[0m\u001b[0m\n\u001b[0;32m    228\u001b[0m         \u001b[1;31m# Non-unit step argument supplied.\u001b[0m\u001b[1;33m\u001b[0m\u001b[1;33m\u001b[0m\u001b[1;33m\u001b[0m\u001b[0m\n",
      "\u001b[1;31mValueError\u001b[0m: empty range for randrange() (1, -24, -25)"
     ]
    }
   ],
   "source": [
    "# Construindo a rede organizacional\n",
    "ona_total_list = []\n",
    "for i in list(raw_data['nome']):\n",
    "    ona_total_list.extend(ona_generator(i))"
   ]
  },
  {
   "cell_type": "code",
   "execution_count": null,
   "id": "8aebe71f-2c6f-4a9e-b354-9439b9be84bf",
   "metadata": {},
   "outputs": [],
   "source": [
    "# Criação do dataset\n",
    "dataset = pd.DataFrame(ona_total_list, columns = ['partida', 'area_partida', 'chegada', 'area_chegada'])"
   ]
  },
  {
   "cell_type": "code",
   "execution_count": null,
   "id": "e29afa6b-4205-427c-90f5-a904e50ad565",
   "metadata": {},
   "outputs": [],
   "source": [
    "dataset.head()"
   ]
  },
  {
   "cell_type": "code",
   "execution_count": null,
   "id": "b8bbd07c-f6cb-47a1-9907-09ca0b3f4901",
   "metadata": {},
   "outputs": [],
   "source": [
    "# Criação dos vetores principais\n",
    "source = list(dataset['partida'])\n",
    "source_area = list(dataset['area_partida'])\n",
    "target = list(dataset['chegada'])\n",
    "target_area = list(dataset['area_chegada'])"
   ]
  },
  {
   "cell_type": "code",
   "execution_count": null,
   "id": "6ce732c0-83a1-43db-935c-34a70e9c5dc1",
   "metadata": {},
   "outputs": [],
   "source": [
    "# Criação dos vetores de atributos\n",
    "source_size = [source.count(i) for i in source]\n",
    "target_size = [target.count(i) for i in target]"
   ]
  },
  {
   "cell_type": "code",
   "execution_count": null,
   "id": "cf862286-c3db-4487-af60-6da78e225c41",
   "metadata": {},
   "outputs": [],
   "source": [
    "probability_edge_same_area = [0.1, 0.1, 0.2, 0.4, 0.2]\n",
    "probability_edge_different_area = [0.4, 0.2, 0.2, 0.1, 0.1]\n",
    "edge_weights_list = [1, 2, 3, 4, 5]\n",
    "edge_weights = []\n",
    "for i in range(len(source)):\n",
    "    if source_area[i] == target_area[i]:\n",
    "        edge_weights.append(np.random.choice(a = edge_weights_list, size = 1, p = probability_edge_same_area)[0])\n",
    "    else:\n",
    "        edge_weights.append(np.random.choice(a = edge_weights_list, size = 1, p = probability_edge_different_area)[0])"
   ]
  },
  {
   "cell_type": "code",
   "execution_count": null,
   "id": "525dff0d-f76f-448e-8623-8c53481030c9",
   "metadata": {},
   "outputs": [],
   "source": [
    "# Criação da lista descritiva de cada conexão\n",
    "ona_edge = list(zip(source, source_area, source_size, target, target_area, target_size, edge_weights))"
   ]
  },
  {
   "cell_type": "code",
   "execution_count": null,
   "id": "68fd169e-c4e2-4ac1-bb85-9bc90ecadaf1",
   "metadata": {},
   "outputs": [],
   "source": [
    "graph = Network(height='1200px', width='100%', bgcolor='#111111', font_color='white', directed = True)\n",
    "graph.barnes_hut(gravity = -80000, central_gravity=0.3, spring_length = 250, spring_strength=0.001, damping=0.09, overlap = 0)"
   ]
  },
  {
   "cell_type": "code",
   "execution_count": null,
   "id": "a725efd4-ecde-491d-a10c-e4cd590a5ac4",
   "metadata": {},
   "outputs": [],
   "source": [
    "for i in ona_edge:\n",
    "    source = i[0]\n",
    "    source_area = i[1]\n",
    "    source_size = int(i[2])\n",
    "    target = i[3]\n",
    "    target_area = i[4]\n",
    "    target_size = int(i[5])\n",
    "    weight = int(i[6])\n",
    "    \n",
    "    if source_size > 150:\n",
    "        source_mass = 20\n",
    "    else:\n",
    "        source_mass = 3\n",
    "\n",
    "    if target_size > 150:\n",
    "        target_mass = 20\n",
    "    else:\n",
    "        target_mass = 3\n",
    "    \n",
    "    graph.add_node(source, title = source, group = source_area, size = source_size, mass = source_mass)\n",
    "    graph.add_node(target, title = target, group = target_area, size = target_size, mass = target_mass)\n",
    "    graph.add_edge(source, target, width = weight, color = \"#202020\")"
   ]
  },
  {
   "cell_type": "code",
   "execution_count": null,
   "id": "72853e4d-8e02-49c7-8f64-f3636f9080d6",
   "metadata": {},
   "outputs": [],
   "source": [
    "graph.show('graph.html')"
   ]
  }
 ],
 "metadata": {
  "kernelspec": {
   "display_name": "Python 3",
   "language": "python",
   "name": "python3"
  },
  "language_info": {
   "codemirror_mode": {
    "name": "ipython",
    "version": 3
   },
   "file_extension": ".py",
   "mimetype": "text/x-python",
   "name": "python",
   "nbconvert_exporter": "python",
   "pygments_lexer": "ipython3",
   "version": "3.8.8"
  }
 },
 "nbformat": 4,
 "nbformat_minor": 5
}
